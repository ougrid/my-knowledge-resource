{
  "nbformat": 4,
  "nbformat_minor": 0,
  "metadata": {
    "colab": {
      "provenance": [],
      "include_colab_link": true
    },
    "kernelspec": {
      "name": "python3",
      "display_name": "Python 3"
    },
    "language_info": {
      "name": "python"
    }
  },
  "cells": [
    {
      "cell_type": "markdown",
      "metadata": {
        "id": "view-in-github",
        "colab_type": "text"
      },
      "source": [
        "<a href=\"https://colab.research.google.com/github/ougrid/my-knowledge-resource/blob/master/BoW.ipynb\" target=\"_parent\"><img src=\"https://colab.research.google.com/assets/colab-badge.svg\" alt=\"Open In Colab\"/></a>"
      ]
    },
    {
      "cell_type": "code",
      "source": [
        "# Import the necessary libraries\n",
        "import pandas as pd\n",
        "import numpy as np\n",
        "from sklearn.feature_extraction.text import CountVectorizer\n",
        "from sklearn.model_selection import train_test_split\n",
        "from sklearn.naive_bayes import MultinomialNB\n",
        "from sklearn.metrics import accuracy_score, confusion_matrix\n",
        "\n",
        "# Load the IMDb dataset\n",
        "imdb_df = pd.read_csv('https://raw.githubusercontent.com/Ankit152/IMDB-sentiment-analysis/master/IMDB-Dataset.csv')\n",
        "\n",
        "# Print the first few rows of the dataset\n",
        "print(imdb_df.head())\n",
        "\n",
        "# Extract the text and labels\n",
        "X = imdb_df['review']\n",
        "y = imdb_df['sentiment']\n",
        "\n",
        "# Split the data into train and test sets\n",
        "X_train, X_test, y_train, y_test = train_test_split(X, y, test_size=0.2, random_state=42)\n",
        "\n",
        "# Create a CountVectorizer object to convert text to numerical features\n",
        "vectorizer = CountVectorizer(stop_words='english')\n",
        "\n",
        "# Fit and transform the training data\n",
        "X_train_vec = vectorizer.fit_transform(X_train)\n",
        "\n",
        "# Transform the test data\n",
        "X_test_vec = vectorizer.transform(X_test)"
      ],
      "metadata": {
        "colab": {
          "base_uri": "https://localhost:8080/"
        },
        "id": "mCpeiw7-UGqt",
        "outputId": "f8c211e7-9b40-4fae-9250-12a26a216850"
      },
      "execution_count": null,
      "outputs": [
        {
          "output_type": "stream",
          "name": "stdout",
          "text": [
            "                                              review sentiment\n",
            "0  One of the other reviewers has mentioned that ...  positive\n",
            "1  A wonderful little production. <br /><br />The...  positive\n",
            "2  I thought this was a wonderful way to spend ti...  positive\n",
            "3  Basically there's a family where a little boy ...  negative\n",
            "4  Petter Mattei's \"Love in the Time of Money\" is...  positive\n"
          ]
        }
      ]
    },
    {
      "cell_type": "code",
      "source": [
        "print(X_train_vec)"
      ],
      "metadata": {
        "colab": {
          "base_uri": "https://localhost:8080/"
        },
        "id": "i492B1ezUKa1",
        "outputId": "4d641c12-3523-47f8-caea-44e2345371e7"
      },
      "execution_count": null,
      "outputs": [
        {
          "output_type": "stream",
          "name": "stdout",
          "text": [
            "  (0, 44870)\t1\n",
            "  (0, 5656)\t1\n",
            "  (0, 30166)\t1\n",
            "  (0, 72106)\t1\n",
            "  (0, 51184)\t1\n",
            "  (0, 80201)\t1\n",
            "  (0, 33417)\t1\n",
            "  (0, 51443)\t1\n",
            "  (0, 61164)\t1\n",
            "  (0, 1202)\t1\n",
            "  (0, 53272)\t1\n",
            "  (0, 17094)\t1\n",
            "  (0, 77687)\t1\n",
            "  (0, 82276)\t1\n",
            "  (0, 22866)\t1\n",
            "  (0, 14534)\t1\n",
            "  (0, 48313)\t1\n",
            "  (0, 21955)\t1\n",
            "  (0, 88416)\t1\n",
            "  (0, 40593)\t1\n",
            "  (0, 13303)\t1\n",
            "  (0, 36795)\t1\n",
            "  (0, 44119)\t2\n",
            "  (0, 6876)\t1\n",
            "  (0, 91337)\t1\n",
            "  :\t:\n",
            "  (39999, 65468)\t1\n",
            "  (39999, 14275)\t1\n",
            "  (39999, 66923)\t1\n",
            "  (39999, 20993)\t1\n",
            "  (39999, 11859)\t1\n",
            "  (39999, 43601)\t1\n",
            "  (39999, 83681)\t1\n",
            "  (39999, 2074)\t3\n",
            "  (39999, 28016)\t1\n",
            "  (39999, 22374)\t1\n",
            "  (39999, 38170)\t1\n",
            "  (39999, 41884)\t1\n",
            "  (39999, 64024)\t1\n",
            "  (39999, 71260)\t1\n",
            "  (39999, 28522)\t1\n",
            "  (39999, 23014)\t1\n",
            "  (39999, 14724)\t1\n",
            "  (39999, 51290)\t1\n",
            "  (39999, 81743)\t1\n",
            "  (39999, 31749)\t1\n",
            "  (39999, 59536)\t1\n",
            "  (39999, 29234)\t1\n",
            "  (39999, 35492)\t1\n",
            "  (39999, 22844)\t1\n",
            "  (39999, 17030)\t1\n"
          ]
        }
      ]
    },
    {
      "cell_type": "code",
      "source": [],
      "metadata": {
        "id": "AJpeuTn1UYi3"
      },
      "execution_count": null,
      "outputs": []
    }
  ]
}