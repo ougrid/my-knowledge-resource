{
  "nbformat": 4,
  "nbformat_minor": 0,
  "metadata": {
    "colab": {
      "provenance": [],
      "machine_shape": "hm",
      "gpuType": "T4",
      "include_colab_link": true
    },
    "kernelspec": {
      "name": "python3",
      "display_name": "Python 3"
    },
    "language_info": {
      "name": "python"
    },
    "widgets": {
      "application/vnd.jupyter.widget-state+json": {
        "dd7a1e618d4f4d06be128996f711356b": {
          "model_module": "@jupyter-widgets/controls",
          "model_name": "HBoxModel",
          "model_module_version": "1.5.0",
          "state": {
            "_dom_classes": [],
            "_model_module": "@jupyter-widgets/controls",
            "_model_module_version": "1.5.0",
            "_model_name": "HBoxModel",
            "_view_count": null,
            "_view_module": "@jupyter-widgets/controls",
            "_view_module_version": "1.5.0",
            "_view_name": "HBoxView",
            "box_style": "",
            "children": [
              "IPY_MODEL_5786ca2c230f468aab09b70837d41374",
              "IPY_MODEL_341717fa8c0740fa996d4fff2a7397e1",
              "IPY_MODEL_43e3ba1311b3437aa4e80dbfc4924e2c"
            ],
            "layout": "IPY_MODEL_0c4afb8114b442fdb83ded35c4871aff"
          }
        },
        "5786ca2c230f468aab09b70837d41374": {
          "model_module": "@jupyter-widgets/controls",
          "model_name": "HTMLModel",
          "model_module_version": "1.5.0",
          "state": {
            "_dom_classes": [],
            "_model_module": "@jupyter-widgets/controls",
            "_model_module_version": "1.5.0",
            "_model_name": "HTMLModel",
            "_view_count": null,
            "_view_module": "@jupyter-widgets/controls",
            "_view_module_version": "1.5.0",
            "_view_name": "HTMLView",
            "description": "",
            "description_tooltip": null,
            "layout": "IPY_MODEL_8adba4bbc32f4e39904e86722dbdf747",
            "placeholder": "​",
            "style": "IPY_MODEL_4ee704c8bc8046659d9fea282d6bf15e",
            "value": "100%"
          }
        },
        "341717fa8c0740fa996d4fff2a7397e1": {
          "model_module": "@jupyter-widgets/controls",
          "model_name": "FloatProgressModel",
          "model_module_version": "1.5.0",
          "state": {
            "_dom_classes": [],
            "_model_module": "@jupyter-widgets/controls",
            "_model_module_version": "1.5.0",
            "_model_name": "FloatProgressModel",
            "_view_count": null,
            "_view_module": "@jupyter-widgets/controls",
            "_view_module_version": "1.5.0",
            "_view_name": "ProgressView",
            "bar_style": "success",
            "description": "",
            "description_tooltip": null,
            "layout": "IPY_MODEL_7ead29b3d31f4489998e6868f818727a",
            "max": 191,
            "min": 0,
            "orientation": "horizontal",
            "style": "IPY_MODEL_731d60b968634fa6b9a52ddedd3b6717",
            "value": 191
          }
        },
        "43e3ba1311b3437aa4e80dbfc4924e2c": {
          "model_module": "@jupyter-widgets/controls",
          "model_name": "HTMLModel",
          "model_module_version": "1.5.0",
          "state": {
            "_dom_classes": [],
            "_model_module": "@jupyter-widgets/controls",
            "_model_module_version": "1.5.0",
            "_model_name": "HTMLModel",
            "_view_count": null,
            "_view_module": "@jupyter-widgets/controls",
            "_view_module_version": "1.5.0",
            "_view_name": "HTMLView",
            "description": "",
            "description_tooltip": null,
            "layout": "IPY_MODEL_6d7445eb0ccc4a81bc9e9bedf78daaad",
            "placeholder": "​",
            "style": "IPY_MODEL_08436ea413514315bfce473e71485f9f",
            "value": " 191/191 [00:00&lt;00:00, 332.78it/s]"
          }
        },
        "0c4afb8114b442fdb83ded35c4871aff": {
          "model_module": "@jupyter-widgets/base",
          "model_name": "LayoutModel",
          "model_module_version": "1.2.0",
          "state": {
            "_model_module": "@jupyter-widgets/base",
            "_model_module_version": "1.2.0",
            "_model_name": "LayoutModel",
            "_view_count": null,
            "_view_module": "@jupyter-widgets/base",
            "_view_module_version": "1.2.0",
            "_view_name": "LayoutView",
            "align_content": null,
            "align_items": null,
            "align_self": null,
            "border": null,
            "bottom": null,
            "display": null,
            "flex": null,
            "flex_flow": null,
            "grid_area": null,
            "grid_auto_columns": null,
            "grid_auto_flow": null,
            "grid_auto_rows": null,
            "grid_column": null,
            "grid_gap": null,
            "grid_row": null,
            "grid_template_areas": null,
            "grid_template_columns": null,
            "grid_template_rows": null,
            "height": null,
            "justify_content": null,
            "justify_items": null,
            "left": null,
            "margin": null,
            "max_height": null,
            "max_width": null,
            "min_height": null,
            "min_width": null,
            "object_fit": null,
            "object_position": null,
            "order": null,
            "overflow": null,
            "overflow_x": null,
            "overflow_y": null,
            "padding": null,
            "right": null,
            "top": null,
            "visibility": null,
            "width": null
          }
        },
        "8adba4bbc32f4e39904e86722dbdf747": {
          "model_module": "@jupyter-widgets/base",
          "model_name": "LayoutModel",
          "model_module_version": "1.2.0",
          "state": {
            "_model_module": "@jupyter-widgets/base",
            "_model_module_version": "1.2.0",
            "_model_name": "LayoutModel",
            "_view_count": null,
            "_view_module": "@jupyter-widgets/base",
            "_view_module_version": "1.2.0",
            "_view_name": "LayoutView",
            "align_content": null,
            "align_items": null,
            "align_self": null,
            "border": null,
            "bottom": null,
            "display": null,
            "flex": null,
            "flex_flow": null,
            "grid_area": null,
            "grid_auto_columns": null,
            "grid_auto_flow": null,
            "grid_auto_rows": null,
            "grid_column": null,
            "grid_gap": null,
            "grid_row": null,
            "grid_template_areas": null,
            "grid_template_columns": null,
            "grid_template_rows": null,
            "height": null,
            "justify_content": null,
            "justify_items": null,
            "left": null,
            "margin": null,
            "max_height": null,
            "max_width": null,
            "min_height": null,
            "min_width": null,
            "object_fit": null,
            "object_position": null,
            "order": null,
            "overflow": null,
            "overflow_x": null,
            "overflow_y": null,
            "padding": null,
            "right": null,
            "top": null,
            "visibility": null,
            "width": null
          }
        },
        "4ee704c8bc8046659d9fea282d6bf15e": {
          "model_module": "@jupyter-widgets/controls",
          "model_name": "DescriptionStyleModel",
          "model_module_version": "1.5.0",
          "state": {
            "_model_module": "@jupyter-widgets/controls",
            "_model_module_version": "1.5.0",
            "_model_name": "DescriptionStyleModel",
            "_view_count": null,
            "_view_module": "@jupyter-widgets/base",
            "_view_module_version": "1.2.0",
            "_view_name": "StyleView",
            "description_width": ""
          }
        },
        "7ead29b3d31f4489998e6868f818727a": {
          "model_module": "@jupyter-widgets/base",
          "model_name": "LayoutModel",
          "model_module_version": "1.2.0",
          "state": {
            "_model_module": "@jupyter-widgets/base",
            "_model_module_version": "1.2.0",
            "_model_name": "LayoutModel",
            "_view_count": null,
            "_view_module": "@jupyter-widgets/base",
            "_view_module_version": "1.2.0",
            "_view_name": "LayoutView",
            "align_content": null,
            "align_items": null,
            "align_self": null,
            "border": null,
            "bottom": null,
            "display": null,
            "flex": null,
            "flex_flow": null,
            "grid_area": null,
            "grid_auto_columns": null,
            "grid_auto_flow": null,
            "grid_auto_rows": null,
            "grid_column": null,
            "grid_gap": null,
            "grid_row": null,
            "grid_template_areas": null,
            "grid_template_columns": null,
            "grid_template_rows": null,
            "height": null,
            "justify_content": null,
            "justify_items": null,
            "left": null,
            "margin": null,
            "max_height": null,
            "max_width": null,
            "min_height": null,
            "min_width": null,
            "object_fit": null,
            "object_position": null,
            "order": null,
            "overflow": null,
            "overflow_x": null,
            "overflow_y": null,
            "padding": null,
            "right": null,
            "top": null,
            "visibility": null,
            "width": null
          }
        },
        "731d60b968634fa6b9a52ddedd3b6717": {
          "model_module": "@jupyter-widgets/controls",
          "model_name": "ProgressStyleModel",
          "model_module_version": "1.5.0",
          "state": {
            "_model_module": "@jupyter-widgets/controls",
            "_model_module_version": "1.5.0",
            "_model_name": "ProgressStyleModel",
            "_view_count": null,
            "_view_module": "@jupyter-widgets/base",
            "_view_module_version": "1.2.0",
            "_view_name": "StyleView",
            "bar_color": null,
            "description_width": ""
          }
        },
        "6d7445eb0ccc4a81bc9e9bedf78daaad": {
          "model_module": "@jupyter-widgets/base",
          "model_name": "LayoutModel",
          "model_module_version": "1.2.0",
          "state": {
            "_model_module": "@jupyter-widgets/base",
            "_model_module_version": "1.2.0",
            "_model_name": "LayoutModel",
            "_view_count": null,
            "_view_module": "@jupyter-widgets/base",
            "_view_module_version": "1.2.0",
            "_view_name": "LayoutView",
            "align_content": null,
            "align_items": null,
            "align_self": null,
            "border": null,
            "bottom": null,
            "display": null,
            "flex": null,
            "flex_flow": null,
            "grid_area": null,
            "grid_auto_columns": null,
            "grid_auto_flow": null,
            "grid_auto_rows": null,
            "grid_column": null,
            "grid_gap": null,
            "grid_row": null,
            "grid_template_areas": null,
            "grid_template_columns": null,
            "grid_template_rows": null,
            "height": null,
            "justify_content": null,
            "justify_items": null,
            "left": null,
            "margin": null,
            "max_height": null,
            "max_width": null,
            "min_height": null,
            "min_width": null,
            "object_fit": null,
            "object_position": null,
            "order": null,
            "overflow": null,
            "overflow_x": null,
            "overflow_y": null,
            "padding": null,
            "right": null,
            "top": null,
            "visibility": null,
            "width": null
          }
        },
        "08436ea413514315bfce473e71485f9f": {
          "model_module": "@jupyter-widgets/controls",
          "model_name": "DescriptionStyleModel",
          "model_module_version": "1.5.0",
          "state": {
            "_model_module": "@jupyter-widgets/controls",
            "_model_module_version": "1.5.0",
            "_model_name": "DescriptionStyleModel",
            "_view_count": null,
            "_view_module": "@jupyter-widgets/base",
            "_view_module_version": "1.2.0",
            "_view_name": "StyleView",
            "description_width": ""
          }
        },
        "f67c8d823d254d97b25750ac5db0ed52": {
          "model_module": "@jupyter-widgets/controls",
          "model_name": "HBoxModel",
          "model_module_version": "1.5.0",
          "state": {
            "_dom_classes": [],
            "_model_module": "@jupyter-widgets/controls",
            "_model_module_version": "1.5.0",
            "_model_name": "HBoxModel",
            "_view_count": null,
            "_view_module": "@jupyter-widgets/controls",
            "_view_module_version": "1.5.0",
            "_view_name": "HBoxView",
            "box_style": "",
            "children": [
              "IPY_MODEL_c1cd0d33a2044455b4c9629d464d2f31",
              "IPY_MODEL_cff322ffa9ed43a1bbfafe0265b6db6b",
              "IPY_MODEL_6035cc9581ae44048464f0ed7ffa7c0c"
            ],
            "layout": "IPY_MODEL_e1a94bff7b4e461ab77e6082595920fc"
          }
        },
        "c1cd0d33a2044455b4c9629d464d2f31": {
          "model_module": "@jupyter-widgets/controls",
          "model_name": "HTMLModel",
          "model_module_version": "1.5.0",
          "state": {
            "_dom_classes": [],
            "_model_module": "@jupyter-widgets/controls",
            "_model_module_version": "1.5.0",
            "_model_name": "HTMLModel",
            "_view_count": null,
            "_view_module": "@jupyter-widgets/controls",
            "_view_module_version": "1.5.0",
            "_view_name": "HTMLView",
            "description": "",
            "description_tooltip": null,
            "layout": "IPY_MODEL_246c38fa31d940b988d24b273a11d1de",
            "placeholder": "​",
            "style": "IPY_MODEL_e83c929c763f4c859450d65bcf9f0939",
            "value": "100%"
          }
        },
        "cff322ffa9ed43a1bbfafe0265b6db6b": {
          "model_module": "@jupyter-widgets/controls",
          "model_name": "FloatProgressModel",
          "model_module_version": "1.5.0",
          "state": {
            "_dom_classes": [],
            "_model_module": "@jupyter-widgets/controls",
            "_model_module_version": "1.5.0",
            "_model_name": "FloatProgressModel",
            "_view_count": null,
            "_view_module": "@jupyter-widgets/controls",
            "_view_module_version": "1.5.0",
            "_view_name": "ProgressView",
            "bar_style": "success",
            "description": "",
            "description_tooltip": null,
            "layout": "IPY_MODEL_0d7db0ee1673483a8da10040d29eb05e",
            "max": 5718,
            "min": 0,
            "orientation": "horizontal",
            "style": "IPY_MODEL_7c5cc170b19e43099d12869540146f74",
            "value": 5718
          }
        },
        "6035cc9581ae44048464f0ed7ffa7c0c": {
          "model_module": "@jupyter-widgets/controls",
          "model_name": "HTMLModel",
          "model_module_version": "1.5.0",
          "state": {
            "_dom_classes": [],
            "_model_module": "@jupyter-widgets/controls",
            "_model_module_version": "1.5.0",
            "_model_name": "HTMLModel",
            "_view_count": null,
            "_view_module": "@jupyter-widgets/controls",
            "_view_module_version": "1.5.0",
            "_view_name": "HTMLView",
            "description": "",
            "description_tooltip": null,
            "layout": "IPY_MODEL_704635ad8ffc4477a15e13c6eb4f56e2",
            "placeholder": "​",
            "style": "IPY_MODEL_81fa7d1fc32a4bb3b1347d0812d8f6ea",
            "value": " 5718/5718 [00:45&lt;00:00, 130.63it/s]"
          }
        },
        "e1a94bff7b4e461ab77e6082595920fc": {
          "model_module": "@jupyter-widgets/base",
          "model_name": "LayoutModel",
          "model_module_version": "1.2.0",
          "state": {
            "_model_module": "@jupyter-widgets/base",
            "_model_module_version": "1.2.0",
            "_model_name": "LayoutModel",
            "_view_count": null,
            "_view_module": "@jupyter-widgets/base",
            "_view_module_version": "1.2.0",
            "_view_name": "LayoutView",
            "align_content": null,
            "align_items": null,
            "align_self": null,
            "border": null,
            "bottom": null,
            "display": null,
            "flex": null,
            "flex_flow": null,
            "grid_area": null,
            "grid_auto_columns": null,
            "grid_auto_flow": null,
            "grid_auto_rows": null,
            "grid_column": null,
            "grid_gap": null,
            "grid_row": null,
            "grid_template_areas": null,
            "grid_template_columns": null,
            "grid_template_rows": null,
            "height": null,
            "justify_content": null,
            "justify_items": null,
            "left": null,
            "margin": null,
            "max_height": null,
            "max_width": null,
            "min_height": null,
            "min_width": null,
            "object_fit": null,
            "object_position": null,
            "order": null,
            "overflow": null,
            "overflow_x": null,
            "overflow_y": null,
            "padding": null,
            "right": null,
            "top": null,
            "visibility": null,
            "width": null
          }
        },
        "246c38fa31d940b988d24b273a11d1de": {
          "model_module": "@jupyter-widgets/base",
          "model_name": "LayoutModel",
          "model_module_version": "1.2.0",
          "state": {
            "_model_module": "@jupyter-widgets/base",
            "_model_module_version": "1.2.0",
            "_model_name": "LayoutModel",
            "_view_count": null,
            "_view_module": "@jupyter-widgets/base",
            "_view_module_version": "1.2.0",
            "_view_name": "LayoutView",
            "align_content": null,
            "align_items": null,
            "align_self": null,
            "border": null,
            "bottom": null,
            "display": null,
            "flex": null,
            "flex_flow": null,
            "grid_area": null,
            "grid_auto_columns": null,
            "grid_auto_flow": null,
            "grid_auto_rows": null,
            "grid_column": null,
            "grid_gap": null,
            "grid_row": null,
            "grid_template_areas": null,
            "grid_template_columns": null,
            "grid_template_rows": null,
            "height": null,
            "justify_content": null,
            "justify_items": null,
            "left": null,
            "margin": null,
            "max_height": null,
            "max_width": null,
            "min_height": null,
            "min_width": null,
            "object_fit": null,
            "object_position": null,
            "order": null,
            "overflow": null,
            "overflow_x": null,
            "overflow_y": null,
            "padding": null,
            "right": null,
            "top": null,
            "visibility": null,
            "width": null
          }
        },
        "e83c929c763f4c859450d65bcf9f0939": {
          "model_module": "@jupyter-widgets/controls",
          "model_name": "DescriptionStyleModel",
          "model_module_version": "1.5.0",
          "state": {
            "_model_module": "@jupyter-widgets/controls",
            "_model_module_version": "1.5.0",
            "_model_name": "DescriptionStyleModel",
            "_view_count": null,
            "_view_module": "@jupyter-widgets/base",
            "_view_module_version": "1.2.0",
            "_view_name": "StyleView",
            "description_width": ""
          }
        },
        "0d7db0ee1673483a8da10040d29eb05e": {
          "model_module": "@jupyter-widgets/base",
          "model_name": "LayoutModel",
          "model_module_version": "1.2.0",
          "state": {
            "_model_module": "@jupyter-widgets/base",
            "_model_module_version": "1.2.0",
            "_model_name": "LayoutModel",
            "_view_count": null,
            "_view_module": "@jupyter-widgets/base",
            "_view_module_version": "1.2.0",
            "_view_name": "LayoutView",
            "align_content": null,
            "align_items": null,
            "align_self": null,
            "border": null,
            "bottom": null,
            "display": null,
            "flex": null,
            "flex_flow": null,
            "grid_area": null,
            "grid_auto_columns": null,
            "grid_auto_flow": null,
            "grid_auto_rows": null,
            "grid_column": null,
            "grid_gap": null,
            "grid_row": null,
            "grid_template_areas": null,
            "grid_template_columns": null,
            "grid_template_rows": null,
            "height": null,
            "justify_content": null,
            "justify_items": null,
            "left": null,
            "margin": null,
            "max_height": null,
            "max_width": null,
            "min_height": null,
            "min_width": null,
            "object_fit": null,
            "object_position": null,
            "order": null,
            "overflow": null,
            "overflow_x": null,
            "overflow_y": null,
            "padding": null,
            "right": null,
            "top": null,
            "visibility": null,
            "width": null
          }
        },
        "7c5cc170b19e43099d12869540146f74": {
          "model_module": "@jupyter-widgets/controls",
          "model_name": "ProgressStyleModel",
          "model_module_version": "1.5.0",
          "state": {
            "_model_module": "@jupyter-widgets/controls",
            "_model_module_version": "1.5.0",
            "_model_name": "ProgressStyleModel",
            "_view_count": null,
            "_view_module": "@jupyter-widgets/base",
            "_view_module_version": "1.2.0",
            "_view_name": "StyleView",
            "bar_color": null,
            "description_width": ""
          }
        },
        "704635ad8ffc4477a15e13c6eb4f56e2": {
          "model_module": "@jupyter-widgets/base",
          "model_name": "LayoutModel",
          "model_module_version": "1.2.0",
          "state": {
            "_model_module": "@jupyter-widgets/base",
            "_model_module_version": "1.2.0",
            "_model_name": "LayoutModel",
            "_view_count": null,
            "_view_module": "@jupyter-widgets/base",
            "_view_module_version": "1.2.0",
            "_view_name": "LayoutView",
            "align_content": null,
            "align_items": null,
            "align_self": null,
            "border": null,
            "bottom": null,
            "display": null,
            "flex": null,
            "flex_flow": null,
            "grid_area": null,
            "grid_auto_columns": null,
            "grid_auto_flow": null,
            "grid_auto_rows": null,
            "grid_column": null,
            "grid_gap": null,
            "grid_row": null,
            "grid_template_areas": null,
            "grid_template_columns": null,
            "grid_template_rows": null,
            "height": null,
            "justify_content": null,
            "justify_items": null,
            "left": null,
            "margin": null,
            "max_height": null,
            "max_width": null,
            "min_height": null,
            "min_width": null,
            "object_fit": null,
            "object_position": null,
            "order": null,
            "overflow": null,
            "overflow_x": null,
            "overflow_y": null,
            "padding": null,
            "right": null,
            "top": null,
            "visibility": null,
            "width": null
          }
        },
        "81fa7d1fc32a4bb3b1347d0812d8f6ea": {
          "model_module": "@jupyter-widgets/controls",
          "model_name": "DescriptionStyleModel",
          "model_module_version": "1.5.0",
          "state": {
            "_model_module": "@jupyter-widgets/controls",
            "_model_module_version": "1.5.0",
            "_model_name": "DescriptionStyleModel",
            "_view_count": null,
            "_view_module": "@jupyter-widgets/base",
            "_view_module_version": "1.2.0",
            "_view_name": "StyleView",
            "description_width": ""
          }
        },
        "43c600ebf58a4d178b00faf30478ccd3": {
          "model_module": "@jupyter-widgets/controls",
          "model_name": "HBoxModel",
          "model_module_version": "1.5.0",
          "state": {
            "_dom_classes": [],
            "_model_module": "@jupyter-widgets/controls",
            "_model_module_version": "1.5.0",
            "_model_name": "HBoxModel",
            "_view_count": null,
            "_view_module": "@jupyter-widgets/controls",
            "_view_module_version": "1.5.0",
            "_view_name": "HBoxView",
            "box_style": "",
            "children": [
              "IPY_MODEL_bfb2672886a940d488c708e4551fab2e",
              "IPY_MODEL_ce652e064b234a3992e7065b996bda4e",
              "IPY_MODEL_94c5cbfd01bd4b34ae3bf99429e502c1"
            ],
            "layout": "IPY_MODEL_33b46bcee39d40bdaa40666e1391d66c"
          }
        },
        "bfb2672886a940d488c708e4551fab2e": {
          "model_module": "@jupyter-widgets/controls",
          "model_name": "HTMLModel",
          "model_module_version": "1.5.0",
          "state": {
            "_dom_classes": [],
            "_model_module": "@jupyter-widgets/controls",
            "_model_module_version": "1.5.0",
            "_model_name": "HTMLModel",
            "_view_count": null,
            "_view_module": "@jupyter-widgets/controls",
            "_view_module_version": "1.5.0",
            "_view_name": "HTMLView",
            "description": "",
            "description_tooltip": null,
            "layout": "IPY_MODEL_cc4cf07d03f940d4a8b5d0777b127f55",
            "placeholder": "​",
            "style": "IPY_MODEL_46ed7e1d6efc4fce9e74f09d279c37c0",
            "value": "100%"
          }
        },
        "ce652e064b234a3992e7065b996bda4e": {
          "model_module": "@jupyter-widgets/controls",
          "model_name": "FloatProgressModel",
          "model_module_version": "1.5.0",
          "state": {
            "_dom_classes": [],
            "_model_module": "@jupyter-widgets/controls",
            "_model_module_version": "1.5.0",
            "_model_name": "FloatProgressModel",
            "_view_count": null,
            "_view_module": "@jupyter-widgets/controls",
            "_view_module_version": "1.5.0",
            "_view_name": "ProgressView",
            "bar_style": "success",
            "description": "",
            "description_tooltip": null,
            "layout": "IPY_MODEL_7f6201be06fa4942847823bb52e17619",
            "max": 480,
            "min": 0,
            "orientation": "horizontal",
            "style": "IPY_MODEL_0f144dedaa0f468dbef9120e9e89b5de",
            "value": 480
          }
        },
        "94c5cbfd01bd4b34ae3bf99429e502c1": {
          "model_module": "@jupyter-widgets/controls",
          "model_name": "HTMLModel",
          "model_module_version": "1.5.0",
          "state": {
            "_dom_classes": [],
            "_model_module": "@jupyter-widgets/controls",
            "_model_module_version": "1.5.0",
            "_model_name": "HTMLModel",
            "_view_count": null,
            "_view_module": "@jupyter-widgets/controls",
            "_view_module_version": "1.5.0",
            "_view_name": "HTMLView",
            "description": "",
            "description_tooltip": null,
            "layout": "IPY_MODEL_9bf894be6c6242f0bc0bcb48a18459c4",
            "placeholder": "​",
            "style": "IPY_MODEL_8b48940b9ee546cfb70442a48a5f7cf8",
            "value": " 480/480 [00:03&lt;00:00, 123.38it/s]"
          }
        },
        "33b46bcee39d40bdaa40666e1391d66c": {
          "model_module": "@jupyter-widgets/base",
          "model_name": "LayoutModel",
          "model_module_version": "1.2.0",
          "state": {
            "_model_module": "@jupyter-widgets/base",
            "_model_module_version": "1.2.0",
            "_model_name": "LayoutModel",
            "_view_count": null,
            "_view_module": "@jupyter-widgets/base",
            "_view_module_version": "1.2.0",
            "_view_name": "LayoutView",
            "align_content": null,
            "align_items": null,
            "align_self": null,
            "border": null,
            "bottom": null,
            "display": null,
            "flex": null,
            "flex_flow": null,
            "grid_area": null,
            "grid_auto_columns": null,
            "grid_auto_flow": null,
            "grid_auto_rows": null,
            "grid_column": null,
            "grid_gap": null,
            "grid_row": null,
            "grid_template_areas": null,
            "grid_template_columns": null,
            "grid_template_rows": null,
            "height": null,
            "justify_content": null,
            "justify_items": null,
            "left": null,
            "margin": null,
            "max_height": null,
            "max_width": null,
            "min_height": null,
            "min_width": null,
            "object_fit": null,
            "object_position": null,
            "order": null,
            "overflow": null,
            "overflow_x": null,
            "overflow_y": null,
            "padding": null,
            "right": null,
            "top": null,
            "visibility": null,
            "width": null
          }
        },
        "cc4cf07d03f940d4a8b5d0777b127f55": {
          "model_module": "@jupyter-widgets/base",
          "model_name": "LayoutModel",
          "model_module_version": "1.2.0",
          "state": {
            "_model_module": "@jupyter-widgets/base",
            "_model_module_version": "1.2.0",
            "_model_name": "LayoutModel",
            "_view_count": null,
            "_view_module": "@jupyter-widgets/base",
            "_view_module_version": "1.2.0",
            "_view_name": "LayoutView",
            "align_content": null,
            "align_items": null,
            "align_self": null,
            "border": null,
            "bottom": null,
            "display": null,
            "flex": null,
            "flex_flow": null,
            "grid_area": null,
            "grid_auto_columns": null,
            "grid_auto_flow": null,
            "grid_auto_rows": null,
            "grid_column": null,
            "grid_gap": null,
            "grid_row": null,
            "grid_template_areas": null,
            "grid_template_columns": null,
            "grid_template_rows": null,
            "height": null,
            "justify_content": null,
            "justify_items": null,
            "left": null,
            "margin": null,
            "max_height": null,
            "max_width": null,
            "min_height": null,
            "min_width": null,
            "object_fit": null,
            "object_position": null,
            "order": null,
            "overflow": null,
            "overflow_x": null,
            "overflow_y": null,
            "padding": null,
            "right": null,
            "top": null,
            "visibility": null,
            "width": null
          }
        },
        "46ed7e1d6efc4fce9e74f09d279c37c0": {
          "model_module": "@jupyter-widgets/controls",
          "model_name": "DescriptionStyleModel",
          "model_module_version": "1.5.0",
          "state": {
            "_model_module": "@jupyter-widgets/controls",
            "_model_module_version": "1.5.0",
            "_model_name": "DescriptionStyleModel",
            "_view_count": null,
            "_view_module": "@jupyter-widgets/base",
            "_view_module_version": "1.2.0",
            "_view_name": "StyleView",
            "description_width": ""
          }
        },
        "7f6201be06fa4942847823bb52e17619": {
          "model_module": "@jupyter-widgets/base",
          "model_name": "LayoutModel",
          "model_module_version": "1.2.0",
          "state": {
            "_model_module": "@jupyter-widgets/base",
            "_model_module_version": "1.2.0",
            "_model_name": "LayoutModel",
            "_view_count": null,
            "_view_module": "@jupyter-widgets/base",
            "_view_module_version": "1.2.0",
            "_view_name": "LayoutView",
            "align_content": null,
            "align_items": null,
            "align_self": null,
            "border": null,
            "bottom": null,
            "display": null,
            "flex": null,
            "flex_flow": null,
            "grid_area": null,
            "grid_auto_columns": null,
            "grid_auto_flow": null,
            "grid_auto_rows": null,
            "grid_column": null,
            "grid_gap": null,
            "grid_row": null,
            "grid_template_areas": null,
            "grid_template_columns": null,
            "grid_template_rows": null,
            "height": null,
            "justify_content": null,
            "justify_items": null,
            "left": null,
            "margin": null,
            "max_height": null,
            "max_width": null,
            "min_height": null,
            "min_width": null,
            "object_fit": null,
            "object_position": null,
            "order": null,
            "overflow": null,
            "overflow_x": null,
            "overflow_y": null,
            "padding": null,
            "right": null,
            "top": null,
            "visibility": null,
            "width": null
          }
        },
        "0f144dedaa0f468dbef9120e9e89b5de": {
          "model_module": "@jupyter-widgets/controls",
          "model_name": "ProgressStyleModel",
          "model_module_version": "1.5.0",
          "state": {
            "_model_module": "@jupyter-widgets/controls",
            "_model_module_version": "1.5.0",
            "_model_name": "ProgressStyleModel",
            "_view_count": null,
            "_view_module": "@jupyter-widgets/base",
            "_view_module_version": "1.2.0",
            "_view_name": "StyleView",
            "bar_color": null,
            "description_width": ""
          }
        },
        "9bf894be6c6242f0bc0bcb48a18459c4": {
          "model_module": "@jupyter-widgets/base",
          "model_name": "LayoutModel",
          "model_module_version": "1.2.0",
          "state": {
            "_model_module": "@jupyter-widgets/base",
            "_model_module_version": "1.2.0",
            "_model_name": "LayoutModel",
            "_view_count": null,
            "_view_module": "@jupyter-widgets/base",
            "_view_module_version": "1.2.0",
            "_view_name": "LayoutView",
            "align_content": null,
            "align_items": null,
            "align_self": null,
            "border": null,
            "bottom": null,
            "display": null,
            "flex": null,
            "flex_flow": null,
            "grid_area": null,
            "grid_auto_columns": null,
            "grid_auto_flow": null,
            "grid_auto_rows": null,
            "grid_column": null,
            "grid_gap": null,
            "grid_row": null,
            "grid_template_areas": null,
            "grid_template_columns": null,
            "grid_template_rows": null,
            "height": null,
            "justify_content": null,
            "justify_items": null,
            "left": null,
            "margin": null,
            "max_height": null,
            "max_width": null,
            "min_height": null,
            "min_width": null,
            "object_fit": null,
            "object_position": null,
            "order": null,
            "overflow": null,
            "overflow_x": null,
            "overflow_y": null,
            "padding": null,
            "right": null,
            "top": null,
            "visibility": null,
            "width": null
          }
        },
        "8b48940b9ee546cfb70442a48a5f7cf8": {
          "model_module": "@jupyter-widgets/controls",
          "model_name": "DescriptionStyleModel",
          "model_module_version": "1.5.0",
          "state": {
            "_model_module": "@jupyter-widgets/controls",
            "_model_module_version": "1.5.0",
            "_model_name": "DescriptionStyleModel",
            "_view_count": null,
            "_view_module": "@jupyter-widgets/base",
            "_view_module_version": "1.2.0",
            "_view_name": "StyleView",
            "description_width": ""
          }
        },
        "6d3e75f059714e0d9f8d3589b5f5a231": {
          "model_module": "@jupyter-widgets/controls",
          "model_name": "HBoxModel",
          "model_module_version": "1.5.0",
          "state": {
            "_dom_classes": [],
            "_model_module": "@jupyter-widgets/controls",
            "_model_module_version": "1.5.0",
            "_model_name": "HBoxModel",
            "_view_count": null,
            "_view_module": "@jupyter-widgets/controls",
            "_view_module_version": "1.5.0",
            "_view_name": "HBoxView",
            "box_style": "",
            "children": [
              "IPY_MODEL_b5b3a65d394741b7aa4198d46c8faca3",
              "IPY_MODEL_32eadd0620344a7a8581f3311c3480ba",
              "IPY_MODEL_d0634879b56d4c2ca94f4331d50014c3"
            ],
            "layout": "IPY_MODEL_b71efa095ee4481ead8fa96f4ef476d4"
          }
        },
        "b5b3a65d394741b7aa4198d46c8faca3": {
          "model_module": "@jupyter-widgets/controls",
          "model_name": "HTMLModel",
          "model_module_version": "1.5.0",
          "state": {
            "_dom_classes": [],
            "_model_module": "@jupyter-widgets/controls",
            "_model_module_version": "1.5.0",
            "_model_name": "HTMLModel",
            "_view_count": null,
            "_view_module": "@jupyter-widgets/controls",
            "_view_module_version": "1.5.0",
            "_view_name": "HTMLView",
            "description": "",
            "description_tooltip": null,
            "layout": "IPY_MODEL_1d8f7e7620a14d0281b8477f7958087d",
            "placeholder": "​",
            "style": "IPY_MODEL_004cf855b0534503ae1aedc612eccde6",
            "value": "Sanity Checking DataLoader 0: 100%"
          }
        },
        "32eadd0620344a7a8581f3311c3480ba": {
          "model_module": "@jupyter-widgets/controls",
          "model_name": "FloatProgressModel",
          "model_module_version": "1.5.0",
          "state": {
            "_dom_classes": [],
            "_model_module": "@jupyter-widgets/controls",
            "_model_module_version": "1.5.0",
            "_model_name": "FloatProgressModel",
            "_view_count": null,
            "_view_module": "@jupyter-widgets/controls",
            "_view_module_version": "1.5.0",
            "_view_name": "ProgressView",
            "bar_style": "",
            "description": "",
            "description_tooltip": null,
            "layout": "IPY_MODEL_892a261f60f3407ca6aa4fb458cdcbd3",
            "max": 2,
            "min": 0,
            "orientation": "horizontal",
            "style": "IPY_MODEL_bb3884eff462464389be01d3dd80e61b",
            "value": 2
          }
        },
        "d0634879b56d4c2ca94f4331d50014c3": {
          "model_module": "@jupyter-widgets/controls",
          "model_name": "HTMLModel",
          "model_module_version": "1.5.0",
          "state": {
            "_dom_classes": [],
            "_model_module": "@jupyter-widgets/controls",
            "_model_module_version": "1.5.0",
            "_model_name": "HTMLModel",
            "_view_count": null,
            "_view_module": "@jupyter-widgets/controls",
            "_view_module_version": "1.5.0",
            "_view_name": "HTMLView",
            "description": "",
            "description_tooltip": null,
            "layout": "IPY_MODEL_876d57eeda634df7b31ddda8eb85caa4",
            "placeholder": "​",
            "style": "IPY_MODEL_254fa2ca079e4b10a80e1e166f081ed5",
            "value": " 2/2 [00:00&lt;00:00,  6.51it/s]"
          }
        },
        "b71efa095ee4481ead8fa96f4ef476d4": {
          "model_module": "@jupyter-widgets/base",
          "model_name": "LayoutModel",
          "model_module_version": "1.2.0",
          "state": {
            "_model_module": "@jupyter-widgets/base",
            "_model_module_version": "1.2.0",
            "_model_name": "LayoutModel",
            "_view_count": null,
            "_view_module": "@jupyter-widgets/base",
            "_view_module_version": "1.2.0",
            "_view_name": "LayoutView",
            "align_content": null,
            "align_items": null,
            "align_self": null,
            "border": null,
            "bottom": null,
            "display": "inline-flex",
            "flex": null,
            "flex_flow": "row wrap",
            "grid_area": null,
            "grid_auto_columns": null,
            "grid_auto_flow": null,
            "grid_auto_rows": null,
            "grid_column": null,
            "grid_gap": null,
            "grid_row": null,
            "grid_template_areas": null,
            "grid_template_columns": null,
            "grid_template_rows": null,
            "height": null,
            "justify_content": null,
            "justify_items": null,
            "left": null,
            "margin": null,
            "max_height": null,
            "max_width": null,
            "min_height": null,
            "min_width": null,
            "object_fit": null,
            "object_position": null,
            "order": null,
            "overflow": null,
            "overflow_x": null,
            "overflow_y": null,
            "padding": null,
            "right": null,
            "top": null,
            "visibility": "hidden",
            "width": "100%"
          }
        },
        "1d8f7e7620a14d0281b8477f7958087d": {
          "model_module": "@jupyter-widgets/base",
          "model_name": "LayoutModel",
          "model_module_version": "1.2.0",
          "state": {
            "_model_module": "@jupyter-widgets/base",
            "_model_module_version": "1.2.0",
            "_model_name": "LayoutModel",
            "_view_count": null,
            "_view_module": "@jupyter-widgets/base",
            "_view_module_version": "1.2.0",
            "_view_name": "LayoutView",
            "align_content": null,
            "align_items": null,
            "align_self": null,
            "border": null,
            "bottom": null,
            "display": null,
            "flex": null,
            "flex_flow": null,
            "grid_area": null,
            "grid_auto_columns": null,
            "grid_auto_flow": null,
            "grid_auto_rows": null,
            "grid_column": null,
            "grid_gap": null,
            "grid_row": null,
            "grid_template_areas": null,
            "grid_template_columns": null,
            "grid_template_rows": null,
            "height": null,
            "justify_content": null,
            "justify_items": null,
            "left": null,
            "margin": null,
            "max_height": null,
            "max_width": null,
            "min_height": null,
            "min_width": null,
            "object_fit": null,
            "object_position": null,
            "order": null,
            "overflow": null,
            "overflow_x": null,
            "overflow_y": null,
            "padding": null,
            "right": null,
            "top": null,
            "visibility": null,
            "width": null
          }
        },
        "004cf855b0534503ae1aedc612eccde6": {
          "model_module": "@jupyter-widgets/controls",
          "model_name": "DescriptionStyleModel",
          "model_module_version": "1.5.0",
          "state": {
            "_model_module": "@jupyter-widgets/controls",
            "_model_module_version": "1.5.0",
            "_model_name": "DescriptionStyleModel",
            "_view_count": null,
            "_view_module": "@jupyter-widgets/base",
            "_view_module_version": "1.2.0",
            "_view_name": "StyleView",
            "description_width": ""
          }
        },
        "892a261f60f3407ca6aa4fb458cdcbd3": {
          "model_module": "@jupyter-widgets/base",
          "model_name": "LayoutModel",
          "model_module_version": "1.2.0",
          "state": {
            "_model_module": "@jupyter-widgets/base",
            "_model_module_version": "1.2.0",
            "_model_name": "LayoutModel",
            "_view_count": null,
            "_view_module": "@jupyter-widgets/base",
            "_view_module_version": "1.2.0",
            "_view_name": "LayoutView",
            "align_content": null,
            "align_items": null,
            "align_self": null,
            "border": null,
            "bottom": null,
            "display": null,
            "flex": "2",
            "flex_flow": null,
            "grid_area": null,
            "grid_auto_columns": null,
            "grid_auto_flow": null,
            "grid_auto_rows": null,
            "grid_column": null,
            "grid_gap": null,
            "grid_row": null,
            "grid_template_areas": null,
            "grid_template_columns": null,
            "grid_template_rows": null,
            "height": null,
            "justify_content": null,
            "justify_items": null,
            "left": null,
            "margin": null,
            "max_height": null,
            "max_width": null,
            "min_height": null,
            "min_width": null,
            "object_fit": null,
            "object_position": null,
            "order": null,
            "overflow": null,
            "overflow_x": null,
            "overflow_y": null,
            "padding": null,
            "right": null,
            "top": null,
            "visibility": null,
            "width": null
          }
        },
        "bb3884eff462464389be01d3dd80e61b": {
          "model_module": "@jupyter-widgets/controls",
          "model_name": "ProgressStyleModel",
          "model_module_version": "1.5.0",
          "state": {
            "_model_module": "@jupyter-widgets/controls",
            "_model_module_version": "1.5.0",
            "_model_name": "ProgressStyleModel",
            "_view_count": null,
            "_view_module": "@jupyter-widgets/base",
            "_view_module_version": "1.2.0",
            "_view_name": "StyleView",
            "bar_color": null,
            "description_width": ""
          }
        },
        "876d57eeda634df7b31ddda8eb85caa4": {
          "model_module": "@jupyter-widgets/base",
          "model_name": "LayoutModel",
          "model_module_version": "1.2.0",
          "state": {
            "_model_module": "@jupyter-widgets/base",
            "_model_module_version": "1.2.0",
            "_model_name": "LayoutModel",
            "_view_count": null,
            "_view_module": "@jupyter-widgets/base",
            "_view_module_version": "1.2.0",
            "_view_name": "LayoutView",
            "align_content": null,
            "align_items": null,
            "align_self": null,
            "border": null,
            "bottom": null,
            "display": null,
            "flex": null,
            "flex_flow": null,
            "grid_area": null,
            "grid_auto_columns": null,
            "grid_auto_flow": null,
            "grid_auto_rows": null,
            "grid_column": null,
            "grid_gap": null,
            "grid_row": null,
            "grid_template_areas": null,
            "grid_template_columns": null,
            "grid_template_rows": null,
            "height": null,
            "justify_content": null,
            "justify_items": null,
            "left": null,
            "margin": null,
            "max_height": null,
            "max_width": null,
            "min_height": null,
            "min_width": null,
            "object_fit": null,
            "object_position": null,
            "order": null,
            "overflow": null,
            "overflow_x": null,
            "overflow_y": null,
            "padding": null,
            "right": null,
            "top": null,
            "visibility": null,
            "width": null
          }
        },
        "254fa2ca079e4b10a80e1e166f081ed5": {
          "model_module": "@jupyter-widgets/controls",
          "model_name": "DescriptionStyleModel",
          "model_module_version": "1.5.0",
          "state": {
            "_model_module": "@jupyter-widgets/controls",
            "_model_module_version": "1.5.0",
            "_model_name": "DescriptionStyleModel",
            "_view_count": null,
            "_view_module": "@jupyter-widgets/base",
            "_view_module_version": "1.2.0",
            "_view_name": "StyleView",
            "description_width": ""
          }
        },
        "6f96861774ed4cb2a4a5f3883f0593ae": {
          "model_module": "@jupyter-widgets/controls",
          "model_name": "HBoxModel",
          "model_module_version": "1.5.0",
          "state": {
            "_dom_classes": [],
            "_model_module": "@jupyter-widgets/controls",
            "_model_module_version": "1.5.0",
            "_model_name": "HBoxModel",
            "_view_count": null,
            "_view_module": "@jupyter-widgets/controls",
            "_view_module_version": "1.5.0",
            "_view_name": "HBoxView",
            "box_style": "",
            "children": [
              "IPY_MODEL_892e8f56cdd74b3087c1ee14033714a7",
              "IPY_MODEL_1a493cf250a64a75929b03766c61634d",
              "IPY_MODEL_d14abbf76e9f47a5962791b5872e1529"
            ],
            "layout": "IPY_MODEL_84cf60e198e44bef9acdb1ab2cd715ee"
          }
        },
        "892e8f56cdd74b3087c1ee14033714a7": {
          "model_module": "@jupyter-widgets/controls",
          "model_name": "HTMLModel",
          "model_module_version": "1.5.0",
          "state": {
            "_dom_classes": [],
            "_model_module": "@jupyter-widgets/controls",
            "_model_module_version": "1.5.0",
            "_model_name": "HTMLModel",
            "_view_count": null,
            "_view_module": "@jupyter-widgets/controls",
            "_view_module_version": "1.5.0",
            "_view_name": "HTMLView",
            "description": "",
            "description_tooltip": null,
            "layout": "IPY_MODEL_7894bdb2c12349c58372caed36b08a2a",
            "placeholder": "​",
            "style": "IPY_MODEL_3d018517c1544c39a6c29840ccf9cace",
            "value": "Epoch 2:  50%"
          }
        },
        "1a493cf250a64a75929b03766c61634d": {
          "model_module": "@jupyter-widgets/controls",
          "model_name": "FloatProgressModel",
          "model_module_version": "1.5.0",
          "state": {
            "_dom_classes": [],
            "_model_module": "@jupyter-widgets/controls",
            "_model_module_version": "1.5.0",
            "_model_name": "FloatProgressModel",
            "_view_count": null,
            "_view_module": "@jupyter-widgets/controls",
            "_view_module_version": "1.5.0",
            "_view_name": "ProgressView",
            "bar_style": "",
            "description": "",
            "description_tooltip": null,
            "layout": "IPY_MODEL_f952db1a65b749d9812f88803030d1f3",
            "max": 161,
            "min": 0,
            "orientation": "horizontal",
            "style": "IPY_MODEL_a391b6d90e254026ab20e1a3bcc1e1f7",
            "value": 80
          }
        },
        "d14abbf76e9f47a5962791b5872e1529": {
          "model_module": "@jupyter-widgets/controls",
          "model_name": "HTMLModel",
          "model_module_version": "1.5.0",
          "state": {
            "_dom_classes": [],
            "_model_module": "@jupyter-widgets/controls",
            "_model_module_version": "1.5.0",
            "_model_name": "HTMLModel",
            "_view_count": null,
            "_view_module": "@jupyter-widgets/controls",
            "_view_module_version": "1.5.0",
            "_view_name": "HTMLView",
            "description": "",
            "description_tooltip": null,
            "layout": "IPY_MODEL_e756996d196e4dbb903368429deb48ff",
            "placeholder": "​",
            "style": "IPY_MODEL_72cc95cf2da2475cb324e8407c9aa1b4",
            "value": " 80/161 [00:01&lt;00:01, 73.19it/s, v_num=4, train_loss=1.040, val_loss=1.180, valid_acc_epoch=0.399, train_acc_epoch=0.412]"
          }
        },
        "84cf60e198e44bef9acdb1ab2cd715ee": {
          "model_module": "@jupyter-widgets/base",
          "model_name": "LayoutModel",
          "model_module_version": "1.2.0",
          "state": {
            "_model_module": "@jupyter-widgets/base",
            "_model_module_version": "1.2.0",
            "_model_name": "LayoutModel",
            "_view_count": null,
            "_view_module": "@jupyter-widgets/base",
            "_view_module_version": "1.2.0",
            "_view_name": "LayoutView",
            "align_content": null,
            "align_items": null,
            "align_self": null,
            "border": null,
            "bottom": null,
            "display": "inline-flex",
            "flex": null,
            "flex_flow": "row wrap",
            "grid_area": null,
            "grid_auto_columns": null,
            "grid_auto_flow": null,
            "grid_auto_rows": null,
            "grid_column": null,
            "grid_gap": null,
            "grid_row": null,
            "grid_template_areas": null,
            "grid_template_columns": null,
            "grid_template_rows": null,
            "height": null,
            "justify_content": null,
            "justify_items": null,
            "left": null,
            "margin": null,
            "max_height": null,
            "max_width": null,
            "min_height": null,
            "min_width": null,
            "object_fit": null,
            "object_position": null,
            "order": null,
            "overflow": null,
            "overflow_x": null,
            "overflow_y": null,
            "padding": null,
            "right": null,
            "top": null,
            "visibility": null,
            "width": "100%"
          }
        },
        "7894bdb2c12349c58372caed36b08a2a": {
          "model_module": "@jupyter-widgets/base",
          "model_name": "LayoutModel",
          "model_module_version": "1.2.0",
          "state": {
            "_model_module": "@jupyter-widgets/base",
            "_model_module_version": "1.2.0",
            "_model_name": "LayoutModel",
            "_view_count": null,
            "_view_module": "@jupyter-widgets/base",
            "_view_module_version": "1.2.0",
            "_view_name": "LayoutView",
            "align_content": null,
            "align_items": null,
            "align_self": null,
            "border": null,
            "bottom": null,
            "display": null,
            "flex": null,
            "flex_flow": null,
            "grid_area": null,
            "grid_auto_columns": null,
            "grid_auto_flow": null,
            "grid_auto_rows": null,
            "grid_column": null,
            "grid_gap": null,
            "grid_row": null,
            "grid_template_areas": null,
            "grid_template_columns": null,
            "grid_template_rows": null,
            "height": null,
            "justify_content": null,
            "justify_items": null,
            "left": null,
            "margin": null,
            "max_height": null,
            "max_width": null,
            "min_height": null,
            "min_width": null,
            "object_fit": null,
            "object_position": null,
            "order": null,
            "overflow": null,
            "overflow_x": null,
            "overflow_y": null,
            "padding": null,
            "right": null,
            "top": null,
            "visibility": null,
            "width": null
          }
        },
        "3d018517c1544c39a6c29840ccf9cace": {
          "model_module": "@jupyter-widgets/controls",
          "model_name": "DescriptionStyleModel",
          "model_module_version": "1.5.0",
          "state": {
            "_model_module": "@jupyter-widgets/controls",
            "_model_module_version": "1.5.0",
            "_model_name": "DescriptionStyleModel",
            "_view_count": null,
            "_view_module": "@jupyter-widgets/base",
            "_view_module_version": "1.2.0",
            "_view_name": "StyleView",
            "description_width": ""
          }
        },
        "f952db1a65b749d9812f88803030d1f3": {
          "model_module": "@jupyter-widgets/base",
          "model_name": "LayoutModel",
          "model_module_version": "1.2.0",
          "state": {
            "_model_module": "@jupyter-widgets/base",
            "_model_module_version": "1.2.0",
            "_model_name": "LayoutModel",
            "_view_count": null,
            "_view_module": "@jupyter-widgets/base",
            "_view_module_version": "1.2.0",
            "_view_name": "LayoutView",
            "align_content": null,
            "align_items": null,
            "align_self": null,
            "border": null,
            "bottom": null,
            "display": null,
            "flex": "2",
            "flex_flow": null,
            "grid_area": null,
            "grid_auto_columns": null,
            "grid_auto_flow": null,
            "grid_auto_rows": null,
            "grid_column": null,
            "grid_gap": null,
            "grid_row": null,
            "grid_template_areas": null,
            "grid_template_columns": null,
            "grid_template_rows": null,
            "height": null,
            "justify_content": null,
            "justify_items": null,
            "left": null,
            "margin": null,
            "max_height": null,
            "max_width": null,
            "min_height": null,
            "min_width": null,
            "object_fit": null,
            "object_position": null,
            "order": null,
            "overflow": null,
            "overflow_x": null,
            "overflow_y": null,
            "padding": null,
            "right": null,
            "top": null,
            "visibility": null,
            "width": null
          }
        },
        "a391b6d90e254026ab20e1a3bcc1e1f7": {
          "model_module": "@jupyter-widgets/controls",
          "model_name": "ProgressStyleModel",
          "model_module_version": "1.5.0",
          "state": {
            "_model_module": "@jupyter-widgets/controls",
            "_model_module_version": "1.5.0",
            "_model_name": "ProgressStyleModel",
            "_view_count": null,
            "_view_module": "@jupyter-widgets/base",
            "_view_module_version": "1.2.0",
            "_view_name": "StyleView",
            "bar_color": null,
            "description_width": ""
          }
        },
        "e756996d196e4dbb903368429deb48ff": {
          "model_module": "@jupyter-widgets/base",
          "model_name": "LayoutModel",
          "model_module_version": "1.2.0",
          "state": {
            "_model_module": "@jupyter-widgets/base",
            "_model_module_version": "1.2.0",
            "_model_name": "LayoutModel",
            "_view_count": null,
            "_view_module": "@jupyter-widgets/base",
            "_view_module_version": "1.2.0",
            "_view_name": "LayoutView",
            "align_content": null,
            "align_items": null,
            "align_self": null,
            "border": null,
            "bottom": null,
            "display": null,
            "flex": null,
            "flex_flow": null,
            "grid_area": null,
            "grid_auto_columns": null,
            "grid_auto_flow": null,
            "grid_auto_rows": null,
            "grid_column": null,
            "grid_gap": null,
            "grid_row": null,
            "grid_template_areas": null,
            "grid_template_columns": null,
            "grid_template_rows": null,
            "height": null,
            "justify_content": null,
            "justify_items": null,
            "left": null,
            "margin": null,
            "max_height": null,
            "max_width": null,
            "min_height": null,
            "min_width": null,
            "object_fit": null,
            "object_position": null,
            "order": null,
            "overflow": null,
            "overflow_x": null,
            "overflow_y": null,
            "padding": null,
            "right": null,
            "top": null,
            "visibility": null,
            "width": null
          }
        },
        "72cc95cf2da2475cb324e8407c9aa1b4": {
          "model_module": "@jupyter-widgets/controls",
          "model_name": "DescriptionStyleModel",
          "model_module_version": "1.5.0",
          "state": {
            "_model_module": "@jupyter-widgets/controls",
            "_model_module_version": "1.5.0",
            "_model_name": "DescriptionStyleModel",
            "_view_count": null,
            "_view_module": "@jupyter-widgets/base",
            "_view_module_version": "1.2.0",
            "_view_name": "StyleView",
            "description_width": ""
          }
        },
        "a9dbe833bbb94633b1ae977e43635280": {
          "model_module": "@jupyter-widgets/controls",
          "model_name": "HBoxModel",
          "model_module_version": "1.5.0",
          "state": {
            "_dom_classes": [],
            "_model_module": "@jupyter-widgets/controls",
            "_model_module_version": "1.5.0",
            "_model_name": "HBoxModel",
            "_view_count": null,
            "_view_module": "@jupyter-widgets/controls",
            "_view_module_version": "1.5.0",
            "_view_name": "HBoxView",
            "box_style": "",
            "children": [
              "IPY_MODEL_ce433fb3474f447bb1b01f07147f13ca",
              "IPY_MODEL_6ebca15a83c040c39cc4fca1de670873",
              "IPY_MODEL_3e5ab3b663274ddaa32fe2e7dde1cccc"
            ],
            "layout": "IPY_MODEL_8188f6e2335d459bb09920d8fff99e77"
          }
        },
        "ce433fb3474f447bb1b01f07147f13ca": {
          "model_module": "@jupyter-widgets/controls",
          "model_name": "HTMLModel",
          "model_module_version": "1.5.0",
          "state": {
            "_dom_classes": [],
            "_model_module": "@jupyter-widgets/controls",
            "_model_module_version": "1.5.0",
            "_model_name": "HTMLModel",
            "_view_count": null,
            "_view_module": "@jupyter-widgets/controls",
            "_view_module_version": "1.5.0",
            "_view_name": "HTMLView",
            "description": "",
            "description_tooltip": null,
            "layout": "IPY_MODEL_0ed8c82d446e415c96ddbc396e205051",
            "placeholder": "​",
            "style": "IPY_MODEL_e0bc833a62854df5b64239111ffbb7e3",
            "value": "Validation DataLoader 0: 100%"
          }
        },
        "6ebca15a83c040c39cc4fca1de670873": {
          "model_module": "@jupyter-widgets/controls",
          "model_name": "FloatProgressModel",
          "model_module_version": "1.5.0",
          "state": {
            "_dom_classes": [],
            "_model_module": "@jupyter-widgets/controls",
            "_model_module_version": "1.5.0",
            "_model_name": "FloatProgressModel",
            "_view_count": null,
            "_view_module": "@jupyter-widgets/controls",
            "_view_module_version": "1.5.0",
            "_view_name": "ProgressView",
            "bar_style": "",
            "description": "",
            "description_tooltip": null,
            "layout": "IPY_MODEL_4b046080e45445bf8603c4cc595503bd",
            "max": 18,
            "min": 0,
            "orientation": "horizontal",
            "style": "IPY_MODEL_dba875d92aeb418d94efb76e28cb01a6",
            "value": 18
          }
        },
        "3e5ab3b663274ddaa32fe2e7dde1cccc": {
          "model_module": "@jupyter-widgets/controls",
          "model_name": "HTMLModel",
          "model_module_version": "1.5.0",
          "state": {
            "_dom_classes": [],
            "_model_module": "@jupyter-widgets/controls",
            "_model_module_version": "1.5.0",
            "_model_name": "HTMLModel",
            "_view_count": null,
            "_view_module": "@jupyter-widgets/controls",
            "_view_module_version": "1.5.0",
            "_view_name": "HTMLView",
            "description": "",
            "description_tooltip": null,
            "layout": "IPY_MODEL_5f9da4a951b2453497e40e1b3b1d2be9",
            "placeholder": "​",
            "style": "IPY_MODEL_0369717e412e4194bffce517c08498f7",
            "value": " 18/18 [00:00&lt;00:00, 167.49it/s]"
          }
        },
        "8188f6e2335d459bb09920d8fff99e77": {
          "model_module": "@jupyter-widgets/base",
          "model_name": "LayoutModel",
          "model_module_version": "1.2.0",
          "state": {
            "_model_module": "@jupyter-widgets/base",
            "_model_module_version": "1.2.0",
            "_model_name": "LayoutModel",
            "_view_count": null,
            "_view_module": "@jupyter-widgets/base",
            "_view_module_version": "1.2.0",
            "_view_name": "LayoutView",
            "align_content": null,
            "align_items": null,
            "align_self": null,
            "border": null,
            "bottom": null,
            "display": "inline-flex",
            "flex": null,
            "flex_flow": "row wrap",
            "grid_area": null,
            "grid_auto_columns": null,
            "grid_auto_flow": null,
            "grid_auto_rows": null,
            "grid_column": null,
            "grid_gap": null,
            "grid_row": null,
            "grid_template_areas": null,
            "grid_template_columns": null,
            "grid_template_rows": null,
            "height": null,
            "justify_content": null,
            "justify_items": null,
            "left": null,
            "margin": null,
            "max_height": null,
            "max_width": null,
            "min_height": null,
            "min_width": null,
            "object_fit": null,
            "object_position": null,
            "order": null,
            "overflow": null,
            "overflow_x": null,
            "overflow_y": null,
            "padding": null,
            "right": null,
            "top": null,
            "visibility": "hidden",
            "width": "100%"
          }
        },
        "0ed8c82d446e415c96ddbc396e205051": {
          "model_module": "@jupyter-widgets/base",
          "model_name": "LayoutModel",
          "model_module_version": "1.2.0",
          "state": {
            "_model_module": "@jupyter-widgets/base",
            "_model_module_version": "1.2.0",
            "_model_name": "LayoutModel",
            "_view_count": null,
            "_view_module": "@jupyter-widgets/base",
            "_view_module_version": "1.2.0",
            "_view_name": "LayoutView",
            "align_content": null,
            "align_items": null,
            "align_self": null,
            "border": null,
            "bottom": null,
            "display": null,
            "flex": null,
            "flex_flow": null,
            "grid_area": null,
            "grid_auto_columns": null,
            "grid_auto_flow": null,
            "grid_auto_rows": null,
            "grid_column": null,
            "grid_gap": null,
            "grid_row": null,
            "grid_template_areas": null,
            "grid_template_columns": null,
            "grid_template_rows": null,
            "height": null,
            "justify_content": null,
            "justify_items": null,
            "left": null,
            "margin": null,
            "max_height": null,
            "max_width": null,
            "min_height": null,
            "min_width": null,
            "object_fit": null,
            "object_position": null,
            "order": null,
            "overflow": null,
            "overflow_x": null,
            "overflow_y": null,
            "padding": null,
            "right": null,
            "top": null,
            "visibility": null,
            "width": null
          }
        },
        "e0bc833a62854df5b64239111ffbb7e3": {
          "model_module": "@jupyter-widgets/controls",
          "model_name": "DescriptionStyleModel",
          "model_module_version": "1.5.0",
          "state": {
            "_model_module": "@jupyter-widgets/controls",
            "_model_module_version": "1.5.0",
            "_model_name": "DescriptionStyleModel",
            "_view_count": null,
            "_view_module": "@jupyter-widgets/base",
            "_view_module_version": "1.2.0",
            "_view_name": "StyleView",
            "description_width": ""
          }
        },
        "4b046080e45445bf8603c4cc595503bd": {
          "model_module": "@jupyter-widgets/base",
          "model_name": "LayoutModel",
          "model_module_version": "1.2.0",
          "state": {
            "_model_module": "@jupyter-widgets/base",
            "_model_module_version": "1.2.0",
            "_model_name": "LayoutModel",
            "_view_count": null,
            "_view_module": "@jupyter-widgets/base",
            "_view_module_version": "1.2.0",
            "_view_name": "LayoutView",
            "align_content": null,
            "align_items": null,
            "align_self": null,
            "border": null,
            "bottom": null,
            "display": null,
            "flex": "2",
            "flex_flow": null,
            "grid_area": null,
            "grid_auto_columns": null,
            "grid_auto_flow": null,
            "grid_auto_rows": null,
            "grid_column": null,
            "grid_gap": null,
            "grid_row": null,
            "grid_template_areas": null,
            "grid_template_columns": null,
            "grid_template_rows": null,
            "height": null,
            "justify_content": null,
            "justify_items": null,
            "left": null,
            "margin": null,
            "max_height": null,
            "max_width": null,
            "min_height": null,
            "min_width": null,
            "object_fit": null,
            "object_position": null,
            "order": null,
            "overflow": null,
            "overflow_x": null,
            "overflow_y": null,
            "padding": null,
            "right": null,
            "top": null,
            "visibility": null,
            "width": null
          }
        },
        "dba875d92aeb418d94efb76e28cb01a6": {
          "model_module": "@jupyter-widgets/controls",
          "model_name": "ProgressStyleModel",
          "model_module_version": "1.5.0",
          "state": {
            "_model_module": "@jupyter-widgets/controls",
            "_model_module_version": "1.5.0",
            "_model_name": "ProgressStyleModel",
            "_view_count": null,
            "_view_module": "@jupyter-widgets/base",
            "_view_module_version": "1.2.0",
            "_view_name": "StyleView",
            "bar_color": null,
            "description_width": ""
          }
        },
        "5f9da4a951b2453497e40e1b3b1d2be9": {
          "model_module": "@jupyter-widgets/base",
          "model_name": "LayoutModel",
          "model_module_version": "1.2.0",
          "state": {
            "_model_module": "@jupyter-widgets/base",
            "_model_module_version": "1.2.0",
            "_model_name": "LayoutModel",
            "_view_count": null,
            "_view_module": "@jupyter-widgets/base",
            "_view_module_version": "1.2.0",
            "_view_name": "LayoutView",
            "align_content": null,
            "align_items": null,
            "align_self": null,
            "border": null,
            "bottom": null,
            "display": null,
            "flex": null,
            "flex_flow": null,
            "grid_area": null,
            "grid_auto_columns": null,
            "grid_auto_flow": null,
            "grid_auto_rows": null,
            "grid_column": null,
            "grid_gap": null,
            "grid_row": null,
            "grid_template_areas": null,
            "grid_template_columns": null,
            "grid_template_rows": null,
            "height": null,
            "justify_content": null,
            "justify_items": null,
            "left": null,
            "margin": null,
            "max_height": null,
            "max_width": null,
            "min_height": null,
            "min_width": null,
            "object_fit": null,
            "object_position": null,
            "order": null,
            "overflow": null,
            "overflow_x": null,
            "overflow_y": null,
            "padding": null,
            "right": null,
            "top": null,
            "visibility": null,
            "width": null
          }
        },
        "0369717e412e4194bffce517c08498f7": {
          "model_module": "@jupyter-widgets/controls",
          "model_name": "DescriptionStyleModel",
          "model_module_version": "1.5.0",
          "state": {
            "_model_module": "@jupyter-widgets/controls",
            "_model_module_version": "1.5.0",
            "_model_name": "DescriptionStyleModel",
            "_view_count": null,
            "_view_module": "@jupyter-widgets/base",
            "_view_module_version": "1.2.0",
            "_view_name": "StyleView",
            "description_width": ""
          }
        }
      }
    },
    "accelerator": "GPU"
  },
  "cells": [
    {
      "cell_type": "markdown",
      "metadata": {
        "id": "view-in-github",
        "colab_type": "text"
      },
      "source": [
        "<a href=\"https://colab.research.google.com/github/ougrid/my-knowledge-resource/blob/master/Brain_Motor_Super_Ai_Show_and_Share.ipynb\" target=\"_parent\"><img src=\"https://colab.research.google.com/assets/colab-badge.svg\" alt=\"Open In Colab\"/></a>"
      ]
    },
    {
      "cell_type": "markdown",
      "source": [
        "# Super AI Season 4: Brain Motor Imagery Classification\n",
        "\n",
        "![image.png](data:image/png;base64,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)\n",
        "\n",
        "https://www.kaggle.com/competitions/brain-motor-imagery-classification\n",
        "\n",
        "Second baseline code\n",
        "\n",
        "Public Score: 0.45235\n",
        "Private Score: 0.56471\n",
        "\n",
        "By: Norapat Buppodom (New): https://github.com/new5558\n"
      ],
      "metadata": {
        "id": "F-btz6c-MFA7"
      }
    },
    {
      "cell_type": "markdown",
      "source": [
        "## Init Project"
      ],
      "metadata": {
        "id": "eeDqVaYIHbKo"
      }
    },
    {
      "cell_type": "code",
      "source": [
        "!pip install -q torch_geometric lightning utilsforecast braindecode"
      ],
      "metadata": {
        "id": "Dv8SYMcSSPHc"
      },
      "execution_count": null,
      "outputs": []
    },
    {
      "cell_type": "code",
      "source": [
        "from google.colab import userdata\n",
        "kaggle_token = userdata.get('KAGGLE_TOKEN')\n",
        "\n",
        "import os\n",
        "import json\n",
        "\n",
        "# Create the .kaggle directory if it doesn't exist\n",
        "os.makedirs(os.path.expanduser(\"~/.kaggle\"), exist_ok=True)\n",
        "\n",
        "# Define the path for the kaggle.json file\n",
        "kaggle_json_path = os.path.expanduser(\"~/.kaggle/kaggle.json\")\n",
        "\n",
        "# Write the token to the kaggle.json file\n",
        "with open(kaggle_json_path, 'w') as file:\n",
        "    json.dump(json.loads(kaggle_token), file)\n",
        "\n",
        "# Set the permissions to read and write for the user only\n",
        "os.chmod(kaggle_json_path, 0o600)"
      ],
      "metadata": {
        "id": "1D5a0YzGHBaG"
      },
      "execution_count": null,
      "outputs": []
    },
    {
      "cell_type": "code",
      "execution_count": null,
      "metadata": {
        "colab": {
          "base_uri": "https://localhost:8080/"
        },
        "id": "IBe4GYu7G7ZK",
        "outputId": "b5d5c399-fac1-4a69-a557-a4daee704ea2"
      },
      "outputs": [
        {
          "output_type": "stream",
          "name": "stdout",
          "text": [
            "brain-motor-imagery-classification.zip: Skipping, found more recently modified local copy (use --force to force download)\n"
          ]
        }
      ],
      "source": [
        "!kaggle competitions download -c brain-motor-imagery-classification"
      ]
    },
    {
      "cell_type": "code",
      "source": [
        "!unzip /content/brain-motor-imagery-classification.zip"
      ],
      "metadata": {
        "colab": {
          "base_uri": "https://localhost:8080/"
        },
        "id": "EjHLO7RgHPB8",
        "outputId": "c945a774-14e9-4f4a-d41d-678dcbed1447"
      },
      "execution_count": null,
      "outputs": [
        {
          "output_type": "stream",
          "name": "stdout",
          "text": [
            "Archive:  /content/brain-motor-imagery-classification.zip\n",
            "replace sample_submission.csv? [y]es, [n]o, [A]ll, [N]one, [r]ename: "
          ]
        }
      ]
    },
    {
      "cell_type": "markdown",
      "source": [
        "## Load dataset\n"
      ],
      "metadata": {
        "id": "MueELu5sHhhJ"
      }
    },
    {
      "cell_type": "code",
      "source": [
        "import os\n",
        "\n",
        "import numpy as np\n",
        "from tqdm.auto import tqdm\n",
        "from scipy.signal import butter, filtfilt\n",
        "import torch\n",
        "from torch.utils.data import Dataset, DataLoader\n",
        "import pandas as pd\n",
        "from braindecode.models import Deep4Net, EEGNetv4, EEGNetv1, EEGResNet, ShallowFBCSPNet\n",
        "import pytorch_lightning as pl\n",
        "from pytorch_lightning.callbacks import EarlyStopping, ModelCheckpoint\n",
        "import torchmetrics"
      ],
      "metadata": {
        "id": "9CLqW410Hl3y"
      },
      "execution_count": null,
      "outputs": []
    },
    {
      "cell_type": "code",
      "source": [
        "%cd /content"
      ],
      "metadata": {
        "colab": {
          "base_uri": "https://localhost:8080/"
        },
        "id": "_gzZ6nDj3iQs",
        "outputId": "bb057555-f2f7-4cf0-90f1-da07e5b57a83"
      },
      "execution_count": null,
      "outputs": [
        {
          "output_type": "stream",
          "name": "stdout",
          "text": [
            "/content\n"
          ]
        }
      ]
    },
    {
      "cell_type": "code",
      "source": [
        "train_path = 'train/train/'"
      ],
      "metadata": {
        "id": "XgywZPv9HcE9"
      },
      "execution_count": null,
      "outputs": []
    },
    {
      "cell_type": "code",
      "source": [
        "input_train_list = []\n",
        "for path in sorted(os.listdir(train_path)):\n",
        "  if '_data_time_series' in path:\n",
        "    numpy_loaded = np.load(train_path + path).astype(np.double)\n",
        "    input_train_list.append(numpy_loaded)"
      ],
      "metadata": {
        "id": "ALzTPl53HZvR"
      },
      "execution_count": null,
      "outputs": []
    },
    {
      "cell_type": "code",
      "source": [
        "input_train_list_time_stamp = []\n",
        "for path in sorted(os.listdir(train_path)):\n",
        "  if '_data_time_stamps' in path:\n",
        "    numpy_loaded = np.load(train_path + path)\n",
        "    input_train_list_time_stamp.append(numpy_loaded)"
      ],
      "metadata": {
        "id": "98yhYB-dKtcM"
      },
      "execution_count": null,
      "outputs": []
    },
    {
      "cell_type": "code",
      "source": [
        "input_train_label = []\n",
        "for path in sorted(os.listdir(train_path)):\n",
        "  if '_label_time_series.npy' in path:\n",
        "    numpy_loaded = np.load(train_path + path)\n",
        "    input_train_label.append(numpy_loaded)"
      ],
      "metadata": {
        "id": "PlxEJHPNKQV1"
      },
      "execution_count": null,
      "outputs": []
    },
    {
      "cell_type": "code",
      "source": [
        "input_train_label_timestamp = []\n",
        "for path in sorted(os.listdir(train_path)):\n",
        "  if '_label_time_stamps.npy' in path:\n",
        "    numpy_loaded = np.load(train_path + path)\n",
        "    input_train_label_timestamp.append(numpy_loaded)"
      ],
      "metadata": {
        "id": "G-Wvfi7FKllC"
      },
      "execution_count": null,
      "outputs": []
    },
    {
      "cell_type": "code",
      "source": [
        "test_path = '/content/test/'"
      ],
      "metadata": {
        "id": "IQsbL8ptH8CQ"
      },
      "execution_count": null,
      "outputs": []
    },
    {
      "cell_type": "code",
      "source": [
        "input_test = []\n",
        "intpu_test_file_names = []\n",
        "for path in sorted(os.listdir(test_path)):\n",
        "  numpy_loaded = np.load(test_path + path).astype(np.double)\n",
        "  intpu_test_file_names.append(path.split('.')[0])\n",
        "  input_test.append(numpy_loaded[:1750])"
      ],
      "metadata": {
        "id": "C7biQjyswURK"
      },
      "execution_count": null,
      "outputs": []
    },
    {
      "cell_type": "code",
      "source": [
        "def find_closest_index(target, arr):\n",
        "    \"\"\"Finds the index of the closest value to the target in a NumPy array.\n",
        "\n",
        "    Args:\n",
        "        target: The value to find the closest match for.\n",
        "        arr: The NumPy array to search.\n",
        "\n",
        "    Returns:\n",
        "        The index of the closest value in the array.\n",
        "    \"\"\"\n",
        "    distances = np.abs(arr - target)\n",
        "    closest_index = np.argmin(distances)\n",
        "    return closest_index"
      ],
      "metadata": {
        "id": "ZTbcD7tiLr8-"
      },
      "execution_count": null,
      "outputs": []
    },
    {
      "cell_type": "code",
      "source": [
        "found_items = []\n",
        "found_labels = []\n",
        "\n",
        "for i in tqdm(range(len(input_train_label_timestamp)), total = len(input_train_label_timestamp)):\n",
        "  for j in range(len(input_train_label_timestamp[i])):\n",
        "    time_stamp = input_train_label_timestamp[i][j]\n",
        "    found_index = find_closest_index(time_stamp, input_train_list_time_stamp[i])\n",
        "    if (len(input_train_list_time_stamp[i]) - found_index) < 1750:\n",
        "      print('warning index too low', found_index)\n",
        "      continue\n",
        "    found_items.append(input_train_list[i][found_index:found_index+1750])\n",
        "    found_labels.append(input_train_label[i][j])"
      ],
      "metadata": {
        "colab": {
          "base_uri": "https://localhost:8080/",
          "referenced_widgets": [
            "dd7a1e618d4f4d06be128996f711356b",
            "5786ca2c230f468aab09b70837d41374",
            "341717fa8c0740fa996d4fff2a7397e1",
            "43e3ba1311b3437aa4e80dbfc4924e2c",
            "0c4afb8114b442fdb83ded35c4871aff",
            "8adba4bbc32f4e39904e86722dbdf747",
            "4ee704c8bc8046659d9fea282d6bf15e",
            "7ead29b3d31f4489998e6868f818727a",
            "731d60b968634fa6b9a52ddedd3b6717",
            "6d7445eb0ccc4a81bc9e9bedf78daaad",
            "08436ea413514315bfce473e71485f9f"
          ]
        },
        "id": "gmGK5xzJKpPq",
        "outputId": "13db1046-1e56-4f1f-d90b-589829ca8cd2"
      },
      "execution_count": null,
      "outputs": [
        {
          "output_type": "display_data",
          "data": {
            "text/plain": [
              "  0%|          | 0/191 [00:00<?, ?it/s]"
            ],
            "application/vnd.jupyter.widget-view+json": {
              "version_major": 2,
              "version_minor": 0,
              "model_id": "dd7a1e618d4f4d06be128996f711356b"
            }
          },
          "metadata": {}
        },
        {
          "output_type": "stream",
          "name": "stdout",
          "text": [
            "warning index too low 52225\n",
            "warning index too low 53562\n",
            "warning index too low 44591\n",
            "warning index too low 54822\n",
            "warning index too low 54649\n",
            "warning index too low 54489\n",
            "warning index too low 54780\n",
            "warning index too low 54699\n",
            "warning index too low 54809\n",
            "warning index too low 55507\n",
            "warning index too low 54317\n",
            "warning index too low 54421\n",
            "warning index too low 54515\n",
            "warning index too low 54253\n",
            "warning index too low 54203\n",
            "warning index too low 54462\n",
            "warning index too low 54554\n",
            "warning index too low 54752\n",
            "warning index too low 54786\n",
            "warning index too low 54619\n",
            "warning index too low 54835\n",
            "warning index too low 54135\n",
            "warning index too low 54451\n",
            "warning index too low 54867\n",
            "warning index too low 54618\n",
            "warning index too low 54602\n",
            "warning index too low 54376\n",
            "warning index too low 54551\n",
            "warning index too low 54287\n",
            "warning index too low 54653\n",
            "warning index too low 54052\n",
            "warning index too low 54969\n",
            "warning index too low 54193\n",
            "warning index too low 54798\n",
            "warning index too low 54783\n",
            "warning index too low 54709\n"
          ]
        }
      ]
    },
    {
      "cell_type": "code",
      "source": [
        "found_labels_np = np.array(found_labels)"
      ],
      "metadata": {
        "id": "fKzvOkrVsjBm"
      },
      "execution_count": null,
      "outputs": []
    },
    {
      "cell_type": "code",
      "source": [
        "input_test_np = np.array(input_test)"
      ],
      "metadata": {
        "id": "YaatXOqSwZ8r"
      },
      "execution_count": null,
      "outputs": []
    },
    {
      "cell_type": "code",
      "source": [
        "input_test_np.shape"
      ],
      "metadata": {
        "colab": {
          "base_uri": "https://localhost:8080/"
        },
        "id": "_akV7YZrwcQY",
        "outputId": "e22e031a-4ac5-4b8a-8c92-6e58029515b1"
      },
      "execution_count": null,
      "outputs": [
        {
          "output_type": "execute_result",
          "data": {
            "text/plain": [
              "(480, 1750, 17)"
            ]
          },
          "metadata": {},
          "execution_count": 14
        }
      ]
    },
    {
      "cell_type": "code",
      "source": [
        "found_labels_np.shape"
      ],
      "metadata": {
        "colab": {
          "base_uri": "https://localhost:8080/"
        },
        "id": "t0RFgXlusk5M",
        "outputId": "e994b5d9-b44f-4ae4-e3bb-d7ec3cfd6bb1"
      },
      "execution_count": null,
      "outputs": [
        {
          "output_type": "execute_result",
          "data": {
            "text/plain": [
              "(5718, 1)"
            ]
          },
          "metadata": {},
          "execution_count": 15
        }
      ]
    },
    {
      "cell_type": "code",
      "source": [
        "dataset_np = np.array(found_items)"
      ],
      "metadata": {
        "id": "3-Z7U3tvTJcX"
      },
      "execution_count": null,
      "outputs": []
    },
    {
      "cell_type": "markdown",
      "source": [
        "## Preprocess Dataset"
      ],
      "metadata": {
        "id": "M81C-Nq0JZbQ"
      }
    },
    {
      "cell_type": "code",
      "source": [
        "\"\"\"เอามาจาก https://stackoverflow.com/questions/12093594/how-to-implement-band-pass-butterworth-filter-with-scipy-signal-butter\"\"\"\n",
        "def butter_bandpass(lowcut, highcut, fs, order=5):\n",
        "   nyq = 0.5 * fs\n",
        "   low = lowcut / nyq\n",
        "   high = highcut / nyq\n",
        "   b, a = butter(order, [low, high], btype='band')\n",
        "   return b, a\n",
        "\n",
        "def butter_bandpass_filter(data, lowcut, highcut, fs, order=5):\n",
        "   b, a = butter_bandpass(lowcut, highcut, fs, order=order)\n",
        "   y = filtfilt(b, a, data)\n",
        "   return y"
      ],
      "metadata": {
        "id": "3ba6QSowcqdc"
      },
      "execution_count": null,
      "outputs": []
    },
    {
      "cell_type": "code",
      "source": [
        "dataset_np = np.array(dataset_np)\n",
        "dataset_np_filtered = np.zeros(dataset_np.shape)\n",
        "for i in tqdm(range(len(dataset_np)), total = len(dataset_np)):\n",
        "  sample = dataset_np[i]\n",
        "  for j in range(sample.shape[1]):\n",
        "    sample_channel = sample[:,j]\n",
        "    dataset_np_filtered[i,:,j] = butter_bandpass_filter(sample_channel, 3, 40, 250)"
      ],
      "metadata": {
        "colab": {
          "base_uri": "https://localhost:8080/",
          "referenced_widgets": [
            "f67c8d823d254d97b25750ac5db0ed52",
            "c1cd0d33a2044455b4c9629d464d2f31",
            "cff322ffa9ed43a1bbfafe0265b6db6b",
            "6035cc9581ae44048464f0ed7ffa7c0c",
            "e1a94bff7b4e461ab77e6082595920fc",
            "246c38fa31d940b988d24b273a11d1de",
            "e83c929c763f4c859450d65bcf9f0939",
            "0d7db0ee1673483a8da10040d29eb05e",
            "7c5cc170b19e43099d12869540146f74",
            "704635ad8ffc4477a15e13c6eb4f56e2",
            "81fa7d1fc32a4bb3b1347d0812d8f6ea"
          ]
        },
        "id": "sA1riTT5TQ3H",
        "outputId": "b0441381-7440-4ac3-a15d-e26f51cf6acb"
      },
      "execution_count": null,
      "outputs": [
        {
          "output_type": "display_data",
          "data": {
            "text/plain": [
              "  0%|          | 0/5718 [00:00<?, ?it/s]"
            ],
            "application/vnd.jupyter.widget-view+json": {
              "version_major": 2,
              "version_minor": 0,
              "model_id": "f67c8d823d254d97b25750ac5db0ed52"
            }
          },
          "metadata": {}
        }
      ]
    },
    {
      "cell_type": "code",
      "source": [
        "input_test_np = np.array(input_test_np)\n",
        "dataset_np_test_filtered = np.zeros(input_test_np.shape)\n",
        "for i in tqdm(range(len(input_test_np)), total = len(input_test_np)):\n",
        "  sample = input_test_np[i]\n",
        "  for j in range(sample.shape[1]):\n",
        "    sample_channel = sample[:,j]\n",
        "    dataset_np_test_filtered[i,:,j] = butter_bandpass_filter(sample_channel, 3, 40, 250)"
      ],
      "metadata": {
        "colab": {
          "base_uri": "https://localhost:8080/",
          "referenced_widgets": [
            "43c600ebf58a4d178b00faf30478ccd3",
            "bfb2672886a940d488c708e4551fab2e",
            "ce652e064b234a3992e7065b996bda4e",
            "94c5cbfd01bd4b34ae3bf99429e502c1",
            "33b46bcee39d40bdaa40666e1391d66c",
            "cc4cf07d03f940d4a8b5d0777b127f55",
            "46ed7e1d6efc4fce9e74f09d279c37c0",
            "7f6201be06fa4942847823bb52e17619",
            "0f144dedaa0f468dbef9120e9e89b5de",
            "9bf894be6c6242f0bc0bcb48a18459c4",
            "8b48940b9ee546cfb70442a48a5f7cf8"
          ]
        },
        "id": "kJwfWnIvxBH3",
        "outputId": "84ba271d-90e4-494c-9de3-37f668c959f6"
      },
      "execution_count": null,
      "outputs": [
        {
          "output_type": "display_data",
          "data": {
            "text/plain": [
              "  0%|          | 0/480 [00:00<?, ?it/s]"
            ],
            "application/vnd.jupyter.widget-view+json": {
              "version_major": 2,
              "version_minor": 0,
              "model_id": "43c600ebf58a4d178b00faf30478ccd3"
            }
          },
          "metadata": {}
        }
      ]
    },
    {
      "cell_type": "code",
      "source": [
        "dataset_np_filtered.shape"
      ],
      "metadata": {
        "colab": {
          "base_uri": "https://localhost:8080/"
        },
        "id": "3NDfjVNAaB54",
        "outputId": "a6a8e376-5513-40aa-8ceb-85360b5b6c68"
      },
      "execution_count": null,
      "outputs": [
        {
          "output_type": "execute_result",
          "data": {
            "text/plain": [
              "(5718, 1750, 17)"
            ]
          },
          "metadata": {},
          "execution_count": 20
        }
      ]
    },
    {
      "cell_type": "markdown",
      "source": [
        "## Pytorch Step"
      ],
      "metadata": {
        "id": "QS9lthHsL7ky"
      }
    },
    {
      "cell_type": "code",
      "source": [
        "import torch.nn as nn\n",
        "import torch\n",
        "datset_torch_test_filtered = torch.Tensor(dataset_np_test_filtered).permute((0,2,1))"
      ],
      "metadata": {
        "id": "ZyIdH2veT_l0"
      },
      "execution_count": null,
      "outputs": []
    },
    {
      "cell_type": "code",
      "source": [
        "datset_torch_filtered = torch.Tensor(dataset_np_filtered).permute((0,2,1))"
      ],
      "metadata": {
        "id": "ljAKQtWVhg6p"
      },
      "execution_count": null,
      "outputs": []
    },
    {
      "cell_type": "code",
      "source": [
        "class BrainDataset(Dataset):\n",
        "    def __init__(self, data, labels):\n",
        "        self.data = data\n",
        "        self.labels = labels\n",
        "\n",
        "    def __len__(self):\n",
        "        return len(self.data)\n",
        "\n",
        "    def __getitem__(self, index):\n",
        "        return self.data[index], self.labels[index]\n",
        "\n",
        "# Data Preparation\n",
        "# Make sure found_labels_np is a PyTorch tensor\n",
        "found_labels_torch = torch.from_numpy(found_labels_np).long()\n",
        "\n",
        "# Convert unordered labels to ordered classes\n",
        "unique_labels = torch.unique(found_labels_torch)\n",
        "label_map = {label.item(): i for i, label in enumerate(unique_labels)}\n",
        "ordered_labels = torch.tensor([label_map[label.item()] for label in found_labels_torch])\n",
        "\n",
        "# Create Dataset and DataLoader\n",
        "torch_dataset = BrainDataset(datset_torch_filtered, ordered_labels)\n",
        "\n",
        "\"\"\"จริงๆไม่ควร Split แบบนี้ ควร Split แบบ Subject-independent (train กับ validate เป็นคนล่ะคนกัน) มากกว่า\"\"\"\n",
        "train_size = int(0.9 * len(torch_dataset))\n",
        "test_size = len(torch_dataset) - train_size\n",
        "generator1 = torch.Generator().manual_seed(42)\n",
        "train_dataset, val_dataset = torch.utils.data.random_split(torch_dataset, [train_size, test_size], generator = generator1)\n",
        "\n",
        "train_loader = DataLoader(train_dataset, batch_size=32, shuffle=True)\n",
        "val_loader = DataLoader(val_dataset, batch_size=32, shuffle=True)"
      ],
      "metadata": {
        "id": "Of7vJBFgqYUp"
      },
      "execution_count": null,
      "outputs": []
    },
    {
      "cell_type": "code",
      "source": [
        "class LitModel(pl.LightningModule):\n",
        "    def __init__(self, learning_rate=1e-3):\n",
        "        super().__init__()\n",
        "        # self.model = EEGBBNet()\n",
        "        # self.model = Deep4Net(8, 3, n_times=1750, drop_prob=0.5, filter_length_2=5, filter_length_3=5, filter_length_4=5)\n",
        "        # self.model = Deep4Net(8, 3, n_times=1750)\n",
        "        # self.model = EEGNetv4(8, 3, n_times=1750)\n",
        "        \"\"\"\n",
        "          ตลกร้ายคือ 17 Channel ให้ผล Private ดีกว่า 8 Channel แต่ Public แย่กว่ามาก\n",
        "          เดาว่าโมเดลน่าจะเผลอไป Overfit กับค่าอะไรบางอย่าง คะแนนเลยแกว่งมาก\"\"\"\n",
        "        \"\"\"\n",
        "          อีกเรื่องที่แปลกคือวิธีนี้ลองแทบทุกโมลเดลใน braindecode แล้วไม่เวิร์ค มีแค่ ShallowFBSCPNet ที่ผลออกมาดี\n",
        "          ShallowFBSCPNet มีคำว่า FBSCP อยู่ในชื่อ แต่จากการอ่าน Paper + แกะโค้ดไม่พบ FBSCP อยู่ในนั้น เป็นแค่ CNN2D แบบนึงเฉยๆ\n",
        "        \"\"\"\n",
        "        self.model = ShallowFBCSPNet(\n",
        "            n_chans=17,\n",
        "            n_times=1750,\n",
        "            n_outputs=3,\n",
        "            final_conv_length='auto',\n",
        "            # drop_prob=0.7,\n",
        "        )\n",
        "        self.learning_rate = learning_rate\n",
        "        self.loss = torch.nn.CrossEntropyLoss()\n",
        "        self.val_acc = torchmetrics.Accuracy(task=\"multiclass\", num_classes=3) # metric for validation\n",
        "        self.train_acc = torchmetrics.Accuracy(task=\"multiclass\", num_classes=3) # metric for validation\n",
        "\n",
        "    def forward(self, data):\n",
        "        return self.model(data)\n",
        "\n",
        "    def training_step(self, batch, batch_idx):\n",
        "        data, targets = batch\n",
        "        output = self.model(data.to(self.device))\n",
        "        loss = self.loss(output, targets.to(self.device))  # Use CrossEntropyLoss\n",
        "        self.log(\"train_loss\", loss, prog_bar=True)\n",
        "        preds = torch.argmax(output, dim=1)\n",
        "        self.train_acc.update(preds, targets.to(self.device))\n",
        "        return loss\n",
        "\n",
        "    def validation_step(self, batch, batch_idx):\n",
        "        data, targets = batch\n",
        "        output = self.model(data.to(self.device))\n",
        "        loss = self.loss(output, targets.to(self.device))  # Use CrossEntropyLoss\n",
        "        self.log(\"val_loss\", loss, prog_bar=True)\n",
        "        preds = torch.argmax(output, dim=1)\n",
        "        self.val_acc.update(preds, targets.to(self.device))\n",
        "\n",
        "    def on_validation_epoch_end(self):\n",
        "        self.log('valid_acc_epoch', self.val_acc.compute(), prog_bar=True)\n",
        "        self.val_acc.reset()\n",
        "\n",
        "    def on_train_epoch_end(self):\n",
        "        self.log('train_acc_epoch', self.train_acc.compute(), prog_bar=True)\n",
        "        self.train_acc.reset()\n",
        "\n",
        "    def configure_optimizers(self):\n",
        "        optimizer = torch.optim.Adam(self.parameters(), lr=self.learning_rate)\n",
        "        return optimizer\n",
        "\n",
        "    def train_dataloader(self):\n",
        "        return train_loader\n",
        "\n",
        "    def val_dataloader(self):\n",
        "        return val_loader\n",
        "\n",
        "# --- Training Setup ---\n",
        "\n",
        "# Create the Lightning Module\n",
        "lit_model = LitModel()\n",
        "\n",
        "# Callbacks (Early Stopping & Model Checkpointing)\n",
        "# early_stopping = EarlyStopping(monitor=\"val_loss\", patience=3)\n",
        "checkpoint_callback = ModelCheckpoint(monitor=\"val_loss\", save_top_k=1)\n",
        "\n",
        "# Trainer\n",
        "\"\"\"จริงๆควร Set Seed ด้วย ผลจะได้เหมือนเดิมทุกครั้ง แต่ตอนที่ทำ Baseline ไม่ได้ทำไว้\"\"\"\n",
        "trainer = pl.Trainer(\n",
        "    max_epochs=60,\n",
        "    # callbacks=[early_stopping, checkpoint_callback],\n",
        "    callbacks=[checkpoint_callback],\n",
        "    accelerator='auto', # Use GPU if available\n",
        "    devices='auto',\n",
        "    deterministic=True\n",
        ")"
      ],
      "metadata": {
        "colab": {
          "base_uri": "https://localhost:8080/"
        },
        "id": "-4IkRSGwkZRL",
        "outputId": "fc0452db-4fb8-49f7-8019-00d17bb75498"
      },
      "execution_count": null,
      "outputs": [
        {
          "output_type": "stream",
          "name": "stderr",
          "text": [
            "/usr/local/lib/python3.10/dist-packages/braindecode/models/base.py:180: UserWarning: LogSoftmax final layer will be removed! Please adjust your loss function accordingly (e.g. CrossEntropyLoss)!\n",
            "  warnings.warn(\"LogSoftmax final layer will be removed! \" +\n",
            "INFO:pytorch_lightning.utilities.rank_zero:GPU available: True (cuda), used: True\n",
            "INFO:pytorch_lightning.utilities.rank_zero:TPU available: False, using: 0 TPU cores\n",
            "INFO:pytorch_lightning.utilities.rank_zero:IPU available: False, using: 0 IPUs\n",
            "INFO:pytorch_lightning.utilities.rank_zero:HPU available: False, using: 0 HPUs\n"
          ]
        }
      ]
    },
    {
      "cell_type": "code",
      "source": [
        "trainer.fit(lit_model)"
      ],
      "metadata": {
        "colab": {
          "base_uri": "https://localhost:8080/",
          "referenced_widgets": [
            "6d3e75f059714e0d9f8d3589b5f5a231",
            "b5b3a65d394741b7aa4198d46c8faca3",
            "32eadd0620344a7a8581f3311c3480ba",
            "d0634879b56d4c2ca94f4331d50014c3",
            "b71efa095ee4481ead8fa96f4ef476d4",
            "1d8f7e7620a14d0281b8477f7958087d",
            "004cf855b0534503ae1aedc612eccde6",
            "892a261f60f3407ca6aa4fb458cdcbd3",
            "bb3884eff462464389be01d3dd80e61b",
            "876d57eeda634df7b31ddda8eb85caa4",
            "254fa2ca079e4b10a80e1e166f081ed5",
            "6f96861774ed4cb2a4a5f3883f0593ae",
            "892e8f56cdd74b3087c1ee14033714a7",
            "1a493cf250a64a75929b03766c61634d",
            "d14abbf76e9f47a5962791b5872e1529",
            "84cf60e198e44bef9acdb1ab2cd715ee",
            "7894bdb2c12349c58372caed36b08a2a",
            "3d018517c1544c39a6c29840ccf9cace",
            "f952db1a65b749d9812f88803030d1f3",
            "a391b6d90e254026ab20e1a3bcc1e1f7",
            "e756996d196e4dbb903368429deb48ff",
            "72cc95cf2da2475cb324e8407c9aa1b4",
            "a9dbe833bbb94633b1ae977e43635280",
            "ce433fb3474f447bb1b01f07147f13ca",
            "6ebca15a83c040c39cc4fca1de670873",
            "3e5ab3b663274ddaa32fe2e7dde1cccc",
            "8188f6e2335d459bb09920d8fff99e77",
            "0ed8c82d446e415c96ddbc396e205051",
            "e0bc833a62854df5b64239111ffbb7e3",
            "4b046080e45445bf8603c4cc595503bd",
            "dba875d92aeb418d94efb76e28cb01a6",
            "5f9da4a951b2453497e40e1b3b1d2be9",
            "0369717e412e4194bffce517c08498f7",
            "bb6d37690325449faf0cf5002c1a3bb4",
            "66039fd702cc44bc84256605018f2271",
            "bd6f135747504504ae637e2be4e512b9",
            "8e4d07ab3e494846be89b01b9f975392",
            "3e542ddfed4d4aac888f41a50e0a099e",
            "a8930c0047a9488d9700e05b87516960",
            "459cb8276b6b478f86f1d155cd6f47f4",
            "33c802e761de4679b729c8224c9584c9",
            "d7938b5203084096ab56cc6b89dc7c33",
            "aca5607d0dfa4232b8be6154b83fb1ec",
            "295dea12d1ba4f1aab686a31f4d114b7"
          ]
        },
        "id": "R2SQ-Cdgt3_o",
        "outputId": "ff157d52-c58f-4f9c-f61e-b1a0ebc0f793"
      },
      "execution_count": null,
      "outputs": [
        {
          "output_type": "stream",
          "name": "stderr",
          "text": [
            "INFO:pytorch_lightning.accelerators.cuda:LOCAL_RANK: 0 - CUDA_VISIBLE_DEVICES: [0]\n",
            "INFO:pytorch_lightning.callbacks.model_summary:\n",
            "  | Name      | Type               | Params\n",
            "-------------------------------------------------\n",
            "0 | model     | ShallowFBCSPNet    | 41.6 K\n",
            "1 | loss      | CrossEntropyLoss   | 0     \n",
            "2 | val_acc   | MulticlassAccuracy | 0     \n",
            "3 | train_acc | MulticlassAccuracy | 0     \n",
            "-------------------------------------------------\n",
            "41.6 K    Trainable params\n",
            "0         Non-trainable params\n",
            "41.6 K    Total params\n",
            "0.167     Total estimated model params size (MB)\n"
          ]
        },
        {
          "output_type": "display_data",
          "data": {
            "text/plain": [
              "Sanity Checking: |          | 0/? [00:00<?, ?it/s]"
            ],
            "application/vnd.jupyter.widget-view+json": {
              "version_major": 2,
              "version_minor": 0,
              "model_id": "6d3e75f059714e0d9f8d3589b5f5a231"
            }
          },
          "metadata": {}
        },
        {
          "output_type": "stream",
          "name": "stderr",
          "text": [
            "/usr/local/lib/python3.10/dist-packages/pytorch_lightning/trainer/connectors/data_connector.py:492: Your `val_dataloader`'s sampler has shuffling enabled, it is strongly recommended that you turn shuffling off for val/test dataloaders.\n",
            "/usr/local/lib/python3.10/dist-packages/pytorch_lightning/trainer/connectors/data_connector.py:441: The 'val_dataloader' does not have many workers which may be a bottleneck. Consider increasing the value of the `num_workers` argument` to `num_workers=7` in the `DataLoader` to improve performance.\n",
            "/usr/local/lib/python3.10/dist-packages/braindecode/models/modules.py:356: UserWarning: Plan failed with a cudnnException: CUDNN_BACKEND_EXECUTION_PLAN_DESCRIPTOR: cudnnFinalize Descriptor Failed cudnn_status: CUDNN_STATUS_NOT_SUPPORTED (Triggered internally at ../aten/src/ATen/native/cudnn/Conv_v8.cpp:919.)\n",
            "  return F.conv2d(\n",
            "/usr/local/lib/python3.10/dist-packages/pytorch_lightning/trainer/connectors/data_connector.py:441: The 'train_dataloader' does not have many workers which may be a bottleneck. Consider increasing the value of the `num_workers` argument` to `num_workers=7` in the `DataLoader` to improve performance.\n"
          ]
        },
        {
          "output_type": "display_data",
          "data": {
            "text/plain": [
              "Training: |          | 0/? [00:00<?, ?it/s]"
            ],
            "application/vnd.jupyter.widget-view+json": {
              "version_major": 2,
              "version_minor": 0,
              "model_id": "6f96861774ed4cb2a4a5f3883f0593ae"
            }
          },
          "metadata": {}
        },
        {
          "output_type": "stream",
          "name": "stderr",
          "text": [
            "/usr/local/lib/python3.10/dist-packages/torch/autograd/graph.py:744: UserWarning: Plan failed with a cudnnException: CUDNN_BACKEND_EXECUTION_PLAN_DESCRIPTOR: cudnnFinalize Descriptor Failed cudnn_status: CUDNN_STATUS_NOT_SUPPORTED (Triggered internally at ../aten/src/ATen/native/cudnn/Conv_v8.cpp:919.)\n",
            "  return Variable._execution_engine.run_backward(  # Calls into the C++ engine to run the backward pass\n"
          ]
        },
        {
          "output_type": "display_data",
          "data": {
            "text/plain": [
              "Validation: |          | 0/? [00:00<?, ?it/s]"
            ],
            "application/vnd.jupyter.widget-view+json": {
              "version_major": 2,
              "version_minor": 0,
              "model_id": "a9dbe833bbb94633b1ae977e43635280"
            }
          },
          "metadata": {}
        }
      ]
    },
    {
      "cell_type": "markdown",
      "source": [
        "## Run Prediction"
      ],
      "metadata": {
        "id": "9pUGBbyXLOVO"
      }
    },
    {
      "cell_type": "code",
      "source": [
        "lit_model.cuda()\n",
        "outputs = []\n",
        "with torch.no_grad():\n",
        "  for i in range(len(datset_torch_test_filtered)):\n",
        "    output = lit_model.model(datset_torch_test_filtered[i][None].cuda())\n",
        "    outputs.append(output)\n",
        "lit_model.cpu()"
      ],
      "metadata": {
        "id": "fYr67_5KujxG"
      },
      "execution_count": null,
      "outputs": []
    },
    {
      "cell_type": "code",
      "source": [
        "mapper = {\n",
        "    0: '110',\n",
        "    1: '120',\n",
        "    2: '150',\n",
        "}\n",
        "outputs_text = []\n",
        "for output in outputs:\n",
        "  outputs_text.append(mapper[np.argmax(output.detach().cpu().numpy())])"
      ],
      "metadata": {
        "id": "TaqQ3vCrxYTC"
      },
      "execution_count": null,
      "outputs": []
    },
    {
      "cell_type": "code",
      "source": [
        "df_submission_check = pd.DataFrame({\n",
        "    \"id\": intpu_test_file_names,\n",
        "    \"predict\": outputs_text\n",
        "})"
      ],
      "metadata": {
        "id": "s9MuxkXRyixP"
      },
      "execution_count": null,
      "outputs": []
    },
    {
      "cell_type": "code",
      "source": [
        "import pandas as pd\n",
        "submission_df = pd.read_csv('/content/sample_submission.csv')"
      ],
      "metadata": {
        "id": "FMcwJARAxZVq"
      },
      "execution_count": null,
      "outputs": []
    },
    {
      "cell_type": "code",
      "source": [
        "submission_df"
      ],
      "metadata": {
        "id": "Pntp5qniyoqU"
      },
      "execution_count": null,
      "outputs": []
    },
    {
      "cell_type": "code",
      "source": [
        "submission_df_fixed = submission_df.merge(df_submission_check, on ='id')[['id', 'predict_y']].rename(columns={'predict_y': 'predict'})"
      ],
      "metadata": {
        "id": "Xd-XXFvkxq6r"
      },
      "execution_count": null,
      "outputs": []
    },
    {
      "cell_type": "code",
      "source": [
        "submission_df_fixed['predict'].value_counts()"
      ],
      "metadata": {
        "id": "xOmXt3-OzQAI"
      },
      "execution_count": null,
      "outputs": []
    },
    {
      "cell_type": "code",
      "source": [
        "submission_df_fixed.to_csv('submission_df_fixed.csv', index = False)"
      ],
      "metadata": {
        "id": "t8Ld90uOxrN3"
      },
      "execution_count": null,
      "outputs": []
    },
    {
      "cell_type": "code",
      "source": [],
      "metadata": {
        "id": "yNusTOgYLH6d"
      },
      "execution_count": null,
      "outputs": []
    }
  ]
}