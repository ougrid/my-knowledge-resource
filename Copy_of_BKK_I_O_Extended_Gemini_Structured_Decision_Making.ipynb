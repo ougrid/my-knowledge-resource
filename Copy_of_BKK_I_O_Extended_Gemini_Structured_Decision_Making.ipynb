{
  "nbformat": 4,
  "nbformat_minor": 0,
  "metadata": {
    "colab": {
      "provenance": [],
      "include_colab_link": true
    },
    "kernelspec": {
      "name": "python3",
      "display_name": "Python 3"
    },
    "language_info": {
      "name": "python"
    }
  },
  "cells": [
    {
      "cell_type": "markdown",
      "metadata": {
        "id": "view-in-github",
        "colab_type": "text"
      },
      "source": [
        "<a href=\"https://colab.research.google.com/github/ougrid/my-knowledge-resource/blob/master/Copy_of_BKK_I_O_Extended_Gemini_Structured_Decision_Making.ipynb\" target=\"_parent\"><img src=\"https://colab.research.google.com/assets/colab-badge.svg\" alt=\"Open In Colab\"/></a>"
      ]
    },
    {
      "cell_type": "code",
      "execution_count": null,
      "metadata": {
        "id": "xQxedMc8wcVY"
      },
      "outputs": [],
      "source": [
        "!pip -q install --upgrade --user google-cloud-aiplatform"
      ]
    },
    {
      "cell_type": "code",
      "source": [
        "# Authenticate user to Google Cloud\n",
        "from google.colab import auth\n",
        "\n",
        "auth.authenticate_user()"
      ],
      "metadata": {
        "id": "oYIzsS6ew48a"
      },
      "execution_count": null,
      "outputs": []
    },
    {
      "cell_type": "code",
      "source": [
        "# Define project information\n",
        "PROJECT_ID = \"your_project_id\"  # @param {type:\"string\"}\n",
        "LOCATION = \"asia-southeast1\"  # @param {type:\"string\"}\n",
        "\n",
        "# Initialize Vertex AI\n",
        "import vertexai\n",
        "\n",
        "vertexai.init(project=PROJECT_ID, location=LOCATION)"
      ],
      "metadata": {
        "id": "_mejVIJqxAtq"
      },
      "execution_count": null,
      "outputs": []
    },
    {
      "cell_type": "markdown",
      "source": [
        "## Utils"
      ],
      "metadata": {
        "id": "3f_tbdEk8lHC"
      }
    },
    {
      "cell_type": "code",
      "source": [
        "import re\n",
        "import json\n",
        "\n",
        "def decode_thai_unicode(input_string):\n",
        "    # Regular expression to find Unicode escape sequences\n",
        "    pattern = r'\\\\([0-7]{3})'\n",
        "\n",
        "    # Function to convert octal to character\n",
        "    def octal_to_char(match):\n",
        "        return chr(int(match.group(1), 8))\n",
        "\n",
        "    # Replace all Unicode escape sequences with their corresponding characters\n",
        "    return re.sub(pattern, octal_to_char, input_string)\n"
      ],
      "metadata": {
        "id": "WBIX6KzM8mei"
      },
      "execution_count": null,
      "outputs": []
    },
    {
      "cell_type": "markdown",
      "source": [
        "## Function Calling"
      ],
      "metadata": {
        "id": "vY9Yg7t9xMFH"
      }
    },
    {
      "cell_type": "code",
      "source": [
        "import requests\n",
        "from vertexai.generative_models import (\n",
        "    Content,\n",
        "    FunctionDeclaration,\n",
        "    GenerativeModel,\n",
        "    Part,\n",
        "    Tool,\n",
        ")\n",
        "\n",
        "model = GenerativeModel(\"gemini-1.5-pro-001\")\n",
        "\n",
        "get_exchange_rate_func = FunctionDeclaration(\n",
        "    name=\"get_exchange_rate\",\n",
        "    description=\"Get the exchange rate for currencies between countries\",\n",
        "    parameters={\n",
        "    \"type\": \"object\",\n",
        "    \"properties\": {\n",
        "        \"currency_date\": {\n",
        "            \"type\": \"string\",\n",
        "            \"description\": \"A date that must always be in YYYY-MM-DD format or the value 'latest' if a time period is not specified\"\n",
        "        },\n",
        "        \"currency_from\": {\n",
        "            \"type\": \"string\",\n",
        "            \"description\": \"The currency to convert from in ISO 4217 format\"\n",
        "        },\n",
        "        \"currency_to\": {\n",
        "            \"type\": \"string\",\n",
        "            \"description\": \"The currency to convert to in ISO 4217 format\"\n",
        "        }\n",
        "    },\n",
        "         \"required\": [\n",
        "            \"currency_from\",\n",
        "            \"currency_date\",\n",
        "      ]\n",
        "  },\n",
        ")\n",
        "\n",
        "exchange_rate_tool = Tool(\n",
        "    function_declarations=[get_exchange_rate_func],\n",
        ")\n",
        "\n",
        "prompt = \"\"\"What is the exchange rate from Singapore dollars to Thai Baht?\n",
        "How much is 100 Singapore dollars worth in Thai Baht?\"\"\"\n",
        "\n",
        "response = model.generate_content(\n",
        "    prompt,\n",
        "    tools=[exchange_rate_tool],\n",
        ")\n",
        "\n",
        "response.candidates[0].content\n",
        "\n",
        "params = {}\n",
        "for key, value in response.candidates[0].content.parts[0].function_call.args.items():\n",
        "    params[key[9:]] = value\n",
        "params\n",
        "\n"
      ],
      "metadata": {
        "colab": {
          "base_uri": "https://localhost:8080/"
        },
        "id": "pZL6opJ3wf5g",
        "outputId": "0c75419e-bf90-4069-ca4f-e1dff2329aa3"
      },
      "execution_count": null,
      "outputs": [
        {
          "output_type": "execute_result",
          "data": {
            "text/plain": [
              "{'date': 'latest', 'from': 'SGD', 'to': 'THB'}"
            ]
          },
          "metadata": {},
          "execution_count": 11
        }
      ]
    },
    {
      "cell_type": "code",
      "source": [
        "import requests\n",
        "url = f\"https://api.frankfurter.app/{params['date']}\"\n",
        "api_response = requests.get(url, params=params)\n",
        "api_response.text\n",
        "\n",
        "response = model.generate_content(\n",
        "    [\n",
        "    Content(role=\"user\", parts=[\n",
        "        Part.from_text(prompt + \"\"\"Give your answer in steps with lots of detail\n",
        "            and context, including the exchange rate and date.\"\"\"),\n",
        "    ]),\n",
        "    Content(role=\"function\", parts=[\n",
        "        Part.from_dict({\n",
        "            \"function_call\": {\n",
        "                \"name\": \"get_exchange_rate\",\n",
        "            }\n",
        "        })\n",
        "    ]),\n",
        "    Content(role=\"function\", parts=[\n",
        "        Part.from_function_response(\n",
        "            name=\"get_exchange_rate\",\n",
        "            response={\n",
        "                \"content\": api_response.text,\n",
        "            }\n",
        "        )\n",
        "    ]),\n",
        "    ],\n",
        "    tools=[exchange_rate_tool],\n",
        ")\n",
        "\n",
        "\n",
        "response.candidates[0].content.parts[0].text"
      ],
      "metadata": {
        "colab": {
          "base_uri": "https://localhost:8080/",
          "height": 52
        },
        "id": "thRg0pQNfeeY",
        "outputId": "80c042e2-21ec-4dc3-eb47-ea5077552f12"
      },
      "execution_count": null,
      "outputs": [
        {
          "output_type": "execute_result",
          "data": {
            "text/plain": [
              "\"Today's date is 2024-07-12. The exchange rate from Singapore Dollars (SGD) to Thai Baht (THB) is 1 SGD = 26.921 THB. Therefore, 100 Singapore Dollars is equal to 2692.1 Thai Baht (100 x 26.921 = 2692.1). \\n\""
            ],
            "application/vnd.google.colaboratory.intrinsic+json": {
              "type": "string"
            }
          },
          "metadata": {},
          "execution_count": 12
        }
      ]
    },
    {
      "cell_type": "markdown",
      "source": [
        "## Stuctured Response"
      ],
      "metadata": {
        "id": "n9T1pKoI6HIN"
      }
    },
    {
      "cell_type": "code",
      "source": [
        "from vertexai.generative_models import (\n",
        "    FunctionDeclaration,\n",
        "    GenerativeModel,\n",
        "    GenerationConfig,\n",
        "    Tool,\n",
        ")"
      ],
      "metadata": {
        "id": "r6Riq-AQ6l7H"
      },
      "execution_count": null,
      "outputs": []
    },
    {
      "cell_type": "code",
      "source": [
        "model = GenerativeModel(\n",
        "    \"gemini-1.5-pro-001\",\n",
        "    generation_config=GenerationConfig(temperature=0),\n",
        ")"
      ],
      "metadata": {
        "id": "OJ0JhGDP68Du"
      },
      "execution_count": null,
      "outputs": []
    },
    {
      "cell_type": "code",
      "source": [
        "get_summary_params = FunctionDeclaration(\n",
        "    name=\"get_summaries\",\n",
        "    description=\"Get a summary in both English and Thai\",\n",
        "    parameters={\n",
        "        \"type\": \"object\",\n",
        "        \"properties\": {\n",
        "            \"english_summary\": {\n",
        "                \"type\": \"string\",\n",
        "                \"description\": \"summary of the content sent, in English\",\n",
        "            },\n",
        "            \"thai_summary\": {\n",
        "                \"type\": \"string\",\n",
        "                \"description\": \"summary of the content sent, in Thai\"\n",
        "            },\n",
        "            \"input_languge\": {\n",
        "                \"type\": \"string\",\n",
        "                \"description\": \"The original language that the input was in\",\n",
        "            },\n",
        "            \"similarity_score\": {\n",
        "                \"type\": \"number\",\n",
        "                \"description\": \"a score between 0-1 for how similar the english summary and Thai summary are\",\n",
        "            },\n",
        "        },\n",
        "        \"required\": [\n",
        "                        \"english_summary\",\n",
        "                        \"thai_summary\",\n",
        "                        \"input_languge\",\n",
        "                        \"similarity_score\"\n",
        "                    ],\n",
        "    },\n",
        ")\n",
        "\n",
        "destination_tool = Tool(\n",
        "    function_declarations=[get_summary_params],\n",
        ")"
      ],
      "metadata": {
        "id": "6KbQDpug6LA9"
      },
      "execution_count": null,
      "outputs": []
    },
    {
      "cell_type": "code",
      "source": [
        "INPUT_ARTICLE = \"\"\"A Castro Valley resident was charged Thursday for allegedly slashing the tires of 17 Waymo robotaxis in San Francisco between June 24 and June 26, according to the city’s district attorney.\n",
        "\n",
        "Prosecutors say the tire slashings were captured by cameras installed on the exterior of Waymo’s robotaxis. This is the latest incident of Waymo vandalism in the Bay Area, where some residents have expressed frustration with the autonomous vehicles.\n",
        "\n",
        "San Francisco has a history of revolting against robotaxis more broadly. In February, a crowd of people in the city’s Chinatown neighborhood committed another act of robotaxi vandalism by setting a Waymo vehicle on fire. Roughly a year ago, other robotaxi haters placed traffic cones on top of autonomous vehicles, a hack that disabled the vehicles.\n",
        "\n",
        "This time around, Waymo’s technology seems to have caught one of these alleged crimes on video. In an email to TechCrunch, Waymo said the San Francisco Police Department reviewed footage from the Waymo vehicles’ exterior cameras in order to identify the suspect.\n",
        "\n",
        "“We can confirm that charges have been brought against the individual who aggressively vandalized a number of Waymo vehicles, some with riders present,” said Waymo spokesperson Katherine Barna in an email. “Waymo is also taking steps to recover the damages sustained, and mitigate the potential for future events.”\"\"\""
      ],
      "metadata": {
        "id": "UREIi5J-7_Of"
      },
      "execution_count": null,
      "outputs": []
    },
    {
      "cell_type": "code",
      "source": [
        "response = model.generate_content(\n",
        "    INPUT_ARTICLE,\n",
        "    tools=[destination_tool],\n",
        ")\n",
        "\n",
        "response.candidates[0].function_calls"
      ],
      "metadata": {
        "colab": {
          "base_uri": "https://localhost:8080/"
        },
        "id": "nvd4OBML6ul1",
        "outputId": "b286b7ab-de26-4fdb-b261-6ee0fdba7861"
      },
      "execution_count": null,
      "outputs": [
        {
          "output_type": "execute_result",
          "data": {
            "text/plain": [
              "[name: \"get_summaries\"\n",
              " args {\n",
              "   fields {\n",
              "     key: \"english_summary\"\n",
              "     value {\n",
              "       string_value: \"A Castro Valley resident was charged with slashing the tires of 17 Waymo robotaxis in San Francisco. The incidents, which took place between June 24 and June 26, were captured by cameras installed on the vehicles. This is not the first time Waymo robotaxis have been vandalized in the Bay Area, as some residents have expressed frustration with the autonomous vehicles.\"\n",
              "     }\n",
              "   }\n",
              "   fields {\n",
              "     key: \"input_languge\"\n",
              "     value {\n",
              "       string_value: \"English\"\n",
              "     }\n",
              "   }\n",
              "   fields {\n",
              "     key: \"similarity_score\"\n",
              "     value {\n",
              "       number_value: 0.9\n",
              "     }\n",
              "   }\n",
              "   fields {\n",
              "     key: \"thai_summary\"\n",
              "     value {\n",
              "       string_value: \"\\340\\270\\212\\340\\270\\262\\340\\270\\247\\340\\271\\200\\340\\270\\241\\340\\270\\267\\340\\270\\255\\340\\270\\207\\340\\270\\204\\340\\270\\262\\340\\270\\252\\340\\271\\202\\340\\270\\225\\340\\270\\243\\340\\271\\201\\340\\270\\247\\340\\270\\245\\340\\270\\245\\340\\270\\265\\340\\270\\242\\340\\271\\214\\340\\270\\226\\340\\270\\271\\340\\270\\201\\340\\270\\225\\340\\270\\261\\340\\271\\211\\340\\270\\207\\340\\270\\202\\340\\271\\211\\340\\270\\255\\340\\270\\253\\340\\270\\262\\340\\271\\203\\340\\270\\231\\340\\270\\247\\340\\270\\261\\340\\270\\231\\340\\270\\236\\340\\270\\244\\340\\270\\253\\340\\270\\261\\340\\270\\252\\340\\270\\232\\340\\270\\224\\340\\270\\265\\340\\270\\210\\340\\270\\262\\340\\270\\201\\340\\270\\202\\340\\271\\211\\340\\270\\255\\340\\270\\201\\340\\270\\245\\340\\271\\210\\340\\270\\262\\340\\270\\247\\340\\270\\253\\340\\270\\262\\340\\271\\201\\340\\270\\227\\340\\270\\207\\340\\270\\242\\340\\270\\262\\340\\270\\207\\340\\270\\243\\340\\270\\226\\340\\271\\201\\340\\270\\227\\340\\271\\207\\340\\270\\201\\340\\270\\213\\340\\270\\265\\340\\271\\210\\340\\271\\204\\340\\270\\243\\340\\271\\211\\340\\270\\204\\340\\270\\231\\340\\270\\202\\340\\270\\261\\340\\270\\232\\340\\270\\202\\340\\270\\255\\340\\270\\207 Waymo \\340\\270\\210\\340\\270\\263\\340\\270\\231\\340\\270\\247\\340\\270\\231 17 \\340\\270\\204\\340\\270\\261\\340\\270\\231\\340\\271\\203\\340\\270\\231\\340\\270\\213\\340\\270\\262\\340\\270\\231\\340\\270\\237\\340\\270\\243\\340\\270\\262\\340\\270\\231\\340\\270\\213\\340\\270\\264\\340\\270\\252\\340\\271\\202\\340\\270\\201 \\340\\271\\200\\340\\270\\253\\340\\270\\225\\340\\270\\270\\340\\270\\201\\340\\270\\262\\340\\270\\243\\340\\270\\223\\340\\271\\214\\340\\270\\224\\340\\270\\261\\340\\270\\207\\340\\270\\201\\340\\270\\245\\340\\271\\210\\340\\270\\262\\340\\270\\247\\340\\271\\200\\340\\270\\201\\340\\270\\264\\340\\270\\224\\340\\270\\202\\340\\270\\266\\340\\271\\211\\340\\270\\231\\340\\270\\243\\340\\270\\260\\340\\270\\253\\340\\270\\247\\340\\271\\210\\340\\270\\262\\340\\270\\207\\340\\270\\247\\340\\270\\261\\340\\270\\231\\340\\270\\227\\340\\270\\265\\340\\271\\210 24 \\340\\270\\241\\340\\270\\264\\340\\270\\226\\340\\270\\270\\340\\270\\231\\340\\270\\262\\340\\270\\242\\340\\270\\231 \\340\\270\\226\\340\\270\\266\\340\\270\\207 26 \\340\\270\\241\\340\\270\\264\\340\\270\\226\\340\\270\\270\\340\\270\\231\\340\\270\\262\\340\\270\\242\\340\\270\\231 \\340\\270\\213\\340\\270\\266\\340\\271\\210\\340\\270\\207\\340\\270\\201\\340\\270\\245\\340\\271\\211\\340\\270\\255\\340\\270\\207\\340\\270\\227\\340\\270\\265\\340\\271\\210\\340\\270\\225\\340\\270\\264\\340\\270\\224\\340\\270\\225\\340\\270\\261\\340\\271\\211\\340\\270\\207\\340\\270\\232\\340\\270\\231\\340\\270\\242\\340\\270\\262\\340\\270\\231\\340\\270\\236\\340\\270\\262\\340\\270\\253\\340\\270\\231\\340\\270\\260\\340\\270\\252\\340\\270\\262\\340\\270\\241\\340\\270\\262\\340\\270\\243\\340\\270\\226\\340\\270\\232\\340\\270\\261\\340\\270\\231\\340\\270\\227\\340\\270\\266\\340\\270\\201\\340\\270\\240\\340\\270\\262\\340\\270\\236\\340\\271\\204\\340\\270\\247\\340\\271\\211\\340\\271\\204\\340\\270\\224\\340\\271\\211 \\340\\270\\231\\340\\270\\265\\340\\271\\210\\340\\271\\204\\340\\270\\241\\340\\271\\210\\340\\271\\203\\340\\270\\212\\340\\271\\210\\340\\270\\204\\340\\270\\243\\340\\270\\261\\340\\271\\211\\340\\270\\207\\340\\271\\201\\340\\270\\243\\340\\270\\201\\340\\270\\227\\340\\270\\265\\340\\271\\210\\340\\270\\243\\340\\270\\226\\340\\271\\201\\340\\270\\227\\340\\271\\207\\340\\270\\201\\340\\270\\213\\340\\270\\265\\340\\271\\210\\340\\271\\204\\340\\270\\243\\340\\271\\211\\340\\270\\204\\340\\270\\231\\340\\270\\202\\340\\270\\261\\340\\270\\232\\340\\270\\202\\340\\270\\255\\340\\270\\207 Waymo \\340\\270\\226\\340\\270\\271\\340\\270\\201\\340\\270\\227\\340\\270\\270\\340\\270\\232\\340\\270\\227\\340\\270\\263\\340\\270\\245\\340\\270\\262\\340\\270\\242\\340\\271\\203\\340\\270\\231\\340\\270\\236\\340\\270\\267\\340\\271\\211\\340\\270\\231\\340\\270\\227\\340\\270\\265\\340\\271\\210\\340\\270\\255\\340\\271\\210\\340\\270\\262\\340\\270\\247 \\340\\271\\200\\340\\270\\231\\340\\270\\267\\340\\271\\210\\340\\270\\255\\340\\270\\207\\340\\270\\210\\340\\270\\262\\340\\270\\201\\340\\270\\234\\340\\270\\271\\340\\271\\211\\340\\270\\255\\340\\270\\242\\340\\270\\271\\340\\271\\210\\340\\270\\255\\340\\270\\262\\340\\270\\250\\340\\270\\261\\340\\270\\242\\340\\270\\232\\340\\270\\262\\340\\270\\207\\340\\270\\204\\340\\270\\231\\340\\271\\201\\340\\270\\252\\340\\270\\224\\340\\270\\207\\340\\270\\204\\340\\270\\247\\340\\270\\262\\340\\270\\241\\340\\271\\204\\340\\270\\241\\340\\271\\210\\340\\270\\236\\340\\270\\255\\340\\271\\203\\340\\270\\210\\340\\270\\225\\340\\271\\210\\340\\270\\255\\340\\270\\243\\340\\270\\226\\340\\270\\242\\340\\270\\231\\340\\270\\225\\340\\271\\214\\340\\271\\204\\340\\270\\243\\340\\271\\211\\340\\270\\204\\340\\270\\231\\340\\270\\202\\340\\270\\261\\340\\270\\232\"\n",
              "     }\n",
              "   }\n",
              " }]"
            ]
          },
          "metadata": {},
          "execution_count": 25
        }
      ]
    },
    {
      "cell_type": "code",
      "source": [
        "response.candidates[0].function_calls[0].args['english_summary']"
      ],
      "metadata": {
        "colab": {
          "base_uri": "https://localhost:8080/",
          "height": 69
        },
        "id": "e3VbUsxbhNgf",
        "outputId": "1fd59b0e-09a1-4ea2-e098-043bdb50775e"
      },
      "execution_count": null,
      "outputs": [
        {
          "output_type": "execute_result",
          "data": {
            "text/plain": [
              "'A Castro Valley resident was charged with slashing the tires of 17 Waymo robotaxis in San Francisco. The incidents, which took place between June 24 and June 26, were captured by cameras installed on the vehicles. This is not the first time Waymo robotaxis have been vandalized in the Bay Area, as some residents have expressed frustration with the autonomous vehicles.'"
            ],
            "application/vnd.google.colaboratory.intrinsic+json": {
              "type": "string"
            }
          },
          "metadata": {},
          "execution_count": 29
        }
      ]
    },
    {
      "cell_type": "code",
      "source": [
        "response.candidates[0].function_calls[0].args['thai_summary']"
      ],
      "metadata": {
        "colab": {
          "base_uri": "https://localhost:8080/",
          "height": 69
        },
        "id": "kMPRebBP8w8V",
        "outputId": "d7c78c42-cb8e-4942-f2a7-50394f1a0537"
      },
      "execution_count": null,
      "outputs": [
        {
          "output_type": "execute_result",
          "data": {
            "text/plain": [
              "'ชาวเมืองคาสโตรแวลลีย์ถูกตั้งข้อหาในวันพฤหัสบดีจากข้อกล่าวหาแทงยางรถแท็กซี่ไร้คนขับของ Waymo จำนวน 17 คันในซานฟรานซิสโก เหตุการณ์ดังกล่าวเกิดขึ้นระหว่างวันที่ 24 มิถุนายน ถึง 26 มิถุนายน ซึ่งกล้องที่ติดตั้งบนยานพาหนะสามารถบันทึกภาพไว้ได้ นี่ไม่ใช่ครั้งแรกที่รถแท็กซี่ไร้คนขับของ Waymo ถูกทุบทำลายในพื้นที่อ่าว เนื่องจากผู้อยู่อาศัยบางคนแสดงความไม่พอใจต่อรถยนต์ไร้คนขับ'"
            ],
            "application/vnd.google.colaboratory.intrinsic+json": {
              "type": "string"
            }
          },
          "metadata": {},
          "execution_count": 30
        }
      ]
    },
    {
      "cell_type": "code",
      "source": [
        "decode_thai_unicode(response.candidates[0].function_calls[0].args['thai_summary'])"
      ],
      "metadata": {
        "colab": {
          "base_uri": "https://localhost:8080/",
          "height": 69
        },
        "id": "53Nir1ii8tY_",
        "outputId": "967d8a34-62aa-4b8f-bbe3-95deadae9ee5"
      },
      "execution_count": null,
      "outputs": [
        {
          "output_type": "execute_result",
          "data": {
            "text/plain": [
              "'ชาวเมืองคาสโตรแวลลีย์ถูกตั้งข้อหาในวันพฤหัสบดีจากข้อกล่าวหาแทงยางรถแท็กซี่ไร้คนขับของ Waymo จำนวน 17 คันในซานฟรานซิสโก เหตุการณ์ดังกล่าวเกิดขึ้นระหว่างวันที่ 24 มิถุนายน ถึง 26 มิถุนายน ซึ่งกล้องที่ติดตั้งบนยานพาหนะสามารถบันทึกภาพไว้ได้ นี่ไม่ใช่ครั้งแรกที่รถแท็กซี่ไร้คนขับของ Waymo ถูกทุบทำลายในพื้นที่อ่าว เนื่องจากผู้อยู่อาศัยบางคนแสดงความไม่พอใจต่อรถยนต์ไร้คนขับ'"
            ],
            "application/vnd.google.colaboratory.intrinsic+json": {
              "type": "string"
            }
          },
          "metadata": {},
          "execution_count": 31
        }
      ]
    },
    {
      "cell_type": "code",
      "source": [
        "response.candidates[0].function_calls[0].args['input_languge']"
      ],
      "metadata": {
        "colab": {
          "base_uri": "https://localhost:8080/",
          "height": 35
        },
        "id": "I6LEpkw29VCg",
        "outputId": "cdf809b5-1258-4793-b8ac-01d689668c30"
      },
      "execution_count": null,
      "outputs": [
        {
          "output_type": "execute_result",
          "data": {
            "text/plain": [
              "'English'"
            ],
            "application/vnd.google.colaboratory.intrinsic+json": {
              "type": "string"
            }
          },
          "metadata": {},
          "execution_count": 32
        }
      ]
    },
    {
      "cell_type": "code",
      "source": [
        "response.candidates[0].function_calls[0].args['similarity_score']"
      ],
      "metadata": {
        "colab": {
          "base_uri": "https://localhost:8080/"
        },
        "id": "qQs1-3YzgjQQ",
        "outputId": "6173640e-ef5d-442f-e560-9baf45482185"
      },
      "execution_count": null,
      "outputs": [
        {
          "output_type": "execute_result",
          "data": {
            "text/plain": [
              "0.9"
            ]
          },
          "metadata": {},
          "execution_count": 33
        }
      ]
    },
    {
      "cell_type": "code",
      "source": [],
      "metadata": {
        "id": "nOLjR8PlildK"
      },
      "execution_count": null,
      "outputs": []
    },
    {
      "cell_type": "markdown",
      "source": [
        "## lets put it in a function"
      ],
      "metadata": {
        "id": "qA488soKil5u"
      }
    },
    {
      "cell_type": "code",
      "source": [
        "def process_article(article, extra_instructions=\"\"):\n",
        "    response = model.generate_content(\n",
        "        extra_instructions + article,\n",
        "        tools=[destination_tool],\n",
        "    )\n",
        "    english_summary = response.candidates[0].function_calls[0].args['english_summary']\n",
        "    thai_summary = decode_thai_unicode(response.candidates[0].function_calls[0].args['thai_summary'])\n",
        "    input_languge = response.candidates[0].function_calls[0].args['input_languge']\n",
        "    similarity_score = response.candidates[0].function_calls[0].args['similarity_score']\n",
        "    processed_article = {\n",
        "        \"english_summary\": english_summary,\n",
        "        \"thai_summary\": thai_summary,\n",
        "        \"input_languge\": input_languge,\n",
        "        \"similarity_score\": similarity_score,\n",
        "    }\n",
        "    return processed_article"
      ],
      "metadata": {
        "id": "-jlfurfmha6_"
      },
      "execution_count": null,
      "outputs": []
    },
    {
      "cell_type": "code",
      "source": [
        "ARTICLE = \"\"\"In December, we launched our first natively multimodal model Gemini 1.0 in three sizes: Ultra, Pro and Nano. Just a few months later we released 1.5 Pro, with enhanced performance and a breakthrough long context window of 1 million tokens.\n",
        "\n",
        "Developers and enterprise customers have been putting 1.5 Pro to use in incredible ways and finding its long context window, multimodal reasoning capabilities and impressive overall performance incredibly useful.\n",
        "\n",
        "We know from user feedback that some applications need lower latency and a lower cost to serve. This inspired us to keep innovating, so today, we’re introducing Gemini 1.5 Flash: a model that’s lighter-weight than 1.5 Pro, and designed to be fast and efficient to serve at scale.\n",
        "\n",
        "Both 1.5 Pro and 1.5 Flash are available in public preview with a 1 million token context window in Google AI Studio and Vertex AI. And now, 1.5 Pro is also available with a 2 million token context window via waitlist to developers using the API and to Google Cloud customers.\n",
        "\n",
        "We’re also introducing updates across the Gemini family of models, announcing our next generation of open models, Gemma 2, and sharing progress on the future of AI assistants, with Project Astra.\n",
        "\n",
        "Gemini family of model updates\n",
        "The new 1.5 Flash, optimized for speed and efficiency\n",
        "1.5 Flash is the newest addition to the Gemini model family and the fastest Gemini model served in the API. It’s optimized for high-volume, high-frequency tasks at scale, is more cost-efficient to serve and features our breakthrough long context window.\n",
        "\n",
        "While it’s a lighter weight model than 1.5 Pro, it’s highly capable of multimodal reasoning across vast amounts of information and delivers impressive quality for its size.\n",
        "\n",
        "1.5 Flash excels at summarization, chat applications, image and video captioning, data extraction from long documents and tables, and more. This is because it’s been trained by 1.5 Pro through a process called “distillation,” where the most essential knowledge and skills from a larger model are transferred to a smaller, more efficient model.\n",
        "\n",
        "Read more about 1.5 Flash in our updated Gemini 1.5 technical report, on the Gemini technology page, and learn about 1.5 Flash’s availability and pricing.\n",
        "\n",
        "Significantly improving 1.5 Pro\n",
        "Over the last few months, we’ve significantly improved 1.5 Pro, our best model for general performance across a wide range of tasks.\n",
        "\n",
        "Beyond extending its context window to 2 million tokens, we’ve enhanced its code generation, logical reasoning and planning, multi-turn conversation, and audio and image understanding through data and algorithmic advances. We see strong improvements on public and internal benchmarks for each of these tasks.\n",
        "\n",
        "1.5 Pro can now follow increasingly complex and nuanced instructions, including ones that specify product-level behavior involving role, format and style. We’ve improved control over the model’s responses for specific use cases, like crafting the persona and response style of a chat agent or automating workflows through multiple function calls. And we’ve enabled users to steer model behavior by setting system instructions.\n",
        "\n",
        "We added audio understanding in the Gemini API and Google AI Studio, so 1.5 Pro can now reason across image and audio for videos uploaded in Google AI Studio. And we’re now integrating 1.5 Pro into Google products, including Gemini Advanced and in Workspace apps.\n",
        "\n",
        "Read more about 1.5 Pro in our updated Gemini 1.5 technical report and on the Gemini technology page.\n",
        "\n",
        "Gemini Nano understands multimodal inputs\n",
        "Gemini Nano is expanding beyond text-only inputs to include images as well. Starting with Pixel, applications using Gemini Nano with Multimodality will be able to understand the world the way people do — not just through text, but also through sight, sound and spoken language.\n",
        "\n",
        "Read more about Gemini 1.0 Nano on Android.\n",
        "\n",
        "Next generation of open models\n",
        "Today, we’re also sharing a series of updates to Gemma, our family of open models built from the same research and technology used to create the Gemini models.\n",
        "\n",
        "We’re announcing Gemma 2, our next generation of open models for responsible AI innovation. Gemma 2 has a new architecture designed for breakthrough performance and efficiency, and will be available in new sizes.\n",
        "\n",
        "The Gemma family is also expanding with PaliGemma, our first vision-language model inspired by PaLI-3. And we’ve upgraded our Responsible Generative AI Toolkit with LLM Comparator for evaluating the quality of model responses.\"\"\""
      ],
      "metadata": {
        "id": "L4h9WkOpriwS"
      },
      "execution_count": null,
      "outputs": []
    },
    {
      "cell_type": "code",
      "source": [
        "processed_results = process_article(ARTICLE)\n",
        "\n",
        "processed_results"
      ],
      "metadata": {
        "colab": {
          "base_uri": "https://localhost:8080/"
        },
        "id": "-M0QeB4dr4k9",
        "outputId": "5ff679d0-6b57-41bb-cd07-907192c5daca"
      },
      "execution_count": null,
      "outputs": [
        {
          "output_type": "execute_result",
          "data": {
            "text/plain": [
              "{'english_summary': 'Gemini 1.5 Flash is a new, lighter-weight model that is faster and more efficient than 1.5 Pro. 1.5 Pro has also been upgraded with a 2 million token context window and improved capabilities. The Gemini family of models is expanding with the addition of Gemini Nano with Multimodality, which can understand both text and images. Gemma 2, the next generation of open models, will be available soon with a new architecture and new sizes.',\n",
              " 'thai_summary': 'Gemini 1.5 Flash เป็นโมเดลรุ่นใหม่ที่เบากว่า เร็วกว่า และมีประสิทธิภาพมากกว่า 1.5 Pro โมเดล 1.5 Pro ได้รับการอัปเกรดด้วยหน้าต่างบริบท 2 ล้านโทเค็นและความสามารถที่ได้รับการปรับปรุง กลุ่มโมเดล Gemini กำลังขยายตัวด้วยการเพิ่ม Gemini Nano ที่มีความสามารถหลายรูปแบบ ซึ่งสามารถเข้าใจทั้งข้อความและรูปภาพ Gemma 2 ซึ่งเป็นโมเดลโอเพ่นซอร์สรุ่นต่อไป จะพร้อมใช้งานในเร็วๆ นี้ด้วยสถาปัตยกรรมใหม่และขนาดใหม่',\n",
              " 'input_languge': 'English',\n",
              " 'similarity_score': 0.9}"
            ]
          },
          "metadata": {},
          "execution_count": 43
        }
      ]
    },
    {
      "cell_type": "markdown",
      "source": [
        "## Reflection\n",
        "\n",
        "Normally would use a prompt to ask it to evaluate"
      ],
      "metadata": {
        "id": "XV9kaRIEJ0Ug"
      }
    },
    {
      "cell_type": "code",
      "source": [
        "while processed_results['similarity_score'] < 0.8:\n",
        "    print(\"Need to update the similarity\")\n",
        "    processed_results = process_article(ARTICLE, \"You need to make the similarity score higher\")\n",
        "else:\n",
        "    print(\"Similarity is good\\n\")\n",
        "    print(\"-\"*50 + \"\\n\")\n",
        "    print(processed_results['english_summary'])\n",
        "    print(\"-\"*50 + \"\\n\")\n",
        "    print(processed_results['thai_summary'])"
      ],
      "metadata": {
        "colab": {
          "base_uri": "https://localhost:8080/"
        },
        "id": "gHSnhdZHj1et",
        "outputId": "f740e795-04c1-4e39-f18a-afed92b57c5f"
      },
      "execution_count": null,
      "outputs": [
        {
          "output_type": "stream",
          "name": "stdout",
          "text": [
            "Similarity is good\n",
            "\n",
            "--------------------------------------------------\n",
            "\n",
            "Gemini 1.5 Flash is a new, lighter-weight model that is faster and more efficient than 1.5 Pro. 1.5 Pro has also been upgraded with a 2 million token context window and improved capabilities. The Gemini family of models is expanding with the addition of Gemini Nano with Multimodality, which can understand both text and images. Gemma 2, the next generation of open models, will be available soon with a new architecture and new sizes.\n",
            "--------------------------------------------------\n",
            "\n",
            "Gemini 1.5 Flash เป็นโมเดลรุ่นใหม่ที่เบากว่า เร็วกว่า และมีประสิทธิภาพมากกว่า 1.5 Pro โมเดล 1.5 Pro ได้รับการอัปเกรดด้วยหน้าต่างบริบท 2 ล้านโทเค็นและความสามารถที่ได้รับการปรับปรุง กลุ่มโมเดล Gemini กำลังขยายตัวด้วยการเพิ่ม Gemini Nano ที่มีความสามารถหลายรูปแบบ ซึ่งสามารถเข้าใจทั้งข้อความและรูปภาพ Gemma 2 ซึ่งเป็นโมเดลโอเพ่นซอร์สรุ่นต่อไป จะพร้อมใช้งานในเร็วๆ นี้ด้วยสถาปัตยกรรมใหม่และขนาดใหม่\n"
          ]
        }
      ]
    },
    {
      "cell_type": "markdown",
      "source": [
        "## From Google Translate\n",
        "\n",
        "Gemini 1.5 Flash is the next generation model that is lighter, faster, and more powerful than 1.5 Pro. The 1.5 Pro model has been upgraded with a context window of 2 million tokens and improved capabilities. The Gemini model family is expanding with Added Gemini Nano with multiple abilities. It can understand both text and images. Gemma 2 is the next generation open source model. Will be ready to use soon. This with a new architecture and new size."
      ],
      "metadata": {
        "id": "4cw2ya5nusNi"
      }
    },
    {
      "cell_type": "markdown",
      "source": [
        "## Testing with Thai"
      ],
      "metadata": {
        "id": "nIltIMQhyx4h"
      }
    },
    {
      "cell_type": "code",
      "source": [
        "ARTICLE = \"\"\"ลลิษา มโนบาล[2][3] ชื่อเดิม ปราณปรียา มโนบาล[4] (เกิด 27 มีนาคม พ.ศ. 2540) ชื่อในการแสดงว่า ลิซ่า (ฮันกึล: 리사, อังกฤษ: Lisa) เป็นแร็ปเปอร์ นักร้อง นักเต้น และนักแสดงชาวไทย เธอเป็นสมาชิกของแบล็กพิงก์ เกิร์ลกรุปเกาหลีใต้สังกัดวายจีเอนเตอร์เทนเมนต์[5]\n",
        "\n",
        "ลิซ่าเปิดตัวเป็นศิลปินเดี่ยวกับซิงเกิลอัลบั้มชื่อ ลลิษา ในเดือนกันยายน 2564 อัลบั้มเปิดตัวที่อันดับหนึ่งบนแกออนอัลบั้มชาร์ต และขายได้มากกว่า 7 แสนชุดในสัปดาห์แรก ทำให้เธอเป็นศิลปินหญิงคนแรกที่ทำได้[6] มิวสิกวิดีโอเพลงชื่อเดียวกับอัลบั้ม มีผู้ชมรวม 73.6 ล้านครั้งในวันแรกบนยูทูบ กลายเป็นมิวสิกวิดีโอที่มีผู้ชมมากที่สุดใน 24 ชั่วโมงแรกบนยูทูบโดยศิลปินเดี่ยว[7] ซิงเกิลแรกและซิงเกิลที่สองของอัลบั้ม \"ลลิษา\" และ \"มันนี\" ขึ้นถึงสิบอันดับแรกบน บิลบอร์ด โกลบอล 200 โดยเพลงหลังกลายเป็นเพลงแรกของศิลปินเดี่ยวหญิงเคป็อปที่อยู่บนชาร์ต บิลบอร์ด ฮอต 100 และชาร์ตซิงเกิลแห่งสหราชอาณาจักร ได้นานหลายสัปดาห์ นอกจากนี้ ลลิษา และ \"มันนี\" ยังกลายเป็นอัลบั้มและเพลงแรกของศิลปินเดี่ยวเคป็อปที่มียอดสตรีมถึง 1 พันล้านครั้งบนสปอติฟายด้วย\n",
        "\n",
        "ลิซ่าได้รับรางวัลมากมาย รวมถึงรางวัลมามาอะวอดส์, เซอร์เคิลชาร์ตมิวสิกอะวอดส์, เอ็มทีวีวิดีโอมิวสิกอะวอดส์ และเอ็มทีวียุโรปมิวสิกอะวอดส์ สองรางวัลหลังเธอเป็นศิลปินเดี่ยวเคป็อปคนแรกที่ได้รับรางวัลดังกล่าว เธอได้บันทึกในบันทึกสถิติโลกกินเนสส์ 8 หัวข้อ มากกว่าศิลปินเดี่ยวเคป็อปคนใด ๆ ทั้งนี้ เธอยังเป็นศิลปินเคป็อปที่มียอดผู้ติดตามมากที่สุดบนอินสตาแกรมเช่นเดียวกับศิลปินเดี่ยวเคป็อปที่มียอดผู้ติดตามมากที่สุดบนยูทูบ\n",
        "\n",
        "ชีวิตช่วงแรก\n",
        "ลิซ่าเกิดเมื่อวันที่ 27 มีนาคม พ.ศ. 2540[8] ที่จังหวัดบุรีรัมย์[9] มีชื่อเกิดว่า \"ปราณปรียา\" แต่ภายหลังเปลี่ยนเป็น \"ลลิษา\"[10] จากการทายทักของหมอดู มีความหมายว่า \"ผู้ที่ได้รับการยกย่อง\"[11][12] และมีชื่อเล่นในวัยเด็กว่า \"ป๊อกแป๊ก\", \"ลลิส\" และ \"ลิส\" ตามลำดับ[13] ลิซ่าอาศัยอยู่กับมารดาชื่อ จิตทิพย์ เป็นชาวจังหวัดบุรีรัมย์[14] และพ่อเลี้ยงชื่อ มาร์โค บรุช์ไวเลอร์ (Marco Brüschweiler) ชาวสวิส เป็นที่ปรึกษาการประกอบธุรกิจร้านอาหารและผู้เชี่ยวชาญทางด้านอาหารไทย[15][16] ลิซ่าสำเร็จการศึกษาจากโรงเรียนประภามนตรี 1 และ 2[17]\n",
        "\n",
        "เมื่ออายุสี่ขวบ ลิซ่าเริ่มหัดเต้นและลงแข่งขันในเวทีต่าง ๆ รวมถึงโครงการทูบีนัมเบอร์วัน[13] และได้เข้าร่วมทีมนักเต้น วีซาคูล (We Zaa Cool) ซึ่งต่อมาในเดือนกันยายน 2552 ทีมได้เข้าแข่งขันในรายการ แอลจีเอนเตอร์เทนเนอร์ ล้านฝันสนั่นโลก ทางช่อง 9 และได้รางวัลพิเศษประเภททีม[18] นอกจากนี้ ลิซ่ายังเป็นตัวแทนของโรงเรียนไปประกวดร้องเพลงในโครงการ 3 คุณธรรมนำไทย ซึ่งจัดโดยศูนย์คุณธรรม และได้รับรางวัลรองชนะเลิศ[17]\n",
        "\n",
        "ครั้นเมื่อเข้าสู่วัยรุ่น ลิซ่าเริ่มสนใจอุตสาหกรรมเคป็อปและอยากเป็นศิลปินเกาหลี[19] เธอยังแสดงความชื่นชมต่อบิกแบงและทูเอนีวัน และปรารถนาว่าตนอยากประสบความสำเร็จเหมือนกับวงดังกล่าว[20] ในปี 2553 วายจีเอนเตอร์เทนเมนต์มาเปิดออดิชันในประเทศไทยเป็นครั้งแรก จากผู้สมัครราวสี่พันคน ลิซ่าเป็นคนเดียวที่ผ่านการคัดเลือกและได้เข้ามาเป็นศิลปินฝึกหัดของวายจีเมื่อวันที่ 11 เมษายน 2554[21] ขณะออดิชัน เธอยังสร้างความประทับใจให้กับกรรมการชื่อ แดนนี อิม แห่งวงวันไทม์ ซึ่งภายหลังเขาออกมาชื่นชมถึงความมั่นใจบนเวทีและทัศนคติหลังเวทีของเธอ[22]\"\"\""
      ],
      "metadata": {
        "id": "9jzMfurauVn-"
      },
      "execution_count": null,
      "outputs": []
    },
    {
      "cell_type": "code",
      "source": [
        "processed_results = process_article(ARTICLE)\n",
        "\n",
        "processed_results"
      ],
      "metadata": {
        "colab": {
          "base_uri": "https://localhost:8080/"
        },
        "id": "ZeLqdztvy5d5",
        "outputId": "620dbe99-fa5d-46a8-d6c6-2b9d0fc51eb2"
      },
      "execution_count": null,
      "outputs": [
        {
          "output_type": "execute_result",
          "data": {
            "text/plain": [
              "{'english_summary': 'Lalisa Manoban, better known by her stage name Lisa, is a Thai rapper, singer, and dancer based in South Korea. She is a member of the South Korean girl group Blackpink under YG Entertainment.',\n",
              " 'thai_summary': 'ลลิษา มโนบาล หรือที่รู้จักกันในชื่อ ลิซ่า เป็นแร็ปเปอร์ นักร้อง และนักเต้นชาวไทย เธอเป็นสมาชิกของวงเกิร์ลกรุ๊ปเกาหลีใต้ แบล็กพิงก์ ภายใต้สังกัดวายจีเอนเตอร์เทนเมนต์',\n",
              " 'input_languge': 'Thai',\n",
              " 'similarity_score': 0.9}"
            ]
          },
          "metadata": {},
          "execution_count": 48
        }
      ]
    },
    {
      "cell_type": "code",
      "source": [],
      "metadata": {
        "id": "A6I-a9Liy6AM"
      },
      "execution_count": null,
      "outputs": []
    }
  ]
}