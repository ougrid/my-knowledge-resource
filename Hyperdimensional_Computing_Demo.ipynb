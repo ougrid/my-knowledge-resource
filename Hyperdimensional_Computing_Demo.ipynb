{
  "nbformat": 4,
  "nbformat_minor": 0,
  "metadata": {
    "colab": {
      "provenance": [],
      "include_colab_link": true
    },
    "kernelspec": {
      "name": "python3",
      "display_name": "Python 3"
    },
    "language_info": {
      "name": "python"
    }
  },
  "cells": [
    {
      "cell_type": "markdown",
      "metadata": {
        "id": "view-in-github",
        "colab_type": "text"
      },
      "source": [
        "<a href=\"https://colab.research.google.com/github/ougrid/my-knowledge-resource/blob/master/Hyperdimensional_Computing_Demo.ipynb\" target=\"_parent\"><img src=\"https://colab.research.google.com/assets/colab-badge.svg\" alt=\"Open In Colab\"/></a>"
      ]
    },
    {
      "cell_type": "markdown",
      "source": [
        "# Hyperdimensional Computing (HDC)"
      ],
      "metadata": {
        "id": "ULNAQzB9S_Or"
      }
    },
    {
      "cell_type": "markdown",
      "source": [
        "**Author:** Prachya Boonkwan (NECTEC, Thailand)"
      ],
      "metadata": {
        "id": "6fuNf_Ldfxql"
      }
    },
    {
      "cell_type": "markdown",
      "source": [
        "## URL --> `https://tinyurl.com/4ea28dt7`"
      ],
      "metadata": {
        "id": "x0pRH5HZgFUr"
      }
    },
    {
      "cell_type": "markdown",
      "source": [
        "## Libraries"
      ],
      "metadata": {
        "id": "GGuwmAZMTFR_"
      }
    },
    {
      "cell_type": "markdown",
      "source": [
        "We will use TorchHD for hyperdimensional computing. More information can be found in its [Github](https://github.com/hyperdimensional-computing/torchhd)."
      ],
      "metadata": {
        "id": "q1m0cTQagVt9"
      }
    },
    {
      "cell_type": "code",
      "execution_count": null,
      "metadata": {
        "id": "uHJH05-11ASv",
        "colab": {
          "base_uri": "https://localhost:8080/"
        },
        "outputId": "26281b0f-601d-43b7-e91a-6f3dc98e7551"
      },
      "outputs": [
        {
          "output_type": "stream",
          "name": "stdout",
          "text": [
            "\u001b[?25l     \u001b[90m━━━━━━━━━━━━━━━━━━━━━━━━━━━━━━━━━━━━━━━━\u001b[0m \u001b[32m0.0/345.3 kB\u001b[0m \u001b[31m?\u001b[0m eta \u001b[36m-:--:--\u001b[0m\r\u001b[2K     \u001b[91m━━━━━━━━\u001b[0m\u001b[90m╺\u001b[0m\u001b[90m━━━━━━━━━━━━━━━━━━━━━━━━━━━━━━━\u001b[0m \u001b[32m71.7/345.3 kB\u001b[0m \u001b[31m1.9 MB/s\u001b[0m eta \u001b[36m0:00:01\u001b[0m\r\u001b[2K     \u001b[90m━━━━━━━━━━━━━━━━━━━━━━━━━━━━━━━━━━━━━━━━\u001b[0m \u001b[32m345.3/345.3 kB\u001b[0m \u001b[31m5.0 MB/s\u001b[0m eta \u001b[36m0:00:00\u001b[0m\n",
            "\u001b[?25h"
          ]
        }
      ],
      "source": [
        "!pip install --quiet torch\n",
        "!pip install --quiet torch-hd"
      ]
    },
    {
      "cell_type": "code",
      "source": [
        "import torch as T\n",
        "import torchhd as H"
      ],
      "metadata": {
        "id": "IQp0infw1NYj"
      },
      "execution_count": null,
      "outputs": []
    },
    {
      "cell_type": "markdown",
      "source": [
        "## Case Study"
      ],
      "metadata": {
        "id": "hAjuxFj0TvIE"
      }
    },
    {
      "cell_type": "markdown",
      "source": [
        "We will create a HV (hypervector) representation for the following table.\n",
        "\n",
        "| Row ID | Fruits | Weights | Seasons |\n",
        "|-------:|:------:|--------:|:-------:|\n",
        "| 1      | Apple  | 149.0   | Autumn  |\n",
        "| 2      | Lemon  | 70.5    | Winter  |\n",
        "| 3      | Mango  | 173.2   | Summer  |\n",
        "\n",
        "Next, we will get access to each row and each column of the table using hyperdimensional computing."
      ],
      "metadata": {
        "id": "RHYIAa3GTyQT"
      }
    },
    {
      "cell_type": "markdown",
      "source": [
        "## Defining the Item Space"
      ],
      "metadata": {
        "id": "GZpU7JrvRu1g"
      }
    },
    {
      "cell_type": "markdown",
      "source": [
        "Let's first define the item space for representing this table.\n",
        "\n",
        "- **Fruits:** There are three symbols -- `apple`, `lemon`, and `mango`.\n",
        "- **Weight:** We quantize a weight into 10 levels with the minimum of 0 and the maximum of 200.\n",
        "- **Seasons:** There are four symbols -- `spring`, `summer`, `autumn`, and `winter`.\n",
        "\n",
        "According to their natural characteristics, each of these vector spaces will be initialized in different fashions."
      ],
      "metadata": {
        "id": "pdcJ47_MR1KT"
      }
    },
    {
      "cell_type": "markdown",
      "source": [
        "Generally, there are three common methods of HV initialization.\n",
        "\n",
        "- *Random initialization:* This method guarantees that all HVs are different from each other. Therefore, each HV is similar to nothing but itself.\n",
        "\n",
        "- *Level initialization:* This method guarantees that the similarity between two neighboring HVs changes in a constant rate.\n",
        "\n",
        "- *Circular initialization:* This method guarantees that the similarity between two neighboring HVs are periodic.\n",
        "\n",
        "<img width=\"50%\" src=\"https://torchhd.readthedocs.io/en/stable/_images/basis-hvs.png\">\n",
        "\n",
        "Here, the fruit space is initialized with the random method, the weight space with the level method, and the season space with the circular method, respectively."
      ],
      "metadata": {
        "id": "0ZrTg_3lyWOf"
      }
    },
    {
      "cell_type": "code",
      "source": [
        "dimensions = 10_000\n",
        "\n",
        "# Fruits: apple, lemon, mango\n",
        "fruits = H.random(3, dimensions)\n",
        "(apple, lemon, mango) = fruits\n",
        "fruit_symbols = ['apple', 'lemon', 'mango']\n",
        "\n",
        "# Weights: [0, 200] quantized to the scales of 10\n",
        "weights = H.embeddings.Level(10, dimensions, low=0, high=200)\n",
        "\n",
        "# Seasons: spring, summer, autumn, winter\n",
        "seasons = H.circular(4, dimensions)\n",
        "(spring, summer, autumn, winter) = seasons\n",
        "season_symbols = ['spring', 'summer', 'autumn', 'winter']"
      ],
      "metadata": {
        "id": "4sbt96O61gK6"
      },
      "execution_count": null,
      "outputs": []
    },
    {
      "cell_type": "markdown",
      "source": [
        "Moreover, we define the symbols for columns and rows as follows.\n",
        "\n",
        "- **Columns:** There are three columns.\n",
        "- **Row IDs:** We will have at most 10 rows."
      ],
      "metadata": {
        "id": "J_EjDArHSo6A"
      }
    },
    {
      "cell_type": "code",
      "source": [
        "# Columns: fruits, weights, seasons\n",
        "columns = H.random(3, dimensions)\n",
        "(col1, col2, col3) = columns\n",
        "\n",
        "# Row IDs: maximum 10 IDs\n",
        "rowids = H.random(10, dimensions)"
      ],
      "metadata": {
        "id": "iZAc5AtJSlee"
      },
      "execution_count": null,
      "outputs": []
    },
    {
      "cell_type": "markdown",
      "source": [
        "## HV Representation"
      ],
      "metadata": {
        "id": "IxDZatWgUxcN"
      }
    },
    {
      "cell_type": "markdown",
      "source": [
        "### Data Rows"
      ],
      "metadata": {
        "id": "iNfQtK83Yqbt"
      }
    },
    {
      "cell_type": "markdown",
      "source": [
        "The HV representation for each column $c_i$ and its value $v_i$ can be easily computed as follows.\n",
        "$$\n",
        "    \\mathbf{c}_i \\otimes \\mathbf{v}_i\n",
        "$$\n",
        "where $\\mathbf{c}_i$ and $\\mathbf{v}_i$ are the HVs of the column $c_i$ and value $v_i$, respectively, and $\\otimes$ is the binding operation (i.e. elementwise multiplication).\n",
        "\n",
        "Therefore, the HV representation for the $i$-th row consisting of three columns (fruit $f_i$, weight $w_i$, and season $s_i$) can be computed below:\n",
        "$$\n",
        "\\begin{eqnarray}\n",
        "    \\mathbf{r}_i & = & (\\mathbf{c}_1 \\otimes \\mathbf{f}_i) \\\\\n",
        "    &   & {} \\oplus (\\mathbf{c}_2 \\otimes \\mathbf{w}_i) \\\\\n",
        "    &   & {} \\oplus (\\mathbf{c}_3 \\otimes \\mathbf{s}_i)\n",
        "\\end{eqnarray}\n",
        "$$\n",
        "where $\\mathbf{f}_i$, $\\mathbf{w}_i$, and $\\mathbf{s}_i$ are HVs for the fruit $f_i$, weight $w_i$, and season $s_i$, respectively, and $\\oplus$ is the bundling operation (i.e. addition)."
      ],
      "metadata": {
        "id": "DEzEalJKVAm6"
      }
    },
    {
      "cell_type": "code",
      "source": [
        "def create_row(fruit, weight, season):\n",
        "    r_col1 = col1.bind(fruit)\n",
        "    r_col2 = col2.bind(weights(T.FloatTensor([149.0])))\n",
        "    r_col3 = col3.bind(season)\n",
        "    row = r_col1.bundle(r_col2).bundle(r_col3)\n",
        "    return row"
      ],
      "metadata": {
        "id": "EchljdzKJgG4"
      },
      "execution_count": null,
      "outputs": []
    },
    {
      "cell_type": "markdown",
      "source": [
        "### Table"
      ],
      "metadata": {
        "id": "NNazQ7yTYvIW"
      }
    },
    {
      "cell_type": "markdown",
      "source": [
        "Once we construct a HV representation for each row, we can compose a table out of them. First, each row has to be bound with its row ID $\\mathbf{i}_i$.\n",
        "$$\n",
        "    \\mathbf{i}_i \\otimes \\mathbf{r}_i\n",
        "$$"
      ],
      "metadata": {
        "id": "M3VnVV6AYyu2"
      }
    },
    {
      "cell_type": "code",
      "source": [
        "row1 = create_row(apple, 149.0, autumn).bind(rowids[0])\n",
        "print(f'row1 = {row1}')"
      ],
      "metadata": {
        "colab": {
          "base_uri": "https://localhost:8080/"
        },
        "id": "Ajpa5o1K41v5",
        "outputId": "b6ee7df5-572a-4805-a520-3c64fd9796a3"
      },
      "execution_count": null,
      "outputs": [
        {
          "output_type": "stream",
          "name": "stdout",
          "text": [
            "row1 = MAPTensor([[ 1.,  1.,  1.,  ...,  3., -1., -1.]])\n"
          ]
        }
      ]
    },
    {
      "cell_type": "code",
      "source": [
        "row2 = create_row(lemon, 70.5, winter).bind(rowids[1])\n",
        "print(f'row2 = {row2}')"
      ],
      "metadata": {
        "id": "8qwcDUgX5Ob3",
        "colab": {
          "base_uri": "https://localhost:8080/"
        },
        "outputId": "fd4246dd-4084-4726-85b8-ad3e3470a80d"
      },
      "execution_count": null,
      "outputs": [
        {
          "output_type": "stream",
          "name": "stdout",
          "text": [
            "row2 = MAPTensor([[-1., -1.,  3.,  ...,  1.,  3.,  1.]])\n"
          ]
        }
      ]
    },
    {
      "cell_type": "code",
      "source": [
        "row3 = create_row(mango, 173.2, summer).bind(rowids[2])\n",
        "print(f'row3 = {row3}')"
      ],
      "metadata": {
        "colab": {
          "base_uri": "https://localhost:8080/"
        },
        "id": "mD2Hj4JDODm3",
        "outputId": "839051ce-2ad8-43b7-feb8-c392467b05ac"
      },
      "execution_count": null,
      "outputs": [
        {
          "output_type": "stream",
          "name": "stdout",
          "text": [
            "row3 = MAPTensor([[-1., -1.,  1.,  ..., -1.,  1., -1.]])\n"
          ]
        }
      ]
    },
    {
      "cell_type": "markdown",
      "source": [
        "Next, a table is in fact a bundle of bound rows.\n",
        "$$\n",
        "\\begin{eqnarray}\n",
        "    \\mathbf{t} & = & \\bigoplus_{i=1}^N \\left[ \\mathbf{i}_i \\otimes \\mathbf{r}_i \\right]\n",
        "\\end{eqnarray}\n",
        "$$"
      ],
      "metadata": {
        "id": "zgPnI56bZU3C"
      }
    },
    {
      "cell_type": "code",
      "source": [
        "table = row1.bundle(row2).bundle(row3)\n",
        "print(f'table = {table}')"
      ],
      "metadata": {
        "colab": {
          "base_uri": "https://localhost:8080/"
        },
        "id": "yBI4SWtOOHkt",
        "outputId": "bb6b1063-1ddd-4d21-9fce-48e0fb016b71"
      },
      "execution_count": null,
      "outputs": [
        {
          "output_type": "stream",
          "name": "stdout",
          "text": [
            "table = MAPTensor([[-1., -1.,  5.,  ...,  3.,  3., -1.]])\n"
          ]
        }
      ]
    },
    {
      "cell_type": "markdown",
      "source": [
        "## Getting Access to the Table"
      ],
      "metadata": {
        "id": "FXxV4q8XacRo"
      }
    },
    {
      "cell_type": "markdown",
      "source": [
        "### Accessing a Data Row"
      ],
      "metadata": {
        "id": "85W-w5j-ajGF"
      }
    },
    {
      "cell_type": "markdown",
      "source": [
        "To get access to a data row, we simply bind the table with a HV of the specified row ID $\\mathbf{i}_k$.\n",
        "$$\n",
        "\\begin{eqnarray}\n",
        "    \\mathbf{i}_k \\otimes \\mathbf{t} & = & \\mathbf{i}_k \\otimes \\left( \\bigoplus_{i = 1}^{N} \\left[ \\mathbf{i}_i \\otimes \\mathbf{r}_i \\right] \\right) \\\\\n",
        "    & = & \\mathbf{i}_k \\otimes ( \\mathbf{i}_k \\otimes \\mathbf{r}_k) \\oplus \\textrm{noise} \\\\\n",
        "    & = & \\mathbf{r}_k \\oplus \\textrm{noise} \\\\\n",
        "    & \\approx & \\mathbf{r}_k\n",
        "\\end{eqnarray}\n",
        "$$"
      ],
      "metadata": {
        "id": "qDwIEpuSaygq"
      }
    },
    {
      "cell_type": "code",
      "source": [
        "def get_row(table, rowid):\n",
        "    return table.bind(rowids[rowid])"
      ],
      "metadata": {
        "id": "_Ttl_p03OPjs"
      },
      "execution_count": null,
      "outputs": []
    },
    {
      "cell_type": "code",
      "source": [
        "my_row = get_row(table, 1)\n",
        "print(f'my_row = {my_row}')"
      ],
      "metadata": {
        "colab": {
          "base_uri": "https://localhost:8080/"
        },
        "id": "QRtuPliQPRN6",
        "outputId": "469453f6-0d47-4938-928e-a4ec8b1c016b"
      },
      "execution_count": null,
      "outputs": [
        {
          "output_type": "stream",
          "name": "stdout",
          "text": [
            "my_row = MAPTensor([[-1., -1., -5.,  ...,  3., -3., -1.]])\n"
          ]
        }
      ]
    },
    {
      "cell_type": "markdown",
      "source": [
        "### Accessing a Column of the Data Row"
      ],
      "metadata": {
        "id": "H0LrUPO2cA4l"
      }
    },
    {
      "cell_type": "markdown",
      "source": [
        "Once we obtain a data row, we can get access to each column by binding with the column HV $\\mathbf{c}_k$.\n",
        "$$\n",
        "\\begin{eqnarray}\n",
        "    \\mathbf{c}_k \\otimes \\mathbf{r} & = & \\mathbf{c}_k \\otimes \\left( \\bigoplus_{i = 1}^{N} \\left[ \\mathbf{c}_i \\otimes \\mathbf{v}_i \\right] \\right) \\\\\n",
        "    & = & \\mathbf{c}_k \\otimes ( \\mathbf{c}_k \\otimes \\mathbf{v}_k) \\oplus \\textrm{noise} \\\\\n",
        "    & = & \\mathbf{v}_k \\oplus \\textrm{noise} \\\\\n",
        "    & \\approx & \\mathbf{v}_k\n",
        "\\end{eqnarray}\n",
        "$$"
      ],
      "metadata": {
        "id": "sdWJhLricgBV"
      }
    },
    {
      "cell_type": "code",
      "source": [
        "def get_column(row, colid):\n",
        "    col_vec = columns[colid]\n",
        "    val_vec = row.bind(col_vec)\n",
        "    return val_vec"
      ],
      "metadata": {
        "id": "4wtg13AuPWyD"
      },
      "execution_count": null,
      "outputs": []
    },
    {
      "cell_type": "code",
      "source": [
        "val_vec = get_column(my_row, 0)\n",
        "print(val_vec)"
      ],
      "metadata": {
        "colab": {
          "base_uri": "https://localhost:8080/"
        },
        "id": "qFUezNJuQbWM",
        "outputId": "fec805ff-6722-4ee5-b574-761046ec2b14"
      },
      "execution_count": null,
      "outputs": [
        {
          "output_type": "stream",
          "name": "stdout",
          "text": [
            "MAPTensor([[ 1., -1.,  5.,  ...,  3.,  3.,  1.]])\n"
          ]
        }
      ]
    },
    {
      "cell_type": "markdown",
      "source": [
        "## Symbol Retrieval"
      ],
      "metadata": {
        "id": "SZDsdU2QdQcy"
      }
    },
    {
      "cell_type": "markdown",
      "source": [
        "Finally, once we obtain a HV representation, we can always retrieve its corresponding symbol from the item space.\n",
        "\n",
        "Suppose we have a HV space $\\{ \\mathbf{h}_1, \\mathbf{h}_2, \\mathbf{h}_3, \\ldots, \\mathbf{h}_K \\}$ for the symbol set $\\{ s_1, s_2, s_3, \\ldots, s_K \\}$. We will compare the input HV $\\mathbf{v}$ against each HV in the space with the cosine similarity. The HV $\\mathbf{h}_{i^*}$ closest to $\\mathbf{v}$ will be chosen, resulting in the $i^*$-th symbol getting retrieved.\n",
        "$$\n",
        "\\begin{eqnarray}\n",
        "    i^* & = & \\arg \\max_i \\mathrm{cossim}(\\mathbf{h}_i, \\mathbf{v}) \\\\\n",
        "    & = & \\arg \\max_i \\frac{\\mathbf{h}_i \\cdot \\mathbf{v}}{||\\mathbf{h}_i|| \\times ||\\mathbf{v}||} \\\\\n",
        "\\end{eqnarray}\n",
        "$$"
      ],
      "metadata": {
        "id": "Rh-vMDTxdUhn"
      }
    },
    {
      "cell_type": "code",
      "source": [
        "def find_itemid(item_matrix, val_vec):\n",
        "    sim_matrix = item_matrix.cosine_similarity(val_vec)\n",
        "    return sim_matrix.argmax()"
      ],
      "metadata": {
        "id": "kieZRkTEQ4SQ"
      },
      "execution_count": null,
      "outputs": []
    },
    {
      "cell_type": "code",
      "source": [
        "fruit_id = find_itemid(fruits, val_vec)\n",
        "print(f'fruit = {fruit_symbols[fruit_id]}')"
      ],
      "metadata": {
        "colab": {
          "base_uri": "https://localhost:8080/"
        },
        "id": "C5bzqeXiRH5d",
        "outputId": "b96738dc-ca89-4f47-9aba-362969b5a7bb"
      },
      "execution_count": null,
      "outputs": [
        {
          "output_type": "stream",
          "name": "stdout",
          "text": [
            "fruit = lemon\n"
          ]
        }
      ]
    },
    {
      "cell_type": "code",
      "source": [],
      "metadata": {
        "id": "G6CjKeO0Rny8"
      },
      "execution_count": null,
      "outputs": []
    }
  ]
}