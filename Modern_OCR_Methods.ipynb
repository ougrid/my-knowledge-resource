{
  "nbformat": 4,
  "nbformat_minor": 0,
  "metadata": {
    "colab": {
      "provenance": [],
      "include_colab_link": true
    },
    "kernelspec": {
      "name": "python3",
      "display_name": "Python 3"
    },
    "language_info": {
      "name": "python"
    }
  },
  "cells": [
    {
      "cell_type": "markdown",
      "metadata": {
        "id": "view-in-github",
        "colab_type": "text"
      },
      "source": [
        "<a href=\"https://colab.research.google.com/github/ougrid/my-knowledge-resource/blob/master/Modern_OCR_Methods.ipynb\" target=\"_parent\"><img src=\"https://colab.research.google.com/assets/colab-badge.svg\" alt=\"Open In Colab\"/></a>"
      ]
    },
    {
      "cell_type": "code",
      "source": [
        "! pip install -q requests"
      ],
      "metadata": {
        "id": "P3lmBZ9dG2Gd"
      },
      "execution_count": null,
      "outputs": []
    },
    {
      "cell_type": "code",
      "execution_count": null,
      "metadata": {
        "colab": {
          "base_uri": "https://localhost:8080/",
          "height": 519
        },
        "id": "SpPiLOW3FAKK",
        "outputId": "3ae301dc-1c00-4633-f877-fd700683ba9f"
      },
      "outputs": [
        {
          "output_type": "execute_result",
          "data": {
            "text/plain": [
              "<PIL.PngImagePlugin.PngImageFile image mode=P size=460x502>"
            ],
            "image/png": "[encoded data removed]"
          },
          "metadata": {},
          "execution_count": 2
        }
      ],
      "source": [
        "import cv2\n",
        "from PIL import Image\n",
        "from io import BytesIO\n",
        "import requests\n",
        "\n",
        "url = 'https://camo.githubusercontent.com/c968bd02d4d52e5f61356d7602b5d5506a4824f3211a9569e27589bd26e0f6b5/68747470733a2f2f6769746875622e636f6d2f6d726f6c6172696b2f5465737365726163742d546861692f7261772f6d61737465722f646174612d746578742d696d672f746861692d746578742e706e67'\n",
        "response = requests.get(url)\n",
        "image = Image.open(BytesIO(response.content))\n",
        "image.convert('RGB').save('thai_text.jpg')\n",
        "image\n"
      ]
    },
    {
      "cell_type": "markdown",
      "source": [
        "# Tesseract"
      ],
      "metadata": {
        "id": "fC8CW3kzFkaY"
      }
    },
    {
      "cell_type": "code",
      "source": [
        "! pip install -q pytesseract\n",
        "! apt install -qq tesseract-ocr tesseract-ocr-tha"
      ],
      "metadata": {
        "colab": {
          "base_uri": "https://localhost:8080/"
        },
        "id": "-083mAxZFvGz",
        "outputId": "fbf48d16-9b77-4b09-c280-6050ed15413e"
      },
      "execution_count": null,
      "outputs": [
        {
          "output_type": "stream",
          "name": "stdout",
          "text": [
            "The following additional packages will be installed:\n",
            "  tesseract-ocr-eng tesseract-ocr-osd\n",
            "The following NEW packages will be installed:\n",
            "  tesseract-ocr tesseract-ocr-eng tesseract-ocr-osd tesseract-ocr-tha\n",
            "0 upgraded, 4 newly installed, 0 to remove and 35 not upgraded.\n",
            "Need to get 5,715 kB of archives.\n",
            "After this operation, 16.7 MB of additional disk space will be used.\n",
            "Selecting previously unselected package tesseract-ocr-eng.\n",
            "(Reading database ... 121749 files and directories currently installed.)\n",
            "Preparing to unpack .../tesseract-ocr-eng_1%3a4.00~git30-7274cfa-1.1_all.deb ...\n",
            "Unpacking tesseract-ocr-eng (1:4.00~git30-7274cfa-1.1) ...\n",
            "Selecting previously unselected package tesseract-ocr-osd.\n",
            "Preparing to unpack .../tesseract-ocr-osd_1%3a4.00~git30-7274cfa-1.1_all.deb ...\n",
            "Unpacking tesseract-ocr-osd (1:4.00~git30-7274cfa-1.1) ...\n",
            "Selecting previously unselected package tesseract-ocr.\n",
            "Preparing to unpack .../tesseract-ocr_4.1.1-2.1build1_amd64.deb ...\n",
            "Unpacking tesseract-ocr (4.1.1-2.1build1) ...\n",
            "Selecting previously unselected package tesseract-ocr-tha.\n",
            "Preparing to unpack .../tesseract-ocr-tha_1%3a4.00~git30-7274cfa-1.1_all.deb ...\n",
            "Unpacking tesseract-ocr-tha (1:4.00~git30-7274cfa-1.1) ...\n",
            "Setting up tesseract-ocr-eng (1:4.00~git30-7274cfa-1.1) ...\n",
            "Setting up tesseract-ocr-tha (1:4.00~git30-7274cfa-1.1) ...\n",
            "Setting up tesseract-ocr-osd (1:4.00~git30-7274cfa-1.1) ...\n",
            "Setting up tesseract-ocr (4.1.1-2.1build1) ...\n",
            "Processing triggers for man-db (2.10.2-1) ...\n"
          ]
        }
      ]
    },
    {
      "cell_type": "code",
      "source": [
        "import pytesseract\n",
        "\n",
        "output_tesseract = pytesseract.image_to_string(image, lang='tha')\n",
        "print(output_tesseract)"
      ],
      "metadata": {
        "colab": {
          "base_uri": "https://localhost:8080/"
        },
        "id": "3Mcu3k-RFk_4",
        "outputId": "8993d378-963d-4f88-f132-ec965e68e5e8"
      },
      "execution_count": null,
      "outputs": [
        {
          "output_type": "stream",
          "name": "stdout",
          "text": [
            "เป็นมนุษย์สุดประเสริฐเลิศคุณค่า\n",
            "กว่าบธรดาฝูงสัตว์เดรังฉาน\n",
            "\n",
            "ออฟ่าพันพัฒนาวิชาการ\n",
            "\n",
            "อยําล้างพลาญฤาเข่นฆ่าบีทาใคร\n",
            "ไม่ถือโทษโกรธแช่งชัดฮิดฮัดด่า\n",
            "หัดอภัยเหมือนกีฬาอัชญฒาสัย\n",
            "\n",
            "ปฏิบัติประพฤติกฎกําหนดใจ\n",
            "\n",
            "พูดอาให้จ๊ะ ฯ อํา ฯ น่าฟังเอยฯ\n",
            "\f\n"
          ]
        }
      ]
    },
    {
      "cell_type": "markdown",
      "source": [
        "# EasyOCR\n"
      ],
      "metadata": {
        "id": "QpUdVJCYFEgU"
      }
    },
    {
      "cell_type": "code",
      "source": [
        "! pip install -q easyocr"
      ],
      "metadata": {
        "colab": {
          "base_uri": "https://localhost:8080/"
        },
        "id": "WwGHf-xWFFno",
        "outputId": "df07e137-3abe-4f0d-fd59-fd0479059129"
      },
      "execution_count": null,
      "outputs": [
        {
          "output_type": "stream",
          "name": "stdout",
          "text": [
            "\u001b[2K     \u001b[90m━━━━━━━━━━━━━━━━━━━━━━━━━━━━━━━━━━━━━━━━\u001b[0m \u001b[32m2.9/2.9 MB\u001b[0m \u001b[31m22.5 MB/s\u001b[0m eta \u001b[36m0:00:00\u001b[0m\n",
            "\u001b[2K     \u001b[90m━━━━━━━━━━━━━━━━━━━━━━━━━━━━━━━━━━━━━━━━\u001b[0m \u001b[32m908.3/908.3 kB\u001b[0m \u001b[31m59.3 MB/s\u001b[0m eta \u001b[36m0:00:00\u001b[0m\n",
            "\u001b[2K     \u001b[90m━━━━━━━━━━━━━━━━━━━━━━━━━━━━━━━━━━━━━━━━\u001b[0m \u001b[32m307.2/307.2 kB\u001b[0m \u001b[31m35.8 MB/s\u001b[0m eta \u001b[36m0:00:00\u001b[0m\n",
            "\u001b[?25h"
          ]
        }
      ]
    },
    {
      "cell_type": "code",
      "source": [
        "import easyocr\n",
        "reader = easyocr.Reader(['th']) # this needs to run only once to load the model into memory\n",
        "result = reader.readtext('/content/thai_text.jpg')\n",
        "[item[1] for item in result]"
      ],
      "metadata": {
        "colab": {
          "base_uri": "https://localhost:8080/"
        },
        "id": "Qp2x9wGWLuXV",
        "outputId": "c1bfa2af-e09a-498e-8ef2-c89329ec040e"
      },
      "execution_count": null,
      "outputs": [
        {
          "output_type": "stream",
          "name": "stderr",
          "text": [
            "WARNING:easyocr.easyocr:Neither CUDA nor MPS are available - defaulting to CPU. Note: This module is much faster with a GPU.\n",
            "WARNING:easyocr.easyocr:Downloading detection model, please wait. This may take several minutes depending upon your network connection.\n"
          ]
        },
        {
          "output_type": "stream",
          "name": "stdout",
          "text": [
            "Progress: |██████████████████████████████████████████████████| 100.0% Complete"
          ]
        },
        {
          "output_type": "stream",
          "name": "stderr",
          "text": [
            "WARNING:easyocr.easyocr:Downloading recognition model, please wait. This may take several minutes depending upon your network connection.\n"
          ]
        },
        {
          "output_type": "stream",
          "name": "stdout",
          "text": [
            "Progress: |██████████████████████████████████████████████████| 100.0% Complete"
          ]
        },
        {
          "output_type": "execute_result",
          "data": {
            "text/plain": [
              "['เป็นมนุษย์สุดประเสริฐเลิศคุณค่า',\n",
              " 'กว่าบรรดาฝูงสัตว์เดรัจฉาน',\n",
              " 'จงฝ่าฟันพัฒนาวิชาการ',\n",
              " 'อย่าล้างผลาญฎาเข่นฆ่าบีทาใคร',\n",
              " 'ไม่ถือโทษโกรธแช่งซัดฮึดฮัดด่า',\n",
              " 'หัดอภัยเหมือนกีฬาอัชฌาลัย',\n",
              " 'ปฏิบัติประพกติกฎกำหนดใจ',\n",
              " 'พูดอาให้จ๊ะจ จำไน่าฟังเอยฯ']"
            ]
          },
          "metadata": {},
          "execution_count": 6
        }
      ]
    },
    {
      "cell_type": "code",
      "source": [
        "result"
      ],
      "metadata": {
        "colab": {
          "base_uri": "https://localhost:8080/"
        },
        "id": "FUN-f79nZNo1",
        "outputId": "c5d0b41d-032b-4f94-9795-994ef85a9c46"
      },
      "execution_count": null,
      "outputs": [
        {
          "output_type": "execute_result",
          "data": {
            "text/plain": [
              "[([[0, 0], [457, 0], [457, 63], [0, 63]],\n",
              "  'เป็นมนุษย์สุดประเสริฐเลิศคุณค่า',\n",
              "  0.8686488433049642),\n",
              " ([[0, 64], [403, 64], [403, 124], [0, 124]],\n",
              "  'กว่าบรรดาฝูงสัตว์เดรัจฉาน',\n",
              "  0.5837957435139385),\n",
              " ([[2, 126], [340, 126], [340, 178], [2, 178]],\n",
              "  'จงฝ่าฟันพัฒนาวิชาการ',\n",
              "  0.836338525376307),\n",
              " ([[0, 188], [455, 188], [455, 252], [0, 252]],\n",
              "  'อย่าล้างผลาญฎาเข่นฆ่าบีทาใคร',\n",
              "  0.6742305448521266),\n",
              " ([[0, 254], [428, 254], [428, 306], [0, 306]],\n",
              "  'ไม่ถือโทษโกรธแช่งซัดฮึดฮัดด่า',\n",
              "  0.476521014736608),\n",
              " ([[2, 320], [402, 320], [402, 368], [2, 368]],\n",
              "  'หัดอภัยเหมือนกีฬาอัชฌาลัย',\n",
              "  0.6188375678635494),\n",
              " ([[0, 378], [393, 378], [393, 444], [0, 444]],\n",
              "  'ปฏิบัติประพกติกฎกำหนดใจ',\n",
              "  0.5951634838717161),\n",
              " ([[0, 439], [449, 439], [449, 502], [0, 502]],\n",
              "  'พูดอาให้จ๊ะจ จำไน่าฟังเอยฯ',\n",
              "  0.1734085645085895)]"
            ]
          },
          "metadata": {},
          "execution_count": 7
        }
      ]
    },
    {
      "cell_type": "markdown",
      "source": [
        "# SynthTIGER"
      ],
      "metadata": {
        "id": "XlNxS0ZGi0NB"
      }
    },
    {
      "cell_type": "code",
      "source": [
        "with open(\"/content/corpus.txt\", \"w\", encoding='utf-8') as f:\n",
        "    f.write(\"น้องริน\\nลืมอะไรป่าว\")"
      ],
      "metadata": {
        "id": "fvWASVwaj5He"
      },
      "execution_count": null,
      "outputs": []
    },
    {
      "cell_type": "code",
      "source": [
        "! pip install -q synthtiger\n",
        "! git clone https://github.com/clovaai/synthtiger\n",
        "! git clone https://github.com/jeffmcneill/thai-font-collection\n",
        "%cd synthtiger"
      ],
      "metadata": {
        "colab": {
          "base_uri": "https://localhost:8080/"
        },
        "id": "KVpmFNeXi5PH",
        "outputId": "6df8c4bd-675e-4874-a791-00b7d34cc396"
      },
      "execution_count": null,
      "outputs": [
        {
          "output_type": "stream",
          "name": "stdout",
          "text": [
            "\u001b[2K     \u001b[90m━━━━━━━━━━━━━━━━━━━━━━━━━━━━━━━━━━━━━━━━\u001b[0m \u001b[32m127.0/127.0 kB\u001b[0m \u001b[31m2.6 MB/s\u001b[0m eta \u001b[36m0:00:00\u001b[0m\n",
            "\u001b[?25h  Preparing metadata (setup.py) ... \u001b[?25l\u001b[?25hdone\n",
            "\u001b[2K     \u001b[90m━━━━━━━━━━━━━━━━━━━━━━━━━━━━━━━━━━━━━━━━\u001b[0m \u001b[32m171.2/171.2 kB\u001b[0m \u001b[31m7.8 MB/s\u001b[0m eta \u001b[36m0:00:00\u001b[0m\n",
            "\u001b[?25h  Preparing metadata (setup.py) ... \u001b[?25l\u001b[?25hdone\n",
            "  Building wheel for blend-modes (setup.py) ... \u001b[?25l\u001b[?25hdone\n",
            "  Building wheel for pytweening (setup.py) ... \u001b[?25l\u001b[?25hdone\n",
            "Cloning into 'synthtiger'...\n",
            "remote: Enumerating objects: 829, done.\u001b[K\n",
            "remote: Total 829 (delta 0), reused 0 (delta 0), pack-reused 829\u001b[K\n",
            "Receiving objects: 100% (829/829), 19.12 MiB | 19.94 MiB/s, done.\n",
            "Resolving deltas: 100% (394/394), done.\n",
            "Cloning into 'thai-font-collection'...\n",
            "remote: Enumerating objects: 1122, done.\u001b[K\n",
            "remote: Counting objects: 100% (224/224), done.\u001b[K\n",
            "remote: Compressing objects: 100% (132/132), done.\u001b[K\n",
            "remote: Total 1122 (delta 88), reused 207 (delta 78), pack-reused 898\u001b[K\n",
            "Receiving objects: 100% (1122/1122), 58.40 MiB | 25.01 MiB/s, done.\n",
            "Resolving deltas: 100% (591/591), done.\n",
            "/content/synthtiger\n"
          ]
        }
      ]
    },
    {
      "cell_type": "code",
      "source": [
        "with open(\"/content/synthtiger/examples/synthtiger/config_horizontal.yaml\", 'r', encoding='utf-8') as file:\n",
        "    lines = file.readlines()\n",
        "\n",
        "import re\n",
        "lines[18] = re.sub(r'\\[.*?\\]', '[/content/corpus.txt]', lines[18], count=1)\n",
        "lines[19] = re.sub(r'\\[.*?\\]', '[1]', lines[19], count=1)\n",
        "lines[35] = re.sub(r'\\[.*?\\]', '[/content/thai-font-collection/downloadable-free-thai-fonts/cadson-demak]', lines[35], count=1)\n",
        "\n",
        "with open(\"/content/synthtiger/examples/synthtiger/config_horizontal.yaml\", 'w', encoding='utf-8') as file:\n",
        "    file.writelines(lines)\n"
      ],
      "metadata": {
        "id": "hj06QCnxoDLS"
      },
      "execution_count": null,
      "outputs": []
    },
    {
      "cell_type": "code",
      "source": [
        "! python tools/extract_font_charset.py -w 4 /content/thai-font-collection/downloadable-free-thai-fonts/cadson-demak"
      ],
      "metadata": {
        "colab": {
          "base_uri": "https://localhost:8080/"
        },
        "id": "fqiVf5XIrY2Z",
        "outputId": "04a8b538-89cb-4a07-81f1-48e9c51c9921"
      },
      "execution_count": null,
      "outputs": [
        {
          "output_type": "stream",
          "name": "stdout",
          "text": [
            "pygame 2.5.2 (SDL 2.28.2, Python 3.10.12)\n",
            "Hello from the pygame community. https://www.pygame.org/contribute.html\n",
            "{'input': '/content/thai-font-collection/downloadable-free-thai-fonts/cadson-demak',\n",
            " 'worker': 4}\n",
            "Extracted font charset (720 chars) (/content/thai-font-collection/downloadable-free-thai-fonts/cadson-demak/Kanit-ExtraBold.ttf)\n",
            "Extracted font charset (721 chars) (/content/thai-font-collection/downloadable-free-thai-fonts/cadson-demak/Sarabun-ExtraLight.ttf)\n",
            "Extracted font charset (720 chars) (/content/thai-font-collection/downloadable-free-thai-fonts/cadson-demak/Pridi-Medium.ttf)\n",
            "Extracted font charset (721 chars) (/content/thai-font-collection/downloadable-free-thai-fonts/cadson-demak/Mitr-Medium.ttf)\n",
            "Extracted font charset (720 chars) (/content/thai-font-collection/downloadable-free-thai-fonts/cadson-demak/Maitree-Regular.ttf)\n",
            "Extracted font charset (719 chars) (/content/thai-font-collection/downloadable-free-thai-fonts/cadson-demak/Athiti-Regular.ttf)\n",
            "Extracted font charset (720 chars) (/content/thai-font-collection/downloadable-free-thai-fonts/cadson-demak/Kanit-Bold.ttf)\n",
            "Extracted font charset (719 chars) (/content/thai-font-collection/downloadable-free-thai-fonts/cadson-demak/Trirong-Thin.ttf)\n",
            "Extracted font charset (720 chars) (/content/thai-font-collection/downloadable-free-thai-fonts/cadson-demak/Prompt-BoldItalic.ttf)\n",
            "Extracted font charset (720 chars) (/content/thai-font-collection/downloadable-free-thai-fonts/cadson-demak/Kanit-ExtraBoldItalic.ttf)\n",
            "Extracted font charset (721 chars) (/content/thai-font-collection/downloadable-free-thai-fonts/cadson-demak/Mitr-ExtraLight.ttf)\n",
            "Extracted font charset (721 chars) (/content/thai-font-collection/downloadable-free-thai-fonts/cadson-demak/Sarabun-ThinItalic.ttf)\n",
            "Extracted font charset (721 chars) (/content/thai-font-collection/downloadable-free-thai-fonts/cadson-demak/Sarabun-Light.ttf)\n",
            "Extracted font charset (720 chars) (/content/thai-font-collection/downloadable-free-thai-fonts/cadson-demak/Prompt-LightItalic.ttf)\n",
            "Extracted font charset (719 chars) (/content/thai-font-collection/downloadable-free-thai-fonts/cadson-demak/Taviraj-Light.ttf)\n",
            "Extracted font charset (719 chars) (/content/thai-font-collection/downloadable-free-thai-fonts/cadson-demak/Trirong-ExtraBoldItalic.ttf)\n",
            "Extracted font charset (720 chars) (/content/thai-font-collection/downloadable-free-thai-fonts/cadson-demak/Maitree-Bold.ttf)\n",
            "Extracted font charset (720 chars) (/content/thai-font-collection/downloadable-free-thai-fonts/cadson-demak/Kanit-SemiBold.ttf)\n",
            "Extracted font charset (719 chars) (/content/thai-font-collection/downloadable-free-thai-fonts/cadson-demak/Trirong-BoldItalic.ttf)\n",
            "Extracted font charset (721 chars) (/content/thai-font-collection/downloadable-free-thai-fonts/cadson-demak/Sarabun-Medium.ttf)\n",
            "Extracted font charset (719 chars) (/content/thai-font-collection/downloadable-free-thai-fonts/cadson-demak/Taviraj-Thin.ttf)\n",
            "Extracted font charset (719 chars) (/content/thai-font-collection/downloadable-free-thai-fonts/cadson-demak/Trirong-MediumItalic.ttf)\n",
            "Extracted font charset (719 chars) (/content/thai-font-collection/downloadable-free-thai-fonts/cadson-demak/Taviraj-SemiBold.ttf)\n",
            "Extracted font charset (721 chars) (/content/thai-font-collection/downloadable-free-thai-fonts/cadson-demak/Mitr-Bold.ttf)\n",
            "Extracted font charset (719 chars) (/content/thai-font-collection/downloadable-free-thai-fonts/cadson-demak/Taviraj-Bold.ttf)\n",
            "Extracted font charset (720 chars) (/content/thai-font-collection/downloadable-free-thai-fonts/cadson-demak/Maitree-Medium.ttf)\n",
            "Extracted font charset (719 chars) (/content/thai-font-collection/downloadable-free-thai-fonts/cadson-demak/Taviraj-BoldItalic.ttf)\n",
            "Extracted font charset (719 chars) (/content/thai-font-collection/downloadable-free-thai-fonts/cadson-demak/Trirong-ThinItalic.ttf)\n",
            "Extracted font charset (720 chars) (/content/thai-font-collection/downloadable-free-thai-fonts/cadson-demak/Prompt-ExtraLight.ttf)\n",
            "Extracted font charset (720 chars) (/content/thai-font-collection/downloadable-free-thai-fonts/cadson-demak/Kanit-Italic.ttf)\n",
            "Extracted font charset (721 chars) (/content/thai-font-collection/downloadable-free-thai-fonts/cadson-demak/Sarabun-BoldItalic.ttf)\n",
            "Extracted font charset (797 chars) (/content/thai-font-collection/downloadable-free-thai-fonts/cadson-demak/Pattaya-Regular.ttf)\n",
            "Extracted font charset (719 chars) (/content/thai-font-collection/downloadable-free-thai-fonts/cadson-demak/Taviraj-Italic.ttf)\n",
            "Extracted font charset (719 chars) (/content/thai-font-collection/downloadable-free-thai-fonts/cadson-demak/Trirong-Bold.ttf)\n",
            "Extracted font charset (720 chars) (/content/thai-font-collection/downloadable-free-thai-fonts/cadson-demak/Kanit-MediumItalic.ttf)\n",
            "Extracted font charset (721 chars) (/content/thai-font-collection/downloadable-free-thai-fonts/cadson-demak/Mitr-Regular.ttf)\n",
            "Extracted font charset (719 chars) (/content/thai-font-collection/downloadable-free-thai-fonts/cadson-demak/Trirong-ExtraLightItalic.ttf)\n",
            "Extracted font charset (721 chars) (/content/thai-font-collection/downloadable-free-thai-fonts/cadson-demak/Sarabun-Bold.ttf)\n",
            "Extracted font charset (720 chars) (/content/thai-font-collection/downloadable-free-thai-fonts/cadson-demak/Kanit-ThinItalic.ttf)\n",
            "Extracted font charset (720 chars) (/content/thai-font-collection/downloadable-free-thai-fonts/cadson-demak/Pridi-ExtraLight.ttf)\n",
            "Extracted font charset (720 chars) (/content/thai-font-collection/downloadable-free-thai-fonts/cadson-demak/Prompt-ExtraBoldItalic.ttf)\n",
            "Extracted font charset (719 chars) (/content/thai-font-collection/downloadable-free-thai-fonts/cadson-demak/Trirong-LightItalic.ttf)\n",
            "Extracted font charset (719 chars) (/content/thai-font-collection/downloadable-free-thai-fonts/cadson-demak/Taviraj-SemiBoldItalic.ttf)\n",
            "Extracted font charset (720 chars) (/content/thai-font-collection/downloadable-free-thai-fonts/cadson-demak/Prompt-Light.ttf)\n",
            "Extracted font charset (720 chars) (/content/thai-font-collection/downloadable-free-thai-fonts/cadson-demak/Prompt-BlackItalic.ttf)\n",
            "Extracted font charset (720 chars) (/content/thai-font-collection/downloadable-free-thai-fonts/cadson-demak/Pridi-SemiBold.ttf)\n",
            "Extracted font charset (719 chars) (/content/thai-font-collection/downloadable-free-thai-fonts/cadson-demak/Trirong-ExtraLight.ttf)\n",
            "Extracted font charset (719 chars) (/content/thai-font-collection/downloadable-free-thai-fonts/cadson-demak/Taviraj-LightItalic.ttf)\n",
            "Extracted font charset (720 chars) (/content/thai-font-collection/downloadable-free-thai-fonts/cadson-demak/Prompt-MediumItalic.ttf)\n",
            "Extracted font charset (719 chars) (/content/thai-font-collection/downloadable-free-thai-fonts/cadson-demak/Athiti-Light.ttf)\n",
            "Extracted font charset (721 chars) (/content/thai-font-collection/downloadable-free-thai-fonts/cadson-demak/Mitr-Light.ttf)\n",
            "Extracted font charset (720 chars) (/content/thai-font-collection/downloadable-free-thai-fonts/cadson-demak/Prompt-Italic.ttf)\n",
            "Extracted font charset (719 chars) (/content/thai-font-collection/downloadable-free-thai-fonts/cadson-demak/Trirong-ExtraBold.ttf)\n",
            "Extracted font charset (720 chars) (/content/thai-font-collection/downloadable-free-thai-fonts/cadson-demak/Kanit-LightItalic.ttf)\n",
            "Extracted font charset (720 chars) (/content/thai-font-collection/downloadable-free-thai-fonts/cadson-demak/Kanit-Regular.ttf)\n",
            "Extracted font charset (719 chars) (/content/thai-font-collection/downloadable-free-thai-fonts/cadson-demak/Trirong-SemiBoldItalic.ttf)\n",
            "Extracted font charset (719 chars) (/content/thai-font-collection/downloadable-free-thai-fonts/cadson-demak/Taviraj-BlackItalic.ttf)\n",
            "Extracted font charset (720 chars) (/content/thai-font-collection/downloadable-free-thai-fonts/cadson-demak/Prompt-ThinItalic.ttf)\n",
            "Extracted font charset (721 chars) (/content/thai-font-collection/downloadable-free-thai-fonts/cadson-demak/Sarabun-ExtraBoldItalic.ttf)\n",
            "Extracted font charset (720 chars) (/content/thai-font-collection/downloadable-free-thai-fonts/cadson-demak/Prompt-Bold.ttf)\n",
            "Extracted font charset (721 chars) (/content/thai-font-collection/downloadable-free-thai-fonts/cadson-demak/Mitr-SemiBold.ttf)\n",
            "Extracted font charset (719 chars) (/content/thai-font-collection/downloadable-free-thai-fonts/cadson-demak/Trirong-Italic.ttf)\n",
            "Extracted font charset (721 chars) (/content/thai-font-collection/downloadable-free-thai-fonts/cadson-demak/Sarabun-Thin.ttf)\n",
            "Extracted font charset (719 chars) (/content/thai-font-collection/downloadable-free-thai-fonts/cadson-demak/Taviraj-Regular.ttf)\n",
            "Extracted font charset (719 chars) (/content/thai-font-collection/downloadable-free-thai-fonts/cadson-demak/Trirong-Regular.ttf)\n",
            "Extracted font charset (720 chars) (/content/thai-font-collection/downloadable-free-thai-fonts/cadson-demak/Kanit-BoldItalic.ttf)\n",
            "Extracted font charset (719 chars) (/content/thai-font-collection/downloadable-free-thai-fonts/cadson-demak/Athiti-Medium.ttf)\n",
            "Extracted font charset (719 chars) (/content/thai-font-collection/downloadable-free-thai-fonts/cadson-demak/Chonburi-Regular.ttf)\n",
            "Extracted font charset (769 chars) (/content/thai-font-collection/downloadable-free-thai-fonts/cadson-demak/Sriracha-Regular.ttf)\n",
            "Extracted font charset (719 chars) (/content/thai-font-collection/downloadable-free-thai-fonts/cadson-demak/Athiti-SemiBold.ttf)\n",
            "Extracted font charset (719 chars) (/content/thai-font-collection/downloadable-free-thai-fonts/cadson-demak/Taviraj-ExtraBoldItalic.ttf)\n",
            "Extracted font charset (721 chars) (/content/thai-font-collection/downloadable-free-thai-fonts/cadson-demak/Sarabun-ExtraLightItalic.ttf)\n",
            "Extracted font charset (720 chars) (/content/thai-font-collection/downloadable-free-thai-fonts/cadson-demak/Prompt-SemiBoldItalic.ttf)\n",
            "Extracted font charset (719 chars) (/content/thai-font-collection/downloadable-free-thai-fonts/cadson-demak/Trirong-Light.ttf)\n",
            "Extracted font charset (720 chars) (/content/thai-font-collection/downloadable-free-thai-fonts/cadson-demak/Kanit-ExtraLight.ttf)\n",
            "Extracted font charset (720 chars) (/content/thai-font-collection/downloadable-free-thai-fonts/cadson-demak/Prompt-Thin.ttf)\n",
            "Extracted font charset (719 chars) (/content/thai-font-collection/downloadable-free-thai-fonts/cadson-demak/Taviraj-ThinItalic.ttf)\n",
            "Extracted font charset (720 chars) (/content/thai-font-collection/downloadable-free-thai-fonts/cadson-demak/Prompt-Regular.ttf)\n",
            "Extracted font charset (719 chars) (/content/thai-font-collection/downloadable-free-thai-fonts/cadson-demak/Taviraj-Medium.ttf)\n",
            "Extracted font charset (720 chars) (/content/thai-font-collection/downloadable-free-thai-fonts/cadson-demak/Prompt-SemiBold.ttf)\n",
            "Extracted font charset (721 chars) (/content/thai-font-collection/downloadable-free-thai-fonts/cadson-demak/Sarabun-Regular.ttf)\n",
            "Extracted font charset (719 chars) (/content/thai-font-collection/downloadable-free-thai-fonts/cadson-demak/Trirong-BlackItalic.ttf)\n",
            "Extracted font charset (719 chars) (/content/thai-font-collection/downloadable-free-thai-fonts/cadson-demak/Taviraj-ExtraLight.ttf)\n",
            "Extracted font charset (721 chars) (/content/thai-font-collection/downloadable-free-thai-fonts/cadson-demak/Sarabun-SemiBoldItalic.ttf)\n",
            "Extracted font charset (721 chars) (/content/thai-font-collection/downloadable-free-thai-fonts/cadson-demak/Sarabun-LightItalic.ttf)\n",
            "Extracted font charset (719 chars) (/content/thai-font-collection/downloadable-free-thai-fonts/cadson-demak/Athiti-ExtraLight.ttf)\n",
            "Extracted font charset (720 chars) (/content/thai-font-collection/downloadable-free-thai-fonts/cadson-demak/Prompt-ExtraBold.ttf)\n",
            "Extracted font charset (719 chars) (/content/thai-font-collection/downloadable-free-thai-fonts/cadson-demak/Taviraj-Black.ttf)\n",
            "Extracted font charset (721 chars) (/content/thai-font-collection/downloadable-free-thai-fonts/cadson-demak/Sarabun-ExtraBold.ttf)\n",
            "Extracted font charset (720 chars) (/content/thai-font-collection/downloadable-free-thai-fonts/cadson-demak/Prompt-Black.ttf)\n",
            "Extracted font charset (720 chars) (/content/thai-font-collection/downloadable-free-thai-fonts/cadson-demak/Pridi-Regular.ttf)\n",
            "Extracted font charset (720 chars) (/content/thai-font-collection/downloadable-free-thai-fonts/cadson-demak/Prompt-Medium.ttf)\n",
            "Extracted font charset (719 chars) (/content/thai-font-collection/downloadable-free-thai-fonts/cadson-demak/Taviraj-ExtraLightItalic.ttf)\n",
            "Extracted font charset (719 chars) (/content/thai-font-collection/downloadable-free-thai-fonts/cadson-demak/Taviraj-MediumItalic.ttf)\n",
            "Extracted font charset (720 chars) (/content/thai-font-collection/downloadable-free-thai-fonts/cadson-demak/Maitree-Light.ttf)\n",
            "Extracted font charset (720 chars) (/content/thai-font-collection/downloadable-free-thai-fonts/cadson-demak/Kanit-ExtraLightItalic.ttf)\n",
            "Extracted font charset (720 chars) (/content/thai-font-collection/downloadable-free-thai-fonts/cadson-demak/Maitree-ExtraLight.ttf)\n",
            "Extracted font charset (720 chars) (/content/thai-font-collection/downloadable-free-thai-fonts/cadson-demak/Pridi-Bold.ttf)\n",
            "Extracted font charset (768 chars) (/content/thai-font-collection/downloadable-free-thai-fonts/cadson-demak/Itim-Regular.ttf)\n",
            "Extracted font charset (720 chars) (/content/thai-font-collection/downloadable-free-thai-fonts/cadson-demak/Kanit-Medium.ttf)\n",
            "Extracted font charset (719 chars) (/content/thai-font-collection/downloadable-free-thai-fonts/cadson-demak/Athiti-Bold.ttf)\n",
            "Extracted font charset (719 chars) (/content/thai-font-collection/downloadable-free-thai-fonts/cadson-demak/Trirong-Medium.ttf)\n",
            "Extracted font charset (719 chars) (/content/thai-font-collection/downloadable-free-thai-fonts/cadson-demak/Trirong-SemiBold.ttf)\n",
            "Extracted font charset (721 chars) (/content/thai-font-collection/downloadable-free-thai-fonts/cadson-demak/Sarabun-MediumItalic.ttf)\n",
            "Extracted font charset (719 chars) (/content/thai-font-collection/downloadable-free-thai-fonts/cadson-demak/Taviraj-ExtraBold.ttf)\n",
            "Extracted font charset (720 chars) (/content/thai-font-collection/downloadable-free-thai-fonts/cadson-demak/Kanit-Black.ttf)\n",
            "Extracted font charset (720 chars) (/content/thai-font-collection/downloadable-free-thai-fonts/cadson-demak/Kanit-BlackItalic.ttf)\n",
            "Extracted font charset (721 chars) (/content/thai-font-collection/downloadable-free-thai-fonts/cadson-demak/Sarabun-SemiBold.ttf)\n",
            "Extracted font charset (720 chars) (/content/thai-font-collection/downloadable-free-thai-fonts/cadson-demak/Prompt-ExtraLightItalic.ttf)\n",
            "Extracted font charset (719 chars) (/content/thai-font-collection/downloadable-free-thai-fonts/cadson-demak/Trirong-Black.ttf)\n",
            "Extracted font charset (720 chars) (/content/thai-font-collection/downloadable-free-thai-fonts/cadson-demak/Kanit-SemiBoldItalic.ttf)\n",
            "Extracted font charset (720 chars) (/content/thai-font-collection/downloadable-free-thai-fonts/cadson-demak/Kanit-Light.ttf)\n",
            "Extracted font charset (720 chars) (/content/thai-font-collection/downloadable-free-thai-fonts/cadson-demak/Maitree-SemiBold.ttf)\n",
            "Extracted font charset (720 chars) (/content/thai-font-collection/downloadable-free-thai-fonts/cadson-demak/Kanit-Thin.ttf)\n",
            "Extracted font charset (720 chars) (/content/thai-font-collection/downloadable-free-thai-fonts/cadson-demak/Pridi-Light.ttf)\n",
            "Extracted font charset (721 chars) (/content/thai-font-collection/downloadable-free-thai-fonts/cadson-demak/Sarabun-Italic.ttf)\n",
            "Extracted 116 font charsets\n",
            "7.90 seconds elapsed\n"
          ]
        }
      ]
    },
    {
      "cell_type": "code",
      "source": [
        "! synthtiger -o results -w 4 -v examples/synthtiger/template.py SynthTiger examples/synthtiger/config_horizontal.yaml\n"
      ],
      "metadata": {
        "colab": {
          "base_uri": "https://localhost:8080/"
        },
        "id": "BCkB4ZLlk_aT",
        "outputId": "5ef1b1f7-925d-4d09-a37c-2de4284638f1"
      },
      "execution_count": null,
      "outputs": [
        {
          "output_type": "stream",
          "name": "stdout",
          "text": [
            "{'config': 'examples/synthtiger/config_horizontal.yaml',\n",
            " 'count': 100,\n",
            " 'name': 'SynthTiger',\n",
            " 'output': 'results',\n",
            " 'script': 'examples/synthtiger/template.py',\n",
            " 'seed': None,\n",
            " 'verbose': True,\n",
            " 'worker': 4}\n",
            "{'color': {'alpha': [1, 1], 'colorize': 1, 'gray': [0, 255]},\n",
            " 'colormap2': {'alpha': [1, 1],\n",
            "               'colorize': 1,\n",
            "               'k': 2,\n",
            "               'paths': ['resources/colormap/iiit5k_gray.txt'],\n",
            "               'weights': [1]},\n",
            " 'colormap3': {'alpha': [1, 1],\n",
            "               'colorize': 1,\n",
            "               'k': 3,\n",
            "               'paths': ['resources/colormap/iiit5k_gray.txt'],\n",
            "               'weights': [1]},\n",
            " 'coord_output': True,\n",
            " 'corpus': {'args': [{'augmentation': 0.1,\n",
            "                      'augmentation_length': [1, 25],\n",
            "                      'max_length': 25,\n",
            "                      'min_length': 1,\n",
            "                      'paths': ['/content/corpus.txt'],\n",
            "                      'textcase': ['lower', 'upper', 'capitalize'],\n",
            "                      'weights': [1]},\n",
            "                     {'augmentation': 0,\n",
            "                      'augmentation_charset': 'resources/charset/alphanum_special.txt',\n",
            "                      'max_length': 25,\n",
            "                      'min_length': 1,\n",
            "                      'paths': [],\n",
            "                      'textcase': ['lower', 'upper', 'capitalize'],\n",
            "                      'weights': []}],\n",
            "            'weights': [1, 0]},\n",
            " 'font': {'bold': 0.5,\n",
            "          'paths': ['/content/thai-font-collection/downloadable-free-thai-fonts/cadson-demak'],\n",
            "          'size': [40, 80],\n",
            "          'weights': [1]},\n",
            " 'foreground_mask_pad': 5,\n",
            " 'glyph_coord_output': True,\n",
            " 'glyph_mask_output': True,\n",
            " 'layout': {'args': [{'line_align': ['middle'], 'space': [-2, 5]},\n",
            "                     {'convex': 0.5,\n",
            "                      'curve': [20, 40],\n",
            "                      'space': [-2, 5],\n",
            "                      'upward': 0.5}],\n",
            "            'weights': [4, 1]},\n",
            " 'mask_output': True,\n",
            " 'midground': 0.25,\n",
            " 'midground_offset': {'percents': [[-0.5, 0.5], [-0.5, 0.5]]},\n",
            " 'pad': {'args': {'pxs': [[0, 10], [0, 10], [0, 10], [0, 10]]}, 'prob': 1},\n",
            " 'postprocess': {'args': [{'args': {'per_channel': 0, 'scale': [4, 8]},\n",
            "                           'prob': 1},\n",
            "                          {'args': {'sigma': [0, 2]}, 'prob': 0.9},\n",
            "                          {'args': {'size': [0.4, 0.4]}, 'prob': 0.1},\n",
            "                          {'args': {'k': [1, 1]}, 'prob': 1}]},\n",
            " 'quality': [50, 95],\n",
            " 'shape': {'args': {'args': [{'alpha': [15, 30], 'sigma': [4, 12]},\n",
            "                             {'alpha': [0, 2], 'sigma': [0, 0.6]}],\n",
            "                    'weights': [1, 1]},\n",
            "           'prob': 1},\n",
            " 'style': {'args': {'args': [{'alpha': [1, 1], 'grayscale': 0, 'size': [1, 12]},\n",
            "                             {'alpha': [0.3, 0.7],\n",
            "                              'angle': [0, 360],\n",
            "                              'distance': [1, 6],\n",
            "                              'grayscale': 0},\n",
            "                             {'alpha': [1, 1],\n",
            "                              'angle': [0, 360],\n",
            "                              'grayscale': 0,\n",
            "                              'length': [1, 12]}],\n",
            "                    'weights': [1, 2, 2]},\n",
            "           'prob': 0.25},\n",
            " 'texture': {'args': {'alpha': [0, 1],\n",
            "                      'crop': 1,\n",
            "                      'grayscale': 0,\n",
            "                      'paths': ['resources/image'],\n",
            "                      'weights': [1]},\n",
            "             'prob': 0.5},\n",
            " 'transform': {'args': {'args': [{'aligns': [[0, 0], [0, 0]],\n",
            "                                  'percents': [[0.5, 1], [1, 1]]},\n",
            "                                 {'aligns': [[0, 0], [0, 0]],\n",
            "                                  'percents': [[1, 1], [0.5, 1]]},\n",
            "                                 {'align': [-1, 1],\n",
            "                                  'percent': [0.75, 1],\n",
            "                                  'weights': [1, 0, 1, 0]},\n",
            "                                 {'align': [-1, 1],\n",
            "                                  'percent': [0.5, 1],\n",
            "                                  'weights': [0, 1, 0, 1]},\n",
            "                                 {'angle': [0, 30],\n",
            "                                  'ccw': 0.5,\n",
            "                                  'weights': [1, 0]},\n",
            "                                 {'angle': [0, 10],\n",
            "                                  'ccw': 0.5,\n",
            "                                  'weights': [0, 1]},\n",
            "                                 {'angle': [0, 10], 'ccw': 0.5}],\n",
            "                        'weights': [1, 1, 1, 1, 1, 1, 2]},\n",
            "               'prob': 1},\n",
            " 'vertical': False,\n",
            " 'visibility_check': True}\n",
            "Generated 1 data (task 3)\n",
            "Generated 2 data (task 0)\n",
            "Traceback (most recent call last):\n",
            "  File \"/usr/local/lib/python3.10/dist-packages/synthtiger/gen.py\", line 121, in _generate\n",
            "    data = template.generate()\n",
            "  File \"/content/synthtiger/examples/synthtiger/template.py\", line 123, in generate\n",
            "    image = _blend_images(fg_image, bg_image, self.visibility_check)\n",
            "  File \"/content/synthtiger/examples/synthtiger/template.py\", line 287, in _blend_images\n",
            "    raise RuntimeError(\"Text is not visible\")\n",
            "RuntimeError: Text is not visible\n",
            "\n",
            "Generated 3 data (task 4)\n",
            "Generated 4 data (task 2)\n",
            "Generated 5 data (task 6)\n",
            "Generated 6 data (task 1)\n",
            "Generated 7 data (task 5)\n",
            "Generated 8 data (task 7)\n",
            "Generated 9 data (task 8)\n",
            "Generated 10 data (task 9)\n",
            "Generated 11 data (task 13)\n",
            "Generated 12 data (task 10)\n",
            "Generated 13 data (task 12)\n",
            "Generated 14 data (task 16)\n",
            "Generated 15 data (task 17)\n",
            "Generated 16 data (task 15)\n",
            "Generated 17 data (task 11)\n",
            "Traceback (most recent call last):\n",
            "  File \"/usr/local/lib/python3.10/dist-packages/synthtiger/gen.py\", line 121, in _generate\n",
            "    data = template.generate()\n",
            "  File \"/content/synthtiger/examples/synthtiger/template.py\", line 121, in generate\n",
            "    bg_image = _blend_images(mg_image, bg_image, self.visibility_check)\n",
            "  File \"/content/synthtiger/examples/synthtiger/template.py\", line 287, in _blend_images\n",
            "    raise RuntimeError(\"Text is not visible\")\n",
            "RuntimeError: Text is not visible\n",
            "\n",
            "Generated 18 data (task 19)\n",
            "Generated 19 data (task 20)\n",
            "Generated 20 data (task 14)\n",
            "Generated 21 data (task 22)\n",
            "Generated 22 data (task 21)\n",
            "Generated 23 data (task 18)\n",
            "Generated 24 data (task 23)\n",
            "Generated 25 data (task 26)\n",
            "Generated 26 data (task 24)\n",
            "Generated 27 data (task 28)\n",
            "Generated 28 data (task 25)\n",
            "Generated 29 data (task 27)\n",
            "Generated 30 data (task 31)\n",
            "Generated 31 data (task 29)\n",
            "Generated 32 data (task 33)\n",
            "Generated 33 data (task 32)\n",
            "Generated 34 data (task 30)\n",
            "Generated 35 data (task 35)\n",
            "Generated 36 data (task 36)\n",
            "Generated 37 data (task 38)\n",
            "Generated 38 data (task 37)\n",
            "Generated 39 data (task 39)\n",
            "Generated 40 data (task 42)\n",
            "Generated 41 data (task 41)\n",
            "Generated 42 data (task 43)\n",
            "Generated 43 data (task 44)\n",
            "Generated 44 data (task 34)\n",
            "Generated 45 data (task 45)\n",
            "Generated 46 data (task 40)\n",
            "Generated 47 data (task 47)\n",
            "Generated 48 data (task 46)\n",
            "Generated 49 data (task 50)\n",
            "Generated 50 data (task 48)\n",
            "Traceback (most recent call last):\n",
            "  File \"/usr/local/lib/python3.10/dist-packages/synthtiger/gen.py\", line 121, in _generate\n",
            "    data = template.generate()\n",
            "  File \"/content/synthtiger/examples/synthtiger/template.py\", line 123, in generate\n",
            "    image = _blend_images(fg_image, bg_image, self.visibility_check)\n",
            "  File \"/content/synthtiger/examples/synthtiger/template.py\", line 287, in _blend_images\n",
            "    raise RuntimeError(\"Text is not visible\")\n",
            "RuntimeError: Text is not visible\n",
            "\n",
            "Generated 51 data (task 52)\n",
            "Traceback (most recent call last):\n",
            "  File \"/usr/local/lib/python3.10/dist-packages/synthtiger/gen.py\", line 121, in _generate\n",
            "    data = template.generate()\n",
            "  File \"/content/synthtiger/examples/synthtiger/template.py\", line 123, in generate\n",
            "    image = _blend_images(fg_image, bg_image, self.visibility_check)\n",
            "  File \"/content/synthtiger/examples/synthtiger/template.py\", line 287, in _blend_images\n",
            "    raise RuntimeError(\"Text is not visible\")\n",
            "RuntimeError: Text is not visible\n",
            "\n",
            "Generated 52 data (task 51)\n",
            "Generated 53 data (task 54)\n",
            "Generated 54 data (task 53)\n",
            "Generated 55 data (task 49)\n",
            "Generated 56 data (task 56)\n",
            "Generated 57 data (task 59)\n",
            "Generated 58 data (task 55)\n",
            "Generated 59 data (task 58)\n",
            "Generated 60 data (task 62)\n",
            "Generated 61 data (task 61)\n",
            "Generated 62 data (task 57)\n",
            "Generated 63 data (task 60)\n",
            "Generated 64 data (task 63)\n",
            "Generated 65 data (task 67)\n",
            "Generated 66 data (task 66)\n",
            "Traceback (most recent call last):\n",
            "  File \"/usr/local/lib/python3.10/dist-packages/synthtiger/gen.py\", line 121, in _generate\n",
            "    data = template.generate()\n",
            "  File \"/content/synthtiger/examples/synthtiger/template.py\", line 123, in generate\n",
            "    image = _blend_images(fg_image, bg_image, self.visibility_check)\n",
            "  File \"/content/synthtiger/examples/synthtiger/template.py\", line 287, in _blend_images\n",
            "    raise RuntimeError(\"Text is not visible\")\n",
            "RuntimeError: Text is not visible\n",
            "\n",
            "Generated 67 data (task 68)\n",
            "Generated 68 data (task 69)\n",
            "Generated 69 data (task 64)\n",
            "Generated 70 data (task 71)\n",
            "Traceback (most recent call last):\n",
            "  File \"/usr/local/lib/python3.10/dist-packages/synthtiger/gen.py\", line 121, in _generate\n",
            "    data = template.generate()\n",
            "  File \"/content/synthtiger/examples/synthtiger/template.py\", line 121, in generate\n",
            "    bg_image = _blend_images(mg_image, bg_image, self.visibility_check)\n",
            "  File \"/content/synthtiger/examples/synthtiger/template.py\", line 287, in _blend_images\n",
            "    raise RuntimeError(\"Text is not visible\")\n",
            "RuntimeError: Text is not visible\n",
            "\n",
            "Generated 71 data (task 65)\n",
            "Generated 72 data (task 73)\n",
            "Generated 73 data (task 70)\n",
            "Generated 74 data (task 75)\n",
            "Generated 75 data (task 76)\n",
            "Generated 76 data (task 72)\n",
            "Generated 77 data (task 74)\n",
            "Generated 78 data (task 77)\n",
            "Generated 79 data (task 78)\n",
            "Generated 80 data (task 79)\n",
            "Generated 81 data (task 80)\n",
            "Generated 82 data (task 82)\n",
            "Traceback (most recent call last):\n",
            "  File \"/usr/local/lib/python3.10/dist-packages/synthtiger/gen.py\", line 121, in _generate\n",
            "    data = template.generate()\n",
            "  File \"/content/synthtiger/examples/synthtiger/template.py\", line 123, in generate\n",
            "    image = _blend_images(fg_image, bg_image, self.visibility_check)\n",
            "  File \"/content/synthtiger/examples/synthtiger/template.py\", line 287, in _blend_images\n",
            "    raise RuntimeError(\"Text is not visible\")\n",
            "RuntimeError: Text is not visible\n",
            "\n",
            "Generated 83 data (task 84)\n",
            "Generated 84 data (task 83)\n",
            "Generated 85 data (task 86)\n",
            "Generated 86 data (task 88)\n",
            "Generated 87 data (task 85)\n",
            "Generated 88 data (task 87)\n",
            "Generated 89 data (task 90)\n",
            "Generated 90 data (task 81)\n",
            "Generated 91 data (task 91)\n",
            "Generated 92 data (task 89)\n",
            "Generated 93 data (task 94)\n",
            "Generated 94 data (task 92)\n",
            "Generated 95 data (task 96)\n",
            "Generated 96 data (task 97)\n",
            "Generated 97 data (task 95)\n",
            "Generated 98 data (task 93)\n",
            "Traceback (most recent call last):\n",
            "  File \"/usr/local/lib/python3.10/dist-packages/synthtiger/gen.py\", line 121, in _generate\n",
            "    data = template.generate()\n",
            "  File \"/content/synthtiger/examples/synthtiger/template.py\", line 123, in generate\n",
            "    image = _blend_images(fg_image, bg_image, self.visibility_check)\n",
            "  File \"/content/synthtiger/examples/synthtiger/template.py\", line 287, in _blend_images\n",
            "    raise RuntimeError(\"Text is not visible\")\n",
            "RuntimeError: Text is not visible\n",
            "\n",
            "Generated 99 data (task 98)\n",
            "Generated 100 data (task 99)\n",
            "33.86 seconds elapsed\n"
          ]
        }
      ]
    },
    {
      "cell_type": "markdown",
      "source": [
        "# SimpleHTR"
      ],
      "metadata": {
        "id": "K2a4np2IPQff"
      }
    },
    {
      "cell_type": "code",
      "source": [
        "! git clone https://github.com/githubharald/SimpleHTR"
      ],
      "metadata": {
        "colab": {
          "base_uri": "https://localhost:8080/"
        },
        "id": "OftZ3qY6PZ3W",
        "outputId": "453ace87-ee73-41be-afe9-7e84551a9d6e"
      },
      "execution_count": null,
      "outputs": [
        {
          "output_type": "stream",
          "name": "stdout",
          "text": [
            "Cloning into 'SimpleHTR'...\n",
            "remote: Enumerating objects: 568, done.\u001b[K\n",
            "remote: Counting objects: 100% (568/568), done.\u001b[K\n",
            "remote: Compressing objects: 100% (262/262), done.\u001b[K\n",
            "remote: Total 568 (delta 315), reused 537 (delta 304), pack-reused 0\u001b[K\n",
            "Receiving objects: 100% (568/568), 78.96 MiB | 38.98 MiB/s, done.\n",
            "Resolving deltas: 100% (315/315), done.\n"
          ]
        }
      ]
    },
    {
      "cell_type": "code",
      "source": [
        "! git clone https://github.com/githubharald/CTCWordBeamSearch\n"
      ],
      "metadata": {
        "colab": {
          "base_uri": "https://localhost:8080/"
        },
        "id": "WIIf4DYUbL1H",
        "outputId": "0795e2d0-3eea-4e34-c503-085ebd8b853c"
      },
      "execution_count": null,
      "outputs": [
        {
          "output_type": "stream",
          "name": "stdout",
          "text": [
            "Cloning into 'CTCWordBeamSearch'...\n",
            "remote: Enumerating objects: 430, done.\u001b[K\n",
            "remote: Counting objects: 100% (89/89), done.\u001b[K\n",
            "remote: Compressing objects: 100% (59/59), done.\u001b[K\n",
            "remote: Total 430 (delta 31), reused 44 (delta 28), pack-reused 341\u001b[K\n",
            "Receiving objects: 100% (430/430), 1.97 MiB | 7.16 MiB/s, done.\n",
            "Resolving deltas: 100% (156/156), done.\n"
          ]
        }
      ]
    },
    {
      "cell_type": "code",
      "source": [
        "! pip install CTCWordBeamSearch\n",
        "%cd CTCWordBeamSearch\n",
        "! pip install ."
      ],
      "metadata": {
        "colab": {
          "base_uri": "https://localhost:8080/"
        },
        "id": "9C0JXuFlcZFz",
        "outputId": "3dd0ae13-29cd-4aa5-81fc-4509bbb03e1d"
      },
      "execution_count": null,
      "outputs": [
        {
          "output_type": "stream",
          "name": "stdout",
          "text": [
            "\u001b[31mERROR: Could not find a version that satisfies the requirement CTCWordBeamSearch (from versions: none)\u001b[0m\u001b[31m\n",
            "\u001b[0m\u001b[31mERROR: No matching distribution found for CTCWordBeamSearch\u001b[0m\u001b[31m\n",
            "\u001b[0m/content/synthtiger/CTCWordBeamSearch\n",
            "Processing /content/synthtiger/CTCWordBeamSearch\n",
            "  Preparing metadata (setup.py) ... \u001b[?25l\u001b[?25hdone\n",
            "Requirement already satisfied: numpy in /usr/local/lib/python3.10/dist-packages (from word-beam-search==1.0.1) (1.25.2)\n",
            "Building wheels for collected packages: word-beam-search\n",
            "  Building wheel for word-beam-search (setup.py) ... \u001b[?25l\u001b[?25hdone\n",
            "  Created wheel for word-beam-search: filename=word_beam_search-1.0.1-cp310-cp310-linux_x86_64.whl size=1705912 sha256=193cc6232599840c62ea03605b242bc1ba637a88a955f1831c05dd427c031b25\n",
            "  Stored in directory: /tmp/pip-ephem-wheel-cache-9bx5tr0c/wheels/6f/f5/5f/8ebe1336fd28937e0e52b2ce8da15de740fdad94c16e0891f0\n",
            "Successfully built word-beam-search\n",
            "Installing collected packages: word-beam-search\n",
            "Successfully installed word-beam-search-1.0.1\n"
          ]
        }
      ]
    },
    {
      "cell_type": "code",
      "source": [
        "import numpy as np\n",
        "from word_beam_search import WordBeamSearch\n",
        "\n",
        "corpus = 'ลด สด ลัด'  # two words \"a\" and \"ba\", separated by whitespace\n",
        "chars = 'ลดสั '  # the characters that can be recognized (in this order)\n",
        "word_chars = 'ลดสั'  # characters that form words\n",
        "\n",
        "# RNN output\n",
        "# 3 time-steps and 4 characters per time time (\"a\", \"b\", \" \", CTC-blank)\n",
        "mat = np.array([\n",
        "    [[0.0, 0.0, 1.0, 0.0, 0.0, 0.0]],\n",
        "    [[0.0, 0.0, 1.0, 0.0, 0.0, 0.0]],\n",
        "    [[0.0, 0.0, 0.0, 1.0, 0.0, 0.0]],\n",
        "    [[0.4, 0.6, 0.0, 0.0, 0.0, 0.0]]\n",
        "])\n",
        "\n",
        "# initialize word beam search (only do this once in your code)\n",
        "wbs = WordBeamSearch(\n",
        "    25,\n",
        "    'Words', # \"NGrams\", \"NGramsForecast\", \"NGramsForecastAndSample\"\n",
        "    0.0,\n",
        "    corpus.encode('utf8'),\n",
        "    chars.encode('utf8'),\n",
        "    word_chars.encode('utf8')\n",
        ")\n",
        "\n",
        "# compute label string\n",
        "label_str = wbs.compute(mat)\n",
        "\n",
        "char_str = [''.join(chars[label] for label in curr_label_str) for curr_label_str in label_str]\n",
        "\n",
        "\n",
        "char_str"
      ],
      "metadata": {
        "colab": {
          "base_uri": "https://localhost:8080/"
        },
        "id": "eVXKB1ITbPJu",
        "outputId": "df0b59a0-8cf0-478e-8b27-d41a2bcb580c"
      },
      "execution_count": null,
      "outputs": [
        {
          "output_type": "execute_result",
          "data": {
            "text/plain": [
              "['   ล']"
            ]
          },
          "metadata": {},
          "execution_count": 23
        }
      ]
    },
    {
      "cell_type": "code",
      "source": [],
      "metadata": {
        "id": "0GiNyM_xb5L-"
      },
      "execution_count": null,
      "outputs": []
    }
  ]
}