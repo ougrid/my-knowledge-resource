{
  "nbformat": 4,
  "nbformat_minor": 0,
  "metadata": {
    "colab": {
      "provenance": [],
      "include_colab_link": true
    },
    "kernelspec": {
      "name": "python3",
      "display_name": "Python 3"
    },
    "language_info": {
      "name": "python"
    },
    "accelerator": "GPU",
    "gpuClass": "standard",
    "widgets": {
      "application/vnd.jupyter.widget-state+json": {
        "7db2cf6bcd524548b65eafeb88097130": {
          "model_module": "@jupyter-widgets/controls",
          "model_name": "HBoxModel",
          "model_module_version": "1.5.0",
          "state": {
            "_dom_classes": [],
            "_model_module": "@jupyter-widgets/controls",
            "_model_module_version": "1.5.0",
            "_model_name": "HBoxModel",
            "_view_count": null,
            "_view_module": "@jupyter-widgets/controls",
            "_view_module_version": "1.5.0",
            "_view_name": "HBoxView",
            "box_style": "",
            "children": [
              "IPY_MODEL_1092ec2455a0433da69320fb6cfcea38",
              "IPY_MODEL_4724a96f9c80401992fb04671436ae9f",
              "IPY_MODEL_c239d9b56d9048618987361347c09774"
            ],
            "layout": "IPY_MODEL_a28150da74b544ad8d92d53417dad33e"
          }
        },
        "1092ec2455a0433da69320fb6cfcea38": {
          "model_module": "@jupyter-widgets/controls",
          "model_name": "HTMLModel",
          "model_module_version": "1.5.0",
          "state": {
            "_dom_classes": [],
            "_model_module": "@jupyter-widgets/controls",
            "_model_module_version": "1.5.0",
            "_model_name": "HTMLModel",
            "_view_count": null,
            "_view_module": "@jupyter-widgets/controls",
            "_view_module_version": "1.5.0",
            "_view_name": "HTMLView",
            "description": "",
            "description_tooltip": null,
            "layout": "IPY_MODEL_0cec782fc8734a62ace98b335b6ebb99",
            "placeholder": "​",
            "style": "IPY_MODEL_517bab0bdc7d479e89c8566324821139",
            "value": "100%"
          }
        },
        "4724a96f9c80401992fb04671436ae9f": {
          "model_module": "@jupyter-widgets/controls",
          "model_name": "FloatProgressModel",
          "model_module_version": "1.5.0",
          "state": {
            "_dom_classes": [],
            "_model_module": "@jupyter-widgets/controls",
            "_model_module_version": "1.5.0",
            "_model_name": "FloatProgressModel",
            "_view_count": null,
            "_view_module": "@jupyter-widgets/controls",
            "_view_module_version": "1.5.0",
            "_view_name": "ProgressView",
            "bar_style": "success",
            "description": "",
            "description_tooltip": null,
            "layout": "IPY_MODEL_6f206afd75504b859f30651b12c93552",
            "max": 3,
            "min": 0,
            "orientation": "horizontal",
            "style": "IPY_MODEL_522601546fcf4ddab04cc995e213d815",
            "value": 3
          }
        },
        "c239d9b56d9048618987361347c09774": {
          "model_module": "@jupyter-widgets/controls",
          "model_name": "HTMLModel",
          "model_module_version": "1.5.0",
          "state": {
            "_dom_classes": [],
            "_model_module": "@jupyter-widgets/controls",
            "_model_module_version": "1.5.0",
            "_model_name": "HTMLModel",
            "_view_count": null,
            "_view_module": "@jupyter-widgets/controls",
            "_view_module_version": "1.5.0",
            "_view_name": "HTMLView",
            "description": "",
            "description_tooltip": null,
            "layout": "IPY_MODEL_cf8de6159198474e81637f19328650dc",
            "placeholder": "​",
            "style": "IPY_MODEL_9eee9226ca6047498d0532dd2cb3b505",
            "value": " 3/3 [00:00&lt;00:00, 61.66it/s]"
          }
        },
        "a28150da74b544ad8d92d53417dad33e": {
          "model_module": "@jupyter-widgets/base",
          "model_name": "LayoutModel",
          "model_module_version": "1.2.0",
          "state": {
            "_model_module": "@jupyter-widgets/base",
            "_model_module_version": "1.2.0",
            "_model_name": "LayoutModel",
            "_view_count": null,
            "_view_module": "@jupyter-widgets/base",
            "_view_module_version": "1.2.0",
            "_view_name": "LayoutView",
            "align_content": null,
            "align_items": null,
            "align_self": null,
            "border": null,
            "bottom": null,
            "display": null,
            "flex": null,
            "flex_flow": null,
            "grid_area": null,
            "grid_auto_columns": null,
            "grid_auto_flow": null,
            "grid_auto_rows": null,
            "grid_column": null,
            "grid_gap": null,
            "grid_row": null,
            "grid_template_areas": null,
            "grid_template_columns": null,
            "grid_template_rows": null,
            "height": null,
            "justify_content": null,
            "justify_items": null,
            "left": null,
            "margin": null,
            "max_height": null,
            "max_width": null,
            "min_height": null,
            "min_width": null,
            "object_fit": null,
            "object_position": null,
            "order": null,
            "overflow": null,
            "overflow_x": null,
            "overflow_y": null,
            "padding": null,
            "right": null,
            "top": null,
            "visibility": null,
            "width": null
          }
        },
        "0cec782fc8734a62ace98b335b6ebb99": {
          "model_module": "@jupyter-widgets/base",
          "model_name": "LayoutModel",
          "model_module_version": "1.2.0",
          "state": {
            "_model_module": "@jupyter-widgets/base",
            "_model_module_version": "1.2.0",
            "_model_name": "LayoutModel",
            "_view_count": null,
            "_view_module": "@jupyter-widgets/base",
            "_view_module_version": "1.2.0",
            "_view_name": "LayoutView",
            "align_content": null,
            "align_items": null,
            "align_self": null,
            "border": null,
            "bottom": null,
            "display": null,
            "flex": null,
            "flex_flow": null,
            "grid_area": null,
            "grid_auto_columns": null,
            "grid_auto_flow": null,
            "grid_auto_rows": null,
            "grid_column": null,
            "grid_gap": null,
            "grid_row": null,
            "grid_template_areas": null,
            "grid_template_columns": null,
            "grid_template_rows": null,
            "height": null,
            "justify_content": null,
            "justify_items": null,
            "left": null,
            "margin": null,
            "max_height": null,
            "max_width": null,
            "min_height": null,
            "min_width": null,
            "object_fit": null,
            "object_position": null,
            "order": null,
            "overflow": null,
            "overflow_x": null,
            "overflow_y": null,
            "padding": null,
            "right": null,
            "top": null,
            "visibility": null,
            "width": null
          }
        },
        "517bab0bdc7d479e89c8566324821139": {
          "model_module": "@jupyter-widgets/controls",
          "model_name": "DescriptionStyleModel",
          "model_module_version": "1.5.0",
          "state": {
            "_model_module": "@jupyter-widgets/controls",
            "_model_module_version": "1.5.0",
            "_model_name": "DescriptionStyleModel",
            "_view_count": null,
            "_view_module": "@jupyter-widgets/base",
            "_view_module_version": "1.2.0",
            "_view_name": "StyleView",
            "description_width": ""
          }
        },
        "6f206afd75504b859f30651b12c93552": {
          "model_module": "@jupyter-widgets/base",
          "model_name": "LayoutModel",
          "model_module_version": "1.2.0",
          "state": {
            "_model_module": "@jupyter-widgets/base",
            "_model_module_version": "1.2.0",
            "_model_name": "LayoutModel",
            "_view_count": null,
            "_view_module": "@jupyter-widgets/base",
            "_view_module_version": "1.2.0",
            "_view_name": "LayoutView",
            "align_content": null,
            "align_items": null,
            "align_self": null,
            "border": null,
            "bottom": null,
            "display": null,
            "flex": null,
            "flex_flow": null,
            "grid_area": null,
            "grid_auto_columns": null,
            "grid_auto_flow": null,
            "grid_auto_rows": null,
            "grid_column": null,
            "grid_gap": null,
            "grid_row": null,
            "grid_template_areas": null,
            "grid_template_columns": null,
            "grid_template_rows": null,
            "height": null,
            "justify_content": null,
            "justify_items": null,
            "left": null,
            "margin": null,
            "max_height": null,
            "max_width": null,
            "min_height": null,
            "min_width": null,
            "object_fit": null,
            "object_position": null,
            "order": null,
            "overflow": null,
            "overflow_x": null,
            "overflow_y": null,
            "padding": null,
            "right": null,
            "top": null,
            "visibility": null,
            "width": null
          }
        },
        "522601546fcf4ddab04cc995e213d815": {
          "model_module": "@jupyter-widgets/controls",
          "model_name": "ProgressStyleModel",
          "model_module_version": "1.5.0",
          "state": {
            "_model_module": "@jupyter-widgets/controls",
            "_model_module_version": "1.5.0",
            "_model_name": "ProgressStyleModel",
            "_view_count": null,
            "_view_module": "@jupyter-widgets/base",
            "_view_module_version": "1.2.0",
            "_view_name": "StyleView",
            "bar_color": null,
            "description_width": ""
          }
        },
        "cf8de6159198474e81637f19328650dc": {
          "model_module": "@jupyter-widgets/base",
          "model_name": "LayoutModel",
          "model_module_version": "1.2.0",
          "state": {
            "_model_module": "@jupyter-widgets/base",
            "_model_module_version": "1.2.0",
            "_model_name": "LayoutModel",
            "_view_count": null,
            "_view_module": "@jupyter-widgets/base",
            "_view_module_version": "1.2.0",
            "_view_name": "LayoutView",
            "align_content": null,
            "align_items": null,
            "align_self": null,
            "border": null,
            "bottom": null,
            "display": null,
            "flex": null,
            "flex_flow": null,
            "grid_area": null,
            "grid_auto_columns": null,
            "grid_auto_flow": null,
            "grid_auto_rows": null,
            "grid_column": null,
            "grid_gap": null,
            "grid_row": null,
            "grid_template_areas": null,
            "grid_template_columns": null,
            "grid_template_rows": null,
            "height": null,
            "justify_content": null,
            "justify_items": null,
            "left": null,
            "margin": null,
            "max_height": null,
            "max_width": null,
            "min_height": null,
            "min_width": null,
            "object_fit": null,
            "object_position": null,
            "order": null,
            "overflow": null,
            "overflow_x": null,
            "overflow_y": null,
            "padding": null,
            "right": null,
            "top": null,
            "visibility": null,
            "width": null
          }
        },
        "9eee9226ca6047498d0532dd2cb3b505": {
          "model_module": "@jupyter-widgets/controls",
          "model_name": "DescriptionStyleModel",
          "model_module_version": "1.5.0",
          "state": {
            "_model_module": "@jupyter-widgets/controls",
            "_model_module_version": "1.5.0",
            "_model_name": "DescriptionStyleModel",
            "_view_count": null,
            "_view_module": "@jupyter-widgets/base",
            "_view_module_version": "1.2.0",
            "_view_name": "StyleView",
            "description_width": ""
          }
        }
      }
    }
  },
  "cells": [
    {
      "cell_type": "markdown",
      "metadata": {
        "id": "view-in-github",
        "colab_type": "text"
      },
      "source": [
        "<a href=\"https://colab.research.google.com/github/ougrid/my-knowledge-resource/blob/master/NER_Hakcathon_LSTM.ipynb\" target=\"_parent\"><img src=\"https://colab.research.google.com/assets/colab-badge.svg\" alt=\"Open In Colab\"/></a>"
      ]
    },
    {
      "cell_type": "markdown",
      "source": [
        "# Super AI Season 3 Named-entity-recognition Hackathon\n",
        "LST20 Dataset\n",
        "\n",
        "Prerequisite\n",
        "Following files: \n",
        "- `ne_test.txt`\n",
        "- `AIFORTHAI-LST20Corpus.tar.gz`\n",
        "- `ne_sample_submission.csv`\n",
        "\n",
        "Hackathon link: https://www.kaggle.com/competitions/ss3-hackathon-online-natural-language-processing\n",
        "\n",
        "### Q: Is this the code I used to get Rank 3 on private scoreboard?\n",
        "A: No, That high score is obtain by [Ensemble Method](https://towardsdatascience.com/ensemble-methods-bagging-boosting-and-stacking-c9214a10a205) of three Bert models and not worth sharing at all!\n",
        "\n",
        "### Q: Then How much score you get with this code?\n",
        "A: ![image.png](data:image/png;base64,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)\n",
        "\n",
        "A: Around 0.95 Micro F1 Score. Little bit lower than Finetuning Bert model (0.96) but with **just 3 Millions parameters** compare to Bert with 100 Millions at minimum."
      ],
      "metadata": {
        "id": "etgphs-aeFqp"
      }
    },
    {
      "cell_type": "markdown",
      "source": [
        "## Install, Import, and Extract files"
      ],
      "metadata": {
        "id": "YiPVsIudeMlT"
      }
    },
    {
      "cell_type": "code",
      "execution_count": null,
      "metadata": {
        "colab": {
          "base_uri": "https://localhost:8080/"
        },
        "id": "Rcc4dmQDbSFa",
        "outputId": "0c042b3d-9601-4423-b985-837f2bc41a99"
      },
      "outputs": [
        {
          "output_type": "stream",
          "name": "stdout",
          "text": [
            "Looking in indexes: https://pypi.org/simple, https://us-python.pkg.dev/colab-wheels/public/simple/\n",
            "Requirement already satisfied: datasets in /usr/local/lib/python3.7/dist-packages (2.7.0)\n",
            "Collecting pythainlp\n",
            "  Downloading pythainlp-3.1.1-py3-none-any.whl (9.6 MB)\n",
            "\u001b[K     |████████████████████████████████| 9.6 MB 8.6 MB/s \n",
            "\u001b[?25hCollecting python-crfsuite\n",
            "  Downloading python_crfsuite-0.9.8-cp37-cp37m-manylinux_2_17_x86_64.manylinux2014_x86_64.whl (965 kB)\n",
            "\u001b[K     |████████████████████████████████| 965 kB 59.9 MB/s \n",
            "\u001b[?25hRequirement already satisfied: pandas in /usr/local/lib/python3.7/dist-packages (from datasets) (1.3.5)\n",
            "Requirement already satisfied: dill<0.3.7 in /usr/local/lib/python3.7/dist-packages (from datasets) (0.3.6)\n",
            "Requirement already satisfied: fsspec[http]>=2021.11.1 in /usr/local/lib/python3.7/dist-packages (from datasets) (2022.11.0)\n",
            "Requirement already satisfied: aiohttp in /usr/local/lib/python3.7/dist-packages (from datasets) (3.8.3)\n",
            "Requirement already satisfied: packaging in /usr/local/lib/python3.7/dist-packages (from datasets) (21.3)\n",
            "Requirement already satisfied: responses<0.19 in /usr/local/lib/python3.7/dist-packages (from datasets) (0.18.0)\n",
            "Requirement already satisfied: numpy>=1.17 in /usr/local/lib/python3.7/dist-packages (from datasets) (1.21.6)\n",
            "Requirement already satisfied: importlib-metadata in /usr/local/lib/python3.7/dist-packages (from datasets) (4.13.0)\n",
            "Requirement already satisfied: pyyaml>=5.1 in /usr/local/lib/python3.7/dist-packages (from datasets) (6.0)\n",
            "Requirement already satisfied: pyarrow>=6.0.0 in /usr/local/lib/python3.7/dist-packages (from datasets) (6.0.1)\n",
            "Requirement already satisfied: multiprocess in /usr/local/lib/python3.7/dist-packages (from datasets) (0.70.14)\n",
            "Requirement already satisfied: xxhash in /usr/local/lib/python3.7/dist-packages (from datasets) (3.1.0)\n",
            "Requirement already satisfied: tqdm>=4.62.1 in /usr/local/lib/python3.7/dist-packages (from datasets) (4.64.1)\n",
            "Requirement already satisfied: huggingface-hub<1.0.0,>=0.2.0 in /usr/local/lib/python3.7/dist-packages (from datasets) (0.11.0)\n",
            "Requirement already satisfied: requests>=2.19.0 in /usr/local/lib/python3.7/dist-packages (from datasets) (2.23.0)\n",
            "Requirement already satisfied: frozenlist>=1.1.1 in /usr/local/lib/python3.7/dist-packages (from aiohttp->datasets) (1.3.3)\n",
            "Requirement already satisfied: asynctest==0.13.0 in /usr/local/lib/python3.7/dist-packages (from aiohttp->datasets) (0.13.0)\n",
            "Requirement already satisfied: aiosignal>=1.1.2 in /usr/local/lib/python3.7/dist-packages (from aiohttp->datasets) (1.3.1)\n",
            "Requirement already satisfied: yarl<2.0,>=1.0 in /usr/local/lib/python3.7/dist-packages (from aiohttp->datasets) (1.8.1)\n",
            "Requirement already satisfied: multidict<7.0,>=4.5 in /usr/local/lib/python3.7/dist-packages (from aiohttp->datasets) (6.0.2)\n",
            "Requirement already satisfied: charset-normalizer<3.0,>=2.0 in /usr/local/lib/python3.7/dist-packages (from aiohttp->datasets) (2.1.1)\n",
            "Requirement already satisfied: typing-extensions>=3.7.4 in /usr/local/lib/python3.7/dist-packages (from aiohttp->datasets) (4.1.1)\n",
            "Requirement already satisfied: attrs>=17.3.0 in /usr/local/lib/python3.7/dist-packages (from aiohttp->datasets) (22.1.0)\n",
            "Requirement already satisfied: async-timeout<5.0,>=4.0.0a3 in /usr/local/lib/python3.7/dist-packages (from aiohttp->datasets) (4.0.2)\n",
            "Requirement already satisfied: filelock in /usr/local/lib/python3.7/dist-packages (from huggingface-hub<1.0.0,>=0.2.0->datasets) (3.8.0)\n",
            "Requirement already satisfied: pyparsing!=3.0.5,>=2.0.2 in /usr/local/lib/python3.7/dist-packages (from packaging->datasets) (3.0.9)\n",
            "Requirement already satisfied: urllib3!=1.25.0,!=1.25.1,<1.26,>=1.21.1 in /usr/local/lib/python3.7/dist-packages (from requests>=2.19.0->datasets) (1.25.11)\n",
            "Requirement already satisfied: certifi>=2017.4.17 in /usr/local/lib/python3.7/dist-packages (from requests>=2.19.0->datasets) (2022.9.24)\n",
            "Requirement already satisfied: idna<3,>=2.5 in /usr/local/lib/python3.7/dist-packages (from requests>=2.19.0->datasets) (2.10)\n",
            "Requirement already satisfied: chardet<4,>=3.0.2 in /usr/local/lib/python3.7/dist-packages (from requests>=2.19.0->datasets) (3.0.4)\n",
            "Requirement already satisfied: zipp>=0.5 in /usr/local/lib/python3.7/dist-packages (from importlib-metadata->datasets) (3.10.0)\n",
            "Requirement already satisfied: pytz>=2017.3 in /usr/local/lib/python3.7/dist-packages (from pandas->datasets) (2022.6)\n",
            "Requirement already satisfied: python-dateutil>=2.7.3 in /usr/local/lib/python3.7/dist-packages (from pandas->datasets) (2.8.2)\n",
            "Requirement already satisfied: six>=1.5 in /usr/local/lib/python3.7/dist-packages (from python-dateutil>=2.7.3->pandas->datasets) (1.15.0)\n",
            "Installing collected packages: python-crfsuite, pythainlp\n",
            "Successfully installed pythainlp-3.1.1 python-crfsuite-0.9.8\n"
          ]
        }
      ],
      "source": [
        "!pip install datasets pythainlp python-crfsuite"
      ]
    },
    {
      "cell_type": "code",
      "source": [
        "!tar -xf AIFORTHAI-LST20Corpus.tar.gz"
      ],
      "metadata": {
        "id": "08l0y5GVbk9H"
      },
      "execution_count": null,
      "outputs": []
    },
    {
      "cell_type": "code",
      "source": [
        "from datasets import load_dataset\n",
        "import pandas as pd\n",
        "from sklearn.preprocessing import LabelEncoder\n",
        "from tqdm.auto import tqdm\n",
        "import tensorflow as tf"
      ],
      "metadata": {
        "id": "Xgw9iIqTcUuL"
      },
      "execution_count": null,
      "outputs": []
    },
    {
      "cell_type": "code",
      "source": [
        "dataset = load_dataset(\"lst20\", data_dir='/content/LST20_Corpus')"
      ],
      "metadata": {
        "colab": {
          "base_uri": "https://localhost:8080/",
          "height": 105,
          "referenced_widgets": [
            "7db2cf6bcd524548b65eafeb88097130",
            "1092ec2455a0433da69320fb6cfcea38",
            "4724a96f9c80401992fb04671436ae9f",
            "c239d9b56d9048618987361347c09774",
            "a28150da74b544ad8d92d53417dad33e",
            "0cec782fc8734a62ace98b335b6ebb99",
            "517bab0bdc7d479e89c8566324821139",
            "6f206afd75504b859f30651b12c93552",
            "522601546fcf4ddab04cc995e213d815",
            "cf8de6159198474e81637f19328650dc",
            "9eee9226ca6047498d0532dd2cb3b505"
          ]
        },
        "id": "7hrjXfqKbUW5",
        "outputId": "1395287e-3c58-426c-c3df-e976f67e6bbd"
      },
      "execution_count": null,
      "outputs": [
        {
          "output_type": "stream",
          "name": "stderr",
          "text": [
            "WARNING:datasets.builder:Using custom data configuration default-97621787f5b60e1b\n",
            "WARNING:datasets.builder:Found cached dataset lst20 (/root/.cache/huggingface/datasets/lst20/default-97621787f5b60e1b/0.0.0/e1b2a921fb011578ab43ddbbf789f3c500d62cb2df8ae4ed4b60bae8e4c0d3ad)\n"
          ]
        },
        {
          "output_type": "display_data",
          "data": {
            "text/plain": [
              "  0%|          | 0/3 [00:00<?, ?it/s]"
            ],
            "application/vnd.jupyter.widget-view+json": {
              "version_major": 2,
              "version_minor": 0,
              "model_id": "7db2cf6bcd524548b65eafeb88097130"
            }
          },
          "metadata": {}
        }
      ]
    },
    {
      "cell_type": "markdown",
      "source": [
        "## Load Dataset"
      ],
      "metadata": {
        "id": "UkoQ2FIUeegN"
      }
    },
    {
      "cell_type": "code",
      "source": [
        "df_train = pd.DataFrame(dataset['train'])\n",
        "df_val = pd.DataFrame(dataset['validation'])"
      ],
      "metadata": {
        "id": "C4Mp7WXxbUxr"
      },
      "execution_count": null,
      "outputs": []
    },
    {
      "cell_type": "markdown",
      "source": [
        "## Preprocess Data"
      ],
      "metadata": {
        "id": "delf6nspeh-q"
      }
    },
    {
      "cell_type": "code",
      "source": [
        "\"\"\"Pad Sequences\"\"\"\n",
        "max_len = 256  # Sequence length to pad the outputs to.\n",
        "y_train = tf.keras.preprocessing.sequence.pad_sequences(df_train['ner_tags'], maxlen=max_len, padding='post', truncating='post')\n",
        "y_val = tf.keras.preprocessing.sequence.pad_sequences(df_val['ner_tags'], maxlen=max_len, padding='post', truncating='post')\n",
        "\n",
        "X_train = df_train['tokens'].tolist()\n",
        "X_val = df_val['tokens'].tolist()"
      ],
      "metadata": {
        "id": "VGIYqbQtiZWy"
      },
      "execution_count": null,
      "outputs": []
    },
    {
      "cell_type": "code",
      "source": [
        "\"\"\"Create Token Dictionary\"\"\"\n",
        "count = 1\n",
        "dictionary = {}\n",
        "for item in X_train:\n",
        "  for token in item:\n",
        "    if token not in dictionary.keys():\n",
        "      dictionary[token] = count\n",
        "      count += 1\n",
        "unknown_count = count + 1"
      ],
      "metadata": {
        "id": "EdQD2a9hx_v8"
      },
      "execution_count": null,
      "outputs": []
    },
    {
      "cell_type": "code",
      "source": [
        "len(dictionary)"
      ],
      "metadata": {
        "colab": {
          "base_uri": "https://localhost:8080/"
        },
        "id": "UR39-yLZBFEF",
        "outputId": "03a82d68-bcce-49ea-8849-074c1f69e47d"
      },
      "execution_count": null,
      "outputs": [
        {
          "output_type": "execute_result",
          "data": {
            "text/plain": [
              "48945"
            ]
          },
          "metadata": {},
          "execution_count": 6
        }
      ]
    },
    {
      "cell_type": "code",
      "source": [
        "\"\"\"Intentionally remove 1% of Vocab to teach model how to handle unknown vocabulary\"\"\"\n",
        "import random\n",
        "for i in range(int(len(dictionary) * 0.01)):\n",
        "    dictionary.pop( random.choice(list(dictionary.keys())))"
      ],
      "metadata": {
        "id": "UtILelvdBAQt"
      },
      "execution_count": null,
      "outputs": []
    },
    {
      "cell_type": "code",
      "source": [
        "len(dictionary)"
      ],
      "metadata": {
        "colab": {
          "base_uri": "https://localhost:8080/"
        },
        "id": "6rt3saglBNTy",
        "outputId": "c9afe722-52d2-44b9-a373-928441ebac9a"
      },
      "execution_count": null,
      "outputs": [
        {
          "output_type": "execute_result",
          "data": {
            "text/plain": [
              "48456"
            ]
          },
          "metadata": {},
          "execution_count": 8
        }
      ]
    },
    {
      "cell_type": "code",
      "source": [
        "def to_token(array):\n",
        "  result = []\n",
        "  for item in array:\n",
        "    tokenized_text = []\n",
        "    for token in item:\n",
        "      if token in dictionary.keys():\n",
        "        tokenized_text.append(dictionary[token])\n",
        "      else:\n",
        "        tokenized_text.append(unknown_count)\n",
        "    result.append(tokenized_text)\n",
        "  return result"
      ],
      "metadata": {
        "id": "FY6LeLsI9eFB"
      },
      "execution_count": null,
      "outputs": []
    },
    {
      "cell_type": "code",
      "source": [
        "\"\"\"Convert Text to tokenized data\"\"\"\n",
        "X_train = to_token(X_train)\n",
        "X_val = to_token(X_val)\n",
        "\n",
        "X_train = tf.keras.preprocessing.sequence.pad_sequences(X_train, maxlen=max_len, padding='post', truncating='post')\n",
        "X_val = tf.keras.preprocessing.sequence.pad_sequences(X_val, maxlen=max_len, padding='post', truncating='post')"
      ],
      "metadata": {
        "id": "UQ04zsbNyEVT"
      },
      "execution_count": null,
      "outputs": []
    },
    {
      "cell_type": "code",
      "source": [
        "X_train.shape, X_val.shape, y_train.shape, y_val.shape"
      ],
      "metadata": {
        "colab": {
          "base_uri": "https://localhost:8080/"
        },
        "id": "ROzFjhMde72B",
        "outputId": "2e525f78-747a-4c69-f05e-8c4cd44770ef"
      },
      "execution_count": null,
      "outputs": [
        {
          "output_type": "execute_result",
          "data": {
            "text/plain": [
              "((63310, 256), (5620, 256), (63310, 256), (5620, 256))"
            ]
          },
          "metadata": {},
          "execution_count": 11
        }
      ]
    },
    {
      "cell_type": "markdown",
      "source": [
        "## Modeling"
      ],
      "metadata": {
        "id": "W9kOE4LFfOK2"
      }
    },
    {
      "cell_type": "code",
      "source": [
        "# create the model\n",
        "from tensorflow.keras.models import Sequential\n",
        "from tensorflow.keras.layers import Dense\n",
        "from tensorflow.keras.layers import LSTM\n",
        "from tensorflow.keras.layers import Embedding\n",
        "from tensorflow.keras.preprocessing import sequence\n",
        "import tensorflow.keras.layers as layers\n",
        "from tensorflow.keras import Model, Input\n",
        "\n",
        "max_review_length = max_len\n",
        "embedding_vecor_length = 64\n",
        "vocab_size = 50000\n",
        "\n",
        "optimizer = tf.keras.optimizers.Adam(\n",
        "    learning_rate=1e-3,\n",
        "    beta_1=0.9,\n",
        "    beta_2=0.999,\n",
        "    epsilon=1e-07,\n",
        "    amsgrad=False,\n",
        "    name=\"Adam\",\n",
        ")\n",
        "\n",
        "input = tf.keras.Input(shape=(max_review_length,))\n",
        "x = Embedding(vocab_size, embedding_vecor_length, input_length=max_review_length, mask_zero=True)(input)\n",
        "x = layers.Bidirectional(LSTM(64, input_shape=(max_review_length, embedding_vecor_length), dropout=0.1, return_sequences=True))(x)\n",
        "kernel = layers.TimeDistributed(Dense(31, activation='softmax'))(x)\n",
        "\n",
        "model = Model(input, kernel)\n",
        "\n",
        "\n",
        "model.compile(loss='sparse_categorical_crossentropy', optimizer=optimizer, metrics=['accuracy'])\n",
        "print(model.summary())"
      ],
      "metadata": {
        "id": "ePw-H4aiSUKL",
        "colab": {
          "base_uri": "https://localhost:8080/"
        },
        "outputId": "036e8964-4b5c-4b68-e63a-052b258f4bc1"
      },
      "execution_count": null,
      "outputs": [
        {
          "output_type": "stream",
          "name": "stdout",
          "text": [
            "Model: \"model_1\"\n",
            "_________________________________________________________________\n",
            " Layer (type)                Output Shape              Param #   \n",
            "=================================================================\n",
            " input_2 (InputLayer)        [(None, 256)]             0         \n",
            "                                                                 \n",
            " embedding_1 (Embedding)     (None, 256, 64)           3200000   \n",
            "                                                                 \n",
            " bidirectional_1 (Bidirectio  (None, 256, 128)         66048     \n",
            " nal)                                                            \n",
            "                                                                 \n",
            " time_distributed_1 (TimeDis  (None, 256, 31)          3999      \n",
            " tributed)                                                       \n",
            "                                                                 \n",
            "=================================================================\n",
            "Total params: 3,270,047\n",
            "Trainable params: 3,270,047\n",
            "Non-trainable params: 0\n",
            "_________________________________________________________________\n",
            "None\n"
          ]
        }
      ]
    },
    {
      "cell_type": "code",
      "source": [
        "\"\"\"Text predict\"\"\"\n",
        "model.predict(X_train[:10]).shape"
      ],
      "metadata": {
        "colab": {
          "base_uri": "https://localhost:8080/"
        },
        "id": "hlIyWT1gqo8b",
        "outputId": "0654f013-3f03-4c41-c886-c90835b51091"
      },
      "execution_count": null,
      "outputs": [
        {
          "output_type": "stream",
          "name": "stdout",
          "text": [
            "1/1 [==============================] - 2s 2s/step\n"
          ]
        },
        {
          "output_type": "execute_result",
          "data": {
            "text/plain": [
              "(10, 256, 31)"
            ]
          },
          "metadata": {},
          "execution_count": 20
        }
      ]
    },
    {
      "cell_type": "code",
      "source": [
        "checkpoint_filepath = './checkpoint'\n",
        "\n",
        "model_checkpoint_callback = tf.keras.callbacks.ModelCheckpoint(\n",
        "    filepath=checkpoint_filepath,\n",
        "    save_weights_only=True,\n",
        "    monitor='val_loss',\n",
        "    mode='min',\n",
        "    save_best_only=True)\n",
        "\n",
        "model.fit(X_train, y_train, validation_data=(X_val, y_val), epochs=30, batch_size=1024, callbacks=[model_checkpoint_callback])\n",
        "\n",
        "model.load_weights(checkpoint_filepath)"
      ],
      "metadata": {
        "colab": {
          "base_uri": "https://localhost:8080/"
        },
        "id": "Wpgml6pqcHJ9",
        "outputId": "5f279760-7509-4f4a-af95-6d90bd3d14c5"
      },
      "execution_count": null,
      "outputs": [
        {
          "output_type": "stream",
          "name": "stdout",
          "text": [
            "Epoch 1/30\n",
            "62/62 [==============================] - 17s 140ms/step - loss: 0.2675 - accuracy: 0.8181 - val_loss: 0.1841 - val_accuracy: 0.8056\n",
            "Epoch 2/30\n",
            "62/62 [==============================] - 7s 116ms/step - loss: 0.1522 - accuracy: 0.8329 - val_loss: 0.1596 - val_accuracy: 0.8056\n",
            "Epoch 3/30\n",
            "62/62 [==============================] - 6s 96ms/step - loss: 0.1206 - accuracy: 0.8337 - val_loss: 0.1318 - val_accuracy: 0.8080\n",
            "Epoch 4/30\n",
            "62/62 [==============================] - 5s 88ms/step - loss: 0.1002 - accuracy: 0.8432 - val_loss: 0.1198 - val_accuracy: 0.8197\n",
            "Epoch 5/30\n",
            "62/62 [==============================] - 6s 92ms/step - loss: 0.0889 - accuracy: 0.8581 - val_loss: 0.1097 - val_accuracy: 0.8324\n",
            "Epoch 6/30\n",
            "62/62 [==============================] - 6s 89ms/step - loss: 0.0774 - accuracy: 0.8735 - val_loss: 0.0970 - val_accuracy: 0.8515\n",
            "Epoch 7/30\n",
            "62/62 [==============================] - 5s 89ms/step - loss: 0.0638 - accuracy: 0.8992 - val_loss: 0.0820 - val_accuracy: 0.8788\n",
            "Epoch 8/30\n",
            "62/62 [==============================] - 6s 89ms/step - loss: 0.0506 - accuracy: 0.9218 - val_loss: 0.0687 - val_accuracy: 0.8980\n",
            "Epoch 9/30\n",
            "62/62 [==============================] - 5s 88ms/step - loss: 0.0410 - accuracy: 0.9349 - val_loss: 0.0594 - val_accuracy: 0.9085\n",
            "Epoch 10/30\n",
            "62/62 [==============================] - 5s 89ms/step - loss: 0.0346 - accuracy: 0.9429 - val_loss: 0.0531 - val_accuracy: 0.9163\n",
            "Epoch 11/30\n",
            "62/62 [==============================] - 5s 89ms/step - loss: 0.0304 - accuracy: 0.9481 - val_loss: 0.0481 - val_accuracy: 0.9215\n",
            "Epoch 12/30\n",
            "62/62 [==============================] - 6s 102ms/step - loss: 0.0274 - accuracy: 0.9518 - val_loss: 0.0449 - val_accuracy: 0.9247\n",
            "Epoch 13/30\n",
            "62/62 [==============================] - 6s 96ms/step - loss: 0.0252 - accuracy: 0.9546 - val_loss: 0.0436 - val_accuracy: 0.9271\n",
            "Epoch 14/30\n",
            "62/62 [==============================] - 5s 89ms/step - loss: 0.0235 - accuracy: 0.9570 - val_loss: 0.0420 - val_accuracy: 0.9288\n",
            "Epoch 15/30\n",
            "62/62 [==============================] - 6s 89ms/step - loss: 0.0221 - accuracy: 0.9589 - val_loss: 0.0416 - val_accuracy: 0.9300\n",
            "Epoch 16/30\n",
            "62/62 [==============================] - 5s 89ms/step - loss: 0.0210 - accuracy: 0.9605 - val_loss: 0.0404 - val_accuracy: 0.9318\n",
            "Epoch 17/30\n",
            "62/62 [==============================] - 5s 88ms/step - loss: 0.0200 - accuracy: 0.9619 - val_loss: 0.0398 - val_accuracy: 0.9322\n",
            "Epoch 18/30\n",
            "62/62 [==============================] - 5s 87ms/step - loss: 0.0193 - accuracy: 0.9631 - val_loss: 0.0403 - val_accuracy: 0.9327\n",
            "Epoch 19/30\n",
            "62/62 [==============================] - 5s 86ms/step - loss: 0.0185 - accuracy: 0.9644 - val_loss: 0.0399 - val_accuracy: 0.9333\n",
            "Epoch 20/30\n",
            "62/62 [==============================] - 5s 88ms/step - loss: 0.0178 - accuracy: 0.9654 - val_loss: 0.0388 - val_accuracy: 0.9343\n",
            "Epoch 21/30\n",
            "62/62 [==============================] - 5s 89ms/step - loss: 0.0173 - accuracy: 0.9663 - val_loss: 0.0385 - val_accuracy: 0.9352\n",
            "Epoch 22/30\n",
            "62/62 [==============================] - 5s 86ms/step - loss: 0.0168 - accuracy: 0.9673 - val_loss: 0.0391 - val_accuracy: 0.9351\n",
            "Epoch 23/30\n",
            "62/62 [==============================] - 5s 88ms/step - loss: 0.0163 - accuracy: 0.9680 - val_loss: 0.0380 - val_accuracy: 0.9354\n",
            "Epoch 24/30\n",
            "62/62 [==============================] - 5s 87ms/step - loss: 0.0158 - accuracy: 0.9689 - val_loss: 0.0393 - val_accuracy: 0.9358\n",
            "Epoch 25/30\n",
            "62/62 [==============================] - 5s 86ms/step - loss: 0.0154 - accuracy: 0.9696 - val_loss: 0.0404 - val_accuracy: 0.9357\n",
            "Epoch 26/30\n",
            "62/62 [==============================] - 5s 86ms/step - loss: 0.0151 - accuracy: 0.9701 - val_loss: 0.0388 - val_accuracy: 0.9360\n",
            "Epoch 27/30\n",
            "62/62 [==============================] - 5s 86ms/step - loss: 0.0146 - accuracy: 0.9710 - val_loss: 0.0383 - val_accuracy: 0.9366\n",
            "Epoch 28/30\n",
            "62/62 [==============================] - 5s 86ms/step - loss: 0.0143 - accuracy: 0.9715 - val_loss: 0.0395 - val_accuracy: 0.9372\n",
            "Epoch 29/30\n",
            "62/62 [==============================] - 5s 87ms/step - loss: 0.0140 - accuracy: 0.9721 - val_loss: 0.0394 - val_accuracy: 0.9374\n",
            "Epoch 30/30\n",
            "62/62 [==============================] - 5s 87ms/step - loss: 0.0137 - accuracy: 0.9726 - val_loss: 0.0392 - val_accuracy: 0.9372\n"
          ]
        },
        {
          "output_type": "execute_result",
          "data": {
            "text/plain": [
              "<tensorflow.python.training.tracking.util.CheckpointLoadStatus at 0x7f032f26c4d0>"
            ]
          },
          "metadata": {},
          "execution_count": 21
        }
      ]
    },
    {
      "cell_type": "code",
      "source": [
        "y_pred = model.predict(X_val)"
      ],
      "metadata": {
        "colab": {
          "base_uri": "https://localhost:8080/"
        },
        "id": "ZTJSmR2LiytG",
        "outputId": "403a1903-e0c5-4077-9200-dc01a57d3888"
      },
      "execution_count": null,
      "outputs": [
        {
          "output_type": "stream",
          "name": "stdout",
          "text": [
            "176/176 [==============================] - 2s 9ms/step\n"
          ]
        }
      ]
    },
    {
      "cell_type": "code",
      "source": [
        "import numpy as np"
      ],
      "metadata": {
        "id": "gK6y-X762A7F"
      },
      "execution_count": null,
      "outputs": []
    },
    {
      "cell_type": "code",
      "source": [
        "y_pred_max = np.argmax(y_pred, 2)\n",
        "y_pred_max_masked = y_pred_max[X_val != 0]\n",
        "y_val_max_masked = y_val[X_val != 0]"
      ],
      "metadata": {
        "id": "W2natzsm1jND"
      },
      "execution_count": null,
      "outputs": []
    },
    {
      "cell_type": "code",
      "source": [
        "from sklearn.metrics import f1_score\n",
        "f1_score(y_val_max_masked, y_pred_max_masked, average='micro')"
      ],
      "metadata": {
        "colab": {
          "base_uri": "https://localhost:8080/"
        },
        "id": "YtebPQ5lzVQz",
        "outputId": "86a8f4b2-4727-4092-8a00-d4184b134167"
      },
      "execution_count": null,
      "outputs": [
        {
          "output_type": "execute_result",
          "data": {
            "text/plain": [
              "0.9354145806414086"
            ]
          },
          "metadata": {},
          "execution_count": 25
        }
      ]
    },
    {
      "cell_type": "markdown",
      "source": [
        "## Preprocess Test Data"
      ],
      "metadata": {
        "id": "QdASO9r8fLrE"
      }
    },
    {
      "cell_type": "code",
      "source": [
        "from pythainlp.tokenize import clause_tokenize"
      ],
      "metadata": {
        "id": "mMmIq3ni4tqh"
      },
      "execution_count": null,
      "outputs": []
    },
    {
      "cell_type": "code",
      "source": [
        "lst_20_test = []\n",
        "with open(f\"ne_test.txt\", \"r\") as file:\n",
        "    file_read = file.readlines()\n",
        "    for line in file_read:\n",
        "      if len(line.strip()) == 0:\n",
        "        lst_20_test.append('_')\n",
        "      else:\n",
        "        lst_20_test.append(line.strip().replace('\\xa0', ''))\n",
        "\n",
        "lst_20_test = lst_20_test[:-1]"
      ],
      "metadata": {
        "id": "mwQkLonZ2Rew"
      },
      "execution_count": null,
      "outputs": []
    },
    {
      "cell_type": "code",
      "source": [
        "lst_20_test_tokenized = clause_tokenize(lst_20_test)"
      ],
      "metadata": {
        "colab": {
          "base_uri": "https://localhost:8080/"
        },
        "id": "k1qbixiM4y5b",
        "outputId": "71d0ab9a-b5f0-41f9-cced-99ad6c0b5b52"
      },
      "execution_count": null,
      "outputs": [
        {
          "output_type": "stream",
          "name": "stderr",
          "text": [
            "/usr/local/lib/python3.7/dist-packages/pythainlp/tokenize/crfcls.py:63: UserWarning: \n",
            "    LST20 corpus are free for research and open source only.\n",
            "\n",
            "    If you want to use in Commercial use, please contract NECTEC.\n",
            "\n",
            "    https://www.facebook.com/dancearmy/posts/10157641945708284\n",
            "    \n",
            "  \"\"\")\n",
            "/usr/local/lib/python3.7/dist-packages/pythainlp/tag/perceptron.py:47: UserWarning: \n",
            "    LST20 corpus are free for research and open source only.\n",
            "\n",
            "    If you want to use in Commercial use, please contract NECTEC.\n",
            "\n",
            "    https://www.facebook.com/dancearmy/posts/10157641945708284\n",
            "    \n",
            "  \"\"\"\n"
          ]
        }
      ]
    },
    {
      "cell_type": "code",
      "source": [
        "X_test = to_token(lst_20_test_tokenized)\n",
        "X_test = tf.keras.preprocessing.sequence.pad_sequences(X_test, maxlen=max_len, padding='post', truncating='post')"
      ],
      "metadata": {
        "id": "0WzxyKl_5Flm"
      },
      "execution_count": null,
      "outputs": []
    },
    {
      "cell_type": "code",
      "source": [
        "(X_test != 0).sum()"
      ],
      "metadata": {
        "colab": {
          "base_uri": "https://localhost:8080/"
        },
        "id": "sngO9mrI-pSX",
        "outputId": "13f99070-e438-420a-b756-4958a5dafedc"
      },
      "execution_count": null,
      "outputs": [
        {
          "output_type": "execute_result",
          "data": {
            "text/plain": [
              "69561"
            ]
          },
          "metadata": {},
          "execution_count": 30
        }
      ]
    },
    {
      "cell_type": "markdown",
      "source": [
        "## Predict and Submit Test Data"
      ],
      "metadata": {
        "id": "mvlMKTEBfTG5"
      }
    },
    {
      "cell_type": "code",
      "source": [
        "y_test_pred = model.predict(X_test)"
      ],
      "metadata": {
        "colab": {
          "base_uri": "https://localhost:8080/"
        },
        "id": "5ocTNfaY5Qal",
        "outputId": "2f75a8a5-d56e-4faf-d20f-3a5d1d474dac"
      },
      "execution_count": null,
      "outputs": [
        {
          "output_type": "stream",
          "name": "stdout",
          "text": [
            "114/114 [==============================] - 1s 8ms/step\n"
          ]
        }
      ]
    },
    {
      "cell_type": "code",
      "source": [
        "y_test_pred.shape"
      ],
      "metadata": {
        "colab": {
          "base_uri": "https://localhost:8080/"
        },
        "id": "8woW8LaX5v_F",
        "outputId": "5f7ebe50-277f-4b50-b694-b64c68a68eeb"
      },
      "execution_count": null,
      "outputs": [
        {
          "output_type": "execute_result",
          "data": {
            "text/plain": [
              "(3648, 256, 31)"
            ]
          },
          "metadata": {},
          "execution_count": 32
        }
      ]
    },
    {
      "cell_type": "code",
      "source": [
        "y_test_pred_max = np.argmax(y_test_pred, 2)\n",
        "y_test_pred_max_masked = y_test_pred_max[X_test != 0]"
      ],
      "metadata": {
        "id": "bmDtHzFQ5aZC"
      },
      "execution_count": null,
      "outputs": []
    },
    {
      "cell_type": "code",
      "source": [
        "len(y_test_pred_max_masked)"
      ],
      "metadata": {
        "colab": {
          "base_uri": "https://localhost:8080/"
        },
        "id": "k4AaNNa35rxI",
        "outputId": "780b8b94-7b95-4a0f-9531-ffbafddcd61d"
      },
      "execution_count": null,
      "outputs": [
        {
          "output_type": "execute_result",
          "data": {
            "text/plain": [
              "69561"
            ]
          },
          "metadata": {},
          "execution_count": 34
        }
      ]
    },
    {
      "cell_type": "code",
      "source": [
        "df_submit = pd.read_csv('/content/ne_sample_submission.csv')\n",
        "df_submit"
      ],
      "metadata": {
        "colab": {
          "base_uri": "https://localhost:8080/",
          "height": 424
        },
        "id": "zdl0w5nE5spH",
        "outputId": "19403257-ec4b-47c7-8af9-31db74deb357"
      },
      "execution_count": null,
      "outputs": [
        {
          "output_type": "execute_result",
          "data": {
            "text/plain": [
              "          Id Predicted\n",
              "0          1     B_TTL\n",
              "1          2     B_PER\n",
              "2          3     I_PER\n",
              "3          4       NaN\n",
              "4          5       NaN\n",
              "...      ...       ...\n",
              "69556  69557       NaN\n",
              "69557  69558       NaN\n",
              "69558  69559       NaN\n",
              "69559  69560       NaN\n",
              "69560  69561       NaN\n",
              "\n",
              "[69561 rows x 2 columns]"
            ],
            "text/html": [
              "\n",
              "  <div id=\"df-5e463b5b-6788-4e58-8f2a-0cdeef439242\">\n",
              "    <div class=\"colab-df-container\">\n",
              "      <div>\n",
              "<style scoped>\n",
              "    .dataframe tbody tr th:only-of-type {\n",
              "        vertical-align: middle;\n",
              "    }\n",
              "\n",
              "    .dataframe tbody tr th {\n",
              "        vertical-align: top;\n",
              "    }\n",
              "\n",
              "    .dataframe thead th {\n",
              "        text-align: right;\n",
              "    }\n",
              "</style>\n",
              "<table border=\"1\" class=\"dataframe\">\n",
              "  <thead>\n",
              "    <tr style=\"text-align: right;\">\n",
              "      <th></th>\n",
              "      <th>Id</th>\n",
              "      <th>Predicted</th>\n",
              "    </tr>\n",
              "  </thead>\n",
              "  <tbody>\n",
              "    <tr>\n",
              "      <th>0</th>\n",
              "      <td>1</td>\n",
              "      <td>B_TTL</td>\n",
              "    </tr>\n",
              "    <tr>\n",
              "      <th>1</th>\n",
              "      <td>2</td>\n",
              "      <td>B_PER</td>\n",
              "    </tr>\n",
              "    <tr>\n",
              "      <th>2</th>\n",
              "      <td>3</td>\n",
              "      <td>I_PER</td>\n",
              "    </tr>\n",
              "    <tr>\n",
              "      <th>3</th>\n",
              "      <td>4</td>\n",
              "      <td>NaN</td>\n",
              "    </tr>\n",
              "    <tr>\n",
              "      <th>4</th>\n",
              "      <td>5</td>\n",
              "      <td>NaN</td>\n",
              "    </tr>\n",
              "    <tr>\n",
              "      <th>...</th>\n",
              "      <td>...</td>\n",
              "      <td>...</td>\n",
              "    </tr>\n",
              "    <tr>\n",
              "      <th>69556</th>\n",
              "      <td>69557</td>\n",
              "      <td>NaN</td>\n",
              "    </tr>\n",
              "    <tr>\n",
              "      <th>69557</th>\n",
              "      <td>69558</td>\n",
              "      <td>NaN</td>\n",
              "    </tr>\n",
              "    <tr>\n",
              "      <th>69558</th>\n",
              "      <td>69559</td>\n",
              "      <td>NaN</td>\n",
              "    </tr>\n",
              "    <tr>\n",
              "      <th>69559</th>\n",
              "      <td>69560</td>\n",
              "      <td>NaN</td>\n",
              "    </tr>\n",
              "    <tr>\n",
              "      <th>69560</th>\n",
              "      <td>69561</td>\n",
              "      <td>NaN</td>\n",
              "    </tr>\n",
              "  </tbody>\n",
              "</table>\n",
              "<p>69561 rows × 2 columns</p>\n",
              "</div>\n",
              "      <button class=\"colab-df-convert\" onclick=\"convertToInteractive('df-5e463b5b-6788-4e58-8f2a-0cdeef439242')\"\n",
              "              title=\"Convert this dataframe to an interactive table.\"\n",
              "              style=\"display:none;\">\n",
              "        \n",
              "  <svg xmlns=\"http://www.w3.org/2000/svg\" height=\"24px\"viewBox=\"0 0 24 24\"\n",
              "       width=\"24px\">\n",
              "    <path d=\"M0 0h24v24H0V0z\" fill=\"none\"/>\n",
              "    <path d=\"M18.56 5.44l.94 2.06.94-2.06 2.06-.94-2.06-.94-.94-2.06-.94 2.06-2.06.94zm-11 1L8.5 8.5l.94-2.06 2.06-.94-2.06-.94L8.5 2.5l-.94 2.06-2.06.94zm10 10l.94 2.06.94-2.06 2.06-.94-2.06-.94-.94-2.06-.94 2.06-2.06.94z\"/><path d=\"M17.41 7.96l-1.37-1.37c-.4-.4-.92-.59-1.43-.59-.52 0-1.04.2-1.43.59L10.3 9.45l-7.72 7.72c-.78.78-.78 2.05 0 2.83L4 21.41c.39.39.9.59 1.41.59.51 0 1.02-.2 1.41-.59l7.78-7.78 2.81-2.81c.8-.78.8-2.07 0-2.86zM5.41 20L4 18.59l7.72-7.72 1.47 1.35L5.41 20z\"/>\n",
              "  </svg>\n",
              "      </button>\n",
              "      \n",
              "  <style>\n",
              "    .colab-df-container {\n",
              "      display:flex;\n",
              "      flex-wrap:wrap;\n",
              "      gap: 12px;\n",
              "    }\n",
              "\n",
              "    .colab-df-convert {\n",
              "      background-color: #E8F0FE;\n",
              "      border: none;\n",
              "      border-radius: 50%;\n",
              "      cursor: pointer;\n",
              "      display: none;\n",
              "      fill: #1967D2;\n",
              "      height: 32px;\n",
              "      padding: 0 0 0 0;\n",
              "      width: 32px;\n",
              "    }\n",
              "\n",
              "    .colab-df-convert:hover {\n",
              "      background-color: #E2EBFA;\n",
              "      box-shadow: 0px 1px 2px rgba(60, 64, 67, 0.3), 0px 1px 3px 1px rgba(60, 64, 67, 0.15);\n",
              "      fill: #174EA6;\n",
              "    }\n",
              "\n",
              "    [theme=dark] .colab-df-convert {\n",
              "      background-color: #3B4455;\n",
              "      fill: #D2E3FC;\n",
              "    }\n",
              "\n",
              "    [theme=dark] .colab-df-convert:hover {\n",
              "      background-color: #434B5C;\n",
              "      box-shadow: 0px 1px 3px 1px rgba(0, 0, 0, 0.15);\n",
              "      filter: drop-shadow(0px 1px 2px rgba(0, 0, 0, 0.3));\n",
              "      fill: #FFFFFF;\n",
              "    }\n",
              "  </style>\n",
              "\n",
              "      <script>\n",
              "        const buttonEl =\n",
              "          document.querySelector('#df-5e463b5b-6788-4e58-8f2a-0cdeef439242 button.colab-df-convert');\n",
              "        buttonEl.style.display =\n",
              "          google.colab.kernel.accessAllowed ? 'block' : 'none';\n",
              "\n",
              "        async function convertToInteractive(key) {\n",
              "          const element = document.querySelector('#df-5e463b5b-6788-4e58-8f2a-0cdeef439242');\n",
              "          const dataTable =\n",
              "            await google.colab.kernel.invokeFunction('convertToInteractive',\n",
              "                                                     [key], {});\n",
              "          if (!dataTable) return;\n",
              "\n",
              "          const docLinkHtml = 'Like what you see? Visit the ' +\n",
              "            '<a target=\"_blank\" href=https://colab.research.google.com/notebooks/data_table.ipynb>data table notebook</a>'\n",
              "            + ' to learn more about interactive tables.';\n",
              "          element.innerHTML = '';\n",
              "          dataTable['output_type'] = 'display_data';\n",
              "          await google.colab.output.renderOutput(dataTable, element);\n",
              "          const docLink = document.createElement('div');\n",
              "          docLink.innerHTML = docLinkHtml;\n",
              "          element.appendChild(docLink);\n",
              "        }\n",
              "      </script>\n",
              "    </div>\n",
              "  </div>\n",
              "  "
            ]
          },
          "metadata": {},
          "execution_count": 35
        }
      ]
    },
    {
      "cell_type": "code",
      "source": [
        "y_test_pred_max_masked"
      ],
      "metadata": {
        "colab": {
          "base_uri": "https://localhost:8080/"
        },
        "id": "bI1sQAsF_Pw6",
        "outputId": "2473981c-610d-41d4-def4-15f0349bebaf"
      },
      "execution_count": null,
      "outputs": [
        {
          "output_type": "execute_result",
          "data": {
            "text/plain": [
              "array([10,  8, 18, ...,  0,  0,  0])"
            ]
          },
          "metadata": {},
          "execution_count": 36
        }
      ]
    },
    {
      "cell_type": "code",
      "source": [
        "df_submit['Predicted'] = pd.Series(y_test_pred_max_masked)"
      ],
      "metadata": {
        "id": "8WeBnLCw_M89"
      },
      "execution_count": null,
      "outputs": []
    },
    {
      "cell_type": "code",
      "source": [
        "ner_list = ['O', 'B_BRN', 'B_DES', 'B_DTM', 'B_LOC', 'B_MEA', 'B_NUM', 'B_ORG', 'B_PER', 'B_TRM', 'B_TTL', 'I_BRN', 'I_DES', 'I_DTM', 'I_LOC', 'I_MEA', 'I_NUM', 'I_ORG', 'I_PER', 'I_TRM', 'I_TTL', 'E_BRN', 'E_DES', 'E_DTM', 'E_LOC', 'E_MEA', 'E_NUM', 'E_ORG', 'E_PER', 'E_TRM', 'E_TTL']"
      ],
      "metadata": {
        "id": "wkk-Yjp9ABuU"
      },
      "execution_count": null,
      "outputs": []
    },
    {
      "cell_type": "code",
      "source": [
        "df_submit['Predicted'] = df_submit['Predicted'].apply(lambda x: ner_list[x])"
      ],
      "metadata": {
        "id": "lfgSJ9I2_NMp"
      },
      "execution_count": null,
      "outputs": []
    },
    {
      "cell_type": "code",
      "source": [
        "df_submit"
      ],
      "metadata": {
        "colab": {
          "base_uri": "https://localhost:8080/",
          "height": 424
        },
        "id": "iIVq6S1LAIQC",
        "outputId": "301faa49-cb99-468a-8e61-66c81f4410d0"
      },
      "execution_count": null,
      "outputs": [
        {
          "output_type": "execute_result",
          "data": {
            "text/plain": [
              "          Id Predicted\n",
              "0          1     B_TTL\n",
              "1          2     B_PER\n",
              "2          3     I_PER\n",
              "3          4     E_PER\n",
              "4          5         O\n",
              "...      ...       ...\n",
              "69556  69557         O\n",
              "69557  69558         O\n",
              "69558  69559         O\n",
              "69559  69560         O\n",
              "69560  69561         O\n",
              "\n",
              "[69561 rows x 2 columns]"
            ],
            "text/html": [
              "\n",
              "  <div id=\"df-d05fa056-ce37-4555-a81e-11493a837fad\">\n",
              "    <div class=\"colab-df-container\">\n",
              "      <div>\n",
              "<style scoped>\n",
              "    .dataframe tbody tr th:only-of-type {\n",
              "        vertical-align: middle;\n",
              "    }\n",
              "\n",
              "    .dataframe tbody tr th {\n",
              "        vertical-align: top;\n",
              "    }\n",
              "\n",
              "    .dataframe thead th {\n",
              "        text-align: right;\n",
              "    }\n",
              "</style>\n",
              "<table border=\"1\" class=\"dataframe\">\n",
              "  <thead>\n",
              "    <tr style=\"text-align: right;\">\n",
              "      <th></th>\n",
              "      <th>Id</th>\n",
              "      <th>Predicted</th>\n",
              "    </tr>\n",
              "  </thead>\n",
              "  <tbody>\n",
              "    <tr>\n",
              "      <th>0</th>\n",
              "      <td>1</td>\n",
              "      <td>B_TTL</td>\n",
              "    </tr>\n",
              "    <tr>\n",
              "      <th>1</th>\n",
              "      <td>2</td>\n",
              "      <td>B_PER</td>\n",
              "    </tr>\n",
              "    <tr>\n",
              "      <th>2</th>\n",
              "      <td>3</td>\n",
              "      <td>I_PER</td>\n",
              "    </tr>\n",
              "    <tr>\n",
              "      <th>3</th>\n",
              "      <td>4</td>\n",
              "      <td>E_PER</td>\n",
              "    </tr>\n",
              "    <tr>\n",
              "      <th>4</th>\n",
              "      <td>5</td>\n",
              "      <td>O</td>\n",
              "    </tr>\n",
              "    <tr>\n",
              "      <th>...</th>\n",
              "      <td>...</td>\n",
              "      <td>...</td>\n",
              "    </tr>\n",
              "    <tr>\n",
              "      <th>69556</th>\n",
              "      <td>69557</td>\n",
              "      <td>O</td>\n",
              "    </tr>\n",
              "    <tr>\n",
              "      <th>69557</th>\n",
              "      <td>69558</td>\n",
              "      <td>O</td>\n",
              "    </tr>\n",
              "    <tr>\n",
              "      <th>69558</th>\n",
              "      <td>69559</td>\n",
              "      <td>O</td>\n",
              "    </tr>\n",
              "    <tr>\n",
              "      <th>69559</th>\n",
              "      <td>69560</td>\n",
              "      <td>O</td>\n",
              "    </tr>\n",
              "    <tr>\n",
              "      <th>69560</th>\n",
              "      <td>69561</td>\n",
              "      <td>O</td>\n",
              "    </tr>\n",
              "  </tbody>\n",
              "</table>\n",
              "<p>69561 rows × 2 columns</p>\n",
              "</div>\n",
              "      <button class=\"colab-df-convert\" onclick=\"convertToInteractive('df-d05fa056-ce37-4555-a81e-11493a837fad')\"\n",
              "              title=\"Convert this dataframe to an interactive table.\"\n",
              "              style=\"display:none;\">\n",
              "        \n",
              "  <svg xmlns=\"http://www.w3.org/2000/svg\" height=\"24px\"viewBox=\"0 0 24 24\"\n",
              "       width=\"24px\">\n",
              "    <path d=\"M0 0h24v24H0V0z\" fill=\"none\"/>\n",
              "    <path d=\"M18.56 5.44l.94 2.06.94-2.06 2.06-.94-2.06-.94-.94-2.06-.94 2.06-2.06.94zm-11 1L8.5 8.5l.94-2.06 2.06-.94-2.06-.94L8.5 2.5l-.94 2.06-2.06.94zm10 10l.94 2.06.94-2.06 2.06-.94-2.06-.94-.94-2.06-.94 2.06-2.06.94z\"/><path d=\"M17.41 7.96l-1.37-1.37c-.4-.4-.92-.59-1.43-.59-.52 0-1.04.2-1.43.59L10.3 9.45l-7.72 7.72c-.78.78-.78 2.05 0 2.83L4 21.41c.39.39.9.59 1.41.59.51 0 1.02-.2 1.41-.59l7.78-7.78 2.81-2.81c.8-.78.8-2.07 0-2.86zM5.41 20L4 18.59l7.72-7.72 1.47 1.35L5.41 20z\"/>\n",
              "  </svg>\n",
              "      </button>\n",
              "      \n",
              "  <style>\n",
              "    .colab-df-container {\n",
              "      display:flex;\n",
              "      flex-wrap:wrap;\n",
              "      gap: 12px;\n",
              "    }\n",
              "\n",
              "    .colab-df-convert {\n",
              "      background-color: #E8F0FE;\n",
              "      border: none;\n",
              "      border-radius: 50%;\n",
              "      cursor: pointer;\n",
              "      display: none;\n",
              "      fill: #1967D2;\n",
              "      height: 32px;\n",
              "      padding: 0 0 0 0;\n",
              "      width: 32px;\n",
              "    }\n",
              "\n",
              "    .colab-df-convert:hover {\n",
              "      background-color: #E2EBFA;\n",
              "      box-shadow: 0px 1px 2px rgba(60, 64, 67, 0.3), 0px 1px 3px 1px rgba(60, 64, 67, 0.15);\n",
              "      fill: #174EA6;\n",
              "    }\n",
              "\n",
              "    [theme=dark] .colab-df-convert {\n",
              "      background-color: #3B4455;\n",
              "      fill: #D2E3FC;\n",
              "    }\n",
              "\n",
              "    [theme=dark] .colab-df-convert:hover {\n",
              "      background-color: #434B5C;\n",
              "      box-shadow: 0px 1px 3px 1px rgba(0, 0, 0, 0.15);\n",
              "      filter: drop-shadow(0px 1px 2px rgba(0, 0, 0, 0.3));\n",
              "      fill: #FFFFFF;\n",
              "    }\n",
              "  </style>\n",
              "\n",
              "      <script>\n",
              "        const buttonEl =\n",
              "          document.querySelector('#df-d05fa056-ce37-4555-a81e-11493a837fad button.colab-df-convert');\n",
              "        buttonEl.style.display =\n",
              "          google.colab.kernel.accessAllowed ? 'block' : 'none';\n",
              "\n",
              "        async function convertToInteractive(key) {\n",
              "          const element = document.querySelector('#df-d05fa056-ce37-4555-a81e-11493a837fad');\n",
              "          const dataTable =\n",
              "            await google.colab.kernel.invokeFunction('convertToInteractive',\n",
              "                                                     [key], {});\n",
              "          if (!dataTable) return;\n",
              "\n",
              "          const docLinkHtml = 'Like what you see? Visit the ' +\n",
              "            '<a target=\"_blank\" href=https://colab.research.google.com/notebooks/data_table.ipynb>data table notebook</a>'\n",
              "            + ' to learn more about interactive tables.';\n",
              "          element.innerHTML = '';\n",
              "          dataTable['output_type'] = 'display_data';\n",
              "          await google.colab.output.renderOutput(dataTable, element);\n",
              "          const docLink = document.createElement('div');\n",
              "          docLink.innerHTML = docLinkHtml;\n",
              "          element.appendChild(docLink);\n",
              "        }\n",
              "      </script>\n",
              "    </div>\n",
              "  </div>\n",
              "  "
            ]
          },
          "metadata": {},
          "execution_count": 40
        }
      ]
    },
    {
      "cell_type": "code",
      "source": [
        "df_submit.to_csv('df_submit_lstm.csv', index = False)"
      ],
      "metadata": {
        "id": "aLESzCnmAJDF"
      },
      "execution_count": null,
      "outputs": []
    }
  ]
}