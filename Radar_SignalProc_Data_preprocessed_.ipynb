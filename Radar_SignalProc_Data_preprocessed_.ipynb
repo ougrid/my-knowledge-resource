{
  "cells": [
    {
      "cell_type": "markdown",
      "metadata": {
        "id": "view-in-github",
        "colab_type": "text"
      },
      "source": [
        "<a href=\"https://colab.research.google.com/github/ougrid/my-knowledge-resource/blob/master/Radar_SignalProc_Data_preprocessed_.ipynb\" target=\"_parent\"><img src=\"https://colab.research.google.com/assets/colab-badge.svg\" alt=\"Open In Colab\"/></a>"
      ]
    },
    {
      "cell_type": "code",
      "source": [
        "!gdown --id 1PDQk0c4hmB16BfbrWY3WU7K8vbN_Fmfb\n",
        "!gdown --id 1ctUDilooaPt1pc4eEk-gyCMUcnRvI4aN\n",
        "!gdown --id 1s5tXdlDm3mbtDCQs4Kl3VuLlUQ8J9MT3\n"
      ],
      "metadata": {
        "colab": {
          "base_uri": "https://localhost:8080/"
        },
        "id": "Zmes22_mN_wm",
        "outputId": "bacede33-2a46-4a8e-853c-d831f80e29d5"
      },
      "id": "Zmes22_mN_wm",
      "execution_count": null,
      "outputs": [
        {
          "output_type": "stream",
          "name": "stdout",
          "text": [
            "/usr/local/lib/python3.8/dist-packages/gdown/cli.py:127: FutureWarning: Option `--id` was deprecated in version 4.3.1 and will be removed in 5.0. You don't need to pass it anymore to use a file ID.\n",
            "  warnings.warn(\n",
            "Downloading...\n",
            "From: https://drive.google.com/uc?id=1PDQk0c4hmB16BfbrWY3WU7K8vbN_Fmfb\n",
            "To: /content/nobody.npy\n",
            "100% 13.7M/13.7M [00:00<00:00, 130MB/s]\n",
            "/usr/local/lib/python3.8/dist-packages/gdown/cli.py:127: FutureWarning: Option `--id` was deprecated in version 4.3.1 and will be removed in 5.0. You don't need to pass it anymore to use a file ID.\n",
            "  warnings.warn(\n",
            "Downloading...\n",
            "From: https://drive.google.com/uc?id=1ctUDilooaPt1pc4eEk-gyCMUcnRvI4aN\n",
            "To: /content/stand.npy\n",
            "100% 13.7M/13.7M [00:00<00:00, 48.1MB/s]\n",
            "/usr/local/lib/python3.8/dist-packages/gdown/cli.py:127: FutureWarning: Option `--id` was deprecated in version 4.3.1 and will be removed in 5.0. You don't need to pass it anymore to use a file ID.\n",
            "  warnings.warn(\n",
            "Downloading...\n",
            "From: https://drive.google.com/uc?id=1s5tXdlDm3mbtDCQs4Kl3VuLlUQ8J9MT3\n",
            "To: /content/walk.npy\n",
            "100% 13.7M/13.7M [00:00<00:00, 83.1MB/s]\n"
          ]
        }
      ]
    },
    {
      "cell_type": "code",
      "execution_count": null,
      "id": "8e1a2761",
      "metadata": {
        "id": "8e1a2761",
        "outputId": "73627ca4-0446-4121-aa75-36f6b6178a3e",
        "colab": {
          "base_uri": "https://localhost:8080/"
        }
      },
      "outputs": [
        {
          "output_type": "stream",
          "name": "stdout",
          "text": [
            "(15300, 112)\n",
            "(15300, 112)\n",
            "(15300, 112)\n",
            "60 second of record with 255 FPS\n",
            "60 second x 255 frame per second =15300\n"
          ]
        }
      ],
      "source": [
        "import numpy as np \n",
        "nobody   = np.load(\"/content/nobody.npy\")\n",
        "standing = np.load(\"/content/stand.npy\")\n",
        "walking  = np.load(\"/content/walk.npy\")\n",
        "print(nobody.shape)\n",
        "print(standing.shape)\n",
        "print(walking.shape)\n",
        "print(\"60 second of record with 255 FPS\")\n",
        "print(\"60 second x 255 frame per second =\"+str(60*255))"
      ]
    },
    {
      "cell_type": "code",
      "execution_count": null,
      "id": "7936f5b7",
      "metadata": {
        "id": "7936f5b7",
        "outputId": "529b3cdf-cf33-4080-8a88-a718828394aa",
        "colab": {
          "base_uri": "https://localhost:8080/"
        }
      },
      "outputs": [
        {
          "output_type": "stream",
          "name": "stdout",
          "text": [
            "(15300, 56)\n",
            "(15300, 56)\n",
            "(15300, 56)\n",
            "56 Range bits of 2.8 meter of distance\n"
          ]
        }
      ],
      "source": [
        "# I/Q data reader \n",
        "def IQdata(datas):\n",
        "    iq_vecs = []\n",
        "    for data in datas:\n",
        "        data_length = len(data)\n",
        "        i_vec = np.array(data[:data_length//2])\n",
        "        q_vec = np.array(data[data_length//2:])\n",
        "        iq_vec = i_vec + 1j*q_vec\n",
        "        iq_vecs.append(iq_vec)\n",
        "    return np.stack(iq_vecs)\n",
        "\n",
        "IQ_nobody   = IQdata(nobody)\n",
        "IQ_standing = IQdata(standing)\n",
        "IQ_walking  = IQdata(walking)\n",
        "\n",
        "print(IQ_nobody.shape)\n",
        "print(IQ_standing.shape)\n",
        "print(IQ_walking.shape)\n",
        "print(\"56 Range bits of 2.8 meter of distance\")"
      ]
    },
    {
      "cell_type": "code",
      "execution_count": null,
      "id": "cc367c46",
      "metadata": {
        "id": "cc367c46",
        "outputId": "b1f253c8-9940-4f5f-a15b-2401b8a3b43b",
        "colab": {
          "base_uri": "https://localhost:8080/"
        }
      },
      "outputs": [
        {
          "output_type": "stream",
          "name": "stdout",
          "text": [
            "(15045, 255, 56)\n",
            "(15045, 255, 56)\n",
            "(15045, 255, 56)\n"
          ]
        }
      ],
      "source": [
        "#Range time data\n",
        "def range_time(IQ_data):\n",
        "    n_rd_history = 255\n",
        "    frame = []\n",
        "    frames = []\n",
        "\n",
        "    for iqini in IQ_data:\n",
        "        if len(frame)<n_rd_history:\n",
        "            frame.append(iqini)\n",
        "        else:  \n",
        "            frames.append(np.copy(frame))\n",
        "            frame.append(iqini)\n",
        "            frame = frame[1::]\n",
        "            \n",
        "    return np.stack(frames)\n",
        "\n",
        "Range_time_nobody   = range_time(IQ_nobody)\n",
        "Range_time_standing = range_time(IQ_standing)\n",
        "Range_time_walking  = range_time(IQ_walking)\n",
        "\n",
        "print(Range_time_nobody.shape)\n",
        "print(Range_time_standing.shape)\n",
        "print(Range_time_walking.shape)"
      ]
    },
    {
      "cell_type": "code",
      "execution_count": null,
      "id": "77e8e076",
      "metadata": {
        "id": "77e8e076",
        "outputId": "b7702cdd-e9b2-4476-c2e7-c4b6c0ea5ec7",
        "colab": {
          "base_uri": "https://localhost:8080/"
        }
      },
      "outputs": [
        {
          "output_type": "stream",
          "name": "stdout",
          "text": [
            "(15045, 255, 56)\n",
            "(15045, 255, 56)\n",
            "(15045, 255, 56)\n"
          ]
        }
      ],
      "source": [
        "import scipy.fftpack as fft\n",
        "#Range frequency data\n",
        "def Range_frequency(datas):\n",
        "    Range_frequency_frame = []\n",
        "    for data in datas:\n",
        "        dB = True\n",
        "        # Range-Doppler\n",
        "        rd = fft.fft(data, axis=0)\n",
        "        rd = fft.fftshift(rd, axes=0)\n",
        "        rd = abs(rd)\n",
        "        DBrd = 20 * np.log10(rd+1e-10)\n",
        "        Range_frequency_frame.append(DBrd)\n",
        "    return np.stack(Range_frequency_frame)\n",
        "\n",
        "Range_frequency_nobody   = Range_frequency(Range_time_nobody)\n",
        "Range_frequency_standing = Range_frequency(Range_time_standing)\n",
        "Range_frequency_walking  = Range_frequency(Range_time_walking)\n",
        "\n",
        "print(Range_frequency_nobody.shape)\n",
        "print(Range_frequency_standing.shape)\n",
        "print(Range_frequency_walking.shape)"
      ]
    },
    {
      "cell_type": "code",
      "execution_count": null,
      "id": "8f424bd0",
      "metadata": {
        "id": "8f424bd0"
      },
      "outputs": [],
      "source": []
    }
  ],
  "metadata": {
    "kernelspec": {
      "display_name": "Python 3 (ipykernel)",
      "language": "python",
      "name": "python3"
    },
    "language_info": {
      "codemirror_mode": {
        "name": "ipython",
        "version": 3
      },
      "file_extension": ".py",
      "mimetype": "text/x-python",
      "name": "python",
      "nbconvert_exporter": "python",
      "pygments_lexer": "ipython3",
      "version": "3.9.12"
    },
    "colab": {
      "provenance": [],
      "machine_shape": "hm",
      "include_colab_link": true
    },
    "accelerator": "GPU",
    "gpuClass": "premium"
  },
  "nbformat": 4,
  "nbformat_minor": 5
}