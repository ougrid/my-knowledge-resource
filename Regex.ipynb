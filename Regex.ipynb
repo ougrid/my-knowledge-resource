{
  "nbformat": 4,
  "nbformat_minor": 0,
  "metadata": {
    "colab": {
      "provenance": [],
      "include_colab_link": true
    },
    "kernelspec": {
      "name": "python3",
      "display_name": "Python 3"
    },
    "language_info": {
      "name": "python"
    }
  },
  "cells": [
    {
      "cell_type": "markdown",
      "metadata": {
        "id": "view-in-github",
        "colab_type": "text"
      },
      "source": [
        "<a href=\"https://colab.research.google.com/github/ougrid/my-knowledge-resource/blob/master/Regex.ipynb\" target=\"_parent\"><img src=\"https://colab.research.google.com/assets/colab-badge.svg\" alt=\"Open In Colab\"/></a>"
      ]
    },
    {
      "cell_type": "markdown",
      "source": [
        "Cheat Sheet at https://www.w3schools.com/python/python_regex.asp"
      ],
      "metadata": {
        "id": "qh4Mtj4GQBHs"
      }
    },
    {
      "cell_type": "code",
      "execution_count": null,
      "metadata": {
        "id": "4NGJn0uPLH6E"
      },
      "outputs": [],
      "source": [
        "import re"
      ]
    },
    {
      "cell_type": "code",
      "source": [
        "text=\"สวัสดี ซุเปอร์ AI season 3 ปี 2022 ขณะนี้เวลา 22:09 \""
      ],
      "metadata": {
        "id": "1QkkOzNML2Sc"
      },
      "execution_count": null,
      "outputs": []
    },
    {
      "cell_type": "code",
      "source": [
        "re.findall(\"\\d+\",text)"
      ],
      "metadata": {
        "colab": {
          "base_uri": "https://localhost:8080/"
        },
        "id": "w9xTMswvuO9n",
        "outputId": "93187fb7-40b9-43e8-ba33-1f156dbd876e"
      },
      "execution_count": null,
      "outputs": [
        {
          "output_type": "execute_result",
          "data": {
            "text/plain": [
              "['3', '2022', '22', '09']"
            ]
          },
          "metadata": {},
          "execution_count": 5
        }
      ]
    },
    {
      "cell_type": "code",
      "source": [
        "text = \"RegExรีเจ็กซ์\""
      ],
      "metadata": {
        "id": "4FAiW5e_vvR1"
      },
      "execution_count": null,
      "outputs": []
    },
    {
      "cell_type": "code",
      "source": [
        "re.findall(\"([a-zA-Z]+)([ก-๙]+)\",text)\n"
      ],
      "metadata": {
        "colab": {
          "base_uri": "https://localhost:8080/"
        },
        "id": "OMwJvZabwBU3",
        "outputId": "e3979165-176b-4b2c-d218-8678a5a96f79"
      },
      "execution_count": null,
      "outputs": [
        {
          "output_type": "execute_result",
          "data": {
            "text/plain": [
              "[('RegEx', 'รีเจ็กซ์')]"
            ]
          },
          "metadata": {},
          "execution_count": 12
        }
      ]
    },
    {
      "cell_type": "code",
      "source": [
        "re.findall(\"[a-zA-Z]+\",text)"
      ],
      "metadata": {
        "colab": {
          "base_uri": "https://localhost:8080/"
        },
        "id": "6f6XfO_pu4r-",
        "outputId": "f00132ff-2a19-4abb-c292-a7129dec1f2f"
      },
      "execution_count": null,
      "outputs": [
        {
          "output_type": "execute_result",
          "data": {
            "text/plain": [
              "['AI', 'season']"
            ]
          },
          "metadata": {},
          "execution_count": 8
        }
      ]
    },
    {
      "cell_type": "code",
      "source": [
        "re.sub(\"[a-zA-Z]\",\"\",text)"
      ],
      "metadata": {
        "colab": {
          "base_uri": "https://localhost:8080/",
          "height": 35
        },
        "id": "-Lt3xXFcwoB_",
        "outputId": "2025a3b2-a89b-4092-b05c-98e087d988c0"
      },
      "execution_count": null,
      "outputs": [
        {
          "output_type": "execute_result",
          "data": {
            "text/plain": [
              "'รีเจ็กซ์'"
            ],
            "application/vnd.google.colaboratory.intrinsic+json": {
              "type": "string"
            }
          },
          "metadata": {},
          "execution_count": 13
        }
      ]
    },
    {
      "cell_type": "code",
      "source": [
        "text_list = [\"สวัสดีครับ สวัสดีทุกท่านนะครับ\", \"สวัสดีค่ะ เฉาก๊วยชากังราวมาให้บริการอีกแล้วนะคะ\", \"สวัสดีนะคะ สวัสดีครับ\",\"สวัสดีครับ ท่านสมาชิกชมรม SuperAI\",\"สวัสดีครับ\"]"
      ],
      "metadata": {
        "id": "4fx9ClqZPMg1"
      },
      "execution_count": null,
      "outputs": []
    },
    {
      "cell_type": "code",
      "source": [
        "\n",
        "pattern = \"5555555\"\n",
        "text = \"สวัสดีครับ สวัสดีทุกท่านนะครับ\"\n",
        "print(re.match(pattern,text))"
      ],
      "metadata": {
        "id": "AQQr6sPixWff"
      },
      "execution_count": null,
      "outputs": []
    },
    {
      "cell_type": "code",
      "source": [
        "text = \"สวัสดีครับ สวัสดีทุกท่านนะครับ\"\n",
        "re.findall(\"[^สค]\",text)\t"
      ],
      "metadata": {
        "id": "FqgPHo9vyEov"
      },
      "execution_count": null,
      "outputs": []
    },
    {
      "cell_type": "code",
      "source": [
        "pattern = \"^สวัสดีครับ|^สวัสดีค่ะ\"\n",
        "\n",
        "for text in text_list:\n",
        "  if re.match(pattern,text):\n",
        "    print(text)"
      ],
      "metadata": {
        "colab": {
          "base_uri": "https://localhost:8080/"
        },
        "id": "4fKqG9Z3w9IK",
        "outputId": "82d8ad9d-f968-414b-d925-e3892531d31c"
      },
      "execution_count": null,
      "outputs": [
        {
          "output_type": "stream",
          "name": "stdout",
          "text": [
            "สวัสดีครับ สวัสดีทุกท่านนะครับ\n",
            "สวัสดีค่ะ เฉาก๊วยชากังราวมาให้บริการอีกแล้วนะคะ\n",
            "สวัสดีครับ ท่านสมาชิกชมรม SuperAI\n",
            "สวัสดีครับ\n"
          ]
        }
      ]
    },
    {
      "cell_type": "markdown",
      "source": [
        "# Exercise"
      ],
      "metadata": {
        "id": "HZZz4dsoLaDE"
      }
    },
    {
      "cell_type": "markdown",
      "source": [
        "## แทนที่เบอร์โทรด้วย x (0xx-xxxxxxx, 0xxxxxxxxx, 0xx-xxx-xxxx)"
      ],
      "metadata": {
        "id": "CChJ2I1qLgJE"
      }
    },
    {
      "cell_type": "code",
      "source": [
        "text = \"เบอร์ของผมคือ 0933234685 เบอร์ของเขาคือ 094-323-5678 ส่วนเบอร์ของเธอคือ 091-2223456\"\n"
      ],
      "metadata": {
        "id": "MY5lgxvOLdAp"
      },
      "execution_count": null,
      "outputs": []
    },
    {
      "cell_type": "markdown",
      "source": [
        "## Extract all email"
      ],
      "metadata": {
        "id": "JmHybApeMAy5"
      }
    },
    {
      "cell_type": "code",
      "source": [
        "text = \"email ของผมคือ mondcha1507@gmail.com email ของเขาคือ llll.net_kk@student.ksdf.ac.th ส่วน email ของเธอคือ oknaka@hotmail.com\"\n",
        "\n",
        "# hint : If you want to search for \".\" in regex use \"\\.\"\n",
        "# hint : You may need to repeat some part to match multiple \"\\.\"\n",
        "# Optional hint : keyword \"Non-capturing group\" may be useful. \n"
      ],
      "metadata": {
        "colab": {
          "base_uri": "https://localhost:8080/"
        },
        "id": "yE7GLJFsd8Dt",
        "outputId": "843fc085-ea56-4d4b-a0cc-bd7e06d3effd"
      },
      "execution_count": null,
      "outputs": [
        {
          "output_type": "execute_result",
          "data": {
            "text/plain": [
              "['mondcha1507@gmail.com',\n",
              " 'llll.net_kk@student.ksdf.ac.th',\n",
              " 'oknaka@hotmail.com']"
            ]
          },
          "metadata": {},
          "execution_count": 121
        }
      ]
    },
    {
      "cell_type": "markdown",
      "source": [
        "## Extract url"
      ],
      "metadata": {
        "id": "WtTj5fiuMC7e"
      }
    },
    {
      "cell_type": "code",
      "source": [
        "text = \"Url ของผมคือ  www.facebook.com/mmmmm url ของเขาคือ http://okok.com ส่วน url ของเธอคือ https://www.megamega.com\"\n",
        "\n",
        "# hint : You can just googling this, because it's too long and time-consuming to write answer by urself lol"
      ],
      "metadata": {
        "id": "qlCt6i0QiGIz"
      },
      "execution_count": null,
      "outputs": []
    }
  ]
}