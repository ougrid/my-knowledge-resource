{
  "nbformat": 4,
  "nbformat_minor": 0,
  "metadata": {
    "colab": {
      "provenance": [],
      "collapsed_sections": [
        "dKgnMtJ40VqL",
        "k7U6I_K716E8",
        "4dx-PYPC3Ax-",
        "5uy0JJGExYpn",
        "OpVJEThd0Cpn",
        "5S-x4_35T5nI"
      ],
      "include_colab_link": true
    },
    "kernelspec": {
      "name": "python3",
      "display_name": "Python 3"
    },
    "language_info": {
      "name": "python"
    }
  },
  "cells": [
    {
      "cell_type": "markdown",
      "metadata": {
        "id": "view-in-github",
        "colab_type": "text"
      },
      "source": [
        "<a href=\"https://colab.research.google.com/github/ougrid/my-knowledge-resource/blob/master/SuperAI_Data_Analysis_student_copy.ipynb\" target=\"_parent\"><img src=\"https://colab.research.google.com/assets/colab-badge.svg\" alt=\"Open In Colab\"/></a>"
      ]
    },
    {
      "cell_type": "markdown",
      "metadata": {
        "id": "q_sRO_XHctK_"
      },
      "source": [
        "# Data Analysis\n",
        "\n",
        "Credits : This material is heavily adopted from \n",
        "1. Coursera's Data Analysis with Python offered by IBM (https://www.coursera.org/learn/data-analysis-with-python)\n",
        "2. Freecodecamp's Data Analysis with Python (https://www.freecodecamp.org/learn/data-analysis-with-python/)\n",
        "3. Udacity's Intro to Data Science (https://www.udacity.com/course/intro-to-data-science--ud359)\n",
        "\n",
        "## What is data analysis ?\n",
        "\n",
        "> Data analysis is a process of inspecting, cleansing, transforming, and modeling data with the goal of discovering useful information, informing conclusions, and supporting decision-making.\n",
        "\n",
        "source: Wikipedia\n",
        "\n",
        "Data analysis plays an important role in:\n",
        "- Discovering useful information\n",
        "- Answering questions\n",
        "- Predicting future or unknown\n",
        "\n",
        "---\n",
        "## Python Packages for Data Analysis\n",
        "\n",
        "### 1. Scientifics Computing Libraries\n",
        "- Pandas : Data structure and tools\n",
        "- Numpy : multidimensional array, numeric computing.\n",
        "- Scipy : integrals, solving differential equations, optimization\n",
        "\n",
        "### 2. Arithmetic Libraries\n",
        "- scikit-learn\n",
        "- Statsmodels\n",
        "\n",
        "### 3. Visualization Libraries\n",
        "- Matplotlib\n",
        "- Seaborn\n",
        "\n",
        "---\n",
        "## Data Analysis Process\n",
        "1. Data Extraction (or Importing data)\n",
        "2. Data preprocessing (Data Wrangling)\n",
        "3. Analysis\n",
        "\n",
        "---\n",
        "## Today schedule\n",
        "- Numpy\n",
        "- Pandas\n",
        "- Data Extraction\n",
        "  - Import csv, xlsx, json, html\n",
        "- Data preprocessing\n",
        "  - Missing data\n",
        "- Exploratory Data Analysis (EDA)\n"
      ]
    },
    {
      "cell_type": "code",
      "metadata": {
        "id": "VtsaL3M7codA"
      },
      "source": [
        "import pandas as pd\n",
        "import numpy as np"
      ],
      "execution_count": null,
      "outputs": []
    },
    {
      "cell_type": "markdown",
      "metadata": {
        "id": "dKgnMtJ40VqL"
      },
      "source": [
        "# Data Extraction"
      ]
    },
    {
      "cell_type": "code",
      "metadata": {
        "id": "MaTunHJTc2su"
      },
      "source": [
        "data_path = \"https://cf-courses-data.s3.us.cloud-object-storage.appdomain.cloud/IBMDeveloperSkillsNetwork-DA0101EN-SkillsNetwork/labs/Data%20files/auto.csv\"\n",
        "df = pd.read_csv(data_path, header=None)"
      ],
      "execution_count": null,
      "outputs": []
    },
    {
      "cell_type": "code",
      "metadata": {
        "id": "9uLOtWH10pz-"
      },
      "source": [
        "# show the first 5 rows using dataframe.head() method\n",
        "print(\"The first 5 rows of the dataframe\") \n",
        "df.head(5)"
      ],
      "execution_count": null,
      "outputs": []
    },
    {
      "cell_type": "code",
      "metadata": {
        "id": "OBjUpuLE01pP"
      },
      "source": [
        "# show the last 5 rows using dataframe.tail() method\n",
        "print(\"The last 5 rows of the dataframe\") \n",
        "df.tail(5)"
      ],
      "execution_count": null,
      "outputs": []
    },
    {
      "cell_type": "code",
      "metadata": {
        "id": "igUvKarM1e--"
      },
      "source": [
        "print(df.columns)"
      ],
      "execution_count": null,
      "outputs": []
    },
    {
      "cell_type": "code",
      "metadata": {
        "id": "psmV_nFB00I_"
      },
      "source": [
        "# create headers list\n",
        "headers = [\"symboling\",\"normalized-losses\",\"make\",\"fuel-type\",\"aspiration\", \"num-of-doors\",\"body-style\",\n",
        "         \"drive-wheels\",\"engine-location\",\"wheel-base\", \"length\",\"width\",\"height\",\"curb-weight\",\"engine-type\",\n",
        "         \"num-of-cylinders\", \"engine-size\",\"fuel-system\",\"bore\",\"stroke\",\"compression-ratio\",\"horsepower\",\n",
        "         \"peak-rpm\",\"city-mpg\",\"highway-mpg\",\"price\"]\n",
        "print(\"headers\\n\", headers)"
      ],
      "execution_count": null,
      "outputs": []
    },
    {
      "cell_type": "code",
      "metadata": {
        "id": "BOZBzXEX0_PX"
      },
      "source": [
        "df.columns = headers\n",
        "df.head(10)"
      ],
      "execution_count": null,
      "outputs": []
    },
    {
      "cell_type": "code",
      "metadata": {
        "id": "P8SmEfLq1cPe"
      },
      "source": [
        "# '?' needs to be replace with NaN first so that we can use 'dropna' to remove the missing values\n",
        "df1=df.replace('?',np.NaN)"
      ],
      "execution_count": null,
      "outputs": []
    },
    {
      "cell_type": "code",
      "metadata": {
        "id": "qmGgmiRs1BlH"
      },
      "source": [
        "df=df1.dropna(subset=[\"price\"], axis=0)\n",
        "df.head(20)"
      ],
      "execution_count": null,
      "outputs": []
    },
    {
      "cell_type": "code",
      "metadata": {
        "id": "yh93h4tk1VAo"
      },
      "source": [
        "#save Dataset\n",
        "df.to_csv(\"automobile.csv\", index=False)"
      ],
      "execution_count": null,
      "outputs": []
    },
    {
      "cell_type": "markdown",
      "metadata": {
        "id": "XbLsV-v3v2Is"
      },
      "source": [
        "<h2>Read/Save Other Data Formats</h2>\n",
        "\n",
        "| Data Formate |        Read       |            Save |\n",
        "| ------------ | :---------------: | --------------: |\n",
        "| csv          |  `pd.read_csv()`  |   `df.to_csv()` |\n",
        "| json         |  `pd.read_json()` |  `df.to_json()` |\n",
        "| excel        | `pd.read_excel()` | `df.to_excel()` |\n",
        "| hdf          |  `pd.read_hdf()`  |   `df.to_hdf()` |\n",
        "| sql          |  `pd.read_sql()`  |   `df.to_sql()` |\n",
        "| ...          |        ...        |             ... |\n"
      ]
    },
    {
      "cell_type": "markdown",
      "metadata": {
        "id": "k7U6I_K716E8"
      },
      "source": [
        "## Let's look insight of Dataset\n",
        "\n",
        "NaN = Not a Number"
      ]
    },
    {
      "cell_type": "code",
      "metadata": {
        "id": "MV80fJI61-YZ"
      },
      "source": [
        "# Data type\n",
        "df.dtypes"
      ],
      "execution_count": null,
      "outputs": []
    },
    {
      "cell_type": "code",
      "metadata": {
        "id": "fvoJ1MOQ2FLY"
      },
      "source": [
        "# Provide various summary statistics, EXCLUDING \"NaN\" values\n",
        "df.describe()"
      ],
      "execution_count": null,
      "outputs": []
    },
    {
      "cell_type": "code",
      "metadata": {
        "id": "2IF9PjJR2LiG"
      },
      "source": [
        "# Provide various summary statistics, INCLUDING \"NaN\" values or \"object-typed\" attributes\n",
        "df.describe(include='all')"
      ],
      "execution_count": null,
      "outputs": []
    },
    {
      "cell_type": "code",
      "metadata": {
        "id": "OKHspg4v2XYm"
      },
      "source": [
        "df.info()"
      ],
      "execution_count": null,
      "outputs": []
    },
    {
      "cell_type": "markdown",
      "metadata": {
        "id": "4dx-PYPC3Ax-"
      },
      "source": [
        "## Data Extraction Exercise"
      ]
    },
    {
      "cell_type": "markdown",
      "metadata": {
        "id": "5uy0JJGExYpn"
      },
      "source": [
        "### QDE-1 : Show the statistics summary of the columns 'length', 'compression-ratio', and 'num-of-cylinders'"
      ]
    },
    {
      "cell_type": "code",
      "source": [],
      "metadata": {
        "id": "fxWLNV4bVhqk"
      },
      "execution_count": null,
      "outputs": []
    },
    {
      "cell_type": "markdown",
      "metadata": {
        "id": "OpVJEThd0Cpn"
      },
      "source": [
        "### QDE-2 : \n",
        "1. Read data from hubway.db into dataframe \n",
        "2. What are the column names in table 'stations'\n",
        "3. Show the statistics summary of table 'stations'\n",
        "4. Is there any 'Nan'(missing) values in the table"
      ]
    },
    {
      "cell_type": "code",
      "source": [],
      "metadata": {
        "id": "AUGj_nwvVirH"
      },
      "execution_count": null,
      "outputs": []
    },
    {
      "cell_type": "markdown",
      "metadata": {
        "id": "piyQE1S8LcSD"
      },
      "source": [
        "# Data Preprocessing\n",
        "\n",
        "## Data Wrangling\n",
        "Data wrangling is the process of converting data from the initial format to a format that may be better for analysis.\n",
        "\n",
        "we will learn to :\n",
        "1. Handle missing values\n",
        "2. Correct data format\n",
        "3. Standardize and normalize data"
      ]
    },
    {
      "cell_type": "code",
      "metadata": {
        "id": "l2BTH8fMADix"
      },
      "source": [
        "file_url = \"https://archive.ics.uci.edu/ml/machine-learning-databases/autos/imports-85.data\"\n",
        "\n",
        "headers = [\"symboling\",\"normalized-losses\",\"make\",\"fuel-type\",\"aspiration\", \"num-of-doors\",\"body-style\",\n",
        "         \"drive-wheels\",\"engine-location\",\"wheel-base\", \"length\",\"width\",\"height\",\"curb-weight\",\"engine-type\",\n",
        "         \"num-of-cylinders\", \"engine-size\",\"fuel-system\",\"bore\",\"stroke\",\"compression-ratio\",\"horsepower\",\n",
        "         \"peak-rpm\",\"city-mpg\",\"highway-mpg\",\"price\"]\n",
        "\n",
        "auto_df = pd.read_csv(file_url)\n",
        "auto_df.head()\n",
        "# Note that without columns' name, DataFrame will consider the first row of the data as the columns' name"
      ],
      "execution_count": null,
      "outputs": []
    },
    {
      "cell_type": "code",
      "metadata": {
        "id": "mJhkmJsLBe1t"
      },
      "source": [
        "auto_df.columns=headers\n",
        "auto_df.head()"
      ],
      "execution_count": null,
      "outputs": []
    },
    {
      "cell_type": "markdown",
      "metadata": {
        "id": "VligX-NvHNEQ"
      },
      "source": [
        "## 1. Handle missing data\n",
        "\n",
        "<b>How to work with missing data?</b>\n",
        "\n",
        "Steps for working with missing data:\n",
        "\n",
        "<ol>\n",
        "    <li>Identify missing data</li>\n",
        "    <li>Deal with missing data</li>\n",
        "    <li>Correct data format</li>\n",
        "</ol>"
      ]
    },
    {
      "cell_type": "markdown",
      "metadata": {
        "id": "P_TtO39XHRfy"
      },
      "source": [
        "### 1.1 Identify missing data\n",
        "\n",
        "<b> 1.1.1 Convert \"?\" to NaN using </b>\n",
        "\n",
        "`.replace(A,B)` to replace A by B"
      ]
    },
    {
      "cell_type": "code",
      "metadata": {
        "id": "agqJE6ShHFdB"
      },
      "source": [
        "auto_df.replace(\"?\", np.nan)"
      ],
      "execution_count": null,
      "outputs": []
    },
    {
      "cell_type": "code",
      "metadata": {
        "id": "_4KBjknvHy8x"
      },
      "source": [
        "auto_df.head()"
      ],
      "execution_count": null,
      "outputs": []
    },
    {
      "cell_type": "code",
      "metadata": {
        "id": "Y-maRcbhH8n5"
      },
      "source": [
        "# Why the dataframe still contains \"?\", even we replace it with \"NaN\"\n",
        "# To solve this issue,\n",
        "# 1. Assign to other variable\n",
        "auto_nan_df = auto_df.replace(\"?\", np.nan)\n",
        "auto_nan_df.head()"
      ],
      "execution_count": null,
      "outputs": []
    },
    {
      "cell_type": "code",
      "metadata": {
        "id": "cN80mVxeInjA"
      },
      "source": [
        "# 2. Inplace assignment\n",
        "auto_df.replace(\"?\", np.nan, inplace=True)"
      ],
      "execution_count": null,
      "outputs": []
    },
    {
      "cell_type": "code",
      "metadata": {
        "id": "_eCISz4vKqWl"
      },
      "source": [
        "auto_df.head()"
      ],
      "execution_count": null,
      "outputs": []
    },
    {
      "cell_type": "markdown",
      "metadata": {
        "id": "-SYc3iBxKwyB"
      },
      "source": [
        "<b> 1.1.2 Evaluating for missing data </b>\n",
        "\n",
        "The missing values are converted by default. We use the following functions to identify these missing values. There are two methods to detect missing data:\n",
        "\n",
        "* `.isnull()`\n",
        "* `.notnull()`\n",
        "\n",
        "The output is a boolean value indicating whether the value that is passed into the argument is in fact missing data."
      ]
    },
    {
      "cell_type": "code",
      "metadata": {
        "id": "VKKKBWS1KslH"
      },
      "source": [
        "missing_data = auto_df.isnull()\n",
        "missing_data.head()"
      ],
      "execution_count": null,
      "outputs": []
    },
    {
      "cell_type": "markdown",
      "metadata": {
        "id": "zmiECZqRMEWw"
      },
      "source": [
        "**True** means the value is a missing value while **False** means the value is not a missing value."
      ]
    },
    {
      "cell_type": "markdown",
      "metadata": {
        "id": "5huI4fiYMMzV"
      },
      "source": [
        "<b> 1.1.3 Count missing values in each column</b>\n",
        "\n",
        "Using a for loop in Python, we can quickly figure out the number of missing values in each column. As mentioned above, **\"True\"** represents a missing value and **\"False\"** means the value is present in the dataset.  In the body of the for loop the method \".value_counts()\" counts the number of **\"True\"** values. \n"
      ]
    },
    {
      "cell_type": "code",
      "metadata": {
        "id": "5vJg7NlcL9E5"
      },
      "source": [
        "for column in missing_data.columns.values.tolist():\n",
        "    print(column)\n",
        "    print (missing_data[column].value_counts())\n",
        "    print(\"\") "
      ],
      "execution_count": null,
      "outputs": []
    },
    {
      "cell_type": "code",
      "metadata": {
        "id": "2wMEoqBrMyKR"
      },
      "source": [
        "# What missing_data.columns.values.tolist()\n",
        "missing_data.columns"
      ],
      "execution_count": null,
      "outputs": []
    },
    {
      "cell_type": "code",
      "metadata": {
        "id": "yGMz5eHQNIRB"
      },
      "source": [
        "missing_data.columns.values"
      ],
      "execution_count": null,
      "outputs": []
    },
    {
      "cell_type": "code",
      "metadata": {
        "id": "sxKGw-6eNZel"
      },
      "source": [
        "missing_data.columns.values.tolist()"
      ],
      "execution_count": null,
      "outputs": []
    },
    {
      "cell_type": "markdown",
      "metadata": {
        "id": "gmileiDTNvx4"
      },
      "source": [
        "### 1.2 Deal with missing data\n",
        "\n",
        "<b>How to deal with missing data?</b>\n",
        "\n",
        "<ol>\n",
        "    <li>Drop data<br>\n",
        "        a. Drop the whole *row*<br>\n",
        "        b. Drop the whole *column*\n",
        "    </li>\n",
        "    <li>Replace data<br>\n",
        "        a. Replace it by *mean*<br>\n",
        "        b. Replace it by *frequency*<br>\n",
        "        c. Replace it based on *other functions*\n",
        "    </li>\n",
        "</ol>\n",
        "\n",
        "Whole columns should be dropped only if most entries in the column are empty. In our dataset, none of the columns are empty enough to drop entirely.\n",
        "We have some freedom in choosing which method to replace data; however, some methods may seem more reasonable than others. We will apply each method to many different columns:\n",
        "\n",
        "<b>Replace by mean:</b>\n",
        "\n",
        "<ul>\n",
        "    <li>\"normalized-losses\": 41 missing data, replace them with mean</li>\n",
        "    <li>\"stroke\": 4 missing data, replace them with mean</li>\n",
        "    <li>\"bore\": 4 missing data, replace them with mean</li>\n",
        "    <li>\"horsepower\": 2 missing data, replace them with mean</li>\n",
        "    <li>\"peak-rpm\": 2 missing data, replace them with mean</li>\n",
        "</ul>\n",
        "\n",
        "<b>Replace by frequency:</b>\n",
        "\n",
        "<ul>\n",
        "    <li>\"num-of-doors\": 2 missing data, replace them with \"four\". \n",
        "        <ul>\n",
        "            <li>Reason: 84% sedans is four doors. Since four doors is most frequent, it is most likely to occur</li>\n",
        "        </ul>\n",
        "    </li>\n",
        "</ul>\n",
        "\n",
        "<b>Drop the whole row:</b>\n",
        "\n",
        "<ul>\n",
        "    <li>\"price\": 4 missing data, simply delete the whole row\n",
        "        <ul>\n",
        "            <li>Reason: price is what we want to predict. Any data entry without price data cannot be used for prediction; therefore any row now without price data is not useful to us</li>\n",
        "        </ul>\n",
        "    </li>\n",
        "</ul>\n"
      ]
    },
    {
      "cell_type": "markdown",
      "metadata": {
        "id": "g90rXd6PZs22"
      },
      "source": [
        "<b> 1.2.1 Replace by mean </b>"
      ]
    },
    {
      "cell_type": "code",
      "metadata": {
        "id": "IrO2xVNrNc4w"
      },
      "source": [
        "# Calculate the mean value for the \"normalized-losses\"\n",
        "avg_norm_loss = auto_df[\"normalized-losses\"].astype(\"float\").mean(axis=0)\n",
        "print(\"Average of normalized-losses:\", avg_norm_loss)"
      ],
      "execution_count": null,
      "outputs": []
    },
    {
      "cell_type": "code",
      "metadata": {
        "id": "5R1uk6dJWFA4"
      },
      "source": [
        "# Replance \"NaN\" with mean\n",
        "auto_df[\"normalized-losses\"].replace(np.nan, avg_norm_loss, inplace=True)\n",
        "print(auto_df[\"normalized-losses\"])"
      ],
      "execution_count": null,
      "outputs": []
    },
    {
      "cell_type": "code",
      "source": [],
      "metadata": {
        "id": "VrEzct_r36a0"
      },
      "execution_count": null,
      "outputs": []
    },
    {
      "cell_type": "markdown",
      "metadata": {
        "id": "PFc746fZZxiC"
      },
      "source": [
        "<b> 1.2.2 Replace by frequency </b>"
      ]
    },
    {
      "cell_type": "code",
      "metadata": {
        "id": "C9e2jdczaxJ_"
      },
      "source": [
        "auto_df[\"num-of-doors\"]"
      ],
      "execution_count": null,
      "outputs": []
    },
    {
      "cell_type": "code",
      "metadata": {
        "id": "lTolDTQ8ZaMf"
      },
      "source": [
        "# count the values present in a particular column\n",
        "auto_df[\"num-of-doors\"].value_counts()"
      ],
      "execution_count": null,
      "outputs": []
    },
    {
      "cell_type": "code",
      "metadata": {
        "id": "au8HoGmrakrF"
      },
      "source": [
        "auto_df[\"num-of-doors\"].value_counts().idxmax()"
      ],
      "execution_count": null,
      "outputs": []
    },
    {
      "cell_type": "code",
      "metadata": {
        "id": "FIWkCGzTa7vi"
      },
      "source": [
        "# Replace the missing values by the most frequent\n",
        "auto_df['num-of-doors'].replace(np.nan, \"four\", inplace=True)\n",
        "print(auto_df['num-of-doors'])"
      ],
      "execution_count": null,
      "outputs": []
    },
    {
      "cell_type": "markdown",
      "metadata": {
        "id": "xXNtsIrMaIgt"
      },
      "source": [
        "<b> 1.2.3 Drop row the whole row </b>"
      ]
    },
    {
      "cell_type": "code",
      "metadata": {
        "id": "jM2OLgX_bo0O"
      },
      "source": [
        "# simply drop whole row with NaN in \"price\" column\n",
        "auto_df.dropna(subset=[\"price\"], axis=0, inplace=True)\n",
        "\n",
        "# reset index, because we droped two rows\n",
        "auto_df.reset_index(drop=True, inplace=True)"
      ],
      "execution_count": null,
      "outputs": []
    },
    {
      "cell_type": "code",
      "metadata": {
        "id": "zHFC44oYb6dH"
      },
      "source": [
        "auto_df.head()"
      ],
      "execution_count": null,
      "outputs": []
    },
    {
      "cell_type": "markdown",
      "metadata": {
        "id": "4YPoZrBwXSTd"
      },
      "source": [
        "##### Exercise\n",
        "Replace by mean for the following columns\n",
        "- stroke\n",
        "- bore\n",
        "- horsepower\n",
        "- peak-rpm"
      ]
    },
    {
      "cell_type": "code",
      "source": [],
      "metadata": {
        "id": "sx_8QOJxVTC7"
      },
      "execution_count": null,
      "outputs": []
    },
    {
      "cell_type": "markdown",
      "metadata": {
        "id": "S3uZkcO5cwVj"
      },
      "source": [
        "### 1.3 Correct data format\n",
        "<p>The last step in data cleaning is checking and making sure that all data is in the correct format (int, float, text or other).</p>\n",
        "\n",
        "In Pandas, we use:\n",
        "\n",
        "- `.dtypes` to check the data type\n",
        "- `.astype()` to change the data type\n",
        "\n"
      ]
    },
    {
      "cell_type": "code",
      "metadata": {
        "id": "Kb22oWk_czSG"
      },
      "source": [
        "auto_df.dtypes"
      ],
      "execution_count": null,
      "outputs": []
    },
    {
      "cell_type": "code",
      "metadata": {
        "id": "30GrE9CLkqqe"
      },
      "source": [
        "# For example, 'bore' and 'stroke' variables are numerical values that describe the engines, so we should expect them to be of the type 'float' or 'int'\n",
        "# Let's convert data type to proper format\n",
        "\n",
        "auto_df[[\"bore\", \"stroke\"]] = auto_df[[\"bore\", \"stroke\"]].astype(\"float\")\n",
        "auto_df[[\"normalized-losses\"]] = auto_df[[\"normalized-losses\"]].astype(\"int\")\n",
        "auto_df[[\"price\"]] = auto_df[[\"price\"]].astype(\"float\")\n",
        "auto_df[[\"peak-rpm\"]] = auto_df[[\"peak-rpm\"]].astype(\"float\")"
      ],
      "execution_count": null,
      "outputs": []
    },
    {
      "cell_type": "code",
      "metadata": {
        "id": "vz25f4ZJPaKr"
      },
      "source": [
        "auto_df.dtypes"
      ],
      "execution_count": null,
      "outputs": []
    },
    {
      "cell_type": "markdown",
      "metadata": {
        "id": "xygJhVH5P91q"
      },
      "source": [
        "## 2. Data Standardization\n",
        "<b>What is standardization?</b>\n",
        "\n",
        "<p>Standardization is the process of transforming data into a common format, allowing the researcher to make the meaningful comparison.</p>\n",
        "<p>Data standardization is also a term for a particular type of data normalization where we subtract the mean and divide by the standard deviation.\n",
        "</p>\n",
        "\n",
        "<p> The most common standardization technique is called \"z-score\"</p>\n",
        "<p>\n",
        "$x'=\\frac{x-\\mu}{\\sigma}$\n",
        "<p/>\n",
        "<p> The standardized data will have zero mean and unit standard deviation</p>\n",
        "\n",
        "<b>Example</b>\n",
        "\n",
        "<p>Transform mpg to L/100km:</p>\n",
        "<p>In our dataset, the fuel consumption columns \"city-mpg\" and \"highway-mpg\" are represented by mpg (miles per gallon) unit. Assume we are developing an application in a country that accepts the fuel consumption with L/100km standard.</p>\n",
        "<p>We will need to apply <b>data transformation</b> to transform mpg into L/100km.</p>\n",
        "\n",
        "<p>The formula for unit conversion is:<p>\n",
        "L/100km = 235 / mpg\n",
        "<p>We can do many mathematical operations directly in Pandas.</p>"
      ]
    },
    {
      "cell_type": "code",
      "metadata": {
        "id": "PGyEJEShQCY2"
      },
      "source": [
        "auto_df.head()"
      ],
      "execution_count": null,
      "outputs": []
    },
    {
      "cell_type": "code",
      "metadata": {
        "id": "aBGdumOpRSvi"
      },
      "source": [
        "auto_df['city-L/100km'] = 235/auto_df['city-mpg']\n",
        "auto_df.head()"
      ],
      "execution_count": null,
      "outputs": []
    },
    {
      "cell_type": "markdown",
      "metadata": {
        "id": "an2PDrgZRnu5"
      },
      "source": [
        "#### Exercise\n",
        "\n",
        "Transform mpg to L/100km in the column of \"highway-mpg\" and add to the new column named \"highway-L/100km\""
      ]
    },
    {
      "cell_type": "markdown",
      "metadata": {
        "id": "XafjFMKpSgRW"
      },
      "source": [
        "## 3. Data Normalization\n",
        "\n",
        "<b>Why normalization?</b>\n",
        "\n",
        "<p>Normalization is the process of transforming values of several variables into a similar range. Typical normalizations include scaling the variable so the variable average is 0, scaling the variable so the variance is 1, or scaling the variable so the variable values range from 0 to 1.\n",
        "</p>\n",
        "\n",
        "<p>\n",
        "$x'=\\frac{x - x_{min}}{x_{max} - x_{min}}$\n",
        "</p>\n",
        "\n",
        "<b>Example</b>\n",
        "\n",
        "<p>To demonstrate normalization, let's say we want to scale the columns \"length\", \"width\" and \"height\".</p>\n",
        "<p><b>Target:</b> would like to normalize those variables so their value ranges from 0 to 1</p>\n",
        "<p><b>Approach:</b> replace original value by (original value)/(maximum value)</p>"
      ]
    },
    {
      "cell_type": "code",
      "metadata": {
        "id": "3KSJQuFZUNd9"
      },
      "source": [
        "auto_df[['length','width']]"
      ],
      "execution_count": null,
      "outputs": []
    },
    {
      "cell_type": "code",
      "metadata": {
        "id": "FsA6SWS8SZDW"
      },
      "source": [
        "# replace (original value) by (original value)/(maximum value)\n",
        "auto_df['length'] = auto_df['length']/auto_df['length'].max()\n",
        "auto_df['width'] = auto_df['width']/auto_df['width'].max()"
      ],
      "execution_count": null,
      "outputs": []
    },
    {
      "cell_type": "code",
      "metadata": {
        "id": "P67kPwEeTvFa"
      },
      "source": [
        "auto_df[['length','width']]"
      ],
      "execution_count": null,
      "outputs": []
    },
    {
      "cell_type": "markdown",
      "metadata": {
        "id": "5S-x4_35T5nI"
      },
      "source": [
        "#### Exercise\n",
        "\n",
        "Normalize the column of 'height', and print out the result\n"
      ]
    },
    {
      "cell_type": "markdown",
      "metadata": {
        "id": "Rqm2yPsgcPTL"
      },
      "source": [
        "## 4. Binning\n",
        "\n",
        "<b>Why binning?</b>\n",
        "<p>\n",
        "    Binning is a process of transforming continuous numerical variables into discrete categorical 'bins' for grouped analysis.\n",
        "</p>\n",
        "\n",
        "<b>Example: </b>\n",
        "\n",
        "<p>In our dataset, \"horsepower\" is a real valued variable ranging from 48 to 288 and it has 57 unique values. What if we only care about the price difference between cars with high horsepower, medium horsepower, and little horsepower (3 types)? Can we rearrange them into three ‘bins' to simplify analysis? </p>\n",
        "\n",
        "<p>We will use the pandas method 'cut' to segment the 'horsepower' column into 3 bins.</p>"
      ]
    },
    {
      "cell_type": "code",
      "metadata": {
        "id": "f3XtLUlOcUWd"
      },
      "source": [
        "# Convert data to correct format\n",
        "auto_df['horsepower'] = auto_df['horsepower'].astype(int)"
      ],
      "execution_count": null,
      "outputs": []
    },
    {
      "cell_type": "code",
      "metadata": {
        "id": "P_O5dTKBc_ij"
      },
      "source": [
        "# Plot the histrogram of horsepower to see the distribution\n",
        "import matplotlib.pyplot as plt\n",
        "%matplotlib inline\n",
        "'''\n",
        "With this backend, the output of plotting commands is displayed inline within frontends like the Jupyter notebook, \n",
        "directly below the code cell that produced it. \n",
        "The resulting plots will then also be stored in the notebook document.\n",
        "'''\n",
        "\n",
        "plt.hist(auto_df[\"horsepower\"])\n",
        "# set x/y labels and plot title\n",
        "plt.xlabel(\"horsepower\")\n",
        "plt.ylabel(\"count\")\n",
        "plt.title(\"horsepower bins\")"
      ],
      "execution_count": null,
      "outputs": []
    },
    {
      "cell_type": "code",
      "metadata": {
        "id": "ftvs9NSweK4F"
      },
      "source": [
        "# let's categorize horsepower into 3 bins\n",
        "# To categorize into 3 categories, we need 4 dividers\n",
        "\n",
        "bins = np.linspace(min(auto_df['horsepower']), max(auto_df['horsepower']), 4)\n",
        "bins"
      ],
      "execution_count": null,
      "outputs": []
    },
    {
      "cell_type": "code",
      "metadata": {
        "id": "fN7Mgz5ZgVQ4"
      },
      "source": [
        "# Set group names\n",
        "group_names = ['Low', 'Medium', 'High']"
      ],
      "execution_count": null,
      "outputs": []
    },
    {
      "cell_type": "code",
      "metadata": {
        "id": "BmN4wHUdghit"
      },
      "source": [
        "auto_df['horsepower-binned'] = pd.cut(auto_df['horsepower'], bins, labels=group_names, include_lowest=True)\n",
        "auto_df[['horsepower', 'horsepower-binned']].head()"
      ],
      "execution_count": null,
      "outputs": []
    },
    {
      "cell_type": "markdown",
      "metadata": {
        "id": "vQskkey1hIvQ"
      },
      "source": [
        "#### Exercise\n",
        "\n",
        "1. What is the number of vehicles in each bin ???\n",
        "2. Plot the distribution of each bin\n"
      ]
    },
    {
      "cell_type": "markdown",
      "metadata": {
        "id": "3kb-m45yFh-w"
      },
      "source": [
        "# Exploratiry Data Analysis\n",
        "\n",
        "To explore features or characteristics to predict price of a car"
      ]
    },
    {
      "cell_type": "code",
      "metadata": {
        "id": "yqM4U6cDFmef"
      },
      "source": [
        "import pandas as pd\n",
        "import numpy as np\n",
        "\n",
        "# Load data\n",
        "file_url = \"https://archive.ics.uci.edu/ml/machine-learning-databases/autos/imports-85.data\"\n",
        "\n",
        "headers = [\"symboling\",\"normalized-losses\",\"make\",\"fuel-type\",\"aspiration\", \"num-of-doors\",\"body-style\",\n",
        "         \"drive-wheels\",\"engine-location\",\"wheel-base\", \"length\",\"width\",\"height\",\"curb-weight\",\"engine-type\",\n",
        "         \"num-of-cylinders\", \"engine-size\",\"fuel-system\",\"bore\",\"stroke\",\"compression-ratio\",\"horsepower\",\n",
        "         \"peak-rpm\",\"city-mpg\",\"highway-mpg\",\"price\"]\n",
        "\n",
        "auto_df = pd.read_csv(file_url)\n",
        "auto_df.columns=headers\n",
        "\n",
        "# Identify missing values\n",
        "auto_df.replace(\"?\", np.nan, inplace=True)\n",
        "#Replace missing values\n",
        "auto_df[\"normalized-losses\"].replace(np.nan, auto_df[\"normalized-losses\"].astype(\"float\").mean(axis=0), inplace=True)\n",
        "auto_df[\"stroke\"].replace(np.nan, auto_df['stroke'].astype(\"float\").mean(axis=0), inplace=True)\n",
        "auto_df[\"bore\"].replace(np.nan, auto_df['bore'].astype(\"float\").mean(axis=0), inplace=True)\n",
        "auto_df[\"horsepower\"].replace(np.nan, auto_df['horsepower'].astype(\"float\").mean(axis=0), inplace=True)\n",
        "auto_df[\"peak-rpm\"].replace(np.nan, auto_df['peak-rpm'].astype(\"float\").mean(axis=0), inplace=True)\n",
        "auto_df['num-of-doors'].replace(np.nan, \"four\", inplace=True)\n",
        "auto_df.dropna(subset=[\"price\"], axis=0, inplace=True)\n",
        "\n",
        "# Correct format\n",
        "auto_df[[\"bore\", \"stroke\"]] = auto_df[[\"bore\", \"stroke\"]].astype(\"float\")\n",
        "auto_df[[\"normalized-losses\"]] = auto_df[[\"normalized-losses\"]].astype(\"int\")\n",
        "auto_df[[\"price\"]] = auto_df[[\"price\"]].astype(\"float\")\n",
        "auto_df[[\"peak-rpm\"]] = auto_df[[\"peak-rpm\"]].astype(\"float\")\n",
        "\n",
        "# Normalization\n",
        "auto_df['city-L/100km'] = 235/auto_df['city-mpg']\n",
        "auto_df['highway-L/100km'] = 235/auto_df['highway-mpg']\n",
        "auto_df['length'] = auto_df['length']/auto_df['length'].max()\n",
        "auto_df['width'] = auto_df['width']/auto_df['width'].max()\n",
        "auto_df['height'] = auto_df['height']/auto_df['height'].max()"
      ],
      "execution_count": null,
      "outputs": []
    },
    {
      "cell_type": "markdown",
      "metadata": {
        "id": "aq5P7iw8I9VF"
      },
      "source": [
        "## Correlation"
      ]
    },
    {
      "cell_type": "code",
      "metadata": {
        "id": "YL5gk9pbI30W"
      },
      "source": [
        "auto_df.corr()"
      ],
      "execution_count": null,
      "outputs": []
    },
    {
      "cell_type": "code",
      "metadata": {
        "id": "AGDIHbwxJHbX"
      },
      "source": [
        "# Find correlation between columns : bore, stroke, compression-ratio, and horsepower\n",
        "auto_df[['bore','stroke','compression-ratio','horsepower']].corr()"
      ],
      "execution_count": null,
      "outputs": []
    },
    {
      "cell_type": "markdown",
      "metadata": {
        "id": "t9YlDD-dMK-B"
      },
      "source": [
        "### Exercise\n",
        "\n",
        "Why does the **horsepower** column not show up in the correlation table ?"
      ]
    },
    {
      "cell_type": "markdown",
      "metadata": {
        "id": "9ljhdznkKjVw"
      },
      "source": [
        "## Continuous Numerical Variables\n",
        "\n",
        "In order to start understanding the (linear) relationship between an individual variable and the price, we can use \"regplot\" which plots the scatterplot plus the fitted regression line for the data.\n",
        "\n",
        "*Please note that our objective is to predict the price of cars using features (columns) in our data.*"
      ]
    },
    {
      "cell_type": "code",
      "metadata": {
        "id": "Azqq4OMZJ4uB"
      },
      "source": [
        "import matplotlib.pyplot as plt\n",
        "import seaborn as sns\n",
        "%matplotlib inline"
      ],
      "execution_count": null,
      "outputs": []
    },
    {
      "cell_type": "markdown",
      "metadata": {
        "id": "u7DeYnF_Oczm"
      },
      "source": [
        "### Positive relationship"
      ]
    },
    {
      "cell_type": "code",
      "metadata": {
        "id": "DuYqDKa4NRN4"
      },
      "source": [
        "# Let's find the scatterplot of \"engin-size\" and \"price\"\n",
        "sns.regplot(x=\"engine-size\", y=\"price\", data=auto_df)\n",
        "plt.ylim(0,)"
      ],
      "execution_count": null,
      "outputs": []
    },
    {
      "cell_type": "code",
      "metadata": {
        "id": "oEO6ZLSzNmM-"
      },
      "source": [
        "# How about the correlation\n",
        "auto_df[[\"engine-size\", \"price\"]].corr()"
      ],
      "execution_count": null,
      "outputs": []
    },
    {
      "cell_type": "markdown",
      "metadata": {
        "id": "Czux6V8POjKO"
      },
      "source": [
        "### Negative relationship"
      ]
    },
    {
      "cell_type": "code",
      "metadata": {
        "id": "87jRTagFN5ar"
      },
      "source": [
        "# highway-mpg vs. price\n",
        "sns.regplot(x=\"highway-mpg\", y=\"price\", data=auto_df)"
      ],
      "execution_count": null,
      "outputs": []
    },
    {
      "cell_type": "code",
      "metadata": {
        "id": "i-ppclm5OKmu"
      },
      "source": [
        "auto_df[['highway-mpg', 'price']].corr()"
      ],
      "execution_count": null,
      "outputs": []
    },
    {
      "cell_type": "markdown",
      "metadata": {
        "id": "8KC7OLNMOnFt"
      },
      "source": [
        "### Weak linear relationship"
      ]
    },
    {
      "cell_type": "code",
      "metadata": {
        "id": "9igNQpsIOQzs"
      },
      "source": [
        "sns.regplot(x=\"peak-rpm\", y=\"price\", data=auto_df)"
      ],
      "execution_count": null,
      "outputs": []
    },
    {
      "cell_type": "code",
      "metadata": {
        "id": "V0RqtWxsOyFS"
      },
      "source": [
        "auto_df[['peak-rpm', 'price']].corr()"
      ],
      "execution_count": null,
      "outputs": []
    },
    {
      "cell_type": "markdown",
      "metadata": {
        "id": "eeSG55jzPWl7"
      },
      "source": [
        "This can be concluded that **enging-size** and **highway-mpg** are good features for predicting car prices, but not **peak-rpm**."
      ]
    },
    {
      "cell_type": "markdown",
      "metadata": {
        "id": "yR9eWYLBQ2XD"
      },
      "source": [
        "#### Exercise\n",
        "What is the relationship between \"stroke\" and \"price\" ?\n",
        "Find the correlation  between \"stroke\" and \"price\""
      ]
    },
    {
      "cell_type": "markdown",
      "metadata": {
        "id": "cQ0JsL8CRTnZ"
      },
      "source": [
        "## Categorical Variables\n",
        "\n",
        "These are variables that describe a 'characteristic' of a data unit, and are selected from a small group of categories. The categorical variables can have the type \"object\" or \"int64\". A good way to visualize categorical variables is by using boxplots."
      ]
    },
    {
      "cell_type": "code",
      "metadata": {
        "id": "s5kL_FaaRdjj"
      },
      "source": [
        "sns.boxplot(x='body-style', y='price', data=auto_df)"
      ],
      "execution_count": null,
      "outputs": []
    },
    {
      "cell_type": "markdown",
      "metadata": {
        "id": "uNQnySjSos8A"
      },
      "source": [
        "<p>We see that the distributions of price between the different body-style categories have a significant overlap, so body-style would not be a good predictor of price. Let's examine engine \"engine-location\" and \"price\":</p>"
      ]
    },
    {
      "cell_type": "code",
      "metadata": {
        "id": "Rt4lEer9ojGr"
      },
      "source": [
        "sns.boxplot(x='engine-location', y='price', data=auto_df)"
      ],
      "execution_count": null,
      "outputs": []
    },
    {
      "cell_type": "code",
      "metadata": {
        "id": "DV0Jhz-ko502"
      },
      "source": [
        "sns.boxplot(x='drive-wheels', y='price', data=auto_df)"
      ],
      "execution_count": null,
      "outputs": []
    },
    {
      "cell_type": "markdown",
      "metadata": {
        "id": "fh8TXbUtpe0G"
      },
      "source": [
        "## Descriptive Statistical Analysis\n",
        "\n",
        "The *describe* function automatically computes basic statistics for all continuous variables. Any NaN values are automatically skipped in these statistics.\n",
        "\n",
        "This will show:\n",
        "\n",
        "- the count of that variable\n",
        "- the mean\n",
        "- the standard deviation (std) \n",
        "- the minimum value\n",
        "- the IQR (Interquartile Range: 25%, 50% and 75%)\n",
        "- the maximum value"
      ]
    },
    {
      "cell_type": "code",
      "metadata": {
        "id": "8yTn_mtKpUqK"
      },
      "source": [
        "auto_df.describe()"
      ],
      "execution_count": null,
      "outputs": []
    },
    {
      "cell_type": "markdown",
      "metadata": {
        "id": "K1BVg9LtqJ4l"
      },
      "source": [
        "The default setting of \"describe\" skips variables of type object. We can apply the method \"describe\" on the variables of type 'object' as follows:"
      ]
    },
    {
      "cell_type": "code",
      "metadata": {
        "id": "x24ai4A9p8Jj"
      },
      "source": [
        "auto_df.describe(include=['object'])"
      ],
      "execution_count": null,
      "outputs": []
    },
    {
      "cell_type": "markdown",
      "metadata": {
        "id": "560qJ47bstDi"
      },
      "source": [
        "## Grouping\n",
        "\n",
        "The \"groupby\" method groups data by different categories. The data is grouped based on one or several variables, and analysis is performed on the individual groups.\n",
        "\n",
        "For example, let's group by the variable \"drive-wheels\". We see that there are 3 different categories of drive wheels."
      ]
    },
    {
      "cell_type": "code",
      "metadata": {
        "id": "luqmG8GXrXXu"
      },
      "source": [
        "auto_df['drive-wheels'].unique()"
      ],
      "execution_count": null,
      "outputs": []
    },
    {
      "cell_type": "markdown",
      "metadata": {
        "id": "1eNG88rltQFM"
      },
      "source": [
        "<p>If we want to know, on average, which type of drive wheel is most valuable, we can group \"drive-wheels\" and then average them.</p>\n",
        "\n",
        "<p>We can select the columns 'drive-wheels', 'body-style' and 'price', then assign it to the variable \"df_group_one\".</p>"
      ]
    },
    {
      "cell_type": "code",
      "metadata": {
        "id": "nWCZHqUfs89J"
      },
      "source": [
        "df_group_one = auto_df[['drive-wheels','body-style','price']]\n",
        "df_group_one = df_group_one.groupby(['drive-wheels'], as_index=False).mean()\n",
        "df_group_one"
      ],
      "execution_count": null,
      "outputs": []
    },
    {
      "cell_type": "code",
      "metadata": {
        "id": "kHFIbh1XurwR"
      },
      "source": [
        "# group by multiple variables\n",
        "df_gptest = auto_df[['drive-wheels','body-style','price']]\n",
        "grouped_test1 = df_gptest.groupby(['drive-wheels','body-style'],as_index=False).mean()\n",
        "grouped_test1"
      ],
      "execution_count": null,
      "outputs": []
    },
    {
      "cell_type": "markdown",
      "metadata": {
        "id": "WvF58HW-uIbN"
      },
      "source": [
        "<p>This grouped data is much easier to visualize when it is made into a pivot table. A pivot table is like an Excel spreadsheet, with one variable along the column and another along the row. We can convert the dataframe to a pivot table using the method \"pivot\" to create a pivot table from the groups.</p>\n",
        "\n",
        "<p>In this case, we will leave the drive-wheels variable as the rows of the table, and pivot body-style to become the columns of the table:</p>"
      ]
    },
    {
      "cell_type": "code",
      "metadata": {
        "id": "G_4vFDH7tqFT"
      },
      "source": [
        "grouped_pivot = grouped_test1.pivot(index='drive-wheels',columns='body-style')\n",
        "grouped_pivot"
      ],
      "execution_count": null,
      "outputs": []
    },
    {
      "cell_type": "code",
      "metadata": {
        "id": "KA6Avntfu4Mu"
      },
      "source": [
        "grouped_pivot = grouped_pivot.fillna(0) #fill missing values with 0\n",
        "grouped_pivot"
      ],
      "execution_count": null,
      "outputs": []
    },
    {
      "cell_type": "markdown",
      "metadata": {
        "id": "K2jf-XoJvoTX"
      },
      "source": [
        "### Exercise\n",
        "\n",
        "Use 'groupby' function to find the average \"price\" of each car based on \"body-style\"."
      ]
    },
    {
      "cell_type": "markdown",
      "metadata": {
        "id": "5iN_S522xjTF"
      },
      "source": [
        "## Correlation and Causation\n",
        "\n",
        "<p><b>Correlation</b>: a measure of the extent of interdependence between variables.</p>\n",
        "\n",
        "<p><b>Causation</b>: the relationship between cause and effect between two variables.</p>\n",
        "\n",
        "<p>It is important to know the difference between these two. Correlation does not imply causation. Determining correlation is much simpler  the determining causation as causation may require independent experimentation.</p>"
      ]
    },
    {
      "cell_type": "markdown",
      "metadata": {
        "id": "m_4DEPGlxw0T"
      },
      "source": [
        "<p><b>Pearson Correlation</b></p>\n",
        "<p>The Pearson Correlation measures the linear dependence between two variables X and Y.</p>\n",
        "<p>The resulting coefficient is a value between -1 and 1 inclusive, where:</p>\n",
        "<ul>\n",
        "    <li><b>1</b>: Perfect positive linear correlation.</li>\n",
        "    <li><b>0</b>: No linear correlation, the two variables most likely do not affect each other.</li>\n",
        "    <li><b>-1</b>: Perfect negative linear correlation.</li>\n",
        "</ul>"
      ]
    },
    {
      "cell_type": "markdown",
      "metadata": {
        "id": "DJoWCu2yx6OD"
      },
      "source": [
        "<b>P-value</b>\n",
        "\n",
        "<p>What is this P-value? The P-value is the probability value that the correlation between these two variables is statistically significant. Normally, we choose a significance level of 0.05, which means that we are 95% confident that the correlation between the variables is significant.</p>\n",
        "\n",
        "By convention, when the\n",
        "\n",
        "<ul>\n",
        "    <li>p-value < 0.001: we say there is strong evidence that the correlation is significant.</li>\n",
        "    <li>p-value < 0.05: there is moderate evidence that the correlation is significant.</li>\n",
        "    <li>p-value < 0.1: there is weak evidence that the correlation is significant.</li>\n",
        "    <li>p-value > 0.1: there is no evidence that the correlation is significant.</li>\n",
        "</ul>\n"
      ]
    },
    {
      "cell_type": "code",
      "metadata": {
        "id": "bURBO6rHxTNC"
      },
      "source": [
        "from scipy import stats"
      ],
      "execution_count": null,
      "outputs": []
    },
    {
      "cell_type": "markdown",
      "metadata": {
        "id": "t1M0fIW0yHSq"
      },
      "source": [
        "Pearson corr and P-value of **wheel-base** and **price**"
      ]
    },
    {
      "cell_type": "code",
      "metadata": {
        "id": "1GpJwrUCyEpQ"
      },
      "source": [
        "pear_coef, p_val = stats.pearsonr(auto_df['wheel-base'], auto_df['price'])\n",
        "print(pear_coef, p_val)"
      ],
      "execution_count": null,
      "outputs": []
    },
    {
      "cell_type": "markdown",
      "metadata": {
        "id": "Kj7zQ9j7ywTs"
      },
      "source": [
        "<h4>Conclusion:</h4>\n",
        "<p>Since the p-value is $<$ 0.001, the correlation between wheel-base and price is statistically significant, although the linear relationship isn't extremely strong (~0.585).</p>"
      ]
    },
    {
      "cell_type": "markdown",
      "metadata": {
        "id": "uDn4rByNyzm6"
      },
      "source": [
        "### Exercise"
      ]
    },
    {
      "cell_type": "markdown",
      "metadata": {
        "id": "BEkbuqSTy4FK"
      },
      "source": [
        "#### Horsepower vs. Price"
      ]
    },
    {
      "cell_type": "code",
      "source": [],
      "metadata": {
        "id": "Mhw-z8FMVoh3"
      },
      "execution_count": null,
      "outputs": []
    },
    {
      "cell_type": "markdown",
      "metadata": {
        "id": "uIVHYnurzBYh"
      },
      "source": [
        "#### Length vs. Price"
      ]
    },
    {
      "cell_type": "code",
      "source": [],
      "metadata": {
        "id": "5bsIpG_lVpGP"
      },
      "execution_count": null,
      "outputs": []
    },
    {
      "cell_type": "markdown",
      "metadata": {
        "id": "K1r9bBCmzH4h"
      },
      "source": [
        "#### Engine-size vs. Price"
      ]
    },
    {
      "cell_type": "code",
      "source": [],
      "metadata": {
        "id": "AanqBhIlVpn7"
      },
      "execution_count": null,
      "outputs": []
    },
    {
      "cell_type": "markdown",
      "metadata": {
        "id": "oxiLlt4UzOUu"
      },
      "source": [
        "#### Highway-mpg vs. Price"
      ]
    },
    {
      "cell_type": "code",
      "source": [],
      "metadata": {
        "id": "6AaByCCWVqLP"
      },
      "execution_count": null,
      "outputs": []
    }
  ]
}