{
  "nbformat": 4,
  "nbformat_minor": 0,
  "metadata": {
    "colab": {
      "provenance": [],
      "toc_visible": true,
      "include_colab_link": true
    },
    "kernelspec": {
      "name": "python3",
      "display_name": "Python 3"
    }
  },
  "cells": [
    {
      "cell_type": "markdown",
      "metadata": {
        "id": "view-in-github",
        "colab_type": "text"
      },
      "source": [
        "<a href=\"https://colab.research.google.com/github/ougrid/my-knowledge-resource/blob/master/%5B20240107%5D_Coding_for_Data_Science_Day_2.ipynb\" target=\"_parent\"><img src=\"https://colab.research.google.com/assets/colab-badge.svg\" alt=\"Open In Colab\"/></a>"
      ]
    },
    {
      "cell_type": "markdown",
      "metadata": {
        "id": "8eeSrat8Zu_l"
      },
      "source": [
        "# Coding for Data Science (Day 2)"
      ]
    },
    {
      "cell_type": "markdown",
      "metadata": {
        "id": "7IQjet1oZwFi"
      },
      "source": [
        "##เนื้อหา\n",
        "\n",
        "\n",
        "*   Function\n",
        "*   Object oriented programming\n",
        "*   NumPy\n",
        "*   Matplotlib\n",
        "*   Seaborn & Pandas"
      ]
    },
    {
      "cell_type": "markdown",
      "metadata": {
        "id": "CBxCreUyaL6d"
      },
      "source": [
        "## หัวข้อที่ 1: ฟังก์ชัน"
      ]
    },
    {
      "cell_type": "markdown",
      "metadata": {
        "id": "ILx8F0NyajMN"
      },
      "source": [
        "- ในบางครั้งเราจำเป็นต้องทำกระบวนการบางอย่างซ้ำๆ กัน แต่ว่าเปลี่ยนค่าตัวแปรที่ควบคุมกระบวนการ (ซึ่งเรียกว่า *พารามิเตอร์* – parameter) เหล่านั้นไปตามสถานการณ์ ทำให้เราต้องก็อปปี้แปะโค้ดและแก้โค้ดซ้ำไปซ้ำมา\n",
        "\n",
        "- การกระทำดังกล่าวอาจก่อข้อผิดพลาด (bug) ได้ในภายหลัง\n",
        "  - หากเราต้องแก้ไขกระบวนการหนึ่งจุด เราจะต้องไล่ตามไปแก้ไขทุกจุดที่เราก็อปปี้แปะเอาไว้ให้หมด ไม่เช่นนั้นโปรแกรมก็จะทำงานไม่เหมือนกัน ปัญหานี้เรียกว่า *ปัญหาความไม่เป็นหน่วยเดียวกัน* (modularity issue)\n",
        "  - กระบวนการที่เราก็อปปี้แปะมานั้น มักจะต่อยาวกันเป็นพรืด หากมาอ่านโค้ดเองในภายหลัง ก็อาจจะลืมไปแล้วว่าโค้ดส่วนนี้ทำหน้าที่อะไร ปัญหานี้เรียกว่า *ปัญหาการอ่านโค้ดไม่ออก* (code readability issue)\n",
        "  - การก็อปปี้แปะโค้ดซ้ำไปซ้ำมา ทำให้ไม่สามารถเรียกตัวเองซ้ำแบบเวียนเกิดได้ ปัญหานี้เรียกว่า *ปัญหาการเรียกตัวเองซ้ำ* (self-callability issue)\n",
        "  \n",
        "- เพื่อแก้ปัญหาดังกล่าว เราจะนำกระบวนการที่ต้องทำซ้ำๆ แต่เปลี่ยนค่าตัวแปรที่ควบคุมกระบวนการเหล่านั้น มารวมกลุ่มเป็น<u>**ฟังก์ชัน**</u> (function)"
      ]
    },
    {
      "cell_type": "markdown",
      "metadata": {
        "id": "gKsTNTv6azuU"
      },
      "source": [
        "### การนิยามฟังก์ชัน"
      ]
    },
    {
      "cell_type": "markdown",
      "metadata": {
        "id": "tOKctgJQa1Ff"
      },
      "source": [
        "- เราสามารถนิยามฟังก์ชันได้ด้วยคำสั่ง `def` (ย่อมาจากคำว่า define) ดังนี้ครับ\n",
        "```python\n",
        "    def <ชื่อฟังก์ชัน> ( <รายการพารามิเตอร์> ) :\n",
        "        <กระบวนการ>\n",
        "```\n",
        "\n",
        "- เช่น เราสามารถนิยามฟังก์ชันสำหรับรับพารามิเตอร์ ได้แก่ ชื่อนักเรียน อายุ และความสูง แล้วแสดงผลออกหน้าจอ ได้ดังนี้"
      ]
    },
    {
      "cell_type": "code",
      "metadata": {
        "id": "QdHVodx-a6oc"
      },
      "source": [
        "def print_student(name, age, height):\n",
        "    print(f'Name   : {name}')\n",
        "    print(f'Age    : {age:d} y/o')\n",
        "    print(f'Height : {height:6.2f} cm')\n",
        "    print()"
      ],
      "execution_count": null,
      "outputs": []
    },
    {
      "cell_type": "markdown",
      "metadata": {
        "id": "bjZpPQlna5q5"
      },
      "source": [
        "- เมื่อเรานิยามฟังก์ชันแล้ว เราก็สามารถเรียกฟังก์ชันนั้นได้"
      ]
    },
    {
      "cell_type": "code",
      "metadata": {
        "id": "4pqlOud7bjio"
      },
      "source": [
        "student_scores = [\n",
        "    ['John', 13, 165.5], ['Mary', 14, 173.0], ['Cindy', 12, 163.5]\n",
        "]\n",
        "\n",
        "for name, age, height in student_scores:\n",
        "    print_student(name, age, height)"
      ],
      "execution_count": null,
      "outputs": []
    },
    {
      "cell_type": "markdown",
      "metadata": {
        "id": "UnlV1ziUb0dQ"
      },
      "source": [
        "### การคืนค่าจากฟังก์ชันด้วยคำสั่ง `return`"
      ]
    },
    {
      "cell_type": "markdown",
      "metadata": {
        "id": "B0jD_t8gb2ZS"
      },
      "source": [
        "- นอกจากฟังก์ชันจะรวบรวมกระบวนการให้เป็นหน่วยเดียวได้แล้ว เรายังสามารถกำหนดให้ฟังก์ชันทำการคำนวณบางอย่างในกระบวนการ แล้วคืนค่าผลลัพธ์กลับออกมาได้อีกด้วย\n",
        "\n",
        "- เราสามารถสั่งให้ฟังก์ชันหยุดการทำงานและคืนค่ากลับออกมาได้ด้วยคำสั่ง `return` โดยมีรูปแบบคือ\n",
        "```python\n",
        "    return <ค่าที่คืนกลับไป>\n",
        "```\n",
        "\n",
        "- เช่น เราสามารถเขียนฟังก์ชันให้คำนวณค่าเฉลี่ย (average) ของสมาชิกในลิสต์ แล้วคืนค่าเฉลี่ยนั้นกลับออกไปได้ดังนี้"
      ]
    },
    {
      "cell_type": "code",
      "metadata": {
        "id": "3FQ3AQXRb7xl"
      },
      "source": [
        "def average(items):\n",
        "    my_sum = 0.0\n",
        "    for item in items:\n",
        "        my_sum = my_sum + item\n",
        "    return my_sum / len(items)"
      ],
      "execution_count": null,
      "outputs": []
    },
    {
      "cell_type": "markdown",
      "metadata": {
        "id": "ZSMkZxRSb9nN"
      },
      "source": [
        "- เราสามารถนำค่าที่ฟังก์ชันคืนกลับออกมาไปใช้ต่อได้ทันที"
      ]
    },
    {
      "cell_type": "code",
      "metadata": {
        "id": "w46RaI8Nb_Jx"
      },
      "source": [
        "student_heights = [163.5, 150.0, 167.0, 161.25, 170.0]\n",
        "\n",
        "avg = average(student_heights)\n",
        "\n",
        "print(f'The average of student heights is {avg:8.2f}.')"
      ],
      "execution_count": null,
      "outputs": []
    },
    {
      "cell_type": "markdown",
      "metadata": {
        "id": "9vnlBj9gcyPM"
      },
      "source": [
        "### แบบฝึกหัด 1.1\n"
      ]
    },
    {
      "cell_type": "markdown",
      "metadata": {
        "id": "ySjNkcT4c2Aa"
      },
      "source": [
        "ค่าความแปรปรวน (variance) เป็นมาตรวัดทางสถิติเพื่อบอกว่า ข้อมูลของเรากระจัดกระจายมากแค่ไหน โดยเทียบจากผลรวมของ*ระยะห่าง*ระหว่างข้อมูลแต่ละตัวกับค่าเฉลี่ย ระยะห่างตัวนี้คำนวณได้จากการนำข้อมูลกับค่าเฉลี่ยมาลบกันแล้วยกกำลัง 2 นั่นเอง\n",
        "\n",
        "จงนิยามฟังก์ชันที่คำนวณค่าความแปรปรวนของข้อมูล $x_1, x_2, x_3, \\ldots, x_N$ ซึ่งการคำนวณจะเป็นไปตามสูตรต่อไปนี้\n",
        "\n",
        "$$\n",
        "\\begin{eqnarray}\n",
        "\\mathrm{Var}(x_1, x_2, x_3, \\ldots, x_N) & = & \\frac{1}{N - 1} \\sum_{k = 1}^{N} \\left( x_k - \\bar{x} \\right)^2\n",
        "\\end{eqnarray}\n",
        "$$\n",
        "\n",
        "เมื่อ $\\bar{x}$ คือค่าเฉลี่ยของข้อมูล ซึ่งสามารถคำนวณได้จากฟังก์ชัน `average`\n",
        "\n",
        "<u>**คำเตือน:**</u> เมื่อคำนวณค่าความแปรปรวนได้แล้ว อย่าลืมใช้คำสั่ง `return` เพื่อคืนผลลัพธ์ออกไปด้วยนะครับ"
      ]
    },
    {
      "cell_type": "code",
      "metadata": {
        "id": "mOI7KgAfdB7m"
      },
      "source": [
        "# ฟังก์ชันสำหรับคำนวณค่าเฉลี่ย\n",
        "def average(items):\n",
        "    my_sum = 0.0\n",
        "    for item in items:\n",
        "        _________\n",
        "    return _________\n",
        "\n",
        "# ฟังก์ชันสำหรับคำนวณค่าความแปรปรวน\n",
        "def variance(items):\n",
        "    my_ave = average(items)\n",
        "    my_sum = 0.0\n",
        "    for item in items:\n",
        "        _________\n",
        "    return _________"
      ],
      "execution_count": null,
      "outputs": []
    },
    {
      "cell_type": "markdown",
      "metadata": {
        "id": "fDDyxe2UdPQi"
      },
      "source": [
        "เมื่อเขียนโปรแกรมเสร็จแล้ว ท่านสามารถทดสอบโปรแกรมได้ตรงนี้"
      ]
    },
    {
      "cell_type": "code",
      "metadata": {
        "id": "ErP4ko4GdRKn"
      },
      "source": [
        "student_heights = [163.5, 150.0, 167.0, 161.25, 170.0]\n",
        "\n",
        "avg = average(student_heights)\n",
        "var = variance(student_heights)\n",
        "\n",
        "print(f'The average of student heights is {avg:8.2f}.')\n",
        "print(f'The variance of student heights is {var:8.2f}.')\n",
        "\n",
        "#หากโปรแกรมทำงานถูกต้อง\n",
        "#The average of student heights is   162.35.\n",
        "#The variance of student heights is    58.80."
      ],
      "execution_count": null,
      "outputs": []
    },
    {
      "cell_type": "markdown",
      "metadata": {
        "id": "mnyVnY14dpGH"
      },
      "source": [
        "### การหยุดการทำงานของฟังก์ชันด้วยคำสั่ง `return`"
      ]
    },
    {
      "cell_type": "markdown",
      "metadata": {
        "id": "6pv1FwZ6dqv2"
      },
      "source": [
        "- เราสามารถหยุดการทำงานของฟังก์ชันกลางคันได้ ด้วยคำสั่ง `return` โดยโปรแกรมจะออกจากฟังก์ชันทันที\n",
        "\n",
        "- จริงๆ แล้วในคำสั่ง `return` นี้เราอาจจะใส่ค่าที่คืนกลับไปก็ได้ หรือไม่ใส่ลงไปก็ได้\n",
        "  - หากไม่ใส่ค่าคืนกลับ โปรแกรมก็เพียงหยุดการทำงานของฟังก์ชัน แล้วย้อนกลับไปที่จุดเดิมที่เรียกฟังก์ชันนั้น\n",
        "  - แต่ถ้าหากใส่ค่าคืนกลับ โปรแกรมก็จะหยุดการทำงานของฟังก์ชัน แล้วย้อนกลับไปที่จุดเดิมพร้อมกับใส่ค่าคืนกลับที่ตำแหน่งของฟังก์ชันนั้น"
      ]
    },
    {
      "cell_type": "markdown",
      "metadata": {
        "id": "5jjKm1U7d29s"
      },
      "source": [
        "- เรามาลองสังเกตฟังก์ชันดังต่อไปนี้กัน ฟังก์ชันนี้จะคำนวณค่า factorial ของจำนวนเต็ม $ n $ ซึ่งแทนด้วยสัญลักษณ์ $ n! $ โดยสูตรการคำนวณจะเป็นดังนี้\n",
        "\n",
        "$$\n",
        "\\begin{eqnarray}\n",
        "0! & = & 1 \\\\\n",
        "1! & = & 1 \\\\\n",
        "n! & = & 1 \\times 2 \\times 3 \\times \\ldots \\times n \\qquad \\textrm{เมื่อ $n > 1$}\n",
        "\\end{eqnarray}\n",
        "$$\n",
        "\n",
        "- หากเราใส่พารามิเตอร์ `n` เป็น 0 หรือ 1 ฟังก์ชันนี้จะคืนค่า 1 ออกไปแล้วหยุดทำงานทันที"
      ]
    },
    {
      "cell_type": "code",
      "metadata": {
        "id": "cqiGTMLod8hz"
      },
      "source": [
        "# คำนวณค่า factorial ของจำนวนเต็ม n\n",
        "def factorial(n):\n",
        "\n",
        "    # หากค่า n เป็น 0 หรือ 1\n",
        "    if n in [0, 1]:\n",
        "        # ให้คืนค่า 1 กลับไป แล้วหยุดการทำงานทันที\n",
        "        return 1\n",
        "\n",
        "    # วนลูปคูณเลข\n",
        "    result = 1.0\n",
        "    for i in range(2, n + 1):\n",
        "        result = result * i\n",
        "\n",
        "    # คืนผลลัพธ์กลับออกไป\n",
        "    return result"
      ],
      "execution_count": null,
      "outputs": []
    },
    {
      "cell_type": "markdown",
      "metadata": {
        "id": "qUqp5aPieGT4"
      },
      "source": [
        "- เรามาลองทดสอบฟังก์ชัน `factorial` กัน"
      ]
    },
    {
      "cell_type": "code",
      "metadata": {
        "id": "WX9L5DW1eFqy"
      },
      "source": [
        "print(factorial(0))\n",
        "print(factorial(20))"
      ],
      "execution_count": null,
      "outputs": []
    },
    {
      "cell_type": "markdown",
      "metadata": {
        "id": "mNGpRvBCeOR7"
      },
      "source": [
        "- ในกรณีที่ฟังก์ชันเป็นเพียงการรวบรวมกระบวนการให้เป็นหน่วย ไม่ได้มีจุดประสงค์จะคืนค่ากลับออกไป เราก็ยังสามารถใช้คำสั่ง `return` ได้ด้วย เพียงแต่เราไม่ต้องระบุค่าคืนกลับเท่านั้นเอง\n",
        "\n",
        "- ในฟังก์ชันด้านล่างนี้ ถ้าหากพารามิเตอร์ `age` มีค่า 60 ขึ้นไป ฟังก์ชันจะพิมพ์ข้อความ `--Senior--` แล้วจบการทำงานทันที"
      ]
    },
    {
      "cell_type": "code",
      "metadata": {
        "id": "WKi-1G0aeSDT"
      },
      "source": [
        "def print_student(name, age, height):\n",
        "\n",
        "    # หาก age มีค่า 60 ขึ้นไป\n",
        "    if age >= 60:\n",
        "        print('--Senior--')\n",
        "        print()\n",
        "\n",
        "        # หยุดการทำงานของฟังก์ชัน\n",
        "        return\n",
        "\n",
        "    print(f'Name   : {name}')\n",
        "    print(f'Age    : {age:d} y/o')\n",
        "    print(f'Height : {height:6.2f} cm')\n",
        "    print()"
      ],
      "execution_count": null,
      "outputs": []
    },
    {
      "cell_type": "code",
      "metadata": {
        "id": "DqJNuFPSeU6C"
      },
      "source": [
        "student_scores = [\n",
        "    ['John', 13, 165.5], ['Mary', 14, 173.0], ['Cindy', 12, 163.5],\n",
        "    ['Magdalene', 65, 165.5], ['Eugene', 15, 177.0], ['Rupert', 12, 153.5]\n",
        "]\n",
        "\n",
        "for name, age, height in student_scores:\n",
        "    print_student(name, age, height)"
      ],
      "execution_count": null,
      "outputs": []
    },
    {
      "cell_type": "markdown",
      "metadata": {
        "id": "7sXEOMfoftLH"
      },
      "source": [
        "### แลมบ์ดาฟังก์ชัน (Lambda function)"
      ]
    },
    {
      "cell_type": "markdown",
      "metadata": {
        "id": "T6woeN3cfyEg"
      },
      "source": [
        "- แลมบ์ดาฟังก์ชัน หรือ แลมบ์ดาเอ็กเพรสชั่น (Lambda Expression) คืองก์ชันขนาดเล็ก ที่สามารถมีได้เพียงเอ็กเพรสชั่นเดียวเท่านั้น\n",
        "- เราสามารถใช้คำสั่ง `lambda` ในการสร้างแลมบ์ดาฟังก์ชันได้\n",
        "- และค่าที่แลมบ์ดาฟังก์ชัน `return` จะเป็นผลลัพธ์ของเอ็กเพรสชั่นของฟังก์ชัน เช่น"
      ]
    },
    {
      "cell_type": "code",
      "metadata": {
        "id": "2qd4-_jOguWB"
      },
      "source": [
        "f = lambda x: x + 1\n",
        "print(f(2))\n",
        "print(f(8))"
      ],
      "execution_count": null,
      "outputs": []
    },
    {
      "cell_type": "code",
      "metadata": {
        "id": "qi4e4zrnhG9d"
      },
      "source": [
        "g = lambda a, b: (a + b) / 2\n",
        "print(g(3, 5))\n",
        "print(g(10, 33))"
      ],
      "execution_count": null,
      "outputs": []
    },
    {
      "cell_type": "markdown",
      "metadata": {
        "id": "q8MLF7YmhOT2"
      },
      "source": [
        "- แลมบ์ดาฟังก์ชันจะมีประโยชน์มากเมื่อนำมาใช้กับฟังก์ชัน `filter()` หรือฟังก์ชัน `map()`\n"
      ]
    },
    {
      "cell_type": "markdown",
      "metadata": {
        "id": "Y5PA5WztjInq"
      },
      "source": [
        "- เมื่อ `filter()` คือฟังก์ชันที่สร้างลิสต์ที่ฟังก์ชันภายในคืนค่า `true` โดยมีรูปแบบการใช้งานดังนี้\n",
        "```\n",
        "return_lis = list(filter(<ฟังก์ชันที่ใช้ตรวจสอบ>, <ลิสต์ของข้อมูล>))\n",
        "```\n",
        "เช่น"
      ]
    },
    {
      "cell_type": "code",
      "metadata": {
        "id": "rQtF20gYjJLX"
      },
      "source": [
        "def oddNumber(x):\n",
        "  return x%2 != 0\n",
        "\n",
        "my_number = [0,1,2,3,4,5]\n",
        "print(list(filter(oddNumber,my_number)))"
      ],
      "execution_count": null,
      "outputs": []
    },
    {
      "cell_type": "markdown",
      "metadata": {
        "id": "G8sNrC6PjtOR"
      },
      "source": [
        "- หากเราใช้แลมบ์ดาฟังก์ชัน จะสามารถเขียนได้ใหม่เป็น"
      ]
    },
    {
      "cell_type": "code",
      "metadata": {
        "id": "-GOalMVojzDr"
      },
      "source": [
        "my_number = [0,1,2,3,4,5]\n",
        "print(list(filter(lambda x: x%2 != 0,my_number)))"
      ],
      "execution_count": null,
      "outputs": []
    },
    {
      "cell_type": "markdown",
      "metadata": {
        "id": "qIXqoXE1kGnR"
      },
      "source": [
        "- เมื่อ `map()` คือฟังก์ชันที่นำสมาชิกทุกตัวในลิสต์ไปกระทำโดยฟังก์ชันภายในโดยมีรูปแบบการใช้งานดังนี้\n",
        "```\n",
        "return_lis = list(map(<ฟังก์ชันที่จะกระทำ>, <ลิสต์ของข้อมูล>))\n",
        "```\n",
        "เช่น"
      ]
    },
    {
      "cell_type": "code",
      "metadata": {
        "id": "GLBG9FpXkijG"
      },
      "source": [
        "def power2(x):\n",
        "  return x**2\n",
        "\n",
        "my_number = [0,1,2,3,4,5]\n",
        "print(list(map(power2,my_number)))"
      ],
      "execution_count": null,
      "outputs": []
    },
    {
      "cell_type": "markdown",
      "metadata": {
        "id": "yHM812KVk2UX"
      },
      "source": [
        "- หากเราใช้แลมบ์ดาฟังก์ชัน จะสามารถเขียนได้ใหม่เป็น"
      ]
    },
    {
      "cell_type": "code",
      "metadata": {
        "id": "v6d-N27gk8Tx"
      },
      "source": [
        "my_number = [0,1,2,3,4,5]\n",
        "print(list(map(lambda x: x**2,my_number)))"
      ],
      "execution_count": null,
      "outputs": []
    },
    {
      "cell_type": "markdown",
      "metadata": {
        "id": "9iOUQh0N6C2p"
      },
      "source": [
        "### การใช้งาน list comprehension"
      ]
    },
    {
      "cell_type": "markdown",
      "metadata": {
        "id": "ICUdUCLG6Go_"
      },
      "source": [
        "- list comprehension คือการสร้าง List ใหม่จาก List เดิมที่มี\n",
        "- เราสามารถใช้งาน list comprehension ในการทำงานคล้ายกับ map function ได้ ตัวอย่างเช่น"
      ]
    },
    {
      "cell_type": "code",
      "metadata": {
        "id": "skawXdPL6I8z"
      },
      "source": [
        "old_list = [0, 2, 4, 6]\n",
        "new_list = [x+2 for x in old_list]\n",
        "print('my old list',old_list)\n",
        "print('my new list',new_list)"
      ],
      "execution_count": null,
      "outputs": []
    },
    {
      "cell_type": "markdown",
      "metadata": {
        "id": "j5gnWRtf6qb1"
      },
      "source": [
        "- นอกจากนี้ เรายังสามารถใช้ list comprehension ในการทำงานคล้ายกับ filter function ได้ ตัวอย่างเช่น"
      ]
    },
    {
      "cell_type": "code",
      "metadata": {
        "id": "JZq31CAy606X"
      },
      "source": [
        "items = [0, 1, 2, 3, 4, 5]\n",
        "new_items = [x for x in items if x%2 == 0]\n",
        "print(new_items)"
      ],
      "execution_count": null,
      "outputs": []
    },
    {
      "cell_type": "markdown",
      "metadata": {
        "id": "wvv_Pwsr7fTw"
      },
      "source": [
        "- หรือเรายังสามารถใช้ list comprehension ในการทำงาน map และ filter ในกระบวนการเดียวได้อีกด้วย เช่น"
      ]
    },
    {
      "cell_type": "code",
      "metadata": {
        "id": "_R26IBos7pwY"
      },
      "source": [
        "items = [0, 1, 2, 3, 4, 5]\n",
        "new_items = [x**2 for x in items if x%2 == 0]\n",
        "print(new_items)"
      ],
      "execution_count": null,
      "outputs": []
    },
    {
      "cell_type": "markdown",
      "metadata": {
        "id": "l1bHQ4ZUycq8"
      },
      "source": [
        "### แบบฝึกหัด 1.2"
      ]
    },
    {
      "cell_type": "markdown",
      "metadata": {
        "id": "6nKv3I68yfzZ"
      },
      "source": [
        "จงเขียนโปรแกรมเพื่อคำนวณค่ารากที่สองของข้อมูลที่อยู่ในลิสต์ที่เป็นจำนวนคู่ โดยโปรแกรมจะต้องเขียนอยู่ในฟังก์ชัน `print()` เท่านั้น"
      ]
    },
    {
      "cell_type": "code",
      "metadata": {
        "id": "s5pcGA26yyyk"
      },
      "source": [
        "number_list = [2, 15, 5, 7, 10, 3, 28, 30]\n",
        "print(_______________)"
      ],
      "execution_count": null,
      "outputs": []
    },
    {
      "cell_type": "markdown",
      "metadata": {
        "id": "F6MVLGCpl7qS"
      },
      "source": [
        "### แบบฝึกหัด 1.3"
      ]
    },
    {
      "cell_type": "markdown",
      "metadata": {
        "id": "Dy6SMn95mFEO"
      },
      "source": [
        "จงเขียนโปรแกรมที่คำนวณตัวเลข Fibonacci $ F(n) $ ซึ่งเป็นตามนิยามต่อไปนี้\n",
        "$$\n",
        "\\begin{eqnarray}\n",
        "    F(n) & = &\n",
        "    \\begin{cases}\n",
        "        F(n - 1) + F(n - 2) & \\textrm{เมื่อ } n \\geq 2 \\\\\n",
        "        n & \\textrm{มิฉะนั้น} \\\\\n",
        "    \\end{cases}\n",
        "\\end{eqnarray}\n",
        "$$\n",
        "แล้วทดลองพิมพ์ค่าของ $F(5)$ ออกมา\n"
      ]
    },
    {
      "cell_type": "code",
      "metadata": {
        "id": "VwFyk4AEmIrS"
      },
      "source": [],
      "execution_count": null,
      "outputs": []
    },
    {
      "cell_type": "markdown",
      "metadata": {
        "id": "MLmcMhIkm2YH"
      },
      "source": [
        "- ฟังก์ชันที่เราเขียนใน แบบฝึกหัด 1.3 เราเรียกว่า ฟังก์ชันเวียนเกิด (Recursive function)\n",
        "- ซึ่งฟังก์ชันดังกล่าวจะประกอบด้วย 2 ส้วนหลักๆ คือ\n",
        " - กรณีเวียนเกิด (Recursion case) เป็นกรณีที่ฟังก์ชันจะคืนค่าที่เกิดจากการเรียกใช้ฟังก์ชันตัวเอง\n",
        " - กรณีฐาน (Base case) เป็นกรณีสิ้นสุดการเวียนเกิด ซึ่งฟังก์ชันจะทำการคืนค่าคงที่ออกมาก"
      ]
    },
    {
      "cell_type": "markdown",
      "metadata": {
        "id": "NNsfMeYioUD-"
      },
      "source": [
        "## หัวข้อที่ 2: การโปรแกรมเชิงวัตถุ"
      ]
    },
    {
      "cell_type": "markdown",
      "metadata": {
        "id": "rDrDfwO9-cUm"
      },
      "source": [
        "\n",
        "- ในกิจกรรมที่แล้ว เราได้เรียนรู้การรวบรวมกระบวนการให้เป็นหน่วยด้วยฟังก์ชัน นั่นคือเราพยายามออกแบบโปรแกรมโดยเน้นที่กระบวนการของการกระทำ\n",
        "\n",
        "- แต่ในบางกรณี การออกแบบโปรแกรมโดยเน้นกระบวนการอาจจะทำให้การเขียนโปรแกรมยุ่งยากมากขึ้น\n",
        "\n",
        "- เช่น เราต้องการเขียนโปรแกรมเพื่อจัดการกับรูปทรงต่างๆ เช่น สามเหลี่ยม สี่เหลี่ยมจัตุรัส ฯลฯ โดยมีการกระทำดังต่อไปนี้\n",
        "  1. หาพื้นที่ได้\n",
        "  2. หาเส้นรอบวงได้\n",
        "  3. หาสีของรูปทรงได้\n",
        "  4. เปลี่ยนข้อมูลจำเพาะของรูปทรงได้ เช่น รัศมี ความกว้าง ความยาว ฯลฯ\n",
        "  5. เปลี่ยนสีของรูปทรงได้\n",
        "  \n",
        "- ถ้าเราเขียนโปรแกรมด้วยฟังก์ชันทั้งหมด เราจะเขียนโปรแกรมได้ดังนี้"
      ]
    },
    {
      "cell_type": "code",
      "metadata": {
        "id": "vEuazPkZ-kaR"
      },
      "source": [
        "pi = 3.1415926\n",
        "\n",
        "# คำนวณพื้นที่วงกลม\n",
        "def area_circle(circle):\n",
        "    return pi * circle['radius']**2\n",
        "\n",
        "# คำนวณเส้นรอบวงของวงกลม\n",
        "def circumference_circle(circle):\n",
        "    return 2 * pi * circle['radius']\n",
        "\n",
        "# หาค่าสีของวงกลม\n",
        "def color_circle(circle):\n",
        "    return circle['color']\n",
        "\n",
        "# คำนวณพื้นที่จัตุรัส\n",
        "def area_square(square):\n",
        "    return square['side']**2\n",
        "\n",
        "# คำนวณเส้นรอบวงจัตุรัส\n",
        "def circumference_square(square):\n",
        "    return 4 * square['side']\n",
        "\n",
        "# หาค่าสีของจัตุรัส\n",
        "def color_square(square):\n",
        "    return square['color']"
      ],
      "execution_count": null,
      "outputs": []
    },
    {
      "cell_type": "markdown",
      "metadata": {
        "id": "f0-ZMEMH-vWw"
      },
      "source": [
        "\n",
        "- จะสังเกตได้ว่า เรายังต้องเขียนฟังก์ชันซ้ำกันอยู่หลายอัน แม้ว่าฟังก์ชันเหล่านี้จะทำงานคล้ายคลึงกันก็ตาม เช่น `color_circle` กับ `color_square`"
      ]
    },
    {
      "cell_type": "markdown",
      "metadata": {
        "id": "CV9AnJvr-zDm"
      },
      "source": [
        "### คลาส (class)"
      ]
    },
    {
      "cell_type": "markdown",
      "metadata": {
        "id": "R77qKX6B-2cc"
      },
      "source": [
        "- เพื่อให้อ่านโค้ดได้ง่ายขึ้น เรายังสามารถรวบรวมกระบวนการตามชนิดของวัตถุได้อีกด้วย โดยวัตถุแต่ละชนิดจะมีฟังก์ชันหน้าตาเหมือนกัน แต่ไส้ในของแต่ละฟังก์ชันจะแตกต่างกันไปตามชนิดของวัตถุ\n",
        "\n",
        "- การรวบรวมกระบวนการตามชนิดของวัตถุนี้ เราเรียกว่า **การโปรแกรมเชิงวัตถุ** (object-oriented programming หรือ OOP)\n",
        "\n",
        "- ในภาษา Python เราสามารถสร้างวัตถุชนิดใหม่ได้ด้วยคำสั่ง `class` ดังรูปแบบต่อไปนี้\n",
        "```python\n",
        "    class <ชื่อคลาส> :\n",
        "        <รายการฟังก์ชัน>\n",
        "```\n",
        "\n",
        "- เราสามารถนิยามฟังก์ชันภายในคลาสได้ด้วยคำสั่ง `def` เหมือนกับฟังก์ชันปกติ แต่ฟังก์ชันภายในคลาสนี้มีชื่อเรียกอย่างเป็นทางการว่า **เมธอด** (method)\n",
        "\n",
        "- เมธอดสำคัญของคลาสคือ **คอนสตรักเตอร์** (constructor) มีไว้สำหรับสร้างวัตถุ (object) จากคลาส โดยคอนสตรักเตอร์จะใช้ชื่อเมธอดว่า `__init__` (โปรดสังเกตว่าชื่อ `init` จะมีขีดเส้นใต้ 2 อันที่ด้านหน้าและด้านหลัง)\n",
        "\n",
        "- คอนสตรักเตอร์จะรับพารามิเตอร์ 2 ชุด\n",
        "  - `self` สำหรับอ้างถึงวัตถุที่เรากำลังจะสร้าง\n",
        "  - พารามิเตอร์ที่จะใส่ในวัตถุนั้น\n",
        "  \n",
        "- เช่น เราสามารถนิยามคลาส `Circle` และคอนสตรักเตอร์ของคลาสนี้ได้ดังนี้"
      ]
    },
    {
      "cell_type": "code",
      "metadata": {
        "id": "NkgWhFDa_OB2"
      },
      "source": [
        "class Circle:\n",
        "\n",
        "    def __init__(self, color, radius):\n",
        "        self.color = color\n",
        "        self.radius = radius"
      ],
      "execution_count": null,
      "outputs": []
    },
    {
      "cell_type": "markdown",
      "metadata": {
        "id": "ALFuX1Iv_Ryc"
      },
      "source": [
        "- คอนสตรักเตอร์ของคลาส `Circle` จะรับพารามิเตอร์สำหรับคลาส 2 ตัวคือ `color` และ `radius`\n",
        "\n",
        "- เมื่อเรารับพารามิเตอร์เหล่านี้มาแล้ว เราก็จะนำมาใส่เป็น**คุณสมบัติ** (property) ของคลาส โดยเราจะกำหนดคุณสมบัติของคลาสด้วยการอ้างถึงตัวแปร `self` เช่น\n",
        "```python\n",
        "    def __init__(self, color, radius):\n",
        "        self.color = color\n",
        "        self.radius = radius\n",
        "```\n",
        "\n",
        "- นอกจากนี้เรายังสามารถนิยามเมธอดอื่นๆ สำหรับวัตถุของคลาส `Circle` ได้อีกด้วย ในตัวอย่างข้างล่างนี่ เราจะนิยามฟังก์ชันเพิ่มอีก 3 ตัว ได้แก่ `area`, `circumference`, และ `get_color`"
      ]
    },
    {
      "cell_type": "code",
      "metadata": {
        "id": "xruxm4L3_W7E"
      },
      "source": [
        "pi = 3.1415926\n",
        "\n",
        "class Circle:\n",
        "\n",
        "    # คอนสตรักเตอร์\n",
        "    def __init__(self, color, radius):\n",
        "\n",
        "        # กำหนดสีจากพารามิเตอร์\n",
        "        self.color = color\n",
        "\n",
        "        # กำหนดรัศมีจากพารามิเตอร์\n",
        "        self.radius = radius\n",
        "\n",
        "    # คำนวณพื้นที่\n",
        "    def area(self):\n",
        "        return pi * self.radius**2\n",
        "\n",
        "    # คำนวณเส้นรอบวง\n",
        "    def circumference(self):\n",
        "        return 2 * pi * self.radius\n",
        "\n",
        "    # หาค่าสี\n",
        "    def get_color(self):\n",
        "        return self.color"
      ],
      "execution_count": null,
      "outputs": []
    },
    {
      "cell_type": "markdown",
      "metadata": {
        "id": "IZ1OAHYx_qvH"
      },
      "source": [
        "- เราสามารถประกาศวัตถุของคลาสได้โดยเรียกชื่อคลาส ตามด้วยพารามิเตอร์ในคอนสตรักเตอร์\n",
        "\n",
        "- ในตัวอย่างด้านล่างนี้ เราประกาศวัตถุของคลาส `Circle` ออกมา 3 ตัว\n",
        "\n",
        "- จริงๆ แล้วการสร้างคลาสเปรียบเสมือนการสร้างแม่พิมพ์ (template) เพื่อสร้างวัตถุจำนวนมากๆ ที่มีหน้าตาคล้ายคลึงกันออกมา"
      ]
    },
    {
      "cell_type": "code",
      "metadata": {
        "id": "4vybcqvZ_zxs"
      },
      "source": [
        "circle1 = Circle('red', 30.0)\n",
        "circle2 = Circle('green', 15.5)\n",
        "circle3 = Circle('blue', 10.0)"
      ],
      "execution_count": null,
      "outputs": []
    },
    {
      "cell_type": "markdown",
      "metadata": {
        "id": "hqPfU2S8_2nk"
      },
      "source": [
        "- และเราก็สามารถเรียกเมธอดของวัตถุนี้ได้ตามรูปแบบ `<วัตถุ>.<เมธอด>(<พารามิเตอร์>)`"
      ]
    },
    {
      "cell_type": "code",
      "metadata": {
        "id": "trJAVTr__5U0"
      },
      "source": [
        "print('Area of circle1 =', circle1.area())\n",
        "print('Circumference of circle2 =', circle2.circumference())\n",
        "print('Color of circle3 =', circle3.get_color())"
      ],
      "execution_count": null,
      "outputs": []
    },
    {
      "cell_type": "markdown",
      "metadata": {
        "id": "gPK4xsoxBax2"
      },
      "source": [
        "### การถ่ายทอดคุณสมบัติของคลาส (Inheritance)"
      ]
    },
    {
      "cell_type": "markdown",
      "metadata": {
        "id": "itOuZaicBdpX"
      },
      "source": [
        "- ข้อดีอีกข้อหนึ่งของการสร้างคลาสก็คือ เราสามารถถ่ายทอดคุณสมบัติของคลาสให้กับคลาสลูกหลานได้อีกด้วย\n",
        "\n",
        "- เช่น ถ้าเราสังเกตคลาส `Circle` และ `Square` ให้ดี เราจะพบว่าทั้งสองคลาสนี้มีคุณสมบัติร่วมกันคือ มี `color` (สี) เหมือนกัน และมีเมธอดร่วมกันคือ `get_color` (หาค่าสี)\n",
        "\n",
        "- ที่เป็นเช่นนี้ก็เพราะว่า จริงๆ แล้วคลาส `Circle` (วงกลม) และ `Square` (สี่เหลี่ยมจัตุรัส) ต่างก็เป็นรูปทรงด้วยกันทั้งสิ้น เราจึงมองได้ว่าทั้งสองคลาสนี้เป็นคลาสลูกของคลาส `Shape` ด้วยกันทั้งสิ้น"
      ]
    },
    {
      "cell_type": "code",
      "metadata": {
        "id": "JUXkvV7cBjJU"
      },
      "source": [
        "pi = 3.1415926\n",
        "\n",
        "class Shape:\n",
        "\n",
        "    def __init__(self, color):\n",
        "        self.color = color\n",
        "\n",
        "    # หาค่าสี\n",
        "    def get_color(self):\n",
        "        return self.color"
      ],
      "execution_count": null,
      "outputs": []
    },
    {
      "cell_type": "markdown",
      "metadata": {
        "id": "BMHTkjXuBnGk"
      },
      "source": [
        "- หากเราต้องการนิยามคลาสใหม่ให้เป็นคลาสลูก เราสามารถใช้คำสั่ง `class` ได้ตามรูปแบบนี้ครับ\n",
        "```python\n",
        "    class <คลาสลูก> ( <คลาสแม่> ) :\n",
        "        <รายการเมธอด>\n",
        "```\n",
        "\n",
        "- เมื่อเราประกาศคลาสลูกขึ้นมาแล้ว เราจะต้องนิยามคอนสตรักเตอร์ให้เรียกใช้คอนสตรักเตอร์ของคลาสแม่ด้วย\n",
        "\n",
        "- วิธีการเรียกใช้คอนสตรักเตอร์ของคลาสแม่คือใช้คำสั่ง `super(<คลาสลูก>, self).__init__(<พารามิเตอร์สำหรับคลาสแม่>)`\n",
        "\n",
        "- เช่น เราสามารถนิยามคลาส `Circle` ให้เป็นคลาสลูกของ `Shape` ได้ดังนี้"
      ]
    },
    {
      "cell_type": "code",
      "metadata": {
        "id": "mg8FfEOLB4Ed"
      },
      "source": [
        "class Circle(Shape):\n",
        "\n",
        "    def __init__(self, color, radius):\n",
        "\n",
        "        # นี่คือวิธีการเรียกคอนสตรักเตอร์ของคลาสแม่ โดยเราจะต้องป้อนพารามิเตอร์ที่จำเป็นสำหรับคลาสแม่เข้าไปด้วย\n",
        "        super(Circle, self).__init__(color)\n",
        "\n",
        "        # หลังจากนั้นให้เรากำหนดคุณสมบัติของคลาสลูกตามปกติ\n",
        "        self.radius = radius\n",
        "\n",
        "    # คำนวณพื้นที่\n",
        "    def area(self):\n",
        "        return pi * self.radius**2\n",
        "\n",
        "    # คำนวณเส้นรอบวง\n",
        "    def circumference(self):\n",
        "        return 2 * pi * self.radius"
      ],
      "execution_count": null,
      "outputs": []
    },
    {
      "cell_type": "markdown",
      "metadata": {
        "id": "eRxfH6MIB-hk"
      },
      "source": [
        "- จะสังเกตว่า คราวนี้เราจะไม่ต้องนิยามฟังก์ชัน `get_color` อีกแล้ว เพราะฟังก์ชันนี้ได้รับการถ่ายทอดมาจากคลาส `Shape` อยู่แล้วนั่นเอง"
      ]
    },
    {
      "cell_type": "code",
      "metadata": {
        "id": "spCYfHRECCn0"
      },
      "source": [
        "my_circle = Circle('red', 30.0)\n",
        "print('Area =', my_circle.area())\n",
        "print('Circumference =', my_circle.circumference())\n",
        "print('Color =', my_circle.get_color())"
      ],
      "execution_count": null,
      "outputs": []
    },
    {
      "cell_type": "markdown",
      "metadata": {
        "id": "srcZCsFdEAYe"
      },
      "source": [
        "### แบบฝึกหัด 2.1"
      ]
    },
    {
      "cell_type": "markdown",
      "metadata": {
        "id": "2NcXmvRhEHJc"
      },
      "source": [
        "สมมติว่าเราต้องการออกแบบคลาสสำหรับรีโมทคอนโทรล หน้าที่หลักของรีโมทคอนโทรลคือ เปิด/ปิด อุปกรณ์ไฟฟ้า แต่รีโมทคอนโทรลสำหรับอุปกรณ์ไฟฟ้าแต่ละชนิดก็จะมีหน้าที่เฉพาะแตกต่างกันออกไป เช่น\n",
        "\n",
        "- รีโมทโทรทัศน์ก็จะมีฟังก์ชันสำหรับเปลี่ยนช่อง เพิ่ม/ลดเสียง และปรับสีและความสว่าง\n",
        "\n",
        "- ในขณะที่รีโมทแอร์ก็จะมีฟังก์ชันในการลด/เพิ่มอุณหภูมิ และปรับการสวิงใบพัด เป็นต้น\n",
        "\n",
        "ในโจทย์ข้อนี้ เราจะให้ท่านออกแบบคลาสทั้งหมด 3 คลาสด้วยกัน โดยมีคลาสแม่คือคลาสรีโมทคอนโทรล `RemoteControl` และมีคลาสลูกอีก 2 คลาสคือ คลาสรีโมทโทรทัศน์ `TVRemoteControl` และคลาสรีโมทแอร์ `ACRemoteControl`"
      ]
    },
    {
      "cell_type": "markdown",
      "metadata": {
        "id": "H7-yHwesEP4k"
      },
      "source": [
        "#### 2.1.1 คลาสแม่ `RemoteControl`\n",
        "คลาสแม่สามารถเปิดและปิดสวิตช์ได้ โดยจะสลับค่าของคุณสมบัติ `power`"
      ]
    },
    {
      "cell_type": "code",
      "metadata": {
        "id": "LDDGZue1EWwS"
      },
      "source": [
        "class RemoteControl:\n",
        "\n",
        "    def __init__(self):\n",
        "\n",
        "        # ปิดสวิตช์ของอุปกรณ์ไฟฟ้าไว้ก่อน\n",
        "        self.power = False\n",
        "\n",
        "    # สลับสวิตช์เปิด/ปิด\n",
        "    def toggle_power(self):\n",
        "\n",
        "        print(f'Toggle power: {self.power} -> ', end='')\n",
        "\n",
        "        # สลับค่าของคุณสมบัติ power (คำใบ้: คำสั่ง not)\n",
        "        __________\n",
        "\n",
        "        print(f'{self.power}')"
      ],
      "execution_count": null,
      "outputs": []
    },
    {
      "cell_type": "markdown",
      "metadata": {
        "id": "5aygnqQeEbA5"
      },
      "source": [
        "ทดสอบกันนิดนึงว่า คลาสนี้ใช้ได้หรือเปล่า"
      ]
    },
    {
      "cell_type": "code",
      "metadata": {
        "id": "obWQKV2YEf7E"
      },
      "source": [
        "rctrl = RemoteControl()\n",
        "\n",
        "# ค่าสวิตช์ควรจะสลับไปสลับมา\n",
        "rctrl.toggle_power()\n",
        "rctrl.toggle_power()\n",
        "rctrl.toggle_power()"
      ],
      "execution_count": null,
      "outputs": []
    },
    {
      "cell_type": "markdown",
      "metadata": {
        "id": "GugCWlXpEjSh"
      },
      "source": [
        "#### 2.1.2 คลาสลูก `TVRemoteControl`: รีโมทโทรทัศน์\n",
        "คลาส `TVRemoteControl` จะเปลี่ยนช่องได้ เพิ่มเสียงได้ และลดเสียงได้ โดย\n",
        "\n",
        "- ช่องจะต้องเป็นจำนวนเต็มตั้งแต่ 1 จนถึง 9\n",
        "\n",
        "- ระดับเสียงจะมีค่าตั้งแต่ 0 จนถึง 10 หากลดเสียงหรือเพิ่มเสียงจนเกินจากค่านี้ ค่าก็จะไม่เปลี่ยนแปลงอีก"
      ]
    },
    {
      "cell_type": "code",
      "metadata": {
        "id": "vq73J9jCEtTu"
      },
      "source": [
        "class TVRemoteControl(RemoteControl):\n",
        "\n",
        "    def __init__(self):\n",
        "\n",
        "        # เรียกคอนสตรักเตอร์ของคลาสแม่\n",
        "        __________\n",
        "\n",
        "        # กำหนดคุณสมบัติเฉพาะของคลาสลูก\n",
        "        self.channel = 0\n",
        "        self.volume = 5\n",
        "\n",
        "    # เปลี่ยนช่องให้เป็นช่องใหม่ที่กำหนด\n",
        "    def change_channel(self, new_channel):\n",
        "\n",
        "        print(f'Change channel: {self.channel} -> ', end='')\n",
        "\n",
        "        # เปลี่ยนช่อง โดยช่องจะต้องเป็นจำนวนเต็มอยู่ในช่วง 0 ถึง 9 ไม่เช่นนั้นก็จะไม่เปลี่ยนช่อง\n",
        "        __________\n",
        "\n",
        "        print(f'{self.channel}')\n",
        "\n",
        "    # เพิ่มเสียง\n",
        "    def increase_volume(self):\n",
        "\n",
        "        print(f'Increase volume: {self.volume} -> ', end='')\n",
        "\n",
        "        # เพิ่มเสียง โดยค่าระดับเสียงต้องไม่เกิน 10\n",
        "        __________\n",
        "\n",
        "        print(f'{self.volume}')\n",
        "\n",
        "    # ลดเสียง\n",
        "    def decrease_volume(self):\n",
        "\n",
        "        print(f'Decrease volume: {self.volume} -> ', end='')\n",
        "\n",
        "        # ลดเสียง โดยค่าระดับเสียงต้องไม่ต่ำกว่า 0\n",
        "        __________\n",
        "\n",
        "        print(f'{self.volume}')"
      ],
      "execution_count": null,
      "outputs": []
    },
    {
      "cell_type": "markdown",
      "metadata": {
        "id": "G9LqFEzsE6lS"
      },
      "source": [
        "ทดสอบโค้ดกันหน่อย"
      ]
    },
    {
      "cell_type": "code",
      "metadata": {
        "id": "3uXevjnhE9lx"
      },
      "source": [
        "tvremote = TVRemoteControl()\n",
        "\n",
        "# ลองเปลี่ยนช่องตามปกติ\n",
        "tvremote.change_channel(1)\n",
        "tvremote.change_channel(2)\n",
        "print()\n",
        "\n",
        "# ลองเปลี่ยนช่องที่เป็นไปไม่ได้ ช่องไม่ควรจะเปลี่ยน\n",
        "tvremote.change_channel(-1)\n",
        "tvremote.change_channel(11)\n",
        "print()\n",
        "\n",
        "# ลองเพิ่มเสียงจนหลุดช่วง ระดับเสียงไม่ควรจะเพิ่มอีก\n",
        "for i in range(11):\n",
        "    tvremote.increase_volume()\n",
        "print()\n",
        "\n",
        "# ลองลดเสียงไปจนหลุดช่วง ระดับเสียงไม่ควรจะลดอีก\n",
        "for i in range(11):\n",
        "    tvremote.decrease_volume()"
      ],
      "execution_count": null,
      "outputs": []
    },
    {
      "cell_type": "markdown",
      "metadata": {
        "id": "S2EvHomVFA6G"
      },
      "source": [
        "#### 2.1.3 คลาสลูก `ACRemoteControl`: รีโมทแอร์\n",
        "คลาส `ACRemoteControl` จะเพิ่มระดับอุณหภูมิได้ ลดระดับอุณหภูมิได้ และเปิด/ปิดการสวิงใบพัดได้ ทั้งนี้อุณหภูมิจะต้องอยู่ในช่วง 15-35 องศาเซลเซียสเท่านั้น"
      ]
    },
    {
      "cell_type": "code",
      "metadata": {
        "id": "k_5RQQaaFHka"
      },
      "source": [
        "class ACRemoteControl(RemoteControl):\n",
        "\n",
        "    def __init__(self):\n",
        "\n",
        "        # เรียกคอนสตรักเตอร์ของคลาสแม่\n",
        "        __________\n",
        "\n",
        "        # กำหนดคุณสมบัติเฉพาะของคลาสลูก\n",
        "        self.temperature = 25\n",
        "        self.fan_swing = True\n",
        "\n",
        "    # เพิ่มอุณหภูมิ\n",
        "    def increase_temperature(self):\n",
        "\n",
        "        print(f'Increase temperature: {self.temperature} -> ', end='')\n",
        "\n",
        "        # เพิ่มอุณหภูมิ โดยค่าระดับเสียงต้องไม่เกิน 35\n",
        "        __________\n",
        "\n",
        "        print(f'{self.temperature}')\n",
        "\n",
        "    # ลดอุณหภูมิ\n",
        "    def decrease_temperature(self):\n",
        "\n",
        "        print(f'Decrease temperature: {self.temperature} -> ', end='')\n",
        "\n",
        "        # ลดอุณหภูมิ โดยค่าระดับเสียงต้องไม่ต่ำกว่า 15\n",
        "        __________\n",
        "\n",
        "        print(f'{self.temperature}')\n",
        "\n",
        "    # สลับการเปิด/ปิดสวิงใบพัด\n",
        "    def toggle_fan_swing(self):\n",
        "\n",
        "        print(f'Toggle fan swing: {self.fan_swing} -> ', end='')\n",
        "\n",
        "        # สลับการเปิด/ปิดสวิงใบพัด (คำใบ้: คำสั่ง not)\n",
        "        # __________\n",
        "\n",
        "        print(f'{self.fan_swing}')"
      ],
      "execution_count": null,
      "outputs": []
    },
    {
      "cell_type": "markdown",
      "metadata": {
        "id": "4ItXLD_HFK7b"
      },
      "source": [
        "ลองทดสอบโค้ดด้านบนดู ว่าทำงานได้หรือเปล่า"
      ]
    },
    {
      "cell_type": "code",
      "metadata": {
        "id": "gom6YAnqFNpc"
      },
      "source": [
        "acremote = ACRemoteControl()\n",
        "\n",
        "# ลองสลับสวิตช์การสวิงพัดลม\n",
        "acremote.toggle_fan_swing()\n",
        "acremote.toggle_fan_swing()\n",
        "acremote.toggle_fan_swing()\n",
        "print()\n",
        "\n",
        "# ลองเพิ่มอุณหภูมิจนหลุดช่วง ระดับอุณหภูมิไม่ควรจะเพิ่มอีก\n",
        "for i in range(12):\n",
        "    acremote.increase_temperature()\n",
        "print()\n",
        "\n",
        "# ลองลดอุณหภูมิไปจนหลุดช่วง ระดับอุณหภูมิไม่ควรจะลดอีก\n",
        "for i in range(12):\n",
        "    acremote.decrease_temperature()"
      ],
      "execution_count": null,
      "outputs": []
    },
    {
      "cell_type": "markdown",
      "metadata": {
        "id": "ucViROAMFUlf"
      },
      "source": [
        "## หัวข้อที่ 3: NumPy"
      ]
    },
    {
      "cell_type": "markdown",
      "metadata": {
        "id": "XYf7WLajFZv3"
      },
      "source": [
        "- NumPy (Numeric Python) เป็นแพคเกจพื้นฐานที่นิยมใช้ในการคำนวณทางวิทยศาสตร์และคณิตศาสตร์\n",
        "- NumPy มีความสามารถมากมาย จนแทบจะใกล้เคียงกับ MatLab เลยทีเดียว\n",
        "- เรามักจะใช้ NumPy ในการจัดการข้อมูลประเภทเวกเตอร์และเมทริกซ์\n",
        "- ก่อนจะใช้งาน NumPy เราจะต้อง **นำเข้า** หรือ **`import`** แพคเกจของ NumPy เข้ามาเสียก่อน โดย"
      ]
    },
    {
      "cell_type": "code",
      "metadata": {
        "id": "ZYhPpy6iS1ed"
      },
      "source": [
        "import numpy"
      ],
      "execution_count": null,
      "outputs": []
    },
    {
      "cell_type": "markdown",
      "metadata": {
        "id": "FdL-ZCJaTIN7"
      },
      "source": [
        "- เราสามารถตั้งชื่อเล่นให้กับการเรียกใช้งานแพคเกจของ NumPy ได้โดยใช้คำสั่ง `as` เช่น"
      ]
    },
    {
      "cell_type": "code",
      "metadata": {
        "id": "NzOysQzaTAYQ"
      },
      "source": [
        "import numpy as np"
      ],
      "execution_count": null,
      "outputs": []
    },
    {
      "cell_type": "markdown",
      "metadata": {
        "id": "1jo-26jxTGXd"
      },
      "source": [
        "- หลังจากเรานำเข้าแพคเกจ NumPy เรียบร้อยแล้ว เราจะสามารถเรียกใช้งานเมธอดของ NumPy ได้ทันที โดยถ้าหากเราตั้งชื่อเล่นให้กับ NumPy เราจะเรียกเมธอดผ่านชื่อเล่นนั้น\n",
        "```\n",
        "np.<เมธอด>\n",
        "```\n",
        "- เราสามารถใช้ NumPy ในการสร้างตัวแปรที่เก็บข้อมูลของเวกเตอร์ได้ ด้วยเมธอด\n",
        "```python\n",
        "import numpy as np\n",
        "np.array([1,2,5])\n",
        "```\n",
        "\n",
        "\n",
        "\n",
        "- โดยนิยามของเวกเตอร์ คือลำดับของตัวเลขที่เขียนอยู่ในรูป\n",
        "\n",
        "$$ u =  \\begin{pmatrix}u_1\\\\u_2 \\\\ \\vdots \\\\u_n\\end{pmatrix} $$\n",
        "\n",
        "- ตัวอย่าง เช่น $$ \\begin{pmatrix}1\\\\2\\\\5 \\end{pmatrix},\\begin{pmatrix}-6\\\\3 \\end{pmatrix} $$\n",
        "\n",
        "- ดังนั้น เราอาจกล่าวได้ว่า เวกเตอร์ ก็คือ `array` หนึ่งมิตินั่นเอง\n",
        "\n",
        "***ข้อควรระวัง:*** array ใน NumPy ต่างจากการใช้ ลิสต์ ตรงที่ ใน array นั้น จะมีข้อมูลได้เพียงชนิดเดียวเท่านั้น ซึ่งโดยทั่วไปแล้ว จะเก็บข้อมูลจำนวนเต็ม `(int)` หรือจำนวนจริง `(float)`"
      ]
    },
    {
      "cell_type": "code",
      "metadata": {
        "id": "_49r-8H-T9wl"
      },
      "source": [
        "import numpy as np\n",
        "\n",
        "a = np.array([0,1,2,3])   # เวกเตอร์\n",
        "b = np.array([4,5,6,7])   # อันนี้ก็ เวกเตอร์\n",
        "print(a)\n",
        "print(b)"
      ],
      "execution_count": null,
      "outputs": []
    },
    {
      "cell_type": "markdown",
      "metadata": {
        "id": "fI8dZj_2bVRv"
      },
      "source": [
        "- เราสามารถสร้าง `array` ที่มีขนาดมากกว่าหนึ่งมิติได้\n",
        "- โดย `array` สองมิติ ก็คือ เมทริดซ์นั่นเอง\n",
        "- นิยามของเมทริกซ์คือ\n",
        "$$ A = \\begin{pmatrix} a_{1,1}&a_{1,2}& \\cdots &a_{1,n}\\\\\n",
        "a_{2,1}&a_{2,2}& \\cdots &a_{2,n}\\\\\n",
        "\\vdots&\\vdots& \\ddots &\\vdots\\\\\n",
        "a_{n,1}&a_{n,2}& \\cdots &a_{n,n}\\\\\n",
        "\\end{pmatrix} $$\n",
        "\n",
        "- สำหรับการสร้าง `array` 2 มิติ หรือ เมทริกซ์นั้น เราสามารถทำได้โดย"
      ]
    },
    {
      "cell_type": "code",
      "metadata": {
        "id": "UQTLKOnBiQ8e"
      },
      "source": [
        "import numpy as np\n",
        "c = np.array([[0,1,2,3],[4,5,6,7]])\n",
        "print(c)"
      ],
      "execution_count": null,
      "outputs": []
    },
    {
      "cell_type": "markdown",
      "metadata": {
        "id": "eIau0T7tikXh"
      },
      "source": [
        "- การเข้าถึงสมาชิกแต่ละตัวภายใน `NumPy array` เราสามารถทำได้โดยอ้างอิงจาก `index` คล้ายกับลิสต์ เช่น"
      ]
    },
    {
      "cell_type": "code",
      "metadata": {
        "id": "UuiGrsPcivvC"
      },
      "source": [
        "print(a[0])\n",
        "print(b[:2])\n",
        "print(b[1:])\n",
        "print(c[1,1])\n",
        "print(c[1,:])"
      ],
      "execution_count": null,
      "outputs": []
    },
    {
      "cell_type": "markdown",
      "metadata": {
        "id": "rvD-Va3-ipiU"
      },
      "source": [
        "- นอกจากนี้ เรายังสามารถสร้างเมทริกซ์ ที่สมาชิกทุกตัวเป็น `0` ได้อีกด้วย\n",
        "- เช่น ในโปรแกรมด้านล่าง เรากำลังจะสร้างเมทริกซ์ที่สมาชิกทุกตัวเป็นเลข `0` โดยมีขนาด 2 แถว 4 หลัก"
      ]
    },
    {
      "cell_type": "code",
      "metadata": {
        "id": "kwIEwEtLizBs"
      },
      "source": [
        "import numpy as np\n",
        "z = np.zeros((2,4))\n",
        "print(z)"
      ],
      "execution_count": null,
      "outputs": []
    },
    {
      "cell_type": "markdown",
      "metadata": {
        "id": "qy8p_aC3jR-h"
      },
      "source": [
        "- โดยของที่ใส่อยู่ด้านในวงเล็บ เราเรียกว่า ทูเพิล `(tuple)` โดยทูเพิงนั้นจะมีลักษณะคล้ายลิสต์ ต่างกันที่ที่ใช้วงเล็บ `()` ซึ่งลิสต์จะใช้ `[]` และทูเพิล*ไม่* สามารถทำการแก้ไขค่าภายหลังได้\n",
        "- นอกจากการสร้างเมทริกซ์ที่สมาชิกทุกตัวเป็นเลข 0 แล้วนั้น เรายังสามารถกำหนดให้สมาชิกทุกตัวเป็นเลขอื่นได้ด้วยโดย\n",
        "\n",
        "```python\n",
        "matrix = np.full(<ทูเพิลขนาดของเมทริกซ์>,<เลขที่ต้องการเติม>)\n",
        "```\n"
      ]
    },
    {
      "cell_type": "code",
      "metadata": {
        "id": "FpMKleSpknt2"
      },
      "source": [
        "import numpy as np\n",
        "matrix = np.full((3,4),5)\n",
        "print(matrix)"
      ],
      "execution_count": null,
      "outputs": []
    },
    {
      "cell_type": "markdown",
      "metadata": {
        "id": "6u9dcg8tlZhF"
      },
      "source": [
        "- ทั้งนี้ เรายังสามารถสร้างเมทริกซ์ที่สมาชิกทุกตัวเกิดจากการสุ่มได้ด้วย"
      ]
    },
    {
      "cell_type": "code",
      "metadata": {
        "id": "zWqiBdI9ljNj"
      },
      "source": [
        "import numpy as np\n",
        "a = np.random.rand(2,2)   # สุ่มตามขนาดที่กำหนด\n",
        "print(a)\n",
        "b = np.random.randn(3,3)  # สุ่มตามขนาดที่กำหนด ด้วยการกระจายแบบปกติ\n",
        "print(b)\n",
        "c = np.random.randint(0,10,(2,2)) #สุ่มจำนวนเต็ม ค่าตั้งแต่ 0-9 ตามขนาดที่กำหนก\n",
        "print(c)"
      ],
      "execution_count": null,
      "outputs": []
    },
    {
      "cell_type": "markdown",
      "metadata": {
        "id": "nLbmb3yGcoEK"
      },
      "source": [
        "- ในบางกรณี เราอาจจำเป็นต้องใช้ **เมทริกซ์เอกลักษณ์** (Identity matrix) ซึ่งเมทริกซ์เอกลักษณ์คือเมทริกซ์จตุรัสที่สมาชิกทุกตัวเป็น 0 ยกเว้นสมาชิกในแนวทะแยงมุม จะมีค่าเป็น 1 เช่น\n",
        "$$ identity{\\_}matrix = \\begin{pmatrix} 1&0&\\cdots&0\\\\0&1&\\cdots&0\\\\ \\vdots&\\vdots&\\ddots &\\vdots \\\\0&0&0&1\\end{pmatrix} $$\n",
        "- เราสามารถสร้างเมทริกซ์เอกลักษณ์โดยใช้ `NumPy array` ได้ดังนี้"
      ]
    },
    {
      "cell_type": "code",
      "metadata": {
        "id": "RP-XCka4fKCG"
      },
      "source": [
        "import numpy as np\n",
        "identity = np.identity(5)\n",
        "print(identity)"
      ],
      "execution_count": null,
      "outputs": []
    },
    {
      "cell_type": "markdown",
      "metadata": {
        "id": "H4O6k87On9zQ"
      },
      "source": [
        "- ในการคำนวณทางคณิตศาสตร์ ขนาด และรูปร่างของเวกเตอร์/เมทริกซ์มีความสำคัญต่อการคำนวณ\n",
        "- เราสามารถแสดงจำนวนมิติ และรูปร่างของ `NumPy array` ได้โดย\n",
        "- แสดงจำนวนมิติของ `array`\n",
        "```\n",
        "<ตัวแปร array>.ndim\n",
        "```\n",
        "\n",
        "- แสดงรูปร่างของ `array`\n",
        "```\n",
        "<ตัวแปร array>.shape\n",
        "```\n",
        "\n"
      ]
    },
    {
      "cell_type": "code",
      "metadata": {
        "id": "GnmWCohPou0V"
      },
      "source": [
        "print('dimension of a',a.ndim)\n",
        "print('shape of a',a.shape)\n",
        "print('dimension of b',b.ndim)\n",
        "print('shape of b',b.shape)\n",
        "print('dimension of c',c.ndim)\n",
        "print('shape of c',c.shape)"
      ],
      "execution_count": null,
      "outputs": []
    },
    {
      "cell_type": "markdown",
      "metadata": {
        "id": "TTx2XJG4pyC8"
      },
      "source": [
        "###แบบฝึกหัด 3.1\n"
      ]
    },
    {
      "cell_type": "markdown",
      "metadata": {
        "id": "gs3-VmGFp6wK"
      },
      "source": [
        "1. จงสร้างเวกเตอร์ที่มีสมาชิกจำนวน 5 ตัว โดยสมาชิกแต่ละตัวได้มาจากการสุมจำนวนเต็ม ระหว่าง 5-9"
      ]
    },
    {
      "cell_type": "code",
      "metadata": {
        "id": "GB-nk62UqkIQ"
      },
      "source": [
        "import numpy as np\n",
        "\n",
        "vector = _______\n",
        "print(vector)"
      ],
      "execution_count": null,
      "outputs": []
    },
    {
      "cell_type": "markdown",
      "metadata": {
        "id": "2bXGbKmlqrEQ"
      },
      "source": [
        "2. จงสร้างเมทริกซ์ขนาด `5x5` โดยสมาชิกทุกตัวเป็นเลข 1 ทั้งหมด"
      ]
    },
    {
      "cell_type": "code",
      "metadata": {
        "id": "YtvkMihKq70P"
      },
      "source": [
        "import numpy as np\n",
        "\n",
        "matrix = _______\n",
        "print(matrix)"
      ],
      "execution_count": null,
      "outputs": []
    },
    {
      "cell_type": "markdown",
      "metadata": {
        "id": "R7JDtkRdfmLY"
      },
      "source": [
        "- โดยทั่วไปแล้ว `NumPy array` จะกำหนดชนิดของข้อมูลที่บรรจุอยู่ใน `array` ให้อัตโนมัติ ขึ้นอยู่กับข้อมูลใน `array` นั้น\n",
        "- อย่างไรก็ตาม เราสามารถกำหนดชนิดของข้อมูลที่อยู่ภายใน `NumPy array` เองได้เช่นกัน โดย\n",
        "```\n",
        "matrix = np.array(<list>, <dtype>)\n",
        "```"
      ]
    },
    {
      "cell_type": "code",
      "metadata": {
        "id": "Ea8hhj7UgkeG"
      },
      "source": [
        "import numpy as np\n",
        "\n",
        "matrix = np.array([1,2,3], float)\n",
        "print(matrix)"
      ],
      "execution_count": null,
      "outputs": []
    },
    {
      "cell_type": "markdown",
      "metadata": {
        "id": "raB7z4Kogwy-"
      },
      "source": [
        "- จะสังเกตเห็นว่า ถึงแม้ค่าที่เราใส่ในลิสต์เพื่อสร้าง `NumPy array` นั้น จะเป็นจำนวนเต็ม แต่เมื่อเรากำหนดให้ข้อมูลภายใน `NumPy array` เป็นจำนวนจริง `(float)` ข้อมูลใน `matrix` ก็จะมีจุดทศนิยมปรากฏขึ้น\n",
        "\n",
        "***ข้อควรระวัง*** ในการคำนวณทางคณิตศาสตร์ หากชนิดของข้อมูลใน `NumPy array` ไม่สอดคล้องกัน อาจทำให้โปรแกรมไม่สามารถทำงานได้ จึงควรตรวจสอบให้มั่นใจว่าชนิดของข้อมูลสอดคล้องกัน"
      ]
    },
    {
      "cell_type": "markdown",
      "metadata": {
        "id": "-GDCzFRHhyqJ"
      },
      "source": [
        "#### ตัวกระทำทางคณิตศาสตร์ ด้วย `NumPy array`"
      ]
    },
    {
      "cell_type": "markdown",
      "metadata": {
        "id": "TVsqVGn_h-CJ"
      },
      "source": [
        "- ในหัวข้อลิสต์และลูป หากเราต้องการคำนวณค่าจากสมาชิกในลิสต์ เราจะต้องวนลูปเพื่อเข้าถึงสมาชิกแต่ละตัว\n",
        "- แต่สำหรับ `NumPy array` เราสามารถใช้ตัวกระทำทางคณิตศาสตร์ได้เลย"
      ]
    },
    {
      "cell_type": "code",
      "metadata": {
        "id": "dn4wmFGXkYUl"
      },
      "source": [
        "normal_list = [1,2,3,4,5] # หากเป็นลิสต์ทั่วไป\n",
        "print(normal_list + 3)    # เราไม่สามารถนำมาคำนวณได้โดยตรง โปรแกรมจะเกิดข้อผิดพลาด"
      ],
      "execution_count": null,
      "outputs": []
    },
    {
      "cell_type": "code",
      "metadata": {
        "id": "n5aD8s_6k3jp"
      },
      "source": [
        "import numpy as np\n",
        "\n",
        "vect = np.array([1,2,3,4,5]) # หากเป็น NumPy array\n",
        "print(vect + 3)              # เราสามารถนำมาคำนวณได้เลย"
      ],
      "execution_count": null,
      "outputs": []
    },
    {
      "cell_type": "markdown",
      "metadata": {
        "id": "zpxqWc51oxTR"
      },
      "source": [
        "- โดยทั่วไปแล้ว ตัวกระทำทางคณิตศาสตร์ จะดำเนินการกับสมาชิกแต่ละตัวใน `array`\n",
        "- ตัวกระทำทางคณิตศาสตร์ที่สามารถใช้ได้มีดังต่อไปนี้\n",
        "\n",
        "|Operator|Description|\n",
        "|--------|------------|\n",
        "| +| บวก|\n",
        "| - |ลบ |\n",
        "| * | คูณ|\n",
        "| \\ | หาร|\n",
        "| % | หารเอาเศษ|\n",
        "| ** | ยกกำลัง|\n",
        "\n",
        "- เนื่องจากการดำเนินการทางคณิตศาสตร์ จะกระทำกับทุกสมาชิก ดังนั้น ขนาดและรูปร่างของ `NumPy array` จะต้องเท่ากัน"
      ]
    },
    {
      "cell_type": "code",
      "metadata": {
        "id": "jC5FtWeep9X7"
      },
      "source": [
        "import numpy as np\n",
        "a = np.array([[4,4],[6,6]])\n",
        "b = np.full((2,2),2)\n",
        "print(a+b)\n",
        "print(a-b)\n",
        "print(a*b)\n",
        "print(a/b)\n",
        "print(a%b)\n",
        "print(a**b)"
      ],
      "execution_count": null,
      "outputs": []
    },
    {
      "cell_type": "markdown",
      "metadata": {
        "id": "evoTdJO7sHys"
      },
      "source": [
        "- ถ้าหาก `NumPy array` มีขนาดและรูปร่างไม่เท่ากัน แต่มีจำนวนสมาชิกในแถวเท่ากัน\n",
        "- การดำเนินการทางคณิตศาสตร์ จะถูกกระจายไปแต่ละแถวของ `NumPy array` ตัวที่มีจำนวนแถวมากกว่า เช่น"
      ]
    },
    {
      "cell_type": "code",
      "metadata": {
        "id": "vyPl-xHHs1or"
      },
      "source": [
        "import numpy as np\n",
        "a = np.array([[2,2],[5,5]])\n",
        "b = np.full((2,),2)\n",
        "print(a*b)\n",
        "print(b+a)"
      ],
      "execution_count": null,
      "outputs": []
    },
    {
      "cell_type": "markdown",
      "metadata": {
        "id": "H16a6YuYtEJ6"
      },
      "source": [
        "***ดังนั้น*** ก่อนดำเนินการใดๆทางคณิตศาสตร์กับตัวแปร `NumPy array` ควรตรวจสอบว่า อย่างน้อย มีจำนวนสมาชิกในแต่ละแถวเท่ากัน"
      ]
    },
    {
      "cell_type": "code",
      "metadata": {
        "id": "wBMp-sTbtSx7"
      },
      "source": [
        "import numpy as np\n",
        "a = np.array([1,2])\n",
        "b = np.array([[1,1,1],[2,2,2]])\n",
        "print(a + b) # จำนวนสมาชิกในแต่ละแถวไม่เท่ากัน โปรแกรมจะเกิดข้อผิดพลาด"
      ],
      "execution_count": null,
      "outputs": []
    },
    {
      "cell_type": "markdown",
      "metadata": {
        "id": "v025MRqswC8d"
      },
      "source": [
        "- จะสังเกตเห็นว่า การใช้ตัวดำเนินการ * (คูณ) ข้างต้น เป็นการดำเนินการกับแต่ละสมาชิก ไม่ได้เป็นการคูณเมทริกซ์แต่อย่างใด\n",
        "- ซึ่งการคูณเมทริกซ์ เราจะได้ผลลัพธ์ที่ต่างออกไป เช่น\n",
        "$$\n",
        "\\begin{pmatrix}\n",
        "1&2\\\\-1&0\\\\3&2\n",
        "\\end{pmatrix} \\times\n",
        "\\begin{pmatrix}\n",
        "1&5&2\\\\-2&0&1\n",
        "\\end{pmatrix}\n",
        "=\n",
        "\\begin{pmatrix}\n",
        "-3&5&4\\\\-1&-5&-2\\\\-1&15&8\n",
        "\\end{pmatrix}\n",
        "$$\n",
        "- ในการคูณเมทริกซฺ เราจะใช้ฟังก์ชัน `dot` ใน `NumPy` เข้ามาช่วย เช่น"
      ]
    },
    {
      "cell_type": "code",
      "metadata": {
        "id": "ki1uQq0mylzq"
      },
      "source": [
        "import numpy as np\n",
        "a = np.array([[1,2],[-1,0],[3,2]])\n",
        "b = np.array([[1,5,2],[-2,0,1]])\n",
        "print('a = ')\n",
        "print(a)\n",
        "print('b = ')\n",
        "print(b)\n",
        "print('a x b = ')\n",
        "print(np.dot(a,b))"
      ],
      "execution_count": null,
      "outputs": []
    },
    {
      "cell_type": "markdown",
      "metadata": {
        "id": "dnohdZjItwMD"
      },
      "source": [
        "###แบบฝึกหัด 3.2"
      ]
    },
    {
      "cell_type": "markdown",
      "metadata": {
        "id": "8rwnRnvRuLHR"
      },
      "source": [
        "1. สร้างเมทริกซ์\n",
        "$$\n",
        "a = \\begin{pmatrix}1&2&1\\\\0&0&0\\\\-1&-2&-1\\end{pmatrix}\\\\\n",
        "b = \\begin{pmatrix}1&2&1\\\\2&4&2\\\\3&6&3\\end{pmatrix}\\\\\n",
        "c = \\begin{pmatrix}4&2&4\\end{pmatrix}\n",
        "$$\n"
      ]
    },
    {
      "cell_type": "code",
      "metadata": {
        "id": "Mh7bSsEj3Bf3"
      },
      "source": [],
      "execution_count": null,
      "outputs": []
    },
    {
      "cell_type": "markdown",
      "metadata": {
        "id": "-hqp-HiK3C3f"
      },
      "source": [
        "2. หาผลการดำเนินการทางคณิตศาสตร์ $$a+b, a-b, a+c,a-c$$"
      ]
    },
    {
      "cell_type": "code",
      "metadata": {
        "id": "eiH2x13n3Ygp"
      },
      "source": [],
      "execution_count": null,
      "outputs": []
    },
    {
      "cell_type": "markdown",
      "metadata": {
        "id": "JFHHU29J3ZSh"
      },
      "source": [
        "3. หาผลการคูณแบบเมทริกซ์ ของเมทริกซ์ $a$ และเมทริกซ์ $b$"
      ]
    },
    {
      "cell_type": "code",
      "metadata": {
        "id": "AgRZfuOj3rld"
      },
      "source": [],
      "execution_count": null,
      "outputs": []
    },
    {
      "cell_type": "markdown",
      "metadata": {
        "id": "-0QM89t93sYr"
      },
      "source": [
        "4. หาผลรวมของสมาชิกทุกตัวภายในเมทริกซ์ $c$"
      ]
    },
    {
      "cell_type": "code",
      "metadata": {
        "id": "K68s6uHS3yrh"
      },
      "source": [],
      "execution_count": null,
      "outputs": []
    },
    {
      "cell_type": "markdown",
      "metadata": {
        "id": "xFDjCDmW3zmG"
      },
      "source": [
        "- จะเห็นว่า หากเราต้องการหาผลรวมของสมาชิกทุกตัวภายใน `NumPy array` เราจะต้องวนลูปเพื่อทำการบวก\n",
        "- แต่ในความเป็นจริง `NumPy` มีฟังก์ชันที่ช่วยให้เราสามารถหาผลรวมของสมาชิกภายใน `NumPy array` ได้โดยง่าย รวมถึงฟังก์ชันช่วยในการดำเนินการอื่นๆอีกมากมาย ดังตาราง\n",
        "\n",
        "|ชื่อฟังก์ชัน|รายละเอียด|\n",
        "|---|---|\n",
        "|sum|  ผลรวม $(\\sum)$ |\n",
        "|prod| ผลคูณ  $(\\prod)$|\n",
        "|mean| ค่าเฉลี่ย  |\n",
        "|var| ความแปรปรวน $(\\sigma)$  |\n",
        "|std|  ส่วนเบี่ยงเบนมาตรฐาน $(SD)$  |\n",
        "|max| ค่ามากที่สุด  |\n",
        "|argmax|  ตำแหน่งของค่ามากที่สุด |\n",
        "|min|  ค่าน้อยที่สุด |\n",
        "|argmin|  ตำแหน่งของค่าน้อยที่สุด |"
      ]
    },
    {
      "cell_type": "code",
      "metadata": {
        "id": "2tvjU3na485I"
      },
      "source": [
        "import numpy as np\n",
        "\n",
        "a = np.array([2,4,3])\n",
        "\n",
        "print(f'sum of a = {a.sum()}')\n",
        "print(f'prod of a = {a.prod()}')\n",
        "print(f'mean of a = {a.mean()}')\n",
        "print(f'var of a = {a.var()}')\n",
        "print(f'std of a = {a.std()}')\n",
        "print(f'max of a = {a.max()}')\n",
        "print(f'argmax of a = {a.argmax()}')\n",
        "print(f'min of a = {a.min()}')\n",
        "print(f'argmin of a = {a.argmin()}')"
      ],
      "execution_count": null,
      "outputs": []
    },
    {
      "cell_type": "markdown",
      "metadata": {
        "id": "jeL06ceq5tMa"
      },
      "source": [
        "- นอกจากนี้ หาก `NumPy array` มีจำนวนมิติมากกว่าหนึ่ง เราสามารถระบุแกน (axis) ของ `array` ที่เราต้องการได้อีกด้วย\n",
        "- หากไม่ระบุแกน ฟังก์ชันของ `NumPy` จะทำการหาคำตอบจากทุกสมาชิกใน `array`\n",
        "- การระบุแกน สามารถทำได้โดย เพิ่ม option เข้าไปในฟังก์ชันของ `NumPy` เช่น\n",
        "```\n",
        "<NumPy array>.<function>(axis=<แกนที่ต้องการ>)\n",
        "```\n",
        "- โดยแกนจะถูกกำหนดดังนี้\n",
        "$$\n",
        "\\hspace{1cm}axis = 0\\\\\n",
        "\\hspace{1cm}\\downarrow\t\\\\\n",
        "axis = 1 \\rightarrow\\begin{pmatrix}\n",
        "1&1&1\\\\\n",
        "2&2&2\\\\\n",
        "3&3&3\n",
        "\\end{pmatrix}\n",
        "$$"
      ]
    },
    {
      "cell_type": "code",
      "metadata": {
        "id": "naNKz2ks7o7Z"
      },
      "source": [
        "import numpy as np\n",
        "\n",
        "a = np.array([[1,1,1],[2,2,2],[3,3,3]])\n",
        "print(f'sum of a in all axis = {a.sum()}')\n",
        "print(f'sum of a in axis 0 = {a.sum(axis=0)}')\n",
        "print(f'sum of a in axis 1 = {a.sum(axis=1)}')"
      ],
      "execution_count": null,
      "outputs": []
    },
    {
      "cell_type": "markdown",
      "metadata": {
        "id": "jTZHT86t8O4J"
      },
      "source": [
        "- สุดท้ายนี้ `NumPy` ยังมีฟังก์ชันสำหรับการดำเนินการทางคณิตศาสตร์ที่เกี่ยวกับเมทริกซ์เพื่อใชำสำหรับการแก้ปัญหาเกี่ยวกับพีชคณิตเชิงเส้น (Linear algebra) อีกด้วย\n",
        "- โดยการใช้งานจะต้องเรียกผ่านฟังก์ชัน `linalg`\n",
        "- ซึ่งฟังก์ชันหลักๆ ที่เรามักจะใช้งานคือ\n",
        "- `det()` ใช้สำหรับหาดีเทอร์มิแนนต์ (determinant) ของเมทริกซ์\n",
        "-  `inv()` ใช้สำหรับหาอินเวอร์ส (inverse) ของเมทริกซ์"
      ]
    },
    {
      "cell_type": "markdown",
      "metadata": {
        "id": "CqWmg9dZ8ZgL"
      },
      "source": [
        "###การประยุกต์ใช้เมทริกซ์ในการแก้ปัญหาระบบสมการเชิงเส้น"
      ]
    },
    {
      "cell_type": "markdown",
      "metadata": {
        "id": "zrjgLNr0_haA"
      },
      "source": [
        "*โจทย์*  \n",
        "ให้ระบบสมการ\n",
        "$$\n",
        "x-2y=3 \\hspace{1cm}_\\cdots(1)\\\\\n",
        "2x+y=1 \\hspace{1cm}_\\cdots(2)\n",
        "$$\n",
        "\n",
        "*วิธีทำ* (โดยวิธีกำจัดตัวแปร)\n",
        "\n",
        "นำ $2 \\times(2)$ จะได้\n",
        "$$\n",
        "4x+2y=2 \\hspace{1cm}_\\cdots(3)\n",
        "$$\n",
        "นำ $(1)+(3)$ จะได้\n",
        "$$\n",
        "5x=5\n",
        "$$\n",
        "ดังนั้น เราจะได้ $x=1$\n",
        "\n",
        "นำ $x=1$ไปแทนใน $(1)$\n",
        "\n",
        "จะได้คำตอบเป็น\n",
        "$$\n",
        "x=1,y=-1\n",
        "$$"
      ]
    },
    {
      "cell_type": "markdown",
      "metadata": {
        "id": "B6MaljRKBngl"
      },
      "source": [
        "จากวิธีด้านบน เราสามารถเขียนโปรแกรมเพื่อหาคำตอบของระบบสมการเชิงเส้นได้หรือไม่ ?"
      ]
    },
    {
      "cell_type": "markdown",
      "metadata": {
        "id": "_HrgF2EmB3kr"
      },
      "source": [
        "ทดลองแก้ระบบสมการเชิงเส้นโดยเมทริกซ์อินเวอร์ส\n",
        "\n",
        "ขั้นตอน\n",
        "\n",
        "1. แปลงระบบสมการเชิงเส้นให้อยู่ในรูปสมการเมทริกซ์ เช่น ระบบสมการเชิงเส้น 2 ตัวแปร\n",
        "$$\n",
        "a_1x+b_1y=d_1\\\\\n",
        "a_2x+b_2y=d_2\\\\\n",
        "จะได้เป็น\\\\\n",
        "\\begin{pmatrix}a_1&b_1\\\\a_2&b_2\\end{pmatrix}\\begin{pmatrix}x\\\\y\\end{pmatrix}=\\begin{pmatrix}d_1\\\\d_2\\end{pmatrix}\\\\\n",
        "ซึ่งจะเขียนแทนด้วย \\hspace{1cm}AX=D \\hspace{1cm} โดยที่\\\\\n",
        "A=\\begin{pmatrix}a_1&b_1\\\\a_2&b_2\\end{pmatrix},X=\\begin{pmatrix}x\\\\y\\end{pmatrix},D=\\begin{pmatrix}d_1\\\\d_2\\end{pmatrix}\\\\\n",
        "$$\n",
        "2. หาอินเวอร์สของเมทริกซ์$A$\n",
        " - หากไม่สามารถหาอินเวอร์สของเมทริกซ์ $A$ ได้ $(det(A)=0)$ จะสรุปได้ว่า ***ระบบสมการไม่มีคำตอบ***\n",
        " - หากสามารถหาอินเวอร์ของเมทริกซ์ $A$ ได้ ดำเนินการในข้อถัดไป\n",
        "3. นำอินเวอร์สของเมทริกซ์ $A$ มาคูณทั้งสองข้างของสมการ จะได้\n",
        "$$\n",
        "X=A^{-1}D\n",
        "$$\n",
        "4. จะได้คำตอบของระบบสมการ\n"
      ]
    },
    {
      "cell_type": "code",
      "metadata": {
        "id": "iTB6CmJRF2Dq"
      },
      "source": [
        "import numpy as np\n",
        "#a = np.array([[1,2],[2,4]])\n",
        "a = np.array([[1,-2],[2,1]])\n",
        "d = np.array([[3],[1]])\n",
        "print('ans = ')\n",
        "if np.linalg.det(a) != 0:\n",
        "  print(np.dot(np.linalg.inv(a),d))\n",
        "else:\n",
        "  print('no answer')\n"
      ],
      "execution_count": null,
      "outputs": []
    },
    {
      "cell_type": "markdown",
      "metadata": {
        "id": "UXBrywHkZ9Rg"
      },
      "source": [
        "###แบบฝึกหัด 3.3"
      ]
    },
    {
      "cell_type": "markdown",
      "metadata": {
        "id": "nJEXJdj7aCoj"
      },
      "source": [
        "จงใช้เมทริกซ์อินเวอร์สในการแก้ระบบสมการเชิงเส้นต่อไปนี้\n",
        "\\begin{equation}\n",
        "\\begin{split}\n",
        "x+z & = 1 \\\\\n",
        "2x+y & =2 \\\\\n",
        "x-y+z & = 3\n",
        "\\end{split}\n",
        "\\end{equation}"
      ]
    },
    {
      "cell_type": "code",
      "metadata": {
        "id": "8j9Lq0FAbDvT"
      },
      "source": [],
      "execution_count": null,
      "outputs": []
    },
    {
      "cell_type": "markdown",
      "metadata": {
        "id": "MrBHEW4FbEnP"
      },
      "source": [
        "ฟังก์ชันอื่นๆ ที่น่าสนใจใน `NumPy`\n",
        "\n",
        "| | | | | | |\n",
        "|---|---|---|---|---|---|\n",
        "|abc | sign|sqrt|log|log10|exp|\n",
        "|sin|cos|tan|arcsin|arccos|arctan|\n",
        "|sinh|cosh|tanh|arcsinh|arccosh|arctanh|\n",
        "|floor|ceil|rint|pi|e|flattern|\n",
        "\n"
      ]
    },
    {
      "cell_type": "markdown",
      "metadata": {
        "id": "4kR5FibyfNQA"
      },
      "source": [
        "##หัวข้อที่ 4: Matplotlib"
      ]
    },
    {
      "cell_type": "markdown",
      "metadata": {
        "id": "gK8ZTwnjfzVx"
      },
      "source": [
        "- เป็นแพคเกจสที่ใช้สำหรับวาดกราฟแบบต่างๆ\n",
        "- ต่อยอดมาจาก `NumPy array`\n",
        "- ลักษณะการใช้งานคล้ายการวาดกราฟบน MATLAB"
      ]
    },
    {
      "cell_type": "markdown",
      "metadata": {
        "id": "A57iRR3DhVtD"
      },
      "source": [
        "- ก่อนการใช้งาน Matplotli เราจะต้องทำการนำเข้าแพคเกจก่อน เหมือนกับ NumPy\n",
        "- โดยทั่วไปแล้ว เราจะใช้เพียงแพคเกจย่อยที่ชื่อ pyplot ใน Matplotlib เท่านั้น\n",
        "- เรายังคงสามารถตั้งชื่อเล่นให้กับการนำเข้า Matplotlib แพคเกจ pyplot ได้เช่นเดียวกับ NumPy\n",
        "- โดยทั่วไปมักใช้ชื่อ plt เช่น"
      ]
    },
    {
      "cell_type": "code",
      "metadata": {
        "id": "DHpxxcxTiBR5"
      },
      "source": [
        "import matplotlib.pyplot as plt"
      ],
      "execution_count": null,
      "outputs": []
    },
    {
      "cell_type": "markdown",
      "metadata": {
        "id": "Y6sVbEz3iKwt"
      },
      "source": [
        "- ในการวาดกราฟ เบื้องต้น เราจะใช้คำสั่ง `plot(<ค่าในแนวแกนนอน>,<ค่าในแนวแกนตั้ง>)`\n",
        "- และการแสดงผลกราฟที่วาดไว้ เราจะต้องเรียกใช้ฟังก์ชัน `show()` เช่น"
      ]
    },
    {
      "cell_type": "code",
      "metadata": {
        "id": "g4hgn9UZiZAl"
      },
      "source": [
        "import matplotlib.pyplot as plt\n",
        "import numpy as np                   # matplotlib มักใช้งานคู่กับ NumPy เสมอๆ\n",
        "\n",
        "x = np.linspace(0,10,100)            # สร้าง NumPy array โดยมีค่าเริ่มต้นเท่ากับ 0 ค่าสุดท้ายเท่ากับ 10 โดยมีสมาชิกทั้งหมด 100 ตัว\n",
        "plt.plot(x, np.sin(x))               # วาดกราฟโดยให้แกนนอนเป็นค่า x และแกนตั้งเป็นค่าของ sin(x)\n",
        "\n",
        "plt.show()                           # แสดงผลกราฟที่วาดไว้"
      ],
      "execution_count": null,
      "outputs": []
    },
    {
      "cell_type": "markdown",
      "metadata": {
        "id": "F-tKhCyGlWMo"
      },
      "source": [
        "### การวาดกราฟย่อย"
      ]
    },
    {
      "cell_type": "markdown",
      "metadata": {
        "id": "9gEU8Jzhj91K"
      },
      "source": [
        "- เราสามารถวาดกราฟมากกว่าหนึ่งกราฟได้ โดยการวาดกราฟย่อยลงไปบนกราฟหลัก\n",
        "- แต่ก่อนอื่น เราจะต้องสร้างกราฟหลักขึ้นมาก่อน โดยใช้ฟังก์ชัน `figure()`\n",
        "- หลังจากนั้น ทำการวาดกราฟย่อยลงไป ด้วยฟังก์ชัน `subplot()`\n",
        "- โดยในฟังก์ชัน `subplot()` เราจะต้องกำหนดจำนวนแถว หลัก และตำแหน่งที่ต้องการวาดกราฟลงไปเช่นเดียวกับการใช้งาน MATLAB"
      ]
    },
    {
      "cell_type": "code",
      "metadata": {
        "id": "qpGfGS_0lTEi"
      },
      "source": [
        "import matplotlib.pyplot as plt\n",
        "import numpy as np\n",
        "\n",
        "x = np.linspace(0,10,100)  # สร้าง NumPy array โดยมีค่าเริ่มต้นเท่ากับ 0 ค่าสุดท้ายเท่ากับ 10 โดยมีสมาชิกทั้งหมด 100 ตัว\n",
        "plt.figure()               # สร้างกราฟหลัก\n",
        "\n",
        "\n",
        "plt.subplot(2, 1, 1)       # สร้างกราฟย่อยอันแรก โดยกำหนดให้กราฟย่อยมีจำนวน 2 แถว 1 หลัก และกราฟย่อยนี้อยู่ในแถวที่ 1\n",
        "plt.plot(x, np.sin(x))     # วาดกราฟโดยให้แกนนอนเป็นค่า x และแกนตั้งเป็นค่าของ sin(x)\n",
        "\n",
        "plt.subplot(2, 1, 2)       # สร้างกราฟย่อยอันที่สอง โดยกำหนดให้กราฟย่อยมีจำนวน 2 แถว 1 หลัก และกราฟย่อยนี้อยู่ในแถวที่ 2\n",
        "plt.plot(x, np.cos(x))     # วาดกราฟโดยให้แกนนอนเป็นค่า x และแกนตั้งเป็นค่าของ cos(x)\n",
        "\n",
        "plt.show()                 # แสดงผลกราฟที่วาดไว้"
      ],
      "execution_count": null,
      "outputs": []
    },
    {
      "cell_type": "markdown",
      "metadata": {
        "id": "TXjHrYgmt8hH"
      },
      "source": [
        "- การอ้างถึงกราฟย่อยในแต่ละกราฟ สำหรับการวาดกราฟแบบ MATLAB เราสามารถสังเกตโปรแกรมด้านล่างได้"
      ]
    },
    {
      "cell_type": "code",
      "metadata": {
        "id": "Zcqn_IwvuUkH"
      },
      "source": [
        "for i in range(1, 7):\n",
        "    plt.subplot(2, 3, i)\n",
        "    plt.text(0.5, 0.5, str((2, 3, i)),\n",
        "             fontsize=18, ha='center')\n",
        "plt.show()"
      ],
      "execution_count": null,
      "outputs": []
    },
    {
      "cell_type": "markdown",
      "metadata": {
        "id": "SKxuvq2Mmhx5"
      },
      "source": [
        "- นอกจากการวาดกราฟแบบ MATLAB แล้ว เรายังสามารถวาดกราฟย่อยได้ด้วยหลักการของการโปรแกรมเชิงวัตถุ\n",
        "- โดยทำการสร้างวัตถุกราฟย่อย และทำการวาดกราฟลงบนวัตถุนั้น เช่น"
      ]
    },
    {
      "cell_type": "code",
      "metadata": {
        "id": "922KX_vim1En"
      },
      "source": [
        "import matplotlib.pyplot as plt\n",
        "import numpy as np\n",
        "\n",
        "x = np.linspace(0,10,100)\n",
        "\n",
        "fig, ax = plt.subplots(2)   # สร้างวัตถุกราฟ โดยมรจำนวน 2 กราฟย่อย\n",
        "\n",
        "# ทำการเรียกเมธอด plot() เพื่อทำการวาดกราฟ\n",
        "ax[0].plot(x, np.sin(x))\n",
        "ax[1].plot(x, np.cos(x))\n",
        "\n",
        "plt.show()"
      ],
      "execution_count": null,
      "outputs": []
    },
    {
      "cell_type": "markdown",
      "metadata": {
        "id": "Q31zl_yduc3_"
      },
      "source": [
        "- การอ้างถึงกราฟย่อยในแต่ละกราฟ สำหรับการวาดกราฟเชิงวัตถุ เราสามารถสังเกตโปรแกรมด้านล่างได้"
      ]
    },
    {
      "cell_type": "code",
      "metadata": {
        "id": "auaZSjHWu_4U"
      },
      "source": [
        "fig, ax = plt.subplots(2, 3)\n",
        "for i in range(2):\n",
        "    for j in range(3):\n",
        "        ax[i, j].text(0.5, 0.5, str((i, j)),\n",
        "                      fontsize=18, ha='center')\n",
        "plt.show()"
      ],
      "execution_count": null,
      "outputs": []
    },
    {
      "cell_type": "markdown",
      "metadata": {
        "id": "Or-fld_3ng8P"
      },
      "source": [
        "- หากเราไม่ได้ทำการสร้างกราฟย่อย ทั้งในรูปแบบของ MATLAB หรือการโปรแกรมเชิงวัตถุ กราฟที่วาด จะซ้อนอยู่ในรูปเดียวกัน เช่น"
      ]
    },
    {
      "cell_type": "code",
      "metadata": {
        "id": "7Ad6oAlwntJ_"
      },
      "source": [
        "import matplotlib.pyplot as plt\n",
        "import numpy as np\n",
        "\n",
        "x = np.linspace(0,10,100)\n",
        "plt.plot(x, np.sin(x))\n",
        "plt.plot(x, np.cos(x))\n",
        "\n",
        "plt.show()"
      ],
      "execution_count": null,
      "outputs": []
    },
    {
      "cell_type": "markdown",
      "metadata": {
        "id": "UsEnABCqoc59"
      },
      "source": [
        "### การกำหนดรูปแบบของกราฟ"
      ]
    },
    {
      "cell_type": "markdown",
      "metadata": {
        "id": "wjyM-jALott8"
      },
      "source": [
        "- ในแพคเกจของ Matplotlib เรามารถกำหนดรูปแบบของกราฟได้ด้วยฟังก์ชัน `style.use()` เช่น"
      ]
    },
    {
      "cell_type": "code",
      "metadata": {
        "id": "zs9BGtyvpC_a"
      },
      "source": [
        "import matplotlib.pyplot as plt\n",
        "import numpy as np\n",
        "\n",
        "x = np.linspace(0, 10, 1000)\n",
        "plt.style.use('seaborn-whitegrid') # ทำการเปลี่ยนรูปแบบของกราฟ\n",
        "\n",
        "plt.plot(x, np.sin(x))\n",
        "plt.show()\n"
      ],
      "execution_count": null,
      "outputs": []
    },
    {
      "cell_type": "markdown",
      "metadata": {
        "id": "wO30wdXRpa3r"
      },
      "source": [
        "- Matplotlib ยังมีรูปแบบอื่นๆให้เราใช้อีกมากมาย ลองกดเข้าไปดูได้ที่ [ลิงค์นี้](https://matplotlib.org/3.1.0/gallery/style_sheets/style_sheets_reference.html) แล้วลองเปลี่ยนรูปแบบกราฟในโค้ดด้านบนดู"
      ]
    },
    {
      "cell_type": "markdown",
      "metadata": {
        "id": "HztoUDUfvZCA"
      },
      "source": [
        "###การกำหนดรูปแบบและสีของเส้นกราฟ"
      ]
    },
    {
      "cell_type": "markdown",
      "metadata": {
        "id": "isuRVzw2vfZM"
      },
      "source": [
        "- กรณีที่เราทำการวาดกราฟหลายๆเส้นลงบนกราฟเดียวกันนั้น การกำหนดสี และรูปแบบของเส้น จะช่วยเพิ่มความเด่นชัดของการอ่านข้อมูลได้\n",
        "- ในการกำหนดสีของเส้นกราฟ Matplotlib รองรับรูปแบบการกำหนดสีไว้มากมาย โดยกำหนดผ่านพารามิเตอร์ `color` เช่น"
      ]
    },
    {
      "cell_type": "code",
      "metadata": {
        "id": "8AwNEDLKwBH0"
      },
      "source": [
        "import matplotlib.pyplot as plt\n",
        "import numpy as np\n",
        "\n",
        "x = np.linspace(0, 10, 1000)\n",
        "\n",
        "plt.plot(x, np.sin(x - 0), color='blue')        # กำหนดสีด้วยชื่อสี\n",
        "plt.plot(x, np.sin(x - 1), color='g')           # กำหนดสีด้วยชื่อย่อ (rgbcmyk)\n",
        "plt.plot(x, np.sin(x - 2), color='0.75')        # กำหนดสีในโทนสีเทา โดยมีค่าตั้งแต่ 0 - 1\n",
        "plt.plot(x, np.sin(x - 3), color='#FFDD44')     # กำหนดสีด้วยรหัสสีเลขฐาน16 (RRGGBB: 00 - FF)\n",
        "plt.plot(x, np.sin(x - 4), color=(1.0,0.2,0.3)) # กำหนดสีด้วยทูเพิลของรหัสสี RGB โดยมีค่า 0 - 1\n",
        "plt.plot(x, np.sin(x - 5), color='chartreuse')  # กำหนดสีด้วยชื่อสีในรหัส HTML\n"
      ],
      "execution_count": null,
      "outputs": []
    },
    {
      "cell_type": "markdown",
      "metadata": {
        "id": "zyd5HhYexDDL"
      },
      "source": [
        "- นอกจากสีแล้ว เรายังสามารถกำหนดรูปแบบของเส้นกราฟำด้อีกด้วย\n",
        "- โดยการกำหนดรูปแบบของเส้นกราฟ เราจะทำผ่านพารามิเตอร์ชื่อ `linestyle`\n",
        "- ซืึง Matplotlib รองรับการกำหนดรูปแบบของเส้นทั้งที่เป็นชื่อเต็ม และรหัสย่อ เช่น"
      ]
    },
    {
      "cell_type": "code",
      "metadata": {
        "id": "EGZROCorxltz"
      },
      "source": [
        "plt.plot(x, x + 0, linestyle='solid')\n",
        "plt.plot(x, x + 1, linestyle='dashed')\n",
        "plt.plot(x, x + 2, linestyle='dashdot')\n",
        "plt.plot(x, x + 3, linestyle='dotted')\n",
        "\n",
        "plt.plot(x, x + 4, linestyle='-')  # solid\n",
        "plt.plot(x, x + 5, linestyle='--') # dashed\n",
        "plt.plot(x, x + 6, linestyle='-.') # dashdot\n",
        "plt.plot(x, x + 7, linestyle=':')  # dotted"
      ],
      "execution_count": null,
      "outputs": []
    },
    {
      "cell_type": "markdown",
      "metadata": {
        "id": "Hd7c1IHlx0cb"
      },
      "source": [
        "- เรายังสามารถกำหนดรูปแบบและสีของเส้นกราฟได้ในเวลาเดียวกัน เช่น"
      ]
    },
    {
      "cell_type": "code",
      "metadata": {
        "id": "uNlcKnyX-tjc"
      },
      "source": [
        "plt.plot(x, x + 0, '-g')  # solid green\n",
        "plt.plot(x, x + 1, '--c') # dashed cyan\n",
        "plt.plot(x, x + 2, '-.k') # dashdot black\n",
        "plt.plot(x, x + 3, ':r')  # dotted red"
      ],
      "execution_count": null,
      "outputs": []
    },
    {
      "cell_type": "markdown",
      "metadata": {
        "id": "pOU24n_P-vtb"
      },
      "source": [
        "###การกำหนดขอบเขตของแกน"
      ]
    },
    {
      "cell_type": "markdown",
      "metadata": {
        "id": "0O7F5E0d-1Yk"
      },
      "source": [
        "- ในการวาดกราฟ บางครั้งเราอาจต้องการแสดงขอบเขตของแกนกว้างกว่า หรือพอดีกับข้อมูลที่เราจะวาด\n",
        "- เราสามารถกำหนดขอบเขตของแกนได้หลากหลายรูปแบบ เช่น\n",
        "1. กำหนดผ่านฟังก์ชัน `xlim()` และ `ylim()`"
      ]
    },
    {
      "cell_type": "code",
      "metadata": {
        "id": "fnjApDR8_Ydt"
      },
      "source": [
        "plt.plot(x, np.sin(x))\n",
        "\n",
        "plt.xlim(-1, 11)\n",
        "plt.ylim(-1.5, 1.5)"
      ],
      "execution_count": null,
      "outputs": []
    },
    {
      "cell_type": "code",
      "metadata": {
        "id": "U_JxjwpS_deo"
      },
      "source": [
        "plt.plot(x, np.sin(x))\n",
        "\n",
        "plt.xlim(10, 0)\n",
        "plt.ylim(1.2, -1.2)"
      ],
      "execution_count": null,
      "outputs": []
    },
    {
      "cell_type": "markdown",
      "metadata": {
        "id": "40kt8kyB_gDY"
      },
      "source": [
        "2. กำหนดผ่านฟังก์ชัน `axis()`"
      ]
    },
    {
      "cell_type": "code",
      "metadata": {
        "id": "fdYohQ26_l0y"
      },
      "source": [
        "plt.plot(x, np.sin(x))\n",
        "plt.axis([-1, 11, -1.5, 1.5])"
      ],
      "execution_count": null,
      "outputs": []
    },
    {
      "cell_type": "code",
      "metadata": {
        "id": "KWyEYlCZ_obf"
      },
      "source": [
        "plt.plot(x, np.sin(x))\n",
        "plt.axis('tight')"
      ],
      "execution_count": null,
      "outputs": []
    },
    {
      "cell_type": "code",
      "metadata": {
        "id": "8F7ikMOC_qHS"
      },
      "source": [
        "plt.plot(x, np.sin(x))\n",
        "plt.axis('equal')"
      ],
      "execution_count": null,
      "outputs": []
    },
    {
      "cell_type": "markdown",
      "metadata": {
        "id": "_qso6Ues_vh2"
      },
      "source": [
        "###การตั้งชื่อกราฟ และชื่อแกน"
      ]
    },
    {
      "cell_type": "markdown",
      "metadata": {
        "id": "o9jw-mrz_0iX"
      },
      "source": [
        "- เราสามารถกำหนดชื่อกราฟ และชื่อของแกนแต่ละแกนได้โดย\n",
        "1. ฟังก์ชัน `title` เป็นฟังก์ชันที่ใช้สำหรับตั้งชื่อกราฟ\n",
        "2. ฟังก์ชัน `xlabel()` เป็นฟังก์ชันที่ใช้ตั้งชื่อแกน `x`\n",
        "3. ฟังก์ชัน `ylabel()` เป็นฟังก์ชันที่ใช้ตั้งชื่อแกน `y`"
      ]
    },
    {
      "cell_type": "code",
      "metadata": {
        "id": "i1Ovnh3QAaSg"
      },
      "source": [
        "plt.plot(x, np.sin(x))\n",
        "plt.title('A Sine Curve')\n",
        "plt.xlabel('x')\n",
        "plt.ylabel('sin(x)')"
      ],
      "execution_count": null,
      "outputs": []
    },
    {
      "cell_type": "markdown",
      "metadata": {
        "id": "zCM-7m86Ac3-"
      },
      "source": [
        "- นอกจากนั้น เรายังสามารถตั้งชื่อให้กับเส้นกราฟแต่ละเส้นได้อีกด้วย\n",
        "- โดยการตั้งชื่อเส้นกราฟนั้น เราจะตั้งผ่านพารามิเตอร์ `label` ในฟังก์ชัน `plot()`\n",
        "- แต่ชื่อของเส้นกราฟจะยังไม่แสดง จนกว่าเราจะเรียกฟังก์ชัน `legend()`\n",
        "- ซึ่งฟังก์ชัน `legend()` เราจะสามารถระบุตำแหน่งที่จะแสดงข้อมูลของเส้นกราฟได้ผ่านทางพารามิเตอร์ `loc`"
      ]
    },
    {
      "cell_type": "code",
      "metadata": {
        "id": "yUS1BAJZBv5m"
      },
      "source": [
        "plt.plot(x, np.sin(x), '-g', label='sin(x)')\n",
        "plt.plot(x, np.cos(x), ':b', label='cos(x)')\n",
        "plt.axis('equal')\n",
        "\n",
        "plt.legend()"
      ],
      "execution_count": null,
      "outputs": []
    },
    {
      "cell_type": "code",
      "metadata": {
        "id": "AQzcd3aOCI5q"
      },
      "source": [
        "plt.plot(x, np.sin(x), '-g', label='sin(x)')\n",
        "plt.plot(x, np.cos(x), ':b', label='cos(x)')\n",
        "plt.axis('equal')\n",
        "\n",
        "plt.legend(loc='lower center')"
      ],
      "execution_count": null,
      "outputs": []
    },
    {
      "cell_type": "markdown",
      "metadata": {
        "id": "CfxxcmwJCM-u"
      },
      "source": [
        "- พารามิเตอร์ `loc` สามารถตั้งค่าได้ดังนี้\n",
        "\n",
        "|Location String|Location Code|\n",
        "|---|:---:|\n",
        "|'best'|0|\n",
        "|'upper right'|1|\n",
        "|'upper left'|2|\n",
        "|'lower left'|3|\n",
        "|'lower right'|4|\n",
        "|'right'|5|\n",
        "|'center left'|6|\n",
        "|'center right'|7|\n",
        "|'lower center'|8|\n",
        "|'upper center'|9|\n",
        "|'center'|10|"
      ]
    },
    {
      "cell_type": "markdown",
      "metadata": {
        "id": "dd12pGmvC2b2"
      },
      "source": [
        "- ในฟังก์ชัน `legend()` เรายังสามารถระบุจำนวนคอลัมน์ ของการแสดงผลชื่อของเส้นกราฟได้ด้วย ผ่านทางพารามิเตอร์ `ncol` เช่น"
      ]
    },
    {
      "cell_type": "code",
      "metadata": {
        "id": "q5OZKFb-DYHH"
      },
      "source": [
        "plt.plot(x, np.sin(x), '-g', label='sin(x)')\n",
        "plt.plot(x, np.cos(x), ':b', label='cos(x)')\n",
        "plt.axis('equal')\n",
        "\n",
        "plt.legend(loc='lower center',ncol=2)"
      ],
      "execution_count": null,
      "outputs": []
    },
    {
      "cell_type": "markdown",
      "metadata": {
        "id": "K9LhIgaKEF6k"
      },
      "source": [
        "### การวาดกราฟแบบกระจัด"
      ]
    },
    {
      "cell_type": "markdown",
      "metadata": {
        "id": "pGvOOVmAE-gC"
      },
      "source": [
        "- นอกจากการวาดกราฟเส้นแล้ว Matplotlib ยังสามารถวาดกราฟแบบกระจัดได้ด้วย\n",
        "- โดยการวดกราฟแบบกระจัด สามารถทำได้ผ่านทางฟังก์ชัน `plot()` หรือ `scatter()` ก็ได้"
      ]
    },
    {
      "cell_type": "markdown",
      "metadata": {
        "id": "HC-ymJfVGL1V"
      },
      "source": [
        "1. การวาดกราฟกระจัดด้วยฟังก์ชัน `plot()`\n",
        "  - ทำการเปลี่ยนพารามิเตอร์ในฟังก์ชัน `plot()` จาก `linestyle` เป็น `marker`"
      ]
    },
    {
      "cell_type": "code",
      "metadata": {
        "id": "JPjqge6zGuaU"
      },
      "source": [
        "import matplotlib.pyplot as plt\n",
        "import numpy as np\n",
        "\n",
        "x = np.linspace(0, 10, 30)\n",
        "y = np.sin(x)\n",
        "\n",
        "plt.plot(x, y, 'o', color='black')"
      ],
      "execution_count": null,
      "outputs": []
    },
    {
      "cell_type": "markdown",
      "metadata": {
        "id": "uomgJpuSHUHc"
      },
      "source": [
        "  - ซึ่ง `marker` นั้น สามารถมีได้หลายรูปแบบ เช่น"
      ]
    },
    {
      "cell_type": "code",
      "metadata": {
        "id": "Ir9P_8tbHhzM"
      },
      "source": [
        "rng = np.random.RandomState(0)\n",
        "for marker in ['o', '.', ',', 'x', '+', 'v', '^', '<', '>', 's', 'd']:\n",
        "    plt.plot(rng.rand(5), rng.rand(5), marker,\n",
        "             label='marker='{0}''.format(marker))\n",
        "plt.legend()\n",
        "plt.xlim(0, 1.8)"
      ],
      "execution_count": null,
      "outputs": []
    },
    {
      "cell_type": "markdown",
      "metadata": {
        "id": "FQNTC_saHmMw"
      },
      "source": [
        "- เรายังสามารถวาดกราฟแบบกระจัดโดยมีเส้นเชื่อมได้อีกด้วย เช่น"
      ]
    },
    {
      "cell_type": "code",
      "metadata": {
        "id": "UHViDiqtHuPD"
      },
      "source": [
        "plt.plot(x, y, '-o');"
      ],
      "execution_count": null,
      "outputs": []
    },
    {
      "cell_type": "markdown",
      "metadata": {
        "id": "SWoXnxopH93z"
      },
      "source": [
        "- ในฟังก์ชัน `plot()` ยังมีพารามิเตอร์อื่นๆให้เราได้กำหนดอีกมากมาย เช่น"
      ]
    },
    {
      "cell_type": "code",
      "metadata": {
        "id": "pJvuelAWINJ2"
      },
      "source": [
        "plt.plot(x, y, '-p',                 # วาดกราฟโดยใช้ marker รูปห้าเหลี่ยม เชื่อมด้วยเส้นทึบ\n",
        "         color='gray',               # กำหนดสีเส้นกราฟเป็นสีเทา\n",
        "         markersize=15,              # กำหนดขนาดของ marker\n",
        "         linewidth=4,                # กำหนดความกว้างของเส้นกราฟ\n",
        "         markerfacecolor='white',    # กำหนดสีของ marker\n",
        "         markeredgecolor='gray',     # กำหนดสีของขอบ marker\n",
        "         markeredgewidth=2)          # กำหนดความกว้างของเส้นขอบ marker\n",
        "plt.ylim(-1.2, 1.2)"
      ],
      "execution_count": null,
      "outputs": []
    },
    {
      "cell_type": "markdown",
      "metadata": {
        "id": "hHNGdnfzJCw3"
      },
      "source": [
        "2. วาดกราฟกระจัดด้วยฟังก์ชัน `scatter()`"
      ]
    },
    {
      "cell_type": "code",
      "metadata": {
        "id": "MpQW4qCmJVeF"
      },
      "source": [
        "plt.scatter(x, y, marker='o')"
      ],
      "execution_count": null,
      "outputs": []
    },
    {
      "cell_type": "markdown",
      "metadata": {
        "id": "1ngc8O0hJWKt"
      },
      "source": [
        "- การใช้งานฟังก์ชัน `scatter()` คล้ายกับการใช้ฟังก์ชัน `plot()` เพียงแต่เราไม่สามารถลากเส้นเชื่อมแต่ละจุดได้\n",
        "- ในฟังก์ชัน `scatter()` ก็มีพารามิเตอร์ที่เรากำหนดเองได้คล้ายกับฟังก์ชัน `plot()` เช่น `size, face color, edge color` และอื่นๆอีกมากมาย"
      ]
    },
    {
      "cell_type": "code",
      "metadata": {
        "id": "99L0rz8UJ8sg"
      },
      "source": [
        "rng = np.random.RandomState(0)\n",
        "x = rng.randn(100)\n",
        "y = rng.randn(100)\n",
        "colors = rng.rand(100)\n",
        "sizes = 1000 * rng.rand(100)\n",
        "\n",
        "plt.scatter(x, y, c=colors, s=sizes, alpha=0.3,\n",
        "            cmap='viridis')\n",
        "plt.colorbar()"
      ],
      "execution_count": null,
      "outputs": []
    },
    {
      "cell_type": "markdown",
      "metadata": {
        "id": "KjTmf93-KELh"
      },
      "source": [
        "- ในโปรแกรมด้านบน เรามีพารามิเตอร์และการใช้งานฟังก์ชันเพิ่มเติมดังนี้\n",
        " - `color` ใช้กำหนดสีของจุด\n",
        "  - `size` ฬช้กำหนดขนาดของจุด\n",
        "  - `alpha` ใช้กำหนดความโปร่งแสงของจุด\n",
        "  - `cmap` ใช้กำหนดตารางสี เราสามารถเลือกตารางสีได้ที่ [ลิงค์ตารางสี](https://matplotlib.org/3.1.0/tutorials/colors/colormaps.html)\n",
        "  - `colorbar()` ให้โปรแกรมแสดงตารางสี"
      ]
    },
    {
      "cell_type": "markdown",
      "metadata": {
        "id": "3OC_nExJMTZB"
      },
      "source": [
        "###การวาดกราฟสามมิติ"
      ]
    },
    {
      "cell_type": "markdown",
      "metadata": {
        "id": "BtqXJ6XyZgOE"
      },
      "source": [
        "- โดยทั่วไปแล้ว Matplotlib รองรับการวาดกราฟเฉพาะสองมิติเท่านั้น\n",
        "- ฉะนั้น หากเราต้องการวาดกราฟสามมิติ เราจะต้องนำเข้าเครื่องมือเพิ่มเติม\n",
        "- เครื่องมือ `(toolkit)` นั้นชื่อว่า `mplot3d` ซึ่งเป็นเครื่องมือที่สร้างมาจากพื้นฐาน `Matplotlib` อีกทีหนึ่ง\n",
        "- ดังนั้น ก่อนการวาดกราฟสามมิติ เราจะต้องนำเข้าเครื่องมือ ดังโปรแกรมต่อไปนี้"
      ]
    },
    {
      "cell_type": "code",
      "metadata": {
        "id": "iiIYylh_a6Hf"
      },
      "source": [
        "from mpl_toolkits import mplot3d"
      ],
      "execution_count": null,
      "outputs": []
    },
    {
      "cell_type": "markdown",
      "metadata": {
        "id": "51HPuBEjbBeg"
      },
      "source": [
        "- หลังจากนำเข้าเครื่องมือแล้ว เราจะสามารถสร้างกราฟสามมิติได้ดังนี้"
      ]
    },
    {
      "cell_type": "code",
      "metadata": {
        "id": "eSu3Qo4GbNMK"
      },
      "source": [
        "from mpl_toolkits import mplot3d\n",
        "import matplotlib.pyplot as plt\n",
        "fig = plt.figure()\n",
        "ax = plt.axes(projection='3d')"
      ],
      "execution_count": null,
      "outputs": []
    },
    {
      "cell_type": "markdown",
      "metadata": {
        "id": "9QWoFmurbj4C"
      },
      "source": [
        "- หลังจากที่เราทำการสร้างกราฟ ซึ่งมีลักษณะแกนเป็นสามมิติแล้ว เราจะสามารถทำการวดกราฟลงไปได้\n",
        "- โดยการวาดกราฟสามมิตินั้น เราจะเรียกผ่านฟังก์ชัน `plot3D()` เช่น"
      ]
    },
    {
      "cell_type": "code",
      "metadata": {
        "id": "dqvBTrR2cH-m"
      },
      "source": [
        "import numpy as np\n",
        "ax = plt.axes(projection='3d')\n",
        "\n",
        "zline = np.linspace(0, 15, 1000)\n",
        "xline = np.sin(zline)\n",
        "yline = np.cos(zline)\n",
        "ax.plot3D(xline, yline, zline, 'gray')"
      ],
      "execution_count": null,
      "outputs": []
    },
    {
      "cell_type": "markdown",
      "metadata": {
        "id": "LHY1yd4YfLnb"
      },
      "source": [
        "- เรายังสามารถวาดกราฟกระจัดบนแกนสามมิติได้อีกด้วย\n",
        "- โดยการเรียกฟังก์ชัน `scatter3D()`"
      ]
    },
    {
      "cell_type": "code",
      "metadata": {
        "id": "fEO2gab0iOs5"
      },
      "source": [
        "ax = plt.axes(projection='3d')\n",
        "zdata = 15 * np.random.random(100)\n",
        "xdata = np.sin(zdata) + 0.1 * np.random.randn(100)\n",
        "ydata = np.cos(zdata) + 0.1 * np.random.randn(100)\n",
        "ax.scatter3D(xdata, ydata, zdata, c=zdata, cmap='Greens');"
      ],
      "execution_count": null,
      "outputs": []
    },
    {
      "cell_type": "markdown",
      "metadata": {
        "id": "fYm1nC6GiUYq"
      },
      "source": [
        "- การวาดกราฟทั้งแบบเส้น และแบบกระจัด สามารถวาดลงบนแกนเดียวกันก็ได้"
      ]
    },
    {
      "cell_type": "code",
      "metadata": {
        "id": "PjBBzVdXJQFc"
      },
      "source": [
        "fig = plt.figure()\n",
        "ax = plt.axes(projection='3d')\n",
        "\n",
        "zline = np.linspace(0, 15, 1000)\n",
        "xline = np.sin(zline)\n",
        "yline = np.cos(zline)\n",
        "ax.plot3D(xline, yline, zline, 'gray')\n",
        "\n",
        "zdata = 15 * np.random.random(100)\n",
        "xdata = np.sin(zdata) + 0.1 * np.random.randn(100)\n",
        "ydata = np.cos(zdata) + 0.1 * np.random.randn(100)\n",
        "ax.scatter3D(xdata, ydata, zdata, c=zdata, cmap='Greens');"
      ],
      "execution_count": null,
      "outputs": []
    },
    {
      "cell_type": "markdown",
      "metadata": {
        "id": "qtCWURUIJYpZ"
      },
      "source": [
        "- เราสามารถกำหนดมุมมองเริ่มต้นของกราฟสามมิติได้โดย กำหนดผ่านฟังก์ชัน `view_init()`"
      ]
    },
    {
      "cell_type": "code",
      "metadata": {
        "id": "y2tpolLzJ7Cl"
      },
      "source": [
        "ax.view_init(60, 35)\n",
        "fig"
      ],
      "execution_count": null,
      "outputs": []
    },
    {
      "cell_type": "markdown",
      "metadata": {
        "id": "qbffb1_ZKaIt"
      },
      "source": [
        "- ฟังก์ชัน `view_init()` รับพารามิเตอร์ 2 ตัว คือ\n",
        " - `elev` คือ องศาการมองในระนาบ `x-y` มีหน่วยเป็นดีกรี\n",
        " - `azim` คือ องศาการหมุนรอบแกน `z` มีหน่วยเป็นดีกรี"
      ]
    },
    {
      "cell_type": "markdown",
      "metadata": {
        "id": "CHu97RRPPI6r"
      },
      "source": [
        "- นอกจากการวาดกราฟเส้น และกราฟกระจัดลงบนแกรสามมิติแล้ว เรายังสามารถวาดกราฟแบบอื่นๆำด้อีกด้วย เช่น\n",
        " - กราฟเส้นโครงร่าง\n",
        " - กราฟเส้นโครงกรอบ\n",
        " - กราฟพื้นผิว"
      ]
    },
    {
      "cell_type": "code",
      "metadata": {
        "id": "YqrRZ_5EPr_g"
      },
      "source": [
        "def f(x, y):\n",
        "    return np.sin(np.sqrt(x ** 2 + y ** 2))\n",
        "\n",
        "x = np.linspace(-6, 6, 30)\n",
        "y = np.linspace(-6, 6, 30)\n",
        "\n",
        "X, Y = np.meshgrid(x, y)\n",
        "Z = f(X, Y)"
      ],
      "execution_count": null,
      "outputs": []
    },
    {
      "cell_type": "code",
      "metadata": {
        "id": "Egr_q-LLP1vX"
      },
      "source": [
        "fig = plt.figure()\n",
        "ax = plt.axes(projection='3d')\n",
        "ax.contour3D(X, Y, Z, 50, cmap='binary')\n",
        "ax.set_xlabel('x')\n",
        "ax.set_ylabel('y')\n",
        "ax.set_zlabel('z');"
      ],
      "execution_count": null,
      "outputs": []
    },
    {
      "cell_type": "code",
      "metadata": {
        "id": "9oaBGh55P5bs"
      },
      "source": [
        "fig = plt.figure()\n",
        "ax = plt.axes(projection='3d')\n",
        "ax.plot_wireframe(X, Y, Z, color='black')\n",
        "ax.set_title('wireframe');"
      ],
      "execution_count": null,
      "outputs": []
    },
    {
      "cell_type": "code",
      "metadata": {
        "id": "i5SA7Xq9P756"
      },
      "source": [
        "ax = plt.axes(projection='3d')\n",
        "ax.plot_surface(X, Y, Z,\n",
        "                cmap='viridis', edgecolor='none')\n",
        "ax.set_title('surface');"
      ],
      "execution_count": null,
      "outputs": []
    },
    {
      "cell_type": "markdown",
      "metadata": {
        "id": "xjBE72UBUGUH"
      },
      "source": [
        "## หัวข้อที่ 5: Seaborn & Pandas"
      ]
    },
    {
      "cell_type": "markdown",
      "metadata": {
        "id": "FJREYWDWUNDs"
      },
      "source": [
        "### Pandas"
      ]
    },
    {
      "cell_type": "markdown",
      "metadata": {
        "id": "BL0TsvAmUPqF"
      },
      "source": [
        "- `Pandas` เป็นแพคเกจที่สร้างบนพื้นฐาน `NumPy`\n",
        "- `Pandas` มาจาก `Panel Data` ไม่ได้เกี่ยวอะไรกับหมีแพนด้า\n",
        "- `Pandas` มีแพคเกจย่อยที่น่าสนใจคือ `DataFrame`\n",
        "- `DataFrame` ช่วยให้เราสามารถจัดการกับข้อมูลได้ง่ายขึ้น\n",
        "- ก่อนการใช้งาน เช่นเคย เราจะต้องนำเข้าแพคเกจของ `Pandas` ซึ่งมักจะนิยมตั้งชื่อเล่นว่า `pd`"
      ]
    },
    {
      "cell_type": "code",
      "metadata": {
        "id": "YYjZruS8VidW"
      },
      "source": [
        "import pandas as pd"
      ],
      "execution_count": null,
      "outputs": []
    },
    {
      "cell_type": "markdown",
      "metadata": {
        "id": "ziAIqfQ5WeTR"
      },
      "source": [
        "### Seaborn"
      ]
    },
    {
      "cell_type": "markdown",
      "metadata": {
        "id": "qEZusDUCWhM2"
      },
      "source": [
        "- `Seaborn` เป็นแพคเกจที่ใช้ในการวาดกราฟเช่นเดียวกับ `Matplotlib`\n",
        "- ซึ่งตัว `Seaborn` เอง จริงๆแล้วก็พัฒนามาจาก `Matplotlib` อีกทีหนึ่ง\n",
        "- เพียงแต่การทำงานของ `Seaborn` จะทำในลักษณะ `High Level`\n",
        "- ซึ่งจะช่วยให้เราวาดกราฟเปรียบเทียบข้อมูลต่างๆได้ง่ายขึ้น\n",
        "- โดยส่วนใหญ่แล้ว เรามักจะใช้ `Seaborn` ในการวาดกราฟของข้อมูลใรแพคเกจย่อย `DataFrame` ซึ่งอยู่ในแพคเกจ `Pandas`\n",
        "- แน่นอนว่า การใช้งาน `Seaborn` เราจะต้องทำการนำเข้าแพคเกจก่อน และเรามักจะตั้งชื่อเล่นให้มันว่า sns"
      ]
    },
    {
      "cell_type": "code",
      "metadata": {
        "id": "yqon0MWgXpBO"
      },
      "source": [
        "import seaborn as sns"
      ],
      "execution_count": null,
      "outputs": []
    },
    {
      "cell_type": "markdown",
      "metadata": {
        "id": "sS3t5u9_XrRG"
      },
      "source": [
        "- ใน `Seaborn` มีชุดข้อมูลที่มันจะนำมาใช้ในการทดลองเขียนโปรแกรมเกี่ยวกับ `Data Science` และ `AI`\n",
        "- โดยเราสามารถดาวน์โหลดชุดข้อมูลได้ผ่านทางฟังก์ชัน `load_dataset`\n",
        "- ในการเรียกฟังก์ชัน `load_dataset` จำเป็นจะต้องทำการเชื่อมต่ออินเตอร์เนต เนื่องจากเป็นการดาวน์โหลดข้อมูลออนไลน์\n",
        "- เราสามารถตรวจสอบ `dataset` ที่มีอยู่ได้ผ่านทาง [dataset](https://github.com/mwaskom/seaborn-data)\n"
      ]
    },
    {
      "cell_type": "code",
      "metadata": {
        "id": "bqw9q9PdYyaK"
      },
      "source": [
        "# ดาวน์โหลด dataset ชื่อ iris\n",
        "iris = sns.load_dataset('iris')"
      ],
      "execution_count": null,
      "outputs": []
    },
    {
      "cell_type": "markdown",
      "source": [
        "ชุดข้อมูล `Iris` เป็นชุดข้อมูลของดอก Iris\n",
        "\n",
        "ชุดข้อมูลนี้ประกอบด้วย:\n",
        "\n",
        "1. `sepal length`: ความยาวของ sepal ในหน่วยซม.\n",
        "2. `sepal width`: ความกว้างของ sepal ในหน่วยซม.\n",
        "3. `petal length`: ความยาวของ petal ในหน่วยซม.\n",
        "4. `petal width`: ความกว้างของ petal ในหน่วยซม.\n",
        "5. `species`: ชนิดของ iris ซึ่งมี 3 ชนิด ได้แก่ Setosa, Versicolour, และ Virginica\n",
        "\n",
        "ชุดข้อมูลนี้มีทั้งหมด 150 ตัวอย่าง"
      ],
      "metadata": {
        "id": "7sjUffqM-9fO"
      }
    },
    {
      "cell_type": "markdown",
      "metadata": {
        "id": "fsa1-RK3Y8CJ"
      },
      "source": [
        "- เมื่อเราทำการตรวจสอบชนิดของตัวแปร จะเห็นว่า เป็นตัวแปรประเภท `DataFrame`"
      ]
    },
    {
      "cell_type": "code",
      "metadata": {
        "id": "QklJHztFZHSA"
      },
      "source": [
        "type(iris)"
      ],
      "execution_count": null,
      "outputs": []
    },
    {
      "cell_type": "markdown",
      "metadata": {
        "id": "uwtuv9SnZJZe"
      },
      "source": [
        "### Seaborn with Pandas"
      ]
    },
    {
      "cell_type": "markdown",
      "metadata": {
        "id": "bGASlJSNZTqq"
      },
      "source": [
        "- เราสามารถกรองข้อมูลประเภท `DataFrame` ได้โดยง่าย ผ่านฟังก์ชัน `loc()` เช่น"
      ]
    },
    {
      "cell_type": "code",
      "metadata": {
        "id": "E2Ya5IzfaWkQ"
      },
      "source": [
        "iris.loc[iris['species']=='setosa']"
      ],
      "execution_count": null,
      "outputs": []
    },
    {
      "cell_type": "markdown",
      "metadata": {
        "id": "J_KqJ5T2a-qK"
      },
      "source": [
        "- ฟังก์ชันที่ใช้ในการวาดกราฟของ `Seaborn` มีมากมาย เราจะยกตัวอย่างฟังก์ชันที่น่าสนใจคือ\n",
        " - `pairplot()`\n",
        " - `catplot()`"
      ]
    },
    {
      "cell_type": "markdown",
      "metadata": {
        "id": "muMEZ1uGc-VQ"
      },
      "source": [
        "- `pairplot` เป็นการวาดกราฟโดยจับคู่ข้อมูลในทุกความน่าจะเป็น เช่น\n",
        " - ในชุดข้อมูล `iris` มีข้อมูลทั้งหมด 5 คอลัมน์\n",
        " - หากเราเลือกข้อมูล 1 คอลัมน์ มาเป็นข้อมูลในการแสดงผล เราจะเหลือข้อมูล 4 คอลัมน์\n",
        " - `pairplot` จะนำข้อมูลที่เหลือทั้ง 4 คอลัมน์ มาจับคู่วาดกราฟ\n",
        " - ฉะนั้น เราจะได้กราฟทั้งหมด 16 แบบ โดยมีกราฟที่จับคู่คอลัมน์ของตัวเองรวมอยู่ด้วย\n",
        " - เช่น เราต้องการวาดกราฟโดยแยกตาม `species` เราจะได้"
      ]
    },
    {
      "cell_type": "code",
      "metadata": {
        "id": "pRh-NgtFeIRY"
      },
      "source": [
        "sns.pairplot(iris, hue='species', height=3)"
      ],
      "execution_count": null,
      "outputs": []
    },
    {
      "cell_type": "markdown",
      "metadata": {
        "id": "S-h42Do-eMN1"
      },
      "source": [
        "- โดยพารามิเตอร์แรกที่เรากำหนดในฟังก์ชัน คือชุดของข้อมูล ที่มีชนิดข้อมูลเป็น `DataFrame`\n",
        "- พารามิเตอร์ `hue` ตือชื่อคอลัมน์ที่เราต้องการนำมาแสดงผล\n",
        "- `height` คือความสูงของกราฟแต่ละอัน"
      ]
    },
    {
      "cell_type": "markdown",
      "metadata": {
        "id": "H2e7CYs-f6c3"
      },
      "source": [
        "- `catplot` เป็นฟังก์ชันที่ใช้ในการวาดกราฟโดยมุ่งเน้นที่ความสัมพันธ์ของข้อมูล หรือการแบ่งกลุ่มข้อมูล\n",
        "- ในการยกตัวอย่างการใช้งานฟังก์ชัน `catplot` เราจะนำเข้าชุดข้อมูลที่ชื่อ `planets`"
      ]
    },
    {
      "cell_type": "code",
      "metadata": {
        "id": "ePU4F3S_gnNb"
      },
      "source": [
        "planets = sns.load_dataset('planets')\n",
        "planets"
      ],
      "execution_count": null,
      "outputs": []
    },
    {
      "cell_type": "markdown",
      "metadata": {
        "id": "tTJXCoEFhSzR"
      },
      "source": [
        "- เราจะทำการวาดกราฟ โดยนับจำนวนข้อมูลแยกตามปี"
      ]
    },
    {
      "cell_type": "code",
      "metadata": {
        "id": "DtAOp57ohcd2"
      },
      "source": [
        "sns.catplot('year', data=planets,kind='count', color='steelblue',aspect=3)"
      ],
      "execution_count": null,
      "outputs": []
    },
    {
      "cell_type": "markdown",
      "metadata": {
        "id": "jjKHcWbvhhhl"
      },
      "source": [
        "###แบบฝึกหัด 5.1"
      ]
    },
    {
      "cell_type": "markdown",
      "metadata": {
        "id": "EaRUcqZphm3-"
      },
      "source": [
        "1. ดาวน์โหลดข้อมูลจาก `Seaborn dataset` ที่ชื่อว่า `tips`\n",
        "\n",
        "ชุดข้อมูล `tips` เป็นชุดข้อมูลพนักงานเสิร์ฟในร้านอาหาร\n",
        "\n",
        " ข้อมูลที่รวบรวมไว้ประกอบด้วย:\n",
        "\n",
        "1.  `total_bill`: ราคาต่อใบเสร็จ (usd)\n",
        "2.  `tip`: ทิป (usd)\n",
        "3. `sex`: เพศของผู้ชำระเงิน\n",
        "4. `smoker`: มีคนสูบบุหรี่หรือไม่\n",
        "5. `day`: วันของสัปดาห์\n",
        "6. `time`: มื้อที่ทาน\n",
        "7. `size`: จำนวนผู้ร่วมโต๊ะ\n",
        "\n",
        "ชุดข้อมูลนี้มีทั้งหมด 244 รายการ"
      ]
    },
    {
      "cell_type": "code",
      "metadata": {
        "id": "pKrX4DAUixvT"
      },
      "source": [],
      "execution_count": null,
      "outputs": []
    },
    {
      "cell_type": "markdown",
      "metadata": {
        "id": "Bcc9aesAiyZy"
      },
      "source": [
        "2. กรองข้อมูลเฉพาะค่า `tip` มากกว่า 5"
      ]
    },
    {
      "cell_type": "code",
      "metadata": {
        "id": "0YBAzCpWi_qy"
      },
      "source": [],
      "execution_count": null,
      "outputs": []
    },
    {
      "cell_type": "markdown",
      "metadata": {
        "id": "BcYaWrRijAVQ"
      },
      "source": [
        "3. วาดกราฟแสดงความสัมพันธ์ระหว่างจำนวนครั้งที่ได้ทิปในแต่ละช่วงเวลา"
      ]
    },
    {
      "cell_type": "code",
      "metadata": {
        "id": "W_Yy2FGYkZ4u"
      },
      "source": [],
      "execution_count": null,
      "outputs": []
    },
    {
      "cell_type": "markdown",
      "metadata": {
        "id": "bssBTTdIkc9Q"
      },
      "source": [
        "4. วาดกราฟแสดงความสัมพันธ์ระหว่างจำนวนครั้งที่ได้ทิปของผู้หญิงและผู้ชาย"
      ]
    },
    {
      "cell_type": "code",
      "metadata": {
        "id": "guOoTqscko8R"
      },
      "source": [],
      "execution_count": null,
      "outputs": []
    },
    {
      "cell_type": "markdown",
      "source": [
        "![Boxplot-with-outliers-The-upper-and-lower-fences-represent-values-more-and-less-than.png](data:image/png;base64,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)### More about Pandas Dataframe"
      ],
      "metadata": {
        "id": "FIV9O0_a5O-i"
      }
    },
    {
      "cell_type": "markdown",
      "source": [
        "#### Import/Export csv ด้วย Pandas\n",
        "\n",
        "เราสามารถใช้คำสั่ง `pd.read_csv` ในการอ่าน csv ไฟล์ และใช้คำสั่ง `.to_csv()` ในการเขียนไฟล์ csv ได้ดังตัวอย่าง"
      ],
      "metadata": {
        "id": "dl29bk475VhO"
      }
    },
    {
      "cell_type": "code",
      "source": [
        "import pandas as pd\n",
        "\n",
        "df = pd.read_csv('penguins.csv')\n",
        "\n",
        "df.head()"
      ],
      "metadata": {
        "id": "2i_wwz9f5U4c"
      },
      "execution_count": null,
      "outputs": []
    },
    {
      "cell_type": "code",
      "source": [
        "df.to_csv('penguins_modify')"
      ],
      "metadata": {
        "id": "NN1zb2Bl6pWn"
      },
      "execution_count": null,
      "outputs": []
    },
    {
      "cell_type": "markdown",
      "source": [
        "#### Data Preview\n",
        "\n",
        "เราสามารถแสดงข้อมูลใน Dataframe บางส่วนด้วยคำสั่ง\n",
        "\n",
        "\n",
        "*   `.head()` เป็นการแสดงข้อมูลจากหัวตาราง โดยเราสามารถระบุจำนวนที่ต้องการแสดงได้\n",
        "*   `.tail()` เป็นการแสดงข้อมูลจากท้ายตาราง โดยเราสามารถระบุจำนวนที่ต้องการแสดงได้\n",
        "\n"
      ],
      "metadata": {
        "id": "hnuMeLC-7Q8S"
      }
    },
    {
      "cell_type": "code",
      "source": [
        "import pandas as pd\n",
        "import seaborn as sns\n",
        "\n",
        "df = sns.load_dataset('penguins')"
      ],
      "metadata": {
        "id": "eQGN-8ew7Cx_"
      },
      "execution_count": null,
      "outputs": []
    },
    {
      "cell_type": "markdown",
      "source": [
        "ชุดข้อมูล `penguins` เป็นชุดข้อมูลที่มีข้อมูลทางกายวิภาคของเพนกวิน 3 ชนิด ได้แก่ Adelie, Gentoo, และ Chinstrap\n",
        "\n",
        " ข้อมูลที่รวบรวมไว้ประกอบด้วย:\n",
        "\n",
        "\n",
        "\n",
        "1.  `species`: ชนิดของเพนกวิน (Chinstrap, Adélie, หรือ Gentoo)\n",
        "2.  `island`: ชื่อเกาะ (Dream, Torgersen, หรือ Biscoe) ใน Palmer Archipelago (Antarctica)\n",
        "3. `bill_length_mm`: ความยาวของจะงอยปาก (มิลลิเมตร)\n",
        "4. `bill_depth_mm`: ความลึกของจะงอยปาก (มิลลิเมตร)\n",
        "5. `flipper_length_mm`: ความยาวของปีก (มิลลิเมตร)\n",
        "6. `body_mass_g`: น้ำหนักตัว (กรัม)\n",
        "7. `sex`: เพศของเพนกวิน\n",
        "\n",
        "ชุดข้อมูลนี้มีทั้งหมด 344 รายการ"
      ],
      "metadata": {
        "id": "gVepYVIP-NJB"
      }
    },
    {
      "cell_type": "code",
      "source": [
        "df.head()"
      ],
      "metadata": {
        "id": "FdGiFOQa8oT7"
      },
      "execution_count": null,
      "outputs": []
    },
    {
      "cell_type": "code",
      "source": [
        "df.tail()"
      ],
      "metadata": {
        "id": "EEcZBWpi8ywA"
      },
      "execution_count": null,
      "outputs": []
    },
    {
      "cell_type": "markdown",
      "source": [
        "นอกจากนี้ เรายังสามารถแสดงข้อมูลของ Dataframe อื่นๆได้อีกด้วย เช่น\n",
        "\n",
        "* `.shape` จะเป็นการแสดงจำนวนข้อมูลแยกตามมิติ"
      ],
      "metadata": {
        "id": "_fMuhqbm87mx"
      }
    },
    {
      "cell_type": "code",
      "source": [
        "df.shape"
      ],
      "metadata": {
        "id": "-fcyzhNT80Vt"
      },
      "execution_count": null,
      "outputs": []
    },
    {
      "cell_type": "markdown",
      "source": [
        "* `.info()` เป็นการแสดง Information ของ Dataframe"
      ],
      "metadata": {
        "id": "ObI7bqFW9aqC"
      }
    },
    {
      "cell_type": "code",
      "source": [
        "df.info()"
      ],
      "metadata": {
        "id": "iWEbO-ct9MGi"
      },
      "execution_count": null,
      "outputs": []
    },
    {
      "cell_type": "markdown",
      "source": [
        "* `.dtype` เป็นการตรวจสอบชนิดของข้อมูลในแต่ละ column"
      ],
      "metadata": {
        "id": "rPIWF6cSDRO0"
      }
    },
    {
      "cell_type": "code",
      "source": [
        "df.dtypes"
      ],
      "metadata": {
        "id": "l6zMwFd_DYfg"
      },
      "execution_count": null,
      "outputs": []
    },
    {
      "cell_type": "markdown",
      "source": [
        "* `.describe()` เป็นการแสดงข้อมูลทางสถิติเบื้องต้น"
      ],
      "metadata": {
        "id": "dauQGf1q9oY4"
      }
    },
    {
      "cell_type": "code",
      "source": [
        "df.describe()"
      ],
      "metadata": {
        "id": "y8_pmcu39jiB"
      },
      "execution_count": null,
      "outputs": []
    },
    {
      "cell_type": "markdown",
      "source": [
        "* `.unique()` เป็นการแสดงข้อมูลที่ไม่ซ้ำกัน โดยจะต้องระบุชื่อ column ที่ต้องการแสดงผล"
      ],
      "metadata": {
        "id": "T36TzWsUGzrS"
      }
    },
    {
      "cell_type": "code",
      "source": [
        "df['island'].unique()"
      ],
      "metadata": {
        "id": "zKHcqZOmG_MT"
      },
      "execution_count": null,
      "outputs": []
    },
    {
      "cell_type": "markdown",
      "source": [
        "#### Data Cleaning\n",
        "\n",
        "เราสามารถนับจำนวนข้อมูลที่เป็นช่องว่าง หรือ `null` ได้โดย `.isnull().sum()`"
      ],
      "metadata": {
        "id": "ClG6ON_kCshQ"
      }
    },
    {
      "cell_type": "code",
      "source": [
        "df.isnull().sum()"
      ],
      "metadata": {
        "id": "tmZNioSg9xtN"
      },
      "execution_count": null,
      "outputs": []
    },
    {
      "cell_type": "markdown",
      "source": [
        "เราสามารถใช้คำสั่ง `.dropna()` เพื่อลบข้อมูลทั้งแถว ที่มีข้อมูลเป็น `null`"
      ],
      "metadata": {
        "id": "UEjyQ4mYHbDx"
      }
    },
    {
      "cell_type": "code",
      "source": [
        "df_clean = df.dropna()\n",
        "\n",
        "df_clean.info()"
      ],
      "metadata": {
        "id": "iu_KtiY-C9aR"
      },
      "execution_count": null,
      "outputs": []
    },
    {
      "cell_type": "markdown",
      "source": [
        "เมื่อเราทำการลบข้อมูลไปแล้ว อาจทำให้ `index` ของข้อมูลไม่เรียงตามที่ควรจะเป็น เราสามารถจัดเรียง `index` ใหม่ได้โดยใช้คำสั่ง `.resetindex()`"
      ],
      "metadata": {
        "id": "cfdZhfBGLSg3"
      }
    },
    {
      "cell_type": "code",
      "source": [
        "df_clean.head()"
      ],
      "metadata": {
        "id": "c2xuZAPkLhg_"
      },
      "execution_count": null,
      "outputs": []
    },
    {
      "cell_type": "code",
      "source": [
        "df_clean = df_clean.reset_index(drop=True)\n",
        "df_clean.head()"
      ],
      "metadata": {
        "id": "GTAhzV1dLqlU"
      },
      "execution_count": null,
      "outputs": []
    },
    {
      "cell_type": "code",
      "source": [
        "df_clean.isnull().sum()"
      ],
      "metadata": {
        "id": "P5O0pmgfHqe7"
      },
      "execution_count": null,
      "outputs": []
    },
    {
      "cell_type": "markdown",
      "source": [
        "นอกจากนี้ เรายังสามารถเติมข้อมูลที่ขาดหายไปได้อีกด้วย โดยใช้คำสั่ง `.fillna()`"
      ],
      "metadata": {
        "id": "39VD9t4NH9hm"
      }
    },
    {
      "cell_type": "code",
      "source": [
        "df_fill = df.fillna(0)\n",
        "df_fill.head(20)"
      ],
      "metadata": {
        "id": "IbyrMocjH7ZN"
      },
      "execution_count": null,
      "outputs": []
    },
    {
      "cell_type": "markdown",
      "source": [
        "เรายะงสามารถเพิ่ม parameter `method` ในการ `fill` ได้\n",
        "\n",
        "* `bfill` เติมข้อมูลด้วยข้อมูลถัดไป\n",
        "* `ffill` เติมข้อมูลด้วยข้อมูลก่อนหน้า"
      ],
      "metadata": {
        "id": "nGAZfIXKI862"
      }
    },
    {
      "cell_type": "code",
      "source": [
        "df_bfill = df.fillna(method='bfill')\n",
        "df_bfill.head(20)"
      ],
      "metadata": {
        "id": "BqF5kpYII3LC"
      },
      "execution_count": null,
      "outputs": []
    },
    {
      "cell_type": "code",
      "source": [
        "df_ffill = df.fillna(method='ffill')\n",
        "df_ffill.head(20)"
      ],
      "metadata": {
        "id": "xVBbzknFJjVE"
      },
      "execution_count": null,
      "outputs": []
    },
    {
      "cell_type": "markdown",
      "source": [
        "#### Data Filtering\n",
        "\n",
        "เราสามารถเลือกข้อมูลที่ต้องการด้วยวิธี `.iloc` และ `.loc`"
      ],
      "metadata": {
        "id": "MptcZ-gOKRjn"
      }
    },
    {
      "cell_type": "code",
      "source": [
        "df.iloc[0]"
      ],
      "metadata": {
        "id": "Nv2zY6ihKAgz"
      },
      "execution_count": null,
      "outputs": []
    },
    {
      "cell_type": "code",
      "source": [
        "df.loc[df['sex'] == 'Female']"
      ],
      "metadata": {
        "id": "aDwtkJkYLEjX"
      },
      "execution_count": null,
      "outputs": []
    },
    {
      "cell_type": "code",
      "source": [
        "df.loc[df['flipper_length_mm'] > 200]"
      ],
      "metadata": {
        "id": "5fUAuiQaMP3Y"
      },
      "execution_count": null,
      "outputs": []
    },
    {
      "cell_type": "code",
      "source": [
        "df.loc[(df['sex'] == 'Female') & (df['body_mass_g'] > 4000)]"
      ],
      "metadata": {
        "id": "B7eWrqHIPwTs"
      },
      "execution_count": null,
      "outputs": []
    },
    {
      "cell_type": "markdown",
      "source": [
        "เราสามารถใช้คำสั่ง `.sort_values()` ในการเรียงลำดับข้อมูล"
      ],
      "metadata": {
        "id": "Q-bbmv8mNmca"
      }
    },
    {
      "cell_type": "code",
      "source": [
        "df.sort_values(by='flipper_length_mm', ascending=False)"
      ],
      "metadata": {
        "id": "p56SgtcYMe_3"
      },
      "execution_count": null,
      "outputs": []
    },
    {
      "cell_type": "markdown",
      "source": [
        "###แบบฝึกหัด 5.2\n",
        "\n",
        "จากข้อมูล dataset Titanic\n",
        "\n",
        "1. `survived`: (0= No, 1=Yes)\n",
        "2. `pclass`: The passenger class (1=1st, 2=2nd, 3=3rd)\n",
        "3. `sex`: The gender of the passenger\n",
        "4. `age`: The age of the passenger\n",
        "5. `sibsp`: The number of siblings/spouses aboard\n",
        "6. `parch`: The number of parents/children aboard\n",
        "7. `fare`: The passengers fare cost\n",
        "8. `embarked`: The port where the passenger embarked from (C=Cherbourg, Q=Queenstown, S=Southhampton)\n",
        "9. `class`: The passenger class as a string (First, Second, Third)\n",
        "10. `who`: A string that indicates if the passenger is a man, woman, or child\n",
        "11. ` adult_male`: A boolean value indicating if the passenger is an adult male\n",
        "12. `deck`: The deck of the ship where the passenger’s cabin was located\n",
        "13. `embark_town`: The port where the passenger embarked from\n",
        "14.  `alive`: A string indicating if the passenger survived or not (yes, no)\n",
        "15. `alone`: A boolean value indicating if the passenger was alone or not\n"
      ],
      "metadata": {
        "id": "pzNuZLZNtyDs"
      }
    },
    {
      "cell_type": "code",
      "source": [
        "import seaborn as sns\n",
        "import pandas as pd\n",
        "\n",
        "titanic = sns.load_dataset('titanic')\n",
        "titanic.info()"
      ],
      "metadata": {
        "id": "vhkCwmEdtxY-"
      },
      "execution_count": null,
      "outputs": []
    },
    {
      "cell_type": "markdown",
      "source": [
        "1. ทำการ clean ข้อมูล\n",
        "\n",
        "คำใบ้: มีข้อมูลอยู่ 1 column ที่อาจจะต้องลบทิ้ง ลองค้นหาคำว่า `dataframe drop column`"
      ],
      "metadata": {
        "id": "6_KYnv0hs-Sb"
      }
    },
    {
      "cell_type": "code",
      "source": [],
      "metadata": {
        "id": "jxGNTE2kM9wD"
      },
      "execution_count": null,
      "outputs": []
    },
    {
      "cell_type": "markdown",
      "source": [
        "2. นับจำนวนผู้รอดชีวิต และผู้เสียชีวิต\n",
        "\n",
        "คำใบ้: ลองค้นหาคำว่า `dataframe value_counts`"
      ],
      "metadata": {
        "id": "ZIhDSEqptZa1"
      }
    },
    {
      "cell_type": "code",
      "source": [],
      "metadata": {
        "id": "iZo93bmKuCB6"
      },
      "execution_count": null,
      "outputs": []
    },
    {
      "cell_type": "markdown",
      "source": [
        "3. นับจำนวนผู้เสียชีวิต แยกตาม ผู้ชาย ผู้หณิง และ เด็ก"
      ],
      "metadata": {
        "id": "AI2SRNNHuDhF"
      }
    },
    {
      "cell_type": "code",
      "source": [],
      "metadata": {
        "id": "1tmfeCaAuN4b"
      },
      "execution_count": null,
      "outputs": []
    },
    {
      "cell_type": "markdown",
      "source": [
        "### More about Seaborn"
      ],
      "metadata": {
        "id": "aiilIPRUMK_b"
      }
    },
    {
      "cell_type": "code",
      "source": [
        "import seaborn as sns\n",
        "import pandas as pd\n",
        "\n",
        "data = sns.load_dataset('penguins')\n",
        "\n",
        "data.info()"
      ],
      "metadata": {
        "id": "D-08g7f0QVac"
      },
      "execution_count": null,
      "outputs": []
    },
    {
      "cell_type": "code",
      "source": [
        "data = data.dropna()\n",
        "\n",
        "data.reset_index(drop=True)"
      ],
      "metadata": {
        "id": "wE3A-dJgQmGJ"
      },
      "execution_count": null,
      "outputs": []
    },
    {
      "cell_type": "code",
      "source": [
        "columns = data.columns.values.tolist()\n",
        "\n",
        "for column in columns:\n",
        "  print(data[column].unique())"
      ],
      "metadata": {
        "id": "a4E2h_LURWDE"
      },
      "execution_count": null,
      "outputs": []
    },
    {
      "cell_type": "markdown",
      "source": [
        "####Pie Chart using pandas `series.plot()`\n",
        "\n",
        "[Pandas Series Plot](https://pandas.pydata.org/docs/reference/api/pandas.Series.plot.html)\n",
        "\n",
        "[Matplotlib Pyplot Pie](https://matplotlib.org/stable/api/_as_gen/matplotlib.pyplot.pie.html)"
      ],
      "metadata": {
        "id": "DuB0qd_qQJSm"
      }
    },
    {
      "cell_type": "code",
      "source": [
        "species = data.species.value_counts()\n",
        "print(species)"
      ],
      "metadata": {
        "id": "ZlER9TG1QUJD"
      },
      "execution_count": null,
      "outputs": []
    },
    {
      "cell_type": "code",
      "source": [
        "type(species)"
      ],
      "metadata": {
        "id": "2FO2yVlpSF4L"
      },
      "execution_count": null,
      "outputs": []
    },
    {
      "cell_type": "code",
      "source": [
        "species.plot(kind='pie', autopct='%.2f%%')"
      ],
      "metadata": {
        "id": "Ff4PJdLwSI4e"
      },
      "execution_count": null,
      "outputs": []
    },
    {
      "cell_type": "markdown",
      "source": [
        "####แบบฝึกหัด 5.3\n",
        "\n",
        "ทำการวาด pie chart ของข้อมูลต่อไปนี้"
      ],
      "metadata": {
        "id": "1dyjd1UAT7lT"
      }
    },
    {
      "cell_type": "markdown",
      "source": [
        "1. island"
      ],
      "metadata": {
        "id": "bjDesKgVUHFP"
      }
    },
    {
      "cell_type": "code",
      "source": [],
      "metadata": {
        "id": "2wEWNUGxT7II"
      },
      "execution_count": null,
      "outputs": []
    },
    {
      "cell_type": "markdown",
      "source": [
        "2. sex"
      ],
      "metadata": {
        "id": "FHp8FUBbUMDh"
      }
    },
    {
      "cell_type": "code",
      "source": [],
      "metadata": {
        "id": "GwqcptvdSoB1"
      },
      "execution_count": null,
      "outputs": []
    },
    {
      "cell_type": "markdown",
      "source": [
        "#### Scatter Plot\n",
        "\n",
        "กราฟแบบ scatter plot ใช้เพื่อแสดงความสัมพันธ์ระหว่างตัวแปร โดยแสดงผลเป็นจุดข้อมูล\n",
        "\n",
        "[Seaborn Scatter Plot](https://seaborn.pydata.org/generated/seaborn.scatterplot.html)"
      ],
      "metadata": {
        "id": "5L7e5MwjUSGI"
      }
    },
    {
      "cell_type": "code",
      "source": [
        "sns.scatterplot(x='bill_length_mm', y='bill_depth_mm', data=data, hue='species')\n",
        "\n",
        "# plt.title('Bill Length vs Bill Depth', size=20, color='red')"
      ],
      "metadata": {
        "id": "yAAcsH1YV_y6"
      },
      "execution_count": null,
      "outputs": []
    },
    {
      "cell_type": "markdown",
      "source": [
        "####Histogram\n",
        "\n",
        "กราฟแบบ histogram แสดงการกระจายของข้อมูล เราสามารถใช้กราฟแบบ histogram เพื่อดูการกระจายของตัวแปรหนึ่งหรือมากกว่า\n",
        "\n",
        "[Seaborn Histogram Plot](https://seaborn.pydata.org/generated/seaborn.histplot.html)"
      ],
      "metadata": {
        "id": "V9zXyikMXPli"
      }
    },
    {
      "cell_type": "code",
      "source": [
        "sns.histplot(x ='flipper_length_mm', data=data)\n",
        "# plt.title('Flipper Length', size=20, color='red')"
      ],
      "metadata": {
        "id": "th-UcAQmWD5V"
      },
      "execution_count": null,
      "outputs": []
    },
    {
      "cell_type": "markdown",
      "source": [
        "เราสามารถกำหนดความกว้างของ bin ได้ โดยทำผ่าน parameter `binwidth`"
      ],
      "metadata": {
        "id": "iBBQtuVjYYOm"
      }
    },
    {
      "cell_type": "code",
      "source": [
        "sns.histplot(x = 'flipper_length_mm', data = data, binwidth=3)\n",
        "plt.title('Flipper Length', size=20, color='red')"
      ],
      "metadata": {
        "id": "WM7qcm9HW6Di"
      },
      "execution_count": null,
      "outputs": []
    },
    {
      "cell_type": "markdown",
      "source": [
        "นอกจากนี้ เรายังสามารถเพิ่มเส้นการกระจายความน่าจะเป็นลงในกราฟำด้โดยผ่าน parameter `kde`"
      ],
      "metadata": {
        "id": "7JqXcI4xZG6d"
      }
    },
    {
      "cell_type": "code",
      "source": [
        "sns.histplot(x = 'flipper_length_mm', data = data, kde = True)\n",
        "plt.title('Flipper Length', size=20, color='red')"
      ],
      "metadata": {
        "id": "8e9jyttbYl4a"
      },
      "execution_count": null,
      "outputs": []
    },
    {
      "cell_type": "markdown",
      "source": [
        "เราสามารถแสดงข้อมูลของแต่ละ species โดยแยกตามสีได้ผ่าน parameter `hue`"
      ],
      "metadata": {
        "id": "eFMEkBvUZdXl"
      }
    },
    {
      "cell_type": "code",
      "source": [
        "sns.histplot(x = \"flipper_length_mm\", data = data, hue = \"species\")\n",
        "plt.title(\"Flipper Length\", size=20, color=\"red\")"
      ],
      "metadata": {
        "id": "XK4E_iZyZVVS"
      },
      "execution_count": null,
      "outputs": []
    },
    {
      "cell_type": "markdown",
      "source": [
        "####Bar Plot\n",
        "\n",
        "กราฟแท่ง (Bar Plot) เป็นการแสดงข้อมูลค่าแนวโน้มเข้าสู่ศูนย์กลาง (central tendency)\n",
        "\n",
        "[Seaborn Bar Plot](https://seaborn.pydata.org/generated/seaborn.barplot.html)"
      ],
      "metadata": {
        "id": "A04KEp_kZqK6"
      }
    },
    {
      "cell_type": "code",
      "source": [
        "sns.barplot(x =\"species\", y=\"flipper_length_mm\", data=data)\n",
        "plt.title(\"Flipper Length for 3 Penguin Species\", size=20, color=\"red\")"
      ],
      "metadata": {
        "id": "fd0AkJqDZnzg"
      },
      "execution_count": null,
      "outputs": []
    },
    {
      "cell_type": "markdown",
      "source": [
        "เราสามารถแสดงข้อมูลของแต่ละ sex โดยแยกตามสีได้ผ่าน parameter `hue`"
      ],
      "metadata": {
        "id": "pr0bFvNhbQ-n"
      }
    },
    {
      "cell_type": "code",
      "source": [
        "sns.barplot(x = \"species\", y = \"flipper_length_mm\", data =data, hue = \"sex\")\n",
        "plt.title(\"Flipper Length for 3 Penguin Species by Sex\", size=20, color=\"red\")"
      ],
      "metadata": {
        "id": "HQP1mmIAa3hQ"
      },
      "execution_count": null,
      "outputs": []
    },
    {
      "cell_type": "markdown",
      "source": [
        "#### Box Plot\n",
        "\n",
        "กราฟกล่อง (box or box-and-whisker plot) แสดงการกระจายของข้อมูลเชิงปริมาณในการเปรียบเทียบระหว่างตัวแปรหรือข้ามระดับของตัวแปรหมวดหมู่ box จะแสดงควอร์ไทล์ของชุดข้อมูลในขณะที่ whisker แสดงการแจกแจงส่วนที่เหลือ ยกเว้นจุดที่กำหนดให้เป็น \"ค่าผิดปกติ\" (outliers)\n",
        "\n",
        "![](https://drive.google.com/uc?export=view&id=1XG8pO_D6mld9-rE83U5pwaN02d60ratQ)"
      ],
      "metadata": {
        "id": "Tqi5BtfdbWpK"
      }
    },
    {
      "cell_type": "code",
      "source": [
        "sns.boxplot(x = \"species\", y = \"flipper_length_mm\", data =data)\n",
        "plt.title(\"Flipper Length for 3 Penguin Species\", size=20, color=\"red\")"
      ],
      "metadata": {
        "id": "djuHbZR3bT1K"
      },
      "execution_count": null,
      "outputs": []
    },
    {
      "cell_type": "code",
      "source": [
        "sns.boxplot(x = \"species\", y = \"flipper_length_mm\", data =data, hue = \"sex\")\n",
        "plt.title(\"Flipper Length for 3 Penguin Species by Sex\", size=20, color=\"red\")"
      ],
      "metadata": {
        "id": "XS-J5SjIhu5t"
      },
      "execution_count": null,
      "outputs": []
    },
    {
      "cell_type": "markdown",
      "source": [
        "####Facet Plot\n",
        "\n",
        "เป็น Class ที่ใช้ในการวาดกราฟย่อยๆ ตามระดับของข้อมูลที่กำหนด\n",
        "\n",
        "[Seaborn Facet Plot](https://seaborn.pydata.org/generated/seaborn.FacetGrid.html)"
      ],
      "metadata": {
        "id": "KrxRyb-hiN-Z"
      }
    },
    {
      "cell_type": "code",
      "source": [
        "sns.FacetGrid(data, col=\"island\", row=\"sex\").map(sns.histplot, \"flipper_length_mm\")"
      ],
      "metadata": {
        "id": "R3qRfoSXh4o3"
      },
      "execution_count": null,
      "outputs": []
    },
    {
      "cell_type": "markdown",
      "source": [
        "####Pair Plot\n",
        "เราสามารถใช้ pairplot เพื่อดูความสัมพันธ์ของคู่ตัวแปร ฟังก์ชันนี้สร้าง cross-plots สำหรับแต่ละตัวแปรตัวเลขในชุดข้อมูล\n",
        "\n",
        "[Seaborn Pair Plot](https://seaborn.pydata.org/generated/seaborn.pairplot.html)"
      ],
      "metadata": {
        "id": "ykf1xfbfoBTG"
      }
    },
    {
      "cell_type": "code",
      "source": [
        "sns.pairplot(data, hue = \"species\", height=3)"
      ],
      "metadata": {
        "id": "aPtNpglZlr7d"
      },
      "execution_count": null,
      "outputs": []
    },
    {
      "cell_type": "markdown",
      "source": [
        "เราสามารถใช้พารามิเตอร์ `diag_kind` เพื่อสร้าง histogram บนแกนแทยง"
      ],
      "metadata": {
        "id": "jeGIUvz8o6yb"
      }
    },
    {
      "cell_type": "code",
      "source": [
        "sns.pairplot(data, hue = \"species\", height=3, diag_kind=\"hist\")"
      ],
      "metadata": {
        "id": "K-nHj4eUlwGL"
      },
      "execution_count": null,
      "outputs": []
    },
    {
      "cell_type": "markdown",
      "source": [
        "#### Heatmap\n",
        "\n",
        "เราสามารถใช้ heatmap ในการแสดงความสัมพันธ์ของข้อมูล (corelations)\n",
        "\n",
        "[Seaborn Heatmap](https://seaborn.pydata.org/generated/seaborn.heatmap.html)"
      ],
      "metadata": {
        "id": "T6H5fxCvpF-L"
      }
    },
    {
      "cell_type": "code",
      "source": [
        "sns.heatmap(data.corr(), annot = True)"
      ],
      "metadata": {
        "id": "dvNVDEirpCDT"
      },
      "execution_count": null,
      "outputs": []
    },
    {
      "cell_type": "markdown",
      "source": [
        "###แบบฝึกหัด 5.4\n",
        "\n",
        "จากข้อมูล dataset Titanic เราสามารถวาดกราฟแบบใด และสรุปข้อมูลอะไรจากกราฟต่างๆได้บ้าง"
      ],
      "metadata": {
        "id": "OAeewDnYpwme"
      }
    },
    {
      "cell_type": "code",
      "source": [
        "import seaborn as sns\n",
        "import pandas as pd\n",
        "\n",
        "titanic = sns.load_dataset('titanic')\n",
        "titanic.info()"
      ],
      "metadata": {
        "id": "TTauy0LJpv1B"
      },
      "execution_count": null,
      "outputs": []
    },
    {
      "cell_type": "markdown",
      "source": [
        "อย่าลืม!!!  Clean Data ก่อนการใช้งาน"
      ],
      "metadata": {
        "id": "4hGCQfUd0Wjh"
      }
    },
    {
      "cell_type": "code",
      "source": [],
      "metadata": {
        "id": "VROuixLXsN9e"
      },
      "execution_count": null,
      "outputs": []
    }
  ]
}