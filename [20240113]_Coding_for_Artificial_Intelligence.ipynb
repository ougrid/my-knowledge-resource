{
  "nbformat": 4,
  "nbformat_minor": 0,
  "metadata": {
    "colab": {
      "provenance": [],
      "toc_visible": true,
      "include_colab_link": true
    },
    "kernelspec": {
      "name": "python3",
      "display_name": "Python 3"
    }
  },
  "cells": [
    {
      "cell_type": "markdown",
      "metadata": {
        "id": "view-in-github",
        "colab_type": "text"
      },
      "source": [
        "<a href=\"https://colab.research.google.com/github/ougrid/my-knowledge-resource/blob/master/%5B20240113%5D_Coding_for_Artificial_Intelligence.ipynb\" target=\"_parent\"><img src=\"https://colab.research.google.com/assets/colab-badge.svg\" alt=\"Open In Colab\"/></a>"
      ]
    },
    {
      "cell_type": "markdown",
      "metadata": {
        "id": "YWgY1a7u2vmj"
      },
      "source": [
        "# Coding for Artificial Intelligence (Day 1)"
      ]
    },
    {
      "cell_type": "markdown",
      "metadata": {
        "id": "mVX9ySgX21iA"
      },
      "source": [
        "##เนื้อหา\n",
        "\n",
        "\n",
        "*   ปัญญาประดิษฐ์ (Artificial Intelligence)\n",
        "*   การแก้ปัญหา (Problem Solving)\n",
        "*   การค้นหา (Searching)\n",
        "*   เครื่องจักรเรียนรู้ (Machine Learning: ML)\n",
        "*   การถดถอย (Regression)\n",
        "*   การแบ่งประเภท (Classification)"
      ]
    },
    {
      "cell_type": "markdown",
      "metadata": {
        "id": "cpcf5G4u25Gt"
      },
      "source": [
        "## หัวข้อที่ 1: ปัญญาประดิษฐ์ (Artificial Intellignce)"
      ]
    },
    {
      "cell_type": "markdown",
      "metadata": {
        "id": "8dqUY_0dWrXN"
      },
      "source": [
        "### AI คืออะไร?"
      ]
    },
    {
      "cell_type": "markdown",
      "metadata": {
        "id": "XC4d_bVmW1hL"
      },
      "source": [
        "AI = Artificial Intelligence (ปัญญาประดิษฐ์)"
      ]
    },
    {
      "cell_type": "markdown",
      "metadata": {
        "id": "XAG6ouxw5a2Z"
      },
      "source": [
        "คำจำกัดความ\n",
        "- Charniak and McDermott, 1985:  “The study of mental faculties through the use of computational models.”\n",
        "- Poole et al., 1998: “Computational Intelligence is the study of the design of intelligent agents.”\n",
        "\n",
        "**Artificial intelligence is the study of the computations that make it possible to perceive, reason, and act.**\n",
        "\n",
        "\n",
        "ปัญญาประดิษย์ คือการเรียนรู้ศาสตร์แห่งการคำนวณสำหรับ การรับรู้ ให้เหตุผล และกระทำ"
      ]
    },
    {
      "cell_type": "markdown",
      "metadata": {
        "id": "r4e57wlh8XJD"
      },
      "source": [
        "การประยุกต์ใช้งาน AI\n",
        "- การค้นหาเพื่อแก้ปัญหา\n",
        "- การให้เหตุผล\n",
        "- การประมวลผลภาษา\n",
        "- ระบบผู้เชี่ยวชาญ"
      ]
    },
    {
      "cell_type": "markdown",
      "metadata": {
        "id": "KPqizCbG27eJ"
      },
      "source": [
        "## หัวข้อที่ 2: การแก้ปัญหา (Problem Solving)"
      ]
    },
    {
      "cell_type": "markdown",
      "metadata": {
        "id": "8jILMVfz-BUX"
      },
      "source": [
        "- การศึกษาศาสตร์ทางด้าน AI นั้น จุดประสงค์หนึ่งคือ เพื่อแก้ปัญหา\n",
        "- วิธีการแก้ปัญหานั้นมีมากมายหลายรูปแบบ\n",
        "- แต่ก่อนที่เราจะแก้ปัญหาได้นั้น เราจะต้องเข้าใจปัญหาเสียก่อน\n",
        "- วิธีหนึ่งที่เราจะสามารถใช้จำลองรูปแบบของปัญหาด้นั้นคือ การจำลองสถานการณ์ต่างๆในปัญหานั้น\n",
        "- เช่น ถ้าเราอยู่ในโลกของเครื่องดูดฝุ่น\n",
        "\n",
        "\n",
        "![alt text]( https://docs.google.com/uc?export=download&id=1jyKXkL5AN4k0hd8FG4EmXSKwEUMD745U )\n",
        "\n",
        "- สิ่งที่เราสามารถทำได้คือ\n",
        " 1. ดูดฝุ่น\n",
        " 2. ขยับไปทางซ้าย\n",
        " 3. ขยับไปทางขวา\n",
        "- เราจะสามารถสร้าง หรือจำลองสถานการณ์ตามสถานะต่างๆได้ดังนี้\n",
        "\n",
        "![alt text]( https://docs.google.com/uc?export=download&id=1ubr1oiXikR5_lDOlHJAqdVT7i0Z1WKTg)"
      ]
    },
    {
      "cell_type": "markdown",
      "metadata": {
        "id": "qbblbFR293tf"
      },
      "source": [
        "##หัวข้อที่ 3: การค้นหา (Searching)"
      ]
    },
    {
      "cell_type": "markdown",
      "metadata": {
        "id": "FEsy53q4Aln0"
      },
      "source": [
        "- หัวข้อหนึ่งสำหรับ AI ที่ค่อนข้างเป็นที่นิยมในการใช้แก้ปัญหาคือ การค้นหา\n",
        "- จากหัวข้อก่อนหน้า เราสามารถจพลองสถานการณ์ต่างๆ ที่อาจจะเกิดขึ้น เมื่อเรามีการกระทำบางอย่างได้แล้ว\n",
        "- คำถามคือ แล้วเราจะรู้ได้อย่างไรว่า ถ้าเราอยู่ในสถานะใดๆ และเราต้องการไปถึงจุดหมาย (Goal State) เราจะต้องเลือกลำดับของการกระทำอย่างไรถึงจะดีที่สุด (นิยามของคำว่า ดีที่สุด อาจแตกต่างกันขึ้นอยู่กับบริบท)\n",
        "- การค้นหา หรือ Searching เป็นวิธีการหนึ่งที่เราจะสามารถตัดสินใจ หรือเลือกที่จะกระทำ เพื่อให้เราไปถึงจุดหมายที่เราต้องการได้\n",
        "\n",
        "\n",
        "![alt text](https://docs.google.com/uc?export=download&id=1DDJyGOZHxR0noqr2bBZMRtls40-VeMx4)"
      ]
    },
    {
      "cell_type": "markdown",
      "metadata": {
        "id": "f41sPhK9Dxy3"
      },
      "source": [
        "- ในขั้นตอนวิธี `(Algorithm)` ของการค้นหานั้น มีมากมายหลายวิธี\n",
        "- ซึ่งเราจะแนะนำบางวิธี เพื่อเป็นแนวทางในการศึกษาต่อไป"
      ]
    },
    {
      "cell_type": "markdown",
      "metadata": {
        "id": "8v-ahC8sD_gL"
      },
      "source": [
        "### Depth First vs. Breadth First Search"
      ]
    },
    {
      "cell_type": "markdown",
      "metadata": {
        "id": "WgQMeTKMFAz6"
      },
      "source": [
        "![alt text](https://docs.google.com/uc?export=download&id=1eEI3JmsvAA83Nicjr74Yfyy4kfYAeS9r)"
      ]
    },
    {
      "cell_type": "markdown",
      "metadata": {
        "id": "Lb9fV8TNFYi1"
      },
      "source": [
        "### Minimax"
      ]
    },
    {
      "cell_type": "markdown",
      "metadata": {
        "id": "A_pj11cNFtLN"
      },
      "source": [
        "![alt text](https://docs.google.com/uc?export=download&id=1FD1CbW1U3ecmOrVTvlNFdFC8Zd4k6tJ2)"
      ]
    },
    {
      "cell_type": "markdown",
      "metadata": {
        "id": "Jl-sv_eWF9Xk"
      },
      "source": [
        "![alt text](https://docs.google.com/uc?export=download&id=1gr3Kc6nccsA-snPrU-nHgijay-nLS7F-)"
      ]
    },
    {
      "cell_type": "markdown",
      "metadata": {
        "id": "RYA4nG7O4zA3"
      },
      "source": [
        "## หัวข้อที่ 1: เครื่องจักรเรียนรู้ (Machine Learning)"
      ]
    },
    {
      "cell_type": "markdown",
      "metadata": {
        "id": "1lFKncfbGoxt"
      },
      "source": [
        "\n",
        "\n",
        "![alt text](https://docs.google.com/uc?export=download&id=1KuBAAMnvG54KFIi_c7OlvwevMqQDRzgz)\n",
        "\n",
        "- เครื่องจักรเรียนรู้ (Machine Learning: ML) เป็นศาสตร์ด้านหนึ่งของ AI\n",
        "- โดย ML นั้น จะทำการหาคำตอบ หรือแก้ปัญหา โดยการเรียนรู้จากข้อมูลที่มีอยู่\n",
        "\n"
      ]
    },
    {
      "cell_type": "markdown",
      "metadata": {
        "id": "i_IeHkOuHd2K"
      },
      "source": [
        "- เราอาจแบ่งกลุ่มของ ML ได้ดังต่อไปนี้\n",
        "\n",
        "![image.png](data:image/png;base64,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)"
      ]
    },
    {
      "cell_type": "markdown",
      "metadata": {
        "id": "orbSyfXSMXLI"
      },
      "source": [
        "- ขั้นตอนโดยทั่วไปสำหรับการสร้างโมเดล ML\n",
        "\n",
        "![alt text](https://docs.google.com/uc?export=download&id=1jJVPMKW6UW_p6fXv1Cbv159qC3OAJwct)"
      ]
    },
    {
      "cell_type": "markdown",
      "metadata": {
        "id": "PE_Da6na45cj"
      },
      "source": [
        "## หัวข้อที่ 2: การถดถอย (Regression)"
      ]
    },
    {
      "cell_type": "markdown",
      "metadata": {
        "id": "nojOk6tY4-3b"
      },
      "source": [
        "### การถดถอยเชิงเส้น (Linear Regression)"
      ]
    },
    {
      "cell_type": "markdown",
      "metadata": {
        "id": "KtdHnTsjY-mE"
      },
      "source": [
        "- สมการเชิงเส้น\n",
        "$$ y = mx + c$$"
      ]
    },
    {
      "cell_type": "code",
      "metadata": {
        "id": "9H3AJSFpZy-O"
      },
      "source": [
        "import matplotlib.pyplot as plt\n",
        "import numpy as np\n",
        "\n",
        "x = np.linspace(0, 10, 10)\n",
        "y = 2 * x - 5\n",
        "plt.style.use('seaborn-whitegrid')\n",
        "plt.plot(x, y)\n",
        "plt.xlim(-5, 15)\n",
        "plt.ylim(-10, 20)"
      ],
      "execution_count": null,
      "outputs": []
    },
    {
      "cell_type": "markdown",
      "metadata": {
        "id": "m_QdbqOlbl8r"
      },
      "source": [
        "- เราสามารถหาสมการของเส้นตรงในกราฟด้านบนได้โดย\n",
        " - หาความชันของกราฟ `m`\n",
        " - หาจุดตัดแกน `y`\n",
        "\n",
        "- แต่ส่วนใหญ่แล้ว ข้อมูลที่เรามี ไม่ได้สวยงาม หรือเป็นระเบียบเหมือนกราฟด้านบน เช่น"
      ]
    },
    {
      "cell_type": "code",
      "metadata": {
        "id": "Z_C64DHPceO1"
      },
      "source": [
        "rng = np.random.RandomState(1)\n",
        "x = 10 * rng.rand(50)\n",
        "y = 2 * x - 5 + rng.randn(50)\n",
        "plt.scatter(x, y);"
      ],
      "execution_count": null,
      "outputs": []
    },
    {
      "cell_type": "markdown",
      "metadata": {
        "id": "QoojahWtciEm"
      },
      "source": [
        "- แล้วเราจะกำหนดเส้นตรง เพื่อใช้แทนกลุ่มข้อมูลเหล่านี้ได้อย่างไร ?\n",
        "- เราจะหาสมการใด มาเป็นตัวแทนของกลุ่มข้อมูลนี้?\n",
        "- หากเราทำได้ เราก็น่าจะสามารถทำนายข้อมูลในอนาคตที่จะเข้ามาได้เช่นกัน"
      ]
    },
    {
      "cell_type": "markdown",
      "metadata": {
        "id": "PSR4BHh1c3g6"
      },
      "source": [
        "- เราจะมาเรียนรู้ขั้นตอนวิธีแรก สำหรับเครื่องจักเรียนรู้ (Machine Learning) นั่นคือ การถดถอยเชิงเส้น (Linear Regression)\n",
        "- การถดถอยเชิงเส้นนั้น มีมากมายหลายวิธี\n",
        "- แต่ในหัวข้อนี้ เราจะยกตัวอย่างด้วยวิธ๊ที่ชื่อว่า `Ordinary Least Squares`\n",
        "- ในโมเดลเชิงเส้น การทำนายค่าของฟังก์ชัน $$\\hat{y}(w,x)=w_0+w_1x_1+w_2x_2+\\cdots+w_px_p$$\n",
        "- เมื่อเวกเตอร์ $w=(w_1,\\cdots,w_p)$ คือ ค่าสัมประสิทธิ์\n",
        "- และ $w_0$ คือ จุดตัด\n",
        "- กระบวนการของ `Ordinary Least Squares` จะพยายามลดค่า `loss หรือ cost`\n",
        "- โดยในที่นี้ นิยามโดย ผลรวมของผลต่างกำลังสอง `(Error sum of square หรือ Residual sum of square)`\n",
        "$$ \\sum_{i=1}^{n}(y_i-\\hat{y}_i)^2 $$"
      ]
    },
    {
      "cell_type": "markdown",
      "metadata": {
        "id": "-e2aHdaTj9dD"
      },
      "source": [
        "- หากเราต้องเขียนวิธีการ `(Algorithm)` ในการคำนวน และสร้างโมเดลสำหรับทำนายค่านั้น อาจจะยากเกินไป\n",
        "- เราจะใช้แพคเกจที่ชื่อว่า `sklearn` ในการดำเนินการสำหรับเครื่องจักรเรียนรู้สำหรับการอบรมนี้\n",
        "- โดยการถดถอยเชิงเส้นนั้น อยู่ในแพคเกจย่อยที่ชื่อว่า `Linear_model -> LinearRegression`"
      ]
    },
    {
      "cell_type": "code",
      "metadata": {
        "id": "MPPeKlksj56E"
      },
      "source": [
        "from sklearn.linear_model import LinearRegression\n"
      ],
      "execution_count": null,
      "outputs": []
    },
    {
      "cell_type": "markdown",
      "metadata": {
        "id": "xmYzLoRGl0vr"
      },
      "source": [
        "- เมื่อเราทำการนำเข้าแพคเกจ `LinearRegression` แล้วนั้น เราจะทำการสร้างโมเดลสำหรับการทำนาย โดย"
      ]
    },
    {
      "cell_type": "code",
      "metadata": {
        "id": "YRfq9WoFmJSw"
      },
      "source": [
        "model = LinearRegression(fit_intercept=True)"
      ],
      "execution_count": null,
      "outputs": []
    },
    {
      "cell_type": "markdown",
      "metadata": {
        "id": "UCRfoNRYmQs8"
      },
      "source": [
        "- การกำหนดพารามิเตอร์ `fit_intercept=True` เพื่อให้โมเดลทำการหาจุดตัดด้วย หากกำหนดเป็น `False` โมเดลจะไม่ทำการหาค่าจุดตัดให้ (จุดตัดอยู่ที่ `0,0`)\n",
        "- หลังจากนั้น เราจะทำการ **สอน `(Train)`** โมเดลด้วยคำสั่ง `fit()`"
      ]
    },
    {
      "cell_type": "code",
      "metadata": {
        "id": "6c-ZBmrhn-La"
      },
      "source": [
        "model.fit(x[:, np.newaxis],y)"
      ],
      "execution_count": null,
      "outputs": []
    },
    {
      "cell_type": "markdown",
      "metadata": {
        "id": "T-Nehhern_ss"
      },
      "source": [
        "- หลังจากสอนเทรนโมเดลแล้ว เราสามารถดูสัมประสิทธิ์ `(Coefficient)` และค่าจุดตัด `(Interception)` ได้ เช่น"
      ]
    },
    {
      "cell_type": "code",
      "metadata": {
        "id": "O2HjJAqBo3g8"
      },
      "source": [
        "print('Coefficient =', model.coef_)\n",
        "print('Interception point =', model.intercept_)"
      ],
      "execution_count": null,
      "outputs": []
    },
    {
      "cell_type": "markdown",
      "metadata": {
        "id": "sm_4yKxCo720"
      },
      "source": [
        "- จะเห็นได้ว่า ค่าที่ได้จากการเทรนโมเดล มีค่าใกล้เคียงกับสมการตั้งต้นที่ใช้ในการจำลองข้อมูล\n",
        "- เรายังสามารถวาดกราฟเพื่อดูผลลัพธ์จากการเทรนได้อีกด้วย โดยเราจะทำการกำหนดชุดข้อมูล และให้โมเดลของเราทำการทำนายผลลัพธ์"
      ]
    },
    {
      "cell_type": "code",
      "metadata": {
        "id": "02JKUCbzp5P1"
      },
      "source": [
        "y_pred = model.predict(x[:, np.newaxis])\n",
        "\n",
        "plt.scatter(x, y)\n",
        "plt.plot(x, y_pred, color='red');"
      ],
      "execution_count": null,
      "outputs": []
    },
    {
      "cell_type": "markdown",
      "metadata": {
        "id": "VvqspYUyqFrI"
      },
      "source": [
        "- จากโปรแกรมด้านบน เราจะได้ว่า หากเราต้องการจะทำนายค่า `y` โดยกำหนดค่า `x` เราจะทำได้ผ่านฟังก์ชัน `predict()`"
      ]
    },
    {
      "cell_type": "markdown",
      "metadata": {
        "id": "LDip2na6FOnQ"
      },
      "source": [
        "- เราสามารถตรวจสอบว่า ค่าที่ได้จากการทำ regression นั้น ใกล้เคียงกับข้อมูลที่แท้จริงมากน้อยเพียงใด ผ่านค่า R-squared\n",
        "- ค่า R-squared นั้น จะอยู่ระหว่าง 0-100% (ยิ่งค่ามาก แสดงว่า Model ของเรานั้นให้คำตอบใกล้เคียงกับข้อมูลตัวอย่าง)"
      ]
    },
    {
      "cell_type": "code",
      "metadata": {
        "id": "8-MAp-TuFrOs"
      },
      "source": [
        "from sklearn.metrics import r2_score\n",
        "print(r2_score(y,y_pred)*100)"
      ],
      "execution_count": null,
      "outputs": []
    },
    {
      "cell_type": "markdown",
      "metadata": {
        "id": "8btKe-pApEhV"
      },
      "source": [
        "###แบบฝึกหัด 2.1"
      ]
    },
    {
      "cell_type": "markdown",
      "metadata": {
        "id": "dY-Z1SmHpJhh"
      },
      "source": [
        "กำหนดชุดข้อมูล"
      ]
    },
    {
      "cell_type": "code",
      "metadata": {
        "id": "SYbJ35dnpQnV"
      },
      "source": [
        "rng = np.random.RandomState(1)\n",
        "x = 10 * rng.rand(50)\n",
        "y = -3 * x + 20 + rng.randn(50)\n",
        "plt.scatter(x, y);"
      ],
      "execution_count": null,
      "outputs": []
    },
    {
      "cell_type": "markdown",
      "metadata": {
        "id": "EAd0ddtuqS_y"
      },
      "source": [
        "1. จงสร้างโมเดลสำหรับการทำนายชุดข้อมูล"
      ]
    },
    {
      "cell_type": "code",
      "metadata": {
        "id": "8UZ_E8GVqay4"
      },
      "source": [],
      "execution_count": null,
      "outputs": []
    },
    {
      "cell_type": "markdown",
      "metadata": {
        "id": "Ke1rT7rkqbBm"
      },
      "source": [
        "2. แสดงค่าสัมประสิทธ์ และค่าจุดตัดแกน"
      ]
    },
    {
      "cell_type": "code",
      "metadata": {
        "id": "USAWkxpqqlJt"
      },
      "source": [],
      "execution_count": null,
      "outputs": []
    },
    {
      "cell_type": "markdown",
      "metadata": {
        "id": "s4FeuQrTqlWP"
      },
      "source": [
        "3. วาดกราฟเปรียบเทียบข้อมูลจากชุดข้อมูล และผลการทำนาย"
      ]
    },
    {
      "cell_type": "code",
      "metadata": {
        "id": "F5aromlVqrrZ"
      },
      "source": [],
      "execution_count": null,
      "outputs": []
    },
    {
      "cell_type": "markdown",
      "metadata": {
        "id": "n-P5SAR-HZNw"
      },
      "source": [
        "4. คำนวณค่า R-squared"
      ]
    },
    {
      "cell_type": "code",
      "metadata": {
        "id": "W_96DsP5Hcab"
      },
      "source": [],
      "execution_count": null,
      "outputs": []
    },
    {
      "cell_type": "markdown",
      "metadata": {
        "id": "YxJRf96s5FcH"
      },
      "source": [
        "### การถดถอยพหุนาม ( Polynomial Regression)"
      ]
    },
    {
      "cell_type": "markdown",
      "metadata": {
        "id": "_rZ8G5rZchQn"
      },
      "source": [
        "- ในบางครั้ง ชุดข้อมูลที่เราต้องการสร้างโมเดลเพื่อทำนายนั้น อาจไม่ได้อยู่ในรูปแบบของสมการเชิงเส้น เช่น"
      ]
    },
    {
      "cell_type": "code",
      "metadata": {
        "id": "Zxv_8fn1vUNy"
      },
      "source": [
        "import matplotlib.pyplot as plt\n",
        "rng = np.random.RandomState(1)\n",
        "x = 10 * rng.rand(50)\n",
        "y = np.sin(x) + 0.1 * rng.randn(50)\n",
        "plt.scatter(x, y)\n",
        "plt.show()"
      ],
      "execution_count": null,
      "outputs": []
    },
    {
      "cell_type": "markdown",
      "metadata": {
        "id": "KQ1s6RCychNa"
      },
      "source": [
        "- จากสมการเชิงเส้น\n",
        "$$\\hat{y}(w,x)=w_0+w_1x_1+w_2x_2$$\n",
        "- หากเราต้องการทำนายข้อมูลสมการพหุนาม\n",
        "$$\\hat{y}(w,x)=w_0+w_1x_1+w_2x_2+w_3x_1x_2+w_4x_1^2+w_5x_2^2$$\n",
        "- เราสามารถเขียนใหม่ได้เป็น\n",
        "$$\\hat{y}(w,z)=w_0+w_1z_1+w_2z_2+w_3z_3+w_4z_4+w_5z_5$$\n",
        "- จะสังเกตว่า จากสมการหพุนาม เราสามารถจัดให้อยู่ในรูปของสมการเชิงเส้นได้อีกครั้ง\n",
        "- ดังนั้น เราจึงสามาถประยุกต์ใช้กระบวนการถดถอยเชิงเส้น ในการทำนายการถดถอยพหุนามได้\n",
        "- ปัญหาคือ เราจะทำการแปลงค่าจากสมการพหุนาม ให้เป็นเชิงเส้นได้อย่างไร?\n",
        "- ใน `sklearn` มีฟังก์ชันที่ทำหน้าที่นั้นอยู่ คือ `PolynomialFeatures()`\n",
        "- โดยเราสามารถระบุ *ดีกรี* ของสมการพหุนามที่เราต้องการแปลงได้"
      ]
    },
    {
      "cell_type": "code",
      "metadata": {
        "id": "uoR2-Ugz4E3n"
      },
      "source": [
        "from sklearn.preprocessing import PolynomialFeatures\n",
        "import numpy as np\n",
        "x = np.array([2, 3, 4])\n",
        "poly = PolynomialFeatures(3)\n",
        "poly.fit_transform(x[:, None])"
      ],
      "execution_count": null,
      "outputs": []
    },
    {
      "cell_type": "code",
      "metadata": {
        "id": "vji8lOFM4p4i"
      },
      "source": [
        "poly.get_feature_names_out()"
      ],
      "execution_count": null,
      "outputs": []
    },
    {
      "cell_type": "markdown",
      "metadata": {
        "id": "mgZj6dNw4hSZ"
      },
      "source": [
        "- จากโปรแกรมด้านบน เราจึงสามารถประยุกต์การถดถอยเชิงเส้น ในการทำนายการถดถอยพหุนาม\n",
        "- แต่เราไม่จำเป็นต้องนำข้อมูลมาทำการแปลง และทำนายสมการพหุนามในแต่ละดีกรีด้วยตัวเอง\n",
        "- ใน `sklearn` มีแพคเกจที่จะช่วยเราทำกระบวนการดังกว่าวได้ ซึ่งเรียกว่า `Pipeline`\n",
        "- ดังนั้น เราจะสามารถสร้างโมเดลสำหรับการถดถอยพหุนามได้ดังนี้"
      ]
    },
    {
      "cell_type": "code",
      "metadata": {
        "id": "Zn5feYcE5gBJ"
      },
      "source": [
        "from sklearn.pipeline import make_pipeline\n",
        "from sklearn.linear_model import LinearRegression\n",
        "poly_model = make_pipeline(PolynomialFeatures(7),\n",
        "                           LinearRegression())"
      ],
      "execution_count": null,
      "outputs": []
    },
    {
      "cell_type": "markdown",
      "metadata": {
        "id": "MuSCl6aA5r2i"
      },
      "source": [
        "- เช่นเดียวกับการถดถอยเชิงเส้น เราสามารถเทรนโมเดลของเราได้ด้วยฟังก์ชัน `fit`"
      ]
    },
    {
      "cell_type": "code",
      "metadata": {
        "id": "OqlfYdmf50bh"
      },
      "source": [
        "rng = np.random.RandomState(1)\n",
        "x = 10 * rng.rand(50)\n",
        "y = np.sin(x) + 0.1 * rng.randn(50)\n",
        "\n",
        "poly_model.fit(x[:, np.newaxis], y)"
      ],
      "execution_count": null,
      "outputs": []
    },
    {
      "cell_type": "code",
      "metadata": {
        "id": "S0K6FSAV2geb"
      },
      "source": [
        "poly_model.steps[0][1].get_feature_names_out()"
      ],
      "execution_count": null,
      "outputs": []
    },
    {
      "cell_type": "code",
      "metadata": {
        "id": "CAeEWgeC31U_"
      },
      "source": [
        "poly_model.steps[1][1].coef_"
      ],
      "execution_count": null,
      "outputs": []
    },
    {
      "cell_type": "markdown",
      "metadata": {
        "id": "jJQ5gMjC51XF"
      },
      "source": [
        "- หลังจากนั้น เราจึงให้โมเดลของเราทำการทำนายค่า และวาดการฟของผลลัพธ์การทำนาย"
      ]
    },
    {
      "cell_type": "code",
      "metadata": {
        "id": "6FiWMraK6Zgh"
      },
      "source": [
        "from sklearn.pipeline import make_pipeline\n",
        "poly_model = make_pipeline(PolynomialFeatures(degree=7),\n",
        "                           LinearRegression())\n",
        "\n",
        "rng = np.random.RandomState(1)\n",
        "x = 10 * rng.rand(50)\n",
        "y = np.sin(x) + 0.1 * rng.randn(50)\n",
        "\n",
        "poly_model.fit(x[:, np.newaxis], y)\n",
        "yfit = poly_model.predict(x[:, np.newaxis])\n",
        "\n",
        "plt.scatter(x, y)\n",
        "plt.scatter(x, yfit, color='red');"
      ],
      "execution_count": null,
      "outputs": []
    },
    {
      "cell_type": "markdown",
      "metadata": {
        "id": "mb8nUFUu6ibk"
      },
      "source": [
        "###แบบฝึกหัด 2.2"
      ]
    },
    {
      "cell_type": "markdown",
      "metadata": {
        "id": "t3oSXUTA8gB9"
      },
      "source": [
        "ให้ทดลองเปลี่ยนค่า `degree` และสังเกตการเปลี่ยนแปลง\n",
        "1. ให้ค่า `degree` มีค่าน้อยๆ เช่น 2 หรือ 3\n",
        "2. ให้ค่า `degree` มีค่ามากๆ เช่น 10 หรือ 20\n",
        "3. จากชุดข้อมูล ท่านคิดว่าค่าของ `degree` ควรเป็นเท่าไหร่"
      ]
    },
    {
      "cell_type": "markdown",
      "metadata": {
        "id": "hacvqWF1_aXD"
      },
      "source": [
        "###แบบฝึกหัด 2.3"
      ]
    },
    {
      "cell_type": "markdown",
      "metadata": {
        "id": "mb26FDHy_dxb"
      },
      "source": [
        "ทดสอบกับข้อมูลจริง\n",
        "- Ice Cream Sales and Temperature"
      ]
    },
    {
      "cell_type": "markdown",
      "metadata": {
        "id": "7QexD63mAZz2"
      },
      "source": [
        "- เราสามารถนำเข้าไฟล์ `csv` จาก `github` สู่ `colab` ได้ผ่านทาง `Pandas Dataframe`"
      ]
    },
    {
      "cell_type": "code",
      "metadata": {
        "id": "_-URYmXAAjUy"
      },
      "source": [
        "import pandas as pd\n",
        "\n",
        "df = pd.read_csv('https://raw.githubusercontent.com/pingkung/datasets/main/Ice%20Cream%20Sales%20and%20Temperature.csv')\n",
        "df.head()"
      ],
      "execution_count": null,
      "outputs": []
    },
    {
      "cell_type": "markdown",
      "metadata": {
        "id": "Exgg0RHuIKZF"
      },
      "source": [
        "- เราสามารถเรียกเฉพาะข้อมูลของ `DataFrame` ได้โดย"
      ]
    },
    {
      "cell_type": "code",
      "metadata": {
        "id": "_DoMe5eYIVFm"
      },
      "source": [
        "temperature = df['Temperature (Celsius)'].values\n",
        "ice_cream_sales = df['Ice Cream Sales'].values"
      ],
      "execution_count": null,
      "outputs": []
    },
    {
      "cell_type": "markdown",
      "metadata": {
        "id": "_iBHDWNnIlR-"
      },
      "source": [
        "- วาดกราฟแสดงความสัมพันธ์ระว่าง `Temperature` และ `Ice Cream Sales`"
      ]
    },
    {
      "cell_type": "code",
      "metadata": {
        "id": "4Zdkq237IvDq"
      },
      "source": [],
      "execution_count": null,
      "outputs": []
    },
    {
      "cell_type": "markdown",
      "metadata": {
        "id": "VE_KYqCVIvVx"
      },
      "source": [
        "\n",
        "- ทดลองสร้างโมเดลถดถอย `Regression` ในการทำนายความสูงเฉลี่ยของระดับน้ำ"
      ]
    },
    {
      "cell_type": "code",
      "metadata": {
        "id": "vJzwmwQHJGvm"
      },
      "source": [],
      "execution_count": null,
      "outputs": []
    },
    {
      "cell_type": "markdown",
      "metadata": {
        "id": "XhSyr2vTQckJ"
      },
      "source": [
        "- ทดลองวาดกราฟเปรียบเทียบข้อมูลระหว่า `Temperature vs Ice Cream Sales` และ `Temperature vs Ice Cream Sales` ที่ทำนาย พร้อมทั้งหาต่า R-squared"
      ]
    },
    {
      "cell_type": "code",
      "metadata": {
        "id": "XnH4M1ftQwBq"
      },
      "source": [],
      "execution_count": null,
      "outputs": []
    },
    {
      "cell_type": "markdown",
      "metadata": {
        "id": "seR7TYRz5OJj"
      },
      "source": [
        "##หัวข้อที่ 3: การแบ่งประเภท (Classification)"
      ]
    },
    {
      "cell_type": "markdown",
      "metadata": {
        "id": "Gg0_jeAS5Zx7"
      },
      "source": [
        "###ต้นไม้ตัดสินใจ (Decision Tree)"
      ]
    },
    {
      "cell_type": "markdown",
      "metadata": {
        "id": "ZA6P8rctMXl8"
      },
      "source": [
        "- ต้นไม้ตัดสินใจ หรือ `Decision Tree` เป็นโมเดลสำหรับการทำนายข้อมูลด้วยแนวคิด `if...then...else...`![alt text]( https://docs.google.com/uc?export=download&id=1qex0HUdotzatV3U46IaPrd90f32ULMTY )"
      ]
    },
    {
      "cell_type": "markdown",
      "metadata": {
        "id": "eoDWsHDOTzo9"
      },
      "source": [
        "- เราจะมาลองสร้างต้นไม้ตัดสินใจในการทำนายข้อมูล `iris`\n",
        "- ก่อนอื่น เราจะต้องทำการนำเข้าแพคเกจ `tree` จาก `sklearn`\n",
        "- ต่อมา เราจะทำการโหลดชุดข้อมูล `iris` จาก `sklearn`"
      ]
    },
    {
      "cell_type": "code",
      "metadata": {
        "id": "1C_ZzttwUSCd"
      },
      "source": [
        "from sklearn import datasets, tree\n",
        "\n",
        "iris = datasets.load_iris()"
      ],
      "execution_count": null,
      "outputs": []
    },
    {
      "cell_type": "markdown",
      "metadata": {
        "id": "mWPFoXXPUXjr"
      },
      "source": [
        "- เราสามารถดูชุดข้อมูลที่เราโหลดมาได้ โดย"
      ]
    },
    {
      "cell_type": "code",
      "metadata": {
        "id": "rTd0Ni2PUcy4"
      },
      "source": [
        "iris"
      ],
      "execution_count": null,
      "outputs": []
    },
    {
      "cell_type": "markdown",
      "metadata": {
        "id": "8bauGYFgUjHf"
      },
      "source": [
        "- ในชุดข้อมูลทั้งหมด จะมีส่วนสำคัญที่เราต้องสนใจดังนี้\n",
        " - `data` คือ ข้อมูลที่ประกอบด้วยคุณลักษณะ `(Feature)` ที่เราจะนำมาสอน `Train` ต้นไม้ตัดสินใจ\n",
        " - `target` คือ หมายเลขแทนแต่ละสปีชีส์\n",
        " - `target_names` คือ ชื่อของแต่ละสปีชีส์"
      ]
    },
    {
      "cell_type": "code",
      "metadata": {
        "id": "QQOg_XqfVUjJ"
      },
      "source": [
        "iris.data"
      ],
      "execution_count": null,
      "outputs": []
    },
    {
      "cell_type": "code",
      "metadata": {
        "id": "LWJpGmqxVX0p"
      },
      "source": [
        "iris.target"
      ],
      "execution_count": null,
      "outputs": []
    },
    {
      "cell_type": "code",
      "metadata": {
        "id": "LqHw88NnVaoc"
      },
      "source": [
        "iris.target_names"
      ],
      "execution_count": null,
      "outputs": []
    },
    {
      "cell_type": "markdown",
      "metadata": {
        "id": "e9LVKeP9VhWR"
      },
      "source": [
        "- ทำการสร้างโมเดลของต้นไม้ตัดสินใจ"
      ]
    },
    {
      "cell_type": "code",
      "metadata": {
        "id": "u7wPTKZJVl7-"
      },
      "source": [
        "clf = tree.DecisionTreeClassifier()"
      ],
      "execution_count": null,
      "outputs": []
    },
    {
      "cell_type": "markdown",
      "metadata": {
        "id": "EB2FPz7sVmgV"
      },
      "source": [
        "- ทำการเทรนโมเดลต้นไม้ตัดสินใจให้สามารถแยกสปีชีส์ของดอก `iris`"
      ]
    },
    {
      "cell_type": "code",
      "metadata": {
        "id": "O6k_w-EUV1Dr"
      },
      "source": [
        "clf = clf.fit(iris.data, iris.target)"
      ],
      "execution_count": null,
      "outputs": []
    },
    {
      "cell_type": "markdown",
      "metadata": {
        "id": "06F6jKRKV5eO"
      },
      "source": [
        "- เมื่อทำการเทรนโมเดลต้นไม้ตัดสินใจแล้ว เราจะสามารถให้โดมเดล ทำนายสปีชีส์ของดอก `iris` ได้จากข้อมูลที่มี"
      ]
    },
    {
      "cell_type": "code",
      "metadata": {
        "id": "o8bzmS1IWE9g"
      },
      "source": [
        "index = clf.predict([[6.4, 3.1, 5.5, 1.8]]) # sepal length =6.4, sepal width = 3.1, petal length=5.5, petal width = 1.8\n",
        "print(index)\n",
        "print(iris.target_names[index])"
      ],
      "execution_count": null,
      "outputs": []
    },
    {
      "cell_type": "markdown",
      "metadata": {
        "id": "XfBsnk8_WJNQ"
      },
      "source": [
        "- เรายังสามารถดูภายในได้ว่า ต้นไม้ตัดสินใจที่เราทำการสอนหรือเทรนไปนั้น มีกระบวนการตัดสินใจอย่างไร"
      ]
    },
    {
      "cell_type": "code",
      "metadata": {
        "id": "kZKGgbdjWQ0k"
      },
      "source": [
        "import graphviz\n",
        "\n",
        "dot_data = tree.export_graphviz(clf, out_file=None,\n",
        "                      feature_names=iris.feature_names,\n",
        "                      class_names=iris.target_names,\n",
        "                      filled=True, rounded=True,\n",
        "                      special_characters=True)\n",
        "graph = graphviz.Source(dot_data)\n",
        "graph"
      ],
      "execution_count": null,
      "outputs": []
    },
    {
      "cell_type": "markdown",
      "metadata": {
        "id": "AejybDAsWhxi"
      },
      "source": [
        "###การวัดประสิทธิภาพการทำงานของโมเดล"
      ]
    },
    {
      "cell_type": "markdown",
      "metadata": {
        "id": "6G3JCGmPWhpq"
      },
      "source": [
        "- ในการทำงานจริงแล้วนั้น ก่อนที่เราจะนำโมเดลของเราไปใช้งาน เราจะต้องตรวจสอบประสิทธิภาพของโมเดลเราก่อน\n",
        "- โดยทั่วไป เราจะทำการตรวจสอบประสิทธิภาพโดย\n",
        " - แบ่งข้อมูลจากชุดข้อมูลออกเป็น 2 กลุ่ม ได้แก่ ข้อมูลสอน `(Train data)` และข้อมูลทดสอบ `(Test data)`\n",
        " - ส่วนใหญ่แล้ว เราจะแบ่งข้อมูลสอน และข้อมูลทดสอบจากชุดข้อมูลในอัตราส่วน 80:20 (อัตราส่วนสาใารถเป็นค่าใดๆได้ ขึ้นอยู่กับปริมาณข้อมูล)\n",
        " - ทำการสอนโมเดลด้วยข้อมูลสอน\n",
        " - ทำการทำนายด้วยข้อมูลทดสอบ\n",
        " - คำนวณประสิทธิภาพของโมเดล"
      ]
    },
    {
      "cell_type": "markdown",
      "metadata": {
        "id": "S1yfQChaXlQ6"
      },
      "source": [
        "- ในการแบ่งชุดข้อมูลสอน และข้อมูลทดสอบ เราสามารถทำได้โดย"
      ]
    },
    {
      "cell_type": "code",
      "metadata": {
        "id": "B80zjWGybC_B"
      },
      "source": [
        "from sklearn.model_selection import train_test_split\n",
        "x_train, x_test, y_train, y_test = train_test_split(\n",
        "    iris.data, iris.target, test_size=0.2, random_state=42)"
      ],
      "execution_count": null,
      "outputs": []
    },
    {
      "cell_type": "markdown",
      "metadata": {
        "id": "BfZsjAUybI_9"
      },
      "source": [
        "- ทำการสร้าง และสอนโมเดลด้วยข้อมูลสอน"
      ]
    },
    {
      "cell_type": "code",
      "metadata": {
        "id": "DmMtHjB0bS78"
      },
      "source": [
        "clf = tree.DecisionTreeClassifier()\n",
        "clf = clf.fit(x_train, y_train)"
      ],
      "execution_count": null,
      "outputs": []
    },
    {
      "cell_type": "markdown",
      "metadata": {
        "id": "FKxXrNpobTeq"
      },
      "source": [
        "- ทำการทำนายด้วยข้อมูลทดสอบ"
      ]
    },
    {
      "cell_type": "code",
      "metadata": {
        "id": "6opWL3fQbYhO"
      },
      "source": [
        "y_pred = clf.predict(x_test)"
      ],
      "execution_count": null,
      "outputs": []
    },
    {
      "cell_type": "markdown",
      "metadata": {
        "id": "bhnLwRUMbb-C"
      },
      "source": [
        "- วัดผลด้วยเมทริกซ์ความสับสน `(Confusion matrix)`"
      ]
    },
    {
      "cell_type": "code",
      "metadata": {
        "id": "N18D9gwqbppG"
      },
      "source": [
        "from sklearn.metrics import confusion_matrix\n",
        "confusion_matrix(y_test, y_pred)"
      ],
      "execution_count": null,
      "outputs": []
    },
    {
      "cell_type": "markdown",
      "metadata": {
        "id": "f6TwbY-vbqNy"
      },
      "source": [
        "- เรายังสามารถวาดกราฟเมทริกซ์สับสนได้โดยใช้ฟังก์ชัน"
      ]
    },
    {
      "cell_type": "code",
      "metadata": {
        "id": "EiplA59qbxS6"
      },
      "source": [
        "import numpy as np\n",
        "import matplotlib.pyplot as plt\n",
        "\n",
        "from sklearn import svm, datasets\n",
        "from sklearn.model_selection import train_test_split\n",
        "from sklearn.metrics import confusion_matrix\n",
        "from sklearn.utils.multiclass import unique_labels\n",
        "\n",
        "def plot_confusion_matrix(y_true, y_pred, classes,\n",
        "                          normalize=False,\n",
        "                          title=None,\n",
        "                          cmap=plt.cm.Blues):\n",
        "    \"\"\"\n",
        "    This function prints and plots the confusion matrix.\n",
        "    Normalization can be applied by setting `normalize=True`.\n",
        "    \"\"\"\n",
        "    if not title:\n",
        "        if normalize:\n",
        "            title = 'Normalized confusion matrix'\n",
        "        else:\n",
        "            title = 'Confusion matrix, without normalization'\n",
        "\n",
        "    # Compute confusion matrix\n",
        "    cm = confusion_matrix(y_true, y_pred)\n",
        "    # Only use the labels that appear in the data\n",
        "    classes = classes[unique_labels(y_true, y_pred)]\n",
        "    if normalize:\n",
        "        cm = cm.astype('float') / cm.sum(axis=1)[:, np.newaxis]\n",
        "        print(\"Normalized confusion matrix\")\n",
        "    else:\n",
        "        print('Confusion matrix, without normalization')\n",
        "\n",
        "    print(cm)\n",
        "\n",
        "    fig, ax = plt.subplots()\n",
        "    im = ax.imshow(cm, interpolation='nearest', cmap=cmap)\n",
        "    ax.figure.colorbar(im, ax=ax)\n",
        "    # We want to show all ticks...\n",
        "    ax.set(xticks=np.arange(cm.shape[1]),\n",
        "           yticks=np.arange(cm.shape[0]),\n",
        "           # ... and label them with the respective list entries\n",
        "           xticklabels=classes, yticklabels=classes,\n",
        "           title=title,\n",
        "           ylabel='True label',\n",
        "           xlabel='Predicted label')\n",
        "\n",
        "    # Rotate the tick labels and set their alignment.\n",
        "    plt.setp(ax.get_xticklabels(), rotation=45, ha=\"right\",\n",
        "             rotation_mode=\"anchor\")\n",
        "\n",
        "    # Loop over data dimensions and create text annotations.\n",
        "    fmt = '.2f' if normalize else 'd'\n",
        "    thresh = cm.max() / 2.\n",
        "    for i in range(cm.shape[0]):\n",
        "        for j in range(cm.shape[1]):\n",
        "            ax.text(j, i, format(cm[i, j], fmt),\n",
        "                    ha=\"center\", va=\"center\",\n",
        "                    color=\"white\" if cm[i, j] > thresh else \"black\")\n",
        "    fig.tight_layout()\n",
        "    return ax"
      ],
      "execution_count": null,
      "outputs": []
    },
    {
      "cell_type": "code",
      "metadata": {
        "id": "F0j4VIU0b08z"
      },
      "source": [
        "plot_confusion_matrix(y_test, y_pred, classes=iris.target_names, normalize=True,\n",
        "                      title='Normalized confusion matrix')"
      ],
      "execution_count": null,
      "outputs": []
    },
    {
      "cell_type": "markdown",
      "metadata": {
        "id": "_m8MWiu8b334"
      },
      "source": [
        "- วัดผลด้วยรายงาน"
      ]
    },
    {
      "cell_type": "code",
      "metadata": {
        "id": "N9ltIfKxb_M2"
      },
      "source": [
        "from sklearn.metrics import classification_report\n",
        "print(classification_report(y_test, y_pred, target_names=iris.target_names))"
      ],
      "execution_count": null,
      "outputs": []
    },
    {
      "cell_type": "markdown",
      "source": [
        "Precision, Recall, และ F1 Score เป็นเครื่องมือสำคัญในการประเมินผลของโมเดล ML\n",
        "\n",
        "\n",
        "สูตรคำนวณสำหรับแต่ละตัวชี้วัดเป็นดังนี้:\n",
        "\n",
        "$$\n",
        "Precision =  \\frac{True Positive}{True Positive + False Positive}\n",
        "$$\n",
        "\n",
        "$$\n",
        "Recall = \\frac{True Positive}{True Positive + False Negative}\n",
        "$$\n",
        "\n",
        "$$\n",
        "F1 Score = 2 \\times \\frac{Precision \\times Recall}{Precision + Recall}\n",
        "$$\n",
        "\n",
        "โดยมีความหมายดังนี้:\n",
        "\n",
        "\n",
        "`Precision` (ความแม่นยำ): คือสัดส่วนระหว่างจำนวนที่ทำนายถูก (True Positive) และจำนวนทั้งหมดที่ทำนายว่าเป็นบวก (True Positive + False Positive) ค่า Precision ที่สูงแสดงว่าโมเดลมีการทำนายบวกที่แม่นยำมาก\n",
        "\n",
        "\n",
        "`Recall` (ความครอบคลุม): คือสัดส่วนระหว่างจำนวนที่ทำนายถูก (True Positive) และจำนวนทั้งหมดที่เป็นบวกจริง (True Positive + False Negative) ค่า Recall ที่สูงแสดงว่าโมเดลสามารถครอบคลุมจำนวนบวกที่ถูกต้องได้มาก\n",
        "\n",
        "\n",
        "`F1 Score` เป็นค่าเฉลี่ยฮาร์มอนิกของ Precision และ Recall ค่า F1 Score จะสูงเมื่อทั้ง Precision และ Recall มีค่าสูง ดังนั้น F1 Score จึงเป็นเครื่องมือที่ดีในการประเมินโมเดลที่ต้องพิจารณาทั้งความแม่นยำและความครอบคลุม\n",
        "\n",
        "![image.png](data:image/png;base64,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)\n"
      ],
      "metadata": {
        "id": "5ooSySY-CRSS"
      }
    },
    {
      "cell_type": "markdown",
      "metadata": {
        "id": "NsAny4-yeN9F"
      },
      "source": [
        "###แบบฝึกหัด 3.1"
      ]
    },
    {
      "cell_type": "markdown",
      "metadata": {
        "id": "yVqkDdVmeUnQ"
      },
      "source": [
        "จงทำนายข้อมูลว่า ขนม/ลูกอม (candy dataset) ต่อไปนี้มีช็อคโกแลต หรือไม่ ด้วยต้นไม้ตัดสินใจ\n",
        "1. นำเข้าข้อมูล"
      ]
    },
    {
      "cell_type": "code",
      "metadata": {
        "id": "h8_5nM9yevqm"
      },
      "source": [
        "import pandas as pd\n",
        "\n",
        "candy = pd.read_csv('https://raw.githubusercontent.com/Endraraaz/Predicting-Candy-is-Chocolate-or-Not-using-Logistic-Regression/master/candy-data.csv')\n",
        "candy.head()"
      ],
      "execution_count": null,
      "outputs": []
    },
    {
      "cell_type": "markdown",
      "metadata": {
        "id": "i9rwiBJYeyyv"
      },
      "source": [
        "2. ลบ Columns ที่ไม่สนใจออกจาก `DataFrame`"
      ]
    },
    {
      "cell_type": "code",
      "metadata": {
        "id": "NF5rYbNWe4uo"
      },
      "source": [
        "candy.drop(['competitorname', 'sugarpercent', 'pricepercent','winpercent'],  axis='columns', inplace=True)\n",
        "candy.head()"
      ],
      "execution_count": null,
      "outputs": []
    },
    {
      "cell_type": "markdown",
      "metadata": {
        "id": "jW0AcfCDe5J5"
      },
      "source": [
        "3. แยกข้อมูลที่เป็นคุณลักษณะ และข้อมูลเป้าหมาย `x , y` โดยข้อมูลจากไฟล์แต่ละคอลัมน์ประกอบด้วย\n",
        " - chocolate มีช็อคโกแลต หรือไม่\n",
        " - fruity มี กลิ่น/รส ผลไม้หรือไม่\n",
        " - caramel มีคาราเมลหรือไม่\n",
        " - peanutalmondy มีถั่วหรืออัลม่อนหรือไม่\n",
        " - nougat มีตังเมหรือไม่ (ส่วนที่ทำให้ยืด)\n",
        " - crispedricewafer  มีส่วนประกอบของสิ่งที่ทำให้กรอบหรือไม่\n",
        " - hard แข็งหรือไม่\n",
        " - bar เป็นแท่งหรือไม่\n",
        " - pluribus ใส่กล่อง หรือห่อ"
      ]
    },
    {
      "cell_type": "code",
      "metadata": {
        "id": "9HeNsQntgSM8"
      },
      "source": [],
      "execution_count": null,
      "outputs": []
    },
    {
      "cell_type": "markdown",
      "metadata": {
        "id": "sVjZYzNygSha"
      },
      "source": [
        "4. ทำการแบ่งข้อมูลสำหรับสอน และทดสอบ ด้วยอัตราส่วน 70:30"
      ]
    },
    {
      "cell_type": "code",
      "metadata": {
        "id": "gXP-HV9xgZ-J"
      },
      "source": [],
      "execution_count": null,
      "outputs": []
    },
    {
      "cell_type": "markdown",
      "metadata": {
        "id": "HJkQCPUJgaPj"
      },
      "source": [
        "5. สร้างโมเดลต้นไม้ตัดสินใจ สอนโมเดล และทำนายด้วยชุดข้อมูลทดสอบ"
      ]
    },
    {
      "cell_type": "code",
      "metadata": {
        "id": "8UfLIooQgklG"
      },
      "source": [],
      "execution_count": null,
      "outputs": []
    },
    {
      "cell_type": "markdown",
      "metadata": {
        "id": "bxRLyI4Ygk39"
      },
      "source": [
        "6. วัดประสิทธิภาพของโมเดลด้วยเมทริกซ์ความสับสน และรายงาน"
      ]
    },
    {
      "cell_type": "code",
      "metadata": {
        "id": "WjdwUsSRgw-m"
      },
      "source": [],
      "execution_count": null,
      "outputs": []
    },
    {
      "cell_type": "markdown",
      "metadata": {
        "id": "fl66B1IFgxQz"
      },
      "source": [
        "7. แสดงเงื่อนไขของต้นไม้ตัดสินใจ"
      ]
    },
    {
      "cell_type": "code",
      "metadata": {
        "id": "0ol7L6MZg186"
      },
      "source": [],
      "execution_count": null,
      "outputs": []
    },
    {
      "cell_type": "markdown",
      "metadata": {
        "id": "G-_flw3r5kvL"
      },
      "source": [
        "### เครื่องจักรเวกเตอร์สนับสนุน (Support Vector Machine: SVM)"
      ]
    },
    {
      "cell_type": "markdown",
      "metadata": {
        "id": "kBCFZMM-_Qvs"
      },
      "source": [
        "- เครื่องจักรสนับสนุน `Support Vector Machine: SVM` เป็นอีกเครื่องมือหนึ่ง ที่ทรงพลังสำหรับการทำนายถดถอย และการแบ่งประเภท\n",
        "- การทำงานของ SVM คือ พยายามแบ่งกลุ่มของข้อมูล โดยหาเส้นแบ่ง\n",
        "- เราอาจเรียก SVM ได้ว่าเป็น `Maximum Margin Estimator` หรือ ผู้ประมาณระยะขอบสูงสุด"
      ]
    },
    {
      "cell_type": "markdown",
      "metadata": {
        "id": "kuTIxBKpIjnZ"
      },
      "source": [
        "- พิจารณาชุดข้อมูล"
      ]
    },
    {
      "cell_type": "code",
      "metadata": {
        "id": "C8jBoUmAIo8h"
      },
      "source": [
        "import numpy as np\n",
        "import matplotlib.pyplot as plt\n",
        "from scipy import stats\n",
        "import seaborn as sns; sns.set()\n",
        "from sklearn.datasets import make_blobs\n",
        "\n",
        "X, y = make_blobs(n_samples=50, centers=2,\n",
        "                  random_state=0, cluster_std=0.60)\n",
        "plt.scatter(X[:, 0], X[:, 1], c=y, s=50, cmap='autumn')"
      ],
      "execution_count": null,
      "outputs": []
    },
    {
      "cell_type": "markdown",
      "metadata": {
        "id": "A6GQsOHEI0ig"
      },
      "source": [
        "- หากเรามีข้อมูล 2 กลุ่ม ดังรูปด้านบน เราจะสามารถหาเส้นแบ่งข้อมูลทั้ง 2 กลุ่มออกจากกันได้อย่างไร ?"
      ]
    },
    {
      "cell_type": "code",
      "metadata": {
        "id": "hJb50oqTJALg"
      },
      "source": [
        "xfit = np.linspace(-1, 3.5)\n",
        "plt.scatter(X[:, 0], X[:, 1], c=y, s=50, cmap='autumn')\n",
        "plt.plot([0.6], [2.1], 'x', color='red', markeredgewidth=2, markersize=10)\n",
        "\n",
        "for m, b in [(1, 0.65), (0.5, 1.6), (-0.2, 2.9)]:\n",
        "    plt.plot(xfit, m * xfit + b, '-k')\n",
        "\n",
        "plt.xlim(-1, 3.5);"
      ],
      "execution_count": null,
      "outputs": []
    },
    {
      "cell_type": "markdown",
      "metadata": {
        "id": "Hw4D7wwMJU3F"
      },
      "source": [
        "- ในตัวอย่างด้านบน เราจะเห็นว่า ไม่ว่าเราจะเลือกเส้นไหนจาก 3 เส้น ที่เราทำการแบ่งกลุ่ม ก็สามารถแยกข้อมูลทั้ง 2 กลุ่มออกจากกันได้\n",
        "- แต่หากเรามีข้อมูลตัวใหม่เข้ามา (ข้อมูล x) เราควรเลือกเส้นไหน เป็นเส้นแบ่งกลุ่มข้อมูล?"
      ]
    },
    {
      "cell_type": "markdown",
      "metadata": {
        "id": "FwUruVJ9emEu"
      },
      "source": [
        "- SVM ได้เสนอแนวทางการปรับปรุงวิธีการเลือกเส้นแบ่ง โดย\n",
        "- แทนที่เราจะตีเส้นแบ่ง โดยเส้นมีความกว้างเป็น 0\n",
        "- เราสามารถวาดเส้นแบ่ง ให้มีความกว้างได้\n",
        "- โดยความกว้างนั้น จะกว้างไปถึงข้อมูลที่ใกล้ที่สุดของแต่ละกลุ่มข้อมูล\n",
        "- ตัวอย่างเช่น"
      ]
    },
    {
      "cell_type": "code",
      "metadata": {
        "id": "zvIKDizRf65s"
      },
      "source": [
        "xfit = np.linspace(-1, 3.5)\n",
        "plt.scatter(X[:, 0], X[:, 1], c=y, s=50, cmap='autumn')\n",
        "\n",
        "for m, b, d in [(1, 0.65, 0.33), (0.5, 1.6, 0.55), (-0.2, 2.9, 0.2)]:\n",
        "    yfit = m * xfit + b\n",
        "    plt.plot(xfit, yfit, '-k')\n",
        "    plt.fill_between(xfit, yfit - d, yfit + d, edgecolor='none',\n",
        "                     color='#AAAAAA', alpha=0.4)\n",
        "\n",
        "plt.xlim(-1, 3.5);"
      ],
      "execution_count": null,
      "outputs": []
    },
    {
      "cell_type": "markdown",
      "metadata": {
        "id": "Wy90tn0jgGJv"
      },
      "source": [
        "- สุดท้ายแล้ว SVM จะเลือกเส้นแบ่งที่เส้นนั้น **มีความกว้างมากที่สุด**"
      ]
    },
    {
      "cell_type": "markdown",
      "metadata": {
        "id": "RQ9nI8K4hw3F"
      },
      "source": [
        "### เริ่มต้นสอน (Train) SVM"
      ]
    },
    {
      "cell_type": "markdown",
      "metadata": {
        "id": "574T6hK6pCBi"
      },
      "source": [
        "- ก่อนอื่น เราจะต้องสร้างโมเดลของ SVM ก่อน"
      ]
    },
    {
      "cell_type": "code",
      "metadata": {
        "id": "Ts6XU-GDpGLC"
      },
      "source": [
        "from sklearn.svm import SVC # \"Support vector classifier\"\n",
        "model = SVC(kernel='linear', C=1E10)"
      ],
      "execution_count": null,
      "outputs": []
    },
    {
      "cell_type": "markdown",
      "metadata": {
        "id": "YnlHkvDcpKyo"
      },
      "source": [
        "- จะสังเกตว่า เรามีพารามิเตอร์ 2 ตัว คือ `kernel` และค่า `c` ซึ่งเราจะพูดถึงกันภายหลัง\n",
        "- หลังจากที่สร้างโมเดลแล้ว เราก็จะทำการสอน `(Train)` โมเดล ด้วยฟังก์ชัน `fit`"
      ]
    },
    {
      "cell_type": "code",
      "metadata": {
        "id": "5x7ioHWIpihT"
      },
      "source": [
        "model.fit(X, y)"
      ],
      "execution_count": null,
      "outputs": []
    },
    {
      "cell_type": "markdown",
      "metadata": {
        "id": "CgSKQkn4pjHZ"
      },
      "source": [
        "- ทดลองวาดกราฟเส้นแบ่งข้อมูลดู"
      ]
    },
    {
      "cell_type": "code",
      "metadata": {
        "id": "DB_GFbbDpx_F"
      },
      "source": [
        "def plot_svc_decision_function(model, ax=None, plot_support=True):\n",
        "    \"\"\"Plot the decision function for a 2D SVC\"\"\"\n",
        "    if ax is None:\n",
        "        ax = plt.gca()\n",
        "    xlim = ax.get_xlim()\n",
        "    ylim = ax.get_ylim()\n",
        "\n",
        "    # create grid to evaluate model\n",
        "    x = np.linspace(xlim[0], xlim[1], 30)\n",
        "    y = np.linspace(ylim[0], ylim[1], 30)\n",
        "    Y, X = np.meshgrid(y, x)\n",
        "    xy = np.vstack([X.ravel(), Y.ravel()]).T\n",
        "    P = model.decision_function(xy).reshape(X.shape)\n",
        "\n",
        "    # plot decision boundary and margins\n",
        "    ax.contour(X, Y, P, colors='k',\n",
        "               levels=[-1, 0, 1], alpha=0.5,\n",
        "               linestyles=['--', '-', '--'])\n",
        "\n",
        "    # plot support vectors\n",
        "    if plot_support:\n",
        "        ax.scatter(model.support_vectors_[:, 0],\n",
        "                   model.support_vectors_[:, 1],\n",
        "                   s=300, linewidth=1, facecolors='none');\n",
        "    ax.set_xlim(xlim)\n",
        "    ax.set_ylim(ylim)"
      ],
      "execution_count": null,
      "outputs": []
    },
    {
      "cell_type": "code",
      "metadata": {
        "id": "M3djwDETp0jT"
      },
      "source": [
        "plt.scatter(X[:, 0], X[:, 1], c=y, s=50, cmap='autumn')\n",
        "plot_svc_decision_function(model)"
      ],
      "execution_count": null,
      "outputs": []
    },
    {
      "cell_type": "markdown",
      "metadata": {
        "id": "psNX2_hTrPQQ"
      },
      "source": [
        "### ก้าวข้ามข้อจำกัดเส้นแบ่งเชิงเส้น"
      ]
    },
    {
      "cell_type": "markdown",
      "metadata": {
        "id": "lvcgtWkvrcBH"
      },
      "source": [
        "- ลองสังเกตชุดข้อมูลต่อไปนี้"
      ]
    },
    {
      "cell_type": "code",
      "metadata": {
        "id": "eGO6b3vLro8K"
      },
      "source": [
        "from sklearn.datasets import make_circles\n",
        "X, y = make_circles(100, factor=.1, noise=.1)\n",
        "\n",
        "plt.scatter(X[:, 0], X[:, 1], c=y, s=50, cmap='autumn')"
      ],
      "execution_count": null,
      "outputs": []
    },
    {
      "cell_type": "markdown",
      "metadata": {
        "id": "3pGwNawFrx_I"
      },
      "source": [
        "- เราจะขีดเส้นเพื่อแบ่งกลุ่มข้อมูลได้อย่างไร?\n",
        "- ทดลองใช้โมเดลจากข้อก่อนหน้าในการเทรนข้อมูล แล้ววาดเส้นแบ่งดู"
      ]
    },
    {
      "cell_type": "code",
      "metadata": {
        "id": "_0DWBrj6r_0C"
      },
      "source": [
        "from sklearn.datasets import make_circles\n",
        "X, y = make_circles(100, factor=.1, noise=.1)\n",
        "\n",
        "clf = SVC(kernel='linear').fit(X, y)\n",
        "\n",
        "plt.scatter(X[:, 0], X[:, 1], c=y, s=50, cmap='autumn')\n",
        "plot_svc_decision_function(clf, plot_support=False);"
      ],
      "execution_count": null,
      "outputs": []
    },
    {
      "cell_type": "markdown",
      "metadata": {
        "id": "Utara6DssJfl"
      },
      "source": [
        "- ลองกด `Run` ดูหลายๆครั้ง\n",
        "- จะเห็นว่า ไม่ว่าเราจะพยายามเทรนเท่าไร ก็ไม่สามารถวาดเส้นตรงเพื่อแบ่งข้อมูลออกจากกันได้"
      ]
    },
    {
      "cell_type": "markdown",
      "metadata": {
        "id": "1_yaYFjl9FtX"
      },
      "source": [
        "- ลองพิจารณาว่า หากเราทำการโปรเจคข้อมูลที่มี ไปสู่มิติที่สูงขึ้น เช่น"
      ]
    },
    {
      "cell_type": "code",
      "metadata": {
        "id": "dKki4ampglZs"
      },
      "source": [
        "r = np.exp(-(X ** 2).sum(1))"
      ],
      "execution_count": null,
      "outputs": []
    },
    {
      "cell_type": "markdown",
      "metadata": {
        "id": "F10IPqexgnzz"
      },
      "source": [
        "- เราจะสามารถวาดกราฟ 3 มิติสำหรับข้อมูลใหม่ได้ดังนี้"
      ]
    },
    {
      "cell_type": "code",
      "metadata": {
        "id": "wTxwoB9ygt4W"
      },
      "source": [
        "from mpl_toolkits import mplot3d\n",
        "from ipywidgets import interact, fixed\n",
        "\n",
        "def plot_3D(elev=30, azim=30, X=X, y=y):\n",
        "    ax = plt.subplot(projection='3d')\n",
        "    ax.scatter3D(X[:, 0], X[:, 1], r, c=y, s=50, cmap='autumn')\n",
        "    ax.view_init(elev=elev, azim=azim)\n",
        "    ax.set_xlabel('x')\n",
        "    ax.set_ylabel('y')\n",
        "    ax.set_zlabel('r')\n",
        "\n",
        "interact(plot_3D, X=fixed(X), y=fixed(y))"
      ],
      "execution_count": null,
      "outputs": []
    },
    {
      "cell_type": "markdown",
      "metadata": {
        "id": "VCBrJ6r6iW9a"
      },
      "source": [
        "- หลังจากที่เราทำการเพิ่มจำนวนมิติของชุดข้อมูล จะเห็นได้ว่า เราามารถวาดเส้นตรง (ในที่นี้ เส้นจะกลายเป็นระนาบ) สำหรับแบ่งกลุ่มข้อมูลได้แล้ว\n",
        "- เช่น ถ้าเราวาดระนาบที่ r = 0.7\n",
        "- ดังนั้น สำหรับข้อมูลที่ไม่สามารถแบ่งด้วยเส้นตรง เราอาจพิจารณาวิธีเพิ่มจำนวนมิติของข้อมูล\n",
        "- แต่จะเห็นได้ว่า หากเราเลือกจุดกึ่งกลางที่จะทำการโปรเจคข้อมูลได้ไม่ได้ เราก็อาจจะยังไม่สามารถแบ่งกลุ่มข้อมูลได้อยู่ดี\n",
        "- วิธีการที่เราจะเลือกว่าจะใช้จุดไหนเป็นจุดศูนย์กลางของการโปรเจค วิธีที่เราสามารถทำได้คือ คำนวณจุดศูนย์กลางจากทุกจุดข้อมูลในชุดข่้อมูล\n",
        "- ฟังก์ชันที่เราทำการเลือกจุดศูนย์กลางและโปรเจคข้อมูลไปยังมิติที่สูงกว่า เราเรียกว่า `Radial Basis Function (RBF)`\n",
        "- และในกระบวนการที่เราให้ SVM ทำการแปลงหรือโปรเจคข้อมูล ไปยังมิติที่สูงกว่า หรืออาจแปลงให้อยู่ในรูปของข้อมูลอื่นนั้น เราเรียกว่า `Kernel Transformation`\n",
        "- ดังนั้น จากชุดข้อมูลที่เรามี เราต้องการให้ SVM ของเรา ทำการโปรเจคข้อมูลไปยังมิติที่สูงกว่า โดยคำนวณจุดศูนย์กลางจากทุกจุกข้อมูล ในชุดข้อมูล เราจะสามารถทำได้โดย เปลี่ยนพารามิเตอร์ `kernel` เดิม จากที่เป็น `linera` เป็น `rbf`"
      ]
    },
    {
      "cell_type": "code",
      "metadata": {
        "id": "Mtyu-0oplE2R"
      },
      "source": [
        "clf = SVC(kernel='rbf', C=1E6)\n",
        "clf.fit(X, y)"
      ],
      "execution_count": null,
      "outputs": []
    },
    {
      "cell_type": "code",
      "metadata": {
        "id": "w_hlxot1lMl5"
      },
      "source": [
        "plt.scatter(X[:, 0], X[:, 1], c=y, s=50, cmap='autumn')\n",
        "plot_svc_decision_function(clf)\n",
        "plt.scatter(clf.support_vectors_[:, 0], clf.support_vectors_[:, 1],\n",
        "            s=300, lw=1, facecolors='none');"
      ],
      "execution_count": null,
      "outputs": []
    },
    {
      "cell_type": "markdown",
      "metadata": {
        "id": "GFDiJhJElU3C"
      },
      "source": [
        "### การจูน SVM"
      ]
    },
    {
      "cell_type": "markdown",
      "metadata": {
        "id": "5kY4JJFtnwrD"
      },
      "source": [
        "- ณ จุดเริ่มต้นของ SVM เราทำการสร้างโมเดลโดยมีพารามิเตอร์ 2 ตัว คือ `kernel` และ `c`\n",
        "- SVM จะทำการเลือกเส้นแบ่งกลุ่มข้อมูลโดยให้มีขนาดของความกว้างเส้นแบ่งมากที่สุด\n",
        "- แล้วถ้าข้อมูลมีการทับซ้อนกัน จะเกิดอะไรขึ้น ?"
      ]
    },
    {
      "cell_type": "code",
      "metadata": {
        "id": "eAt8V3ZqoLaw"
      },
      "source": [
        "X, y = make_blobs(n_samples=100, centers=2,\n",
        "                  random_state=0, cluster_std=1.2)\n",
        "plt.scatter(X[:, 0], X[:, 1], c=y, s=50, cmap='autumn');"
      ],
      "execution_count": null,
      "outputs": []
    },
    {
      "cell_type": "markdown",
      "metadata": {
        "id": "r-fYdCx9oOZ1"
      },
      "source": [
        "- ในกรณีนี้ SVM จะมีการยอมให้มีข้อมูลบางจุด เล็ดลอดเส้นแบ่งออกมาได้ ถ้าการยินยอมนั้นทำให้โมเดลมีความถูกต้องมากขึ้น\n",
        "- เราเรียกการยอมให้มีบางจุดข้อมูลเล็ดลอดเส้นแบ่งออกมาว่า `Soft margin`\n",
        "- ความยากสำหรับการสร้างเส้นแบ่งแบบนี้คือ การกำหนดพารามิเตอร์สำหรับ `soft margin` ซึ่งคือค่า `c`\n",
        "- หากค่า `c` มีค่ามากๆ `margin` หรือความกว้างของเส้นแบ่งจะแคบ\n",
        "- หากค่า `c` มีค่าน้อยๆ `margin` จะกว้าง และยอมให้มีข้อมูลเล็ดลอดเข้ามาในส่วนของ `margin` มากขึ้น เช่น"
      ]
    },
    {
      "cell_type": "code",
      "metadata": {
        "id": "6m-GSXASpqbr"
      },
      "source": [
        "X, y = make_blobs(n_samples=100, centers=2,\n",
        "                  random_state=0, cluster_std=0.8)\n",
        "\n",
        "fig, ax = plt.subplots(1, 2, figsize=(16, 6))\n",
        "fig.subplots_adjust(left=0.0625, right=0.95, wspace=0.1)\n",
        "\n",
        "for axi, C in zip(ax, [10.0, 0.1]):\n",
        "    model = SVC(kernel='linear', C=C).fit(X, y)\n",
        "    axi.scatter(X[:, 0], X[:, 1], c=y, s=50, cmap='autumn')\n",
        "    plot_svc_decision_function(model, axi)\n",
        "    axi.scatter(model.support_vectors_[:, 0],\n",
        "                model.support_vectors_[:, 1],\n",
        "                s=300, lw=1, facecolors='none');\n",
        "    axi.set_title('C = {0:.1f}'.format(C), size=14)"
      ],
      "execution_count": null,
      "outputs": []
    },
    {
      "cell_type": "markdown",
      "metadata": {
        "id": "ugjeDPiOpvyo"
      },
      "source": [
        "- ดังนั้น ในการเลือกค่า `c` ที่เหมาะสม ก็ขึ้นอยู่กับชุดข้อมูลที่เรามี"
      ]
    },
    {
      "cell_type": "markdown",
      "metadata": {
        "id": "1RMwU-jC11ev"
      },
      "source": [
        "### แบบฝึกหัด 3.2"
      ]
    },
    {
      "cell_type": "markdown",
      "metadata": {
        "id": "_lZJW7Nw2A0w"
      },
      "source": [
        "1. ทำการนำเข้าชุดข้อมูลมะเร็งเต้านม"
      ]
    },
    {
      "cell_type": "code",
      "metadata": {
        "id": "DBAlHqXK2_PY"
      },
      "source": [
        "#Import scikit-learn dataset library\n",
        "from sklearn import datasets\n",
        "\n",
        "#Load dataset\n",
        "cancer = datasets.load_breast_cancer()"
      ],
      "execution_count": null,
      "outputs": []
    },
    {
      "cell_type": "markdown",
      "metadata": {
        "id": "pfGEcXqO3AeR"
      },
      "source": [
        "2. ลองตรวจสอบข้อมูลที่ทำการนำเข้ามา"
      ]
    },
    {
      "cell_type": "code",
      "metadata": {
        "id": "JkE-e33N3Lgm"
      },
      "source": [
        "print(\"Features: \", cancer.feature_names)"
      ],
      "execution_count": null,
      "outputs": []
    },
    {
      "cell_type": "code",
      "metadata": {
        "id": "Ulnd2KdD3ODH"
      },
      "source": [
        "print(\"Labels: \", cancer.target_names)"
      ],
      "execution_count": null,
      "outputs": []
    },
    {
      "cell_type": "code",
      "metadata": {
        "id": "wDUSoxgr3VcQ"
      },
      "source": [
        "cancer.data.shape"
      ],
      "execution_count": null,
      "outputs": []
    },
    {
      "cell_type": "code",
      "metadata": {
        "id": "ZKOgoQfA3bOT"
      },
      "source": [
        "print(cancer.target)"
      ],
      "execution_count": null,
      "outputs": []
    },
    {
      "cell_type": "markdown",
      "metadata": {
        "id": "BTC_J7DR3ezP"
      },
      "source": [
        "3. ทำการแบ่งข้อมูลออกเป็น `train` และ `test`"
      ]
    },
    {
      "cell_type": "code",
      "metadata": {
        "id": "m3rpkwG03mJy"
      },
      "source": [],
      "execution_count": null,
      "outputs": []
    },
    {
      "cell_type": "markdown",
      "metadata": {
        "id": "ityyeXQn3o-U"
      },
      "source": [
        "4. สร้างโมเดล SVM โดย เลือกใช้ `kernel` และกำหนดพารามิเตอร์ได้ตามต้องการ"
      ]
    },
    {
      "cell_type": "code",
      "metadata": {
        "id": "WxwdyiSy32OD"
      },
      "source": [],
      "execution_count": null,
      "outputs": []
    },
    {
      "cell_type": "markdown",
      "metadata": {
        "id": "j0KVwDhS32ch"
      },
      "source": [
        "5. ทำการแสดง `confusion matrix`"
      ]
    },
    {
      "cell_type": "code",
      "metadata": {
        "id": "p2OfwIqc3-wt"
      },
      "source": [],
      "execution_count": null,
      "outputs": []
    },
    {
      "cell_type": "markdown",
      "metadata": {
        "id": "Y4mqYz704G1f"
      },
      "source": [
        "6. ลองตรวจสอบความถูกต้องแม่นยำของโมเดล"
      ]
    },
    {
      "cell_type": "code",
      "metadata": {
        "id": "B_z8fxR74O0C"
      },
      "source": [
        "#Import scikit-learn metrics module for accuracy calculation\n",
        "from sklearn import metrics\n",
        "\n",
        "# Model Accuracy: how often is the classifier correct?\n",
        "print(\"Accuracy:\",metrics.accuracy_score(y_test, y_pred))"
      ],
      "execution_count": null,
      "outputs": []
    },
    {
      "cell_type": "markdown",
      "metadata": {
        "id": "QEfx6DNjPYqj"
      },
      "source": [
        "### แบบฝึกหัด 3.3"
      ]
    },
    {
      "cell_type": "markdown",
      "metadata": {
        "id": "x7utvbJ7PZfA"
      },
      "source": [
        "- ทำเหมือนแบบฝึกหัด 6.2 แต่ลองเปลี่ยนชุดข้อมูลเป็น iris และใช้ random state ในการแบ่งข้อมูลเป็นค่าเดียวกับการแบ่งข้อมูลในขั้นตอนของ Decision tree ลองเปรียบเทียบความแม่นยำของแต่ละ Model"
      ]
    },
    {
      "cell_type": "code",
      "source": [],
      "metadata": {
        "id": "8kD8WvcS-GqQ"
      },
      "execution_count": null,
      "outputs": []
    },
    {
      "cell_type": "markdown",
      "metadata": {
        "id": "L6vShZpS9mib"
      },
      "source": [
        "### ตะแกรงค้นหา (Grid Search)"
      ]
    },
    {
      "cell_type": "markdown",
      "metadata": {
        "id": "CuVJhchasI7c"
      },
      "source": [
        "- นอกจากการกำหนดพารามิเตอร์ `c` แล้ว สำหรับ `kernel RBF` นั้น ยังมีพารามิเตอร์อีกตัวหนึ่งที่ส่งผลต่อการสร้างเส้นแบ่งกลุ่มข้อมูล คือ พารามิเตอร์ที่ชื่อ `gamma`\n",
        "- หากค่า `gamma` มีค่าน้อย โมเดลจะถูกจำกัดความซับซ้อนของข้อมูล กล่าวคือ จะไม่สามารถทำนายข้อมูลที่มีรูปแบบซับซ้อนได้\n",
        "- หากค่า `gamma` มีค่ามาก โมเดลจะตอบสนองต่อข้อมูลที่มีรูปแบบซับซ้อนได้ดี\n",
        "- ลองดูตัวอย่างค่า `gamma` แบบต่างๆ"
      ]
    },
    {
      "cell_type": "code",
      "metadata": {
        "id": "lIRoap4GuN0S"
      },
      "source": [
        "# Import packages to visualize the classifer\n",
        "from matplotlib.colors import ListedColormap\n",
        "import matplotlib.pyplot as plt\n",
        "import warnings\n",
        "\n",
        "def versiontuple(v):\n",
        "    return tuple(map(int, (v.split(\".\"))))\n",
        "\n",
        "\n",
        "def plot_decision_regions(X, y, classifier, test_idx=None, resolution=0.02):\n",
        "\n",
        "    # setup marker generator and color map\n",
        "    markers = ('s', 'x', 'o', '^', 'v')\n",
        "    colors = ('red', 'blue', 'lightgreen', 'gray', 'cyan')\n",
        "    cmap = ListedColormap(colors[:len(np.unique(y))])\n",
        "\n",
        "    # plot the decision surface\n",
        "    x1_min, x1_max = X[:, 0].min() - 1, X[:, 0].max() + 1\n",
        "    x2_min, x2_max = X[:, 1].min() - 1, X[:, 1].max() + 1\n",
        "    xx1, xx2 = np.meshgrid(np.arange(x1_min, x1_max, resolution),\n",
        "                           np.arange(x2_min, x2_max, resolution))\n",
        "    Z = classifier.predict(np.array([xx1.ravel(), xx2.ravel()]).T)\n",
        "    Z = Z.reshape(xx1.shape)\n",
        "    plt.contourf(xx1, xx2, Z, alpha=0.4, cmap=cmap)\n",
        "    plt.xlim(xx1.min(), xx1.max())\n",
        "    plt.ylim(xx2.min(), xx2.max())\n",
        "\n",
        "    for idx, cl in enumerate(np.unique(y)):\n",
        "        plt.scatter(x=X[y == cl, 0], y=X[y == cl, 1],\n",
        "                    alpha=0.8, c=cmap(idx),\n",
        "                    marker=markers[idx], label=cl)\n",
        "\n",
        "    # highlight test samples\n",
        "    if test_idx:\n",
        "        # plot all samples\n",
        "        if not versiontuple(np.__version__) >= versiontuple('1.9.0'):\n",
        "            X_test, y_test = X[list(test_idx), :], y[list(test_idx)]\n",
        "            warnings.warn('Please update to NumPy 1.9.0 or newer')\n",
        "        else:\n",
        "            X_test, y_test = X[test_idx, :], y[test_idx]\n",
        "\n",
        "        plt.scatter(X_test[:, 0],\n",
        "                    X_test[:, 1],\n",
        "                    alpha=1.0,\n",
        "                    linewidths=1,\n",
        "                    marker='o',\n",
        "                    s=55, label='test set')\n",
        "# Import packages to do the classifying\n",
        "import numpy as np\n",
        "from sklearn.svm import SVC\n",
        "\n",
        "np.random.seed(0)\n",
        "X_xor = np.random.randn(200, 2)\n",
        "y_xor = np.logical_xor(X_xor[:, 0] > 0,\n",
        "                       X_xor[:, 1] > 0)\n",
        "y_xor = np.where(y_xor, 1, -1)"
      ],
      "execution_count": null,
      "outputs": []
    },
    {
      "cell_type": "code",
      "metadata": {
        "id": "3o79zNRtubk5"
      },
      "source": [
        "# Create a SVC classifier using an RBF kernel\n",
        "svm = SVC(kernel='rbf', random_state=0, gamma=.01, C=1)\n",
        "# Train the classifier\n",
        "svm.fit(X_xor, y_xor)\n",
        "\n",
        "# Visualize the decision boundaries\n",
        "plot_decision_regions(X_xor, y_xor, classifier=svm)\n",
        "plt.title('gamma = 0.01')\n",
        "plt.show()"
      ],
      "execution_count": null,
      "outputs": []
    },
    {
      "cell_type": "code",
      "metadata": {
        "id": "h4k6PbRlwcy8"
      },
      "source": [
        "# Create a SVC classifier using an RBF kernel\n",
        "svm = SVC(kernel='rbf', random_state=0, gamma=1, C=1)\n",
        "# Train the classifier\n",
        "svm.fit(X_xor, y_xor)\n",
        "\n",
        "# Visualize the decision boundaries\n",
        "plot_decision_regions(X_xor, y_xor, classifier=svm)\n",
        "plt.title('gamma = 1')\n",
        "plt.show()"
      ],
      "execution_count": null,
      "outputs": []
    },
    {
      "cell_type": "code",
      "metadata": {
        "id": "3sn5sxYPugFW"
      },
      "source": [
        "# Create a SVC classifier using an RBF kernel\n",
        "svm = SVC(kernel='rbf', random_state=0, gamma=10, C=1)\n",
        "# Train the classifier\n",
        "svm.fit(X_xor, y_xor)\n",
        "\n",
        "# Visualize the decision boundaries\n",
        "plot_decision_regions(X_xor, y_xor, classifier=svm)\n",
        "plt.title('gamma = 10')\n",
        "plt.show()"
      ],
      "execution_count": null,
      "outputs": []
    },
    {
      "cell_type": "code",
      "metadata": {
        "id": "y7TtjdszwlVa"
      },
      "source": [
        "# Create a SVC classifier using an RBF kernel\n",
        "svm = SVC(kernel='rbf', random_state=0, gamma=100, C=1)\n",
        "# Train the classifier\n",
        "svm.fit(X_xor, y_xor)\n",
        "\n",
        "# Visualize the decision boundaries\n",
        "plot_decision_regions(X_xor, y_xor, classifier=svm)\n",
        "plt.title('gamma = 100')\n",
        "plt.show()"
      ],
      "execution_count": null,
      "outputs": []
    },
    {
      "cell_type": "markdown",
      "metadata": {
        "id": "Uml1i3TBwqGA"
      },
      "source": [
        "- จากค่า `gamma = 100` จะเห็นว่า โมเดลจะฟิตกับข้อมูลที่เราใช้เทรนมากเกินไป จนไม่สามารถทำนายข้อมูลที่เข้ามาใหม่ (ข้อมูลที่ใช้ทดสอบ) ได้ถูกต้อง\n",
        "- ดังนั้น เราจึงต้องเลือกค่า `gamma` ที่เหมาะสมด้วยเช่นกัน"
      ]
    },
    {
      "cell_type": "markdown",
      "metadata": {
        "id": "FTu_1EKiw8Pc"
      },
      "source": [
        "- จากการใช้งาน `kernel RBF` เราต้องเลือกทั้งค่า `c` และ `gamma` ให้เหมาะสมกับชุดข้อมูลที่เรามี\n",
        "- แล้วเราละเลือกยังไง ?"
      ]
    },
    {
      "cell_type": "markdown",
      "metadata": {
        "id": "dkNTRdQnxHU_"
      },
      "source": [
        "- ตะแกรงค้นหา หรือ `Grid search` สามารถช่วยเราได้\n",
        "- โดย `grid search` นั้น จะทำการทดสอบค่าพารามิเตอร์ `c` และ `gamma` ที่เรากำหนด และคืนค่าเป็นโมเดลที่ให้ผลลัพธ์ที่ดีที่สุด"
      ]
    },
    {
      "cell_type": "code",
      "metadata": {
        "id": "J0X6cXNQ1xGk"
      },
      "source": [
        "from sklearn.model_selection import GridSearchCV\n",
        "tuned_parameters = [{'kernel': ['rbf'], 'gamma': [0.01, 0.1, 1, 10],\n",
        "                     'C': [1, 10, 100, 1000]}]\n",
        "clf = GridSearchCV(SVC(), tuned_parameters)\n",
        "clf.fit(X_xor, y_xor)\n",
        "print(clf.best_params_)"
      ],
      "execution_count": null,
      "outputs": []
    },
    {
      "cell_type": "markdown",
      "source": [
        "### แบบฝึกหัด 3.4\n",
        "\n",
        "ทดลองทำนายข้อมูลจริง ด้วย Dataset `UniversalBank` ซึงประกอบด้วย\n",
        "\n",
        "`ID`: รหัสของข้อมูล\n",
        "\n",
        "`Age`: อายุของลูกค้า\n",
        "\n",
        "`Experience`: ประสบการณ์ทำงานเป็นจำนวนปี\n",
        "\n",
        "`Income`: รายได้ประจำปีของลูกค้า (หน่วย: พันดอลลาร์)\n",
        "\n",
        "`ZIP Code`: รหัสไปรษณีย์\n",
        "\n",
        "`Family`: ขนาดครอบครัวของลูกค้า\n",
        "\n",
        "`CCAvg`: การใช้จ่ายเฉลี่ยต่อเดือนบนบัตรเครดิต (หน่วย: พันดอลลาร์)\n",
        "\n",
        "`Education`: ระดับการศึกษา 1: ปริญญาตรี; 2: ปริญญาโท; 3: ขั้นสูง/มืออาชีพ\n",
        "\n",
        "`Mortgage`: มูลค่าของการจำนองบ้านหากมี (หน่วย: พันดอลลาร์)\n",
        "\n",
        "`Personal Loan`: การตอบรับสินเชื่อส่วนบุคคล 1 ได้รับสินเชื่อ, 0 ไม่ได้รับ\n",
        "\n",
        "`Securities Account`: 1 หากลูกค้ามีบัญชีหลักทรัพย์กับธนาคาร, 0 หากไม่มี\n",
        "\n",
        "`CD Account`: 1 หากลูกค้ามีบัญชีฝากเงินฝาก (CD) กับธนาคาร, 0 หากไม่มี\n",
        "\n",
        "`Online Banking`: 1 หากลูกค้าใช้บริการอินเตอร์เน็ตแบงค์กิ้ง, 0 หากไม่ใช้\n",
        "\n",
        "`Credit Card`: 1 หากลูกค้าใช้บัตรเครดิตที่ออกโดยธนาคาร, 0 หากไม่ใช้\n",
        "\n",
        "โดยเราจะทำนายว่า หากลูกค้าเข้ามาขอสินเชื่อส่วนบุคคล จะได้รับการอนุมัติหรือไม่"
      ],
      "metadata": {
        "id": "bQqlQGmPG4PW"
      }
    },
    {
      "cell_type": "markdown",
      "source": [
        "1. นำเข้าข้อมูล UniversalBank"
      ],
      "metadata": {
        "id": "-UELw9krlC9s"
      }
    },
    {
      "cell_type": "code",
      "source": [
        "!pip install dmba"
      ],
      "metadata": {
        "id": "ZfEOSU_L-UED"
      },
      "execution_count": null,
      "outputs": []
    },
    {
      "cell_type": "code",
      "source": [
        "import dmba\n",
        "\n",
        "universal_bank = dmba.load_data('UniversalBank.csv')"
      ],
      "metadata": {
        "id": "4WuhAAlxlVxx"
      },
      "execution_count": null,
      "outputs": []
    },
    {
      "cell_type": "code",
      "source": [
        "universal_bank.head()"
      ],
      "metadata": {
        "id": "eg2aXFPmleAy"
      },
      "execution_count": null,
      "outputs": []
    },
    {
      "cell_type": "code",
      "source": [
        "universal_bank.info()"
      ],
      "metadata": {
        "id": "GRoZOoSUlhXZ"
      },
      "execution_count": null,
      "outputs": []
    },
    {
      "cell_type": "markdown",
      "source": [
        "2. ทำการเลือกข้อมูลที่จะนำมาใช้เป็น Features (ตัดข้อมูลบาง Columns ที่ไม่น่าสนใจออก) และข้อมูลที่เป็นคำตอบ"
      ],
      "metadata": {
        "id": "Lhm3arprqDDQ"
      }
    },
    {
      "cell_type": "code",
      "source": [],
      "metadata": {
        "id": "XEhaLIN_ngJJ"
      },
      "execution_count": null,
      "outputs": []
    },
    {
      "cell_type": "markdown",
      "source": [
        "3. ทำการแบ่งข้อมูลออกเป็น ข้อมูลที่ใช้สอบ (Training Data) และข้อมูลที่ใช้ทดสอบ (Testing Data)"
      ],
      "metadata": {
        "id": "KJlAng_lqqRE"
      }
    },
    {
      "cell_type": "code",
      "source": [],
      "metadata": {
        "id": "TIKqa_FEq0Bf"
      },
      "execution_count": null,
      "outputs": []
    },
    {
      "cell_type": "markdown",
      "source": [
        "4. สร้าง SVM Model สำหรับการทำนายผล โดยใช้ Grid Search ในการหา Parameters ที่ดีที่สุด"
      ],
      "metadata": {
        "id": "BnjRei53qUeA"
      }
    },
    {
      "cell_type": "code",
      "source": [],
      "metadata": {
        "id": "L4I8PqXSqg6c"
      },
      "execution_count": null,
      "outputs": []
    },
    {
      "cell_type": "markdown",
      "source": [
        "5. สร้าง SVM Model จาก Parameters ที่ได้"
      ],
      "metadata": {
        "id": "DV8gdQN0qhM-"
      }
    },
    {
      "cell_type": "code",
      "source": [],
      "metadata": {
        "id": "ukXKnzteql7z"
      },
      "execution_count": null,
      "outputs": []
    },
    {
      "cell_type": "markdown",
      "source": [
        "6. ทำการ Train Model"
      ],
      "metadata": {
        "id": "wVKHXSiUqmTs"
      }
    },
    {
      "cell_type": "code",
      "source": [],
      "metadata": {
        "id": "98IEZ89Jq7PD"
      },
      "execution_count": null,
      "outputs": []
    },
    {
      "cell_type": "markdown",
      "source": [
        "7. ทำการ Test Model"
      ],
      "metadata": {
        "id": "jLbIldcGqmJZ"
      }
    },
    {
      "cell_type": "code",
      "source": [],
      "metadata": {
        "id": "h0tItPvmq-9b"
      },
      "execution_count": null,
      "outputs": []
    },
    {
      "cell_type": "markdown",
      "source": [
        "8. รายงานผลการทดสอบด้วย Classification Report"
      ],
      "metadata": {
        "id": "TyU2wTo0q_RZ"
      }
    },
    {
      "cell_type": "code",
      "source": [],
      "metadata": {
        "id": "vWO46o62rFZ_"
      },
      "execution_count": null,
      "outputs": []
    },
    {
      "cell_type": "markdown",
      "source": [
        "9. รายงานผลการทดสอบด้วย Confusion Matrix"
      ],
      "metadata": {
        "id": "n922vv7vrFr7"
      }
    },
    {
      "cell_type": "code",
      "source": [],
      "metadata": {
        "id": "SrAtNF1LrMGO"
      },
      "execution_count": null,
      "outputs": []
    }
  ]
}