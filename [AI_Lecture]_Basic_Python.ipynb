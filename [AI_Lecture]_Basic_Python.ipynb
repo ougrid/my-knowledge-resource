{
  "nbformat": 4,
  "nbformat_minor": 0,
  "metadata": {
    "colab": {
      "provenance": [],
      "include_colab_link": true
    },
    "kernelspec": {
      "name": "python3",
      "display_name": "Python 3"
    },
    "language_info": {
      "name": "python"
    }
  },
  "cells": [
    {
      "cell_type": "markdown",
      "metadata": {
        "id": "view-in-github",
        "colab_type": "text"
      },
      "source": [
        "<a href=\"https://colab.research.google.com/github/ougrid/my-knowledge-resource/blob/master/%5BAI_Lecture%5D_Basic_Python.ipynb\" target=\"_parent\"><img src=\"https://colab.research.google.com/assets/colab-badge.svg\" alt=\"Open In Colab\"/></a>"
      ]
    },
    {
      "cell_type": "markdown",
      "source": [
        "# 🤖 [AI Lecture] Basic Python & Google Colab\n",
        "- Lecture for Super AI Engineer SS.4 participants\n",
        "- prepared by Techin Techintananan (Super AI Engineer SS.3)\n",
        "- Update on 21 Jan, 2024"
      ],
      "metadata": {
        "id": "ZUTqjVilA3It"
      }
    },
    {
      "cell_type": "markdown",
      "source": [
        "## 📍 Session 1: Google Colab"
      ],
      "metadata": {
        "id": "BWzSntLEhe_n"
      }
    },
    {
      "cell_type": "markdown",
      "source": [
        "### 🐾 Step 1: Start the Colab Notebook\n",
        "First, Sign in your Google account, then\n",
        "- `File > Save a copy in Drive` to clone this notebook to be yours\n",
        "- `File > Open notebook` to open the notebook in your Google Drive\n",
        "- `File > Upload notebook` to upload the jupyter notebook (.ipynb) from local or other source to Google colab\n",
        "\n",
        "<br><hr>"
      ],
      "metadata": {
        "id": "KIG4NU64iSK6"
      }
    },
    {
      "cell_type": "markdown",
      "source": [
        "### 🐾 Step 2: Setting your Notebook\n",
        "1. Appearance\n",
        "- `Tools > Settings` and design your notebook!\n",
        "2. GitHub connection / Git Version Control\n",
        "- `Tools > Settings > GitHub` and setting your GitHub project links, for more details look at [this demo](https://colab.research.google.com/github/googlecolab/colabtools/blob/master/notebooks/colab-github-demo.ipynb#scrollTo=K-NVg7RjyeTk)\n",
        "3. Manage Runtime (🚨 IMPORTANT)\n",
        "- `Runtime > Change Runtime Type > Hardware accelerator` then select your CPU/GPU before running the notebook\n",
        "- The GPU & Storage limitations are related to your Google Colab Plan, please check the [details](https://colab.research.google.com/signup)\n",
        "\n",
        "<br><hr>"
      ],
      "metadata": {
        "id": "5iY5X3LbmJQ6"
      }
    },
    {
      "cell_type": "markdown",
      "source": [
        "### 🐾 Step 3: Know the **Text cell**\n",
        "Text cells are formatted using a simple markup language called `Markdown`, let's see the [Markdown Guide](https://www.markdownguide.org/basic-syntax/)\n",
        "\n",
        "# `#Heading1` for Heading1 (Biggest)\n",
        "## `#Heading2` for Heading2\n",
        "### `#Heading3` for Heading3\n",
        "#### `#Heading4` for Heading4\n",
        "##### `#Heading5` for Heading5\n",
        "###### `#Heading6` for Heading6 (Smallest)\n",
        "<br>\n",
        "\n",
        "\n",
        "`**Text**` for **Bold Text**  <br>\n",
        "`*Text*` for *Italic Text* <br>\n",
        "`***Text***` for ***Bold&Italic Text*** <br>\n",
        "`` `Text` `` for `Highlight Text` <br>\n",
        "``` ``Text`` ``` for ``Text with back tick (`)``<br>\n",
        "`[Text](link)` for [Embedding link](https://youtu.be/wh9QLjk3M2k?si=5aWfYotmNIYB7iCq)\n",
        "\n",
        "`![Text](Image link)` or `<img src=\"Image link\" alt=\"Text\">` for image <br>\n",
        " <img src=\"https://pngimg.com/uploads/doge_meme/doge_meme_PNG21.png\" alt=\"image\" width=\"60px\" height=\"auto\">\n",
        "\n",
        "<br><hr>"
      ],
      "metadata": {
        "id": "0uER4P0-xkBj"
      }
    },
    {
      "cell_type": "markdown",
      "source": [
        "### 🐾 Step 4: Understand the **Code cell**"
      ],
      "metadata": {
        "id": "E92mwx1d7VDr"
      }
    },
    {
      "cell_type": "markdown",
      "source": [
        "#### How to Run Code\n",
        "- Click the Run cell button (<img src=\"https://cdn-icons-png.flaticon.com/512/0/375.png\" width=\"15px\">) to run code in that cell\n",
        "- Select option on `Runtime`\n",
        "- `⌘/ctrl + Enter` to run selection cell\n",
        "- `Shift + Enter` to run selection and select the next cell\n",
        "> Look more shortcut by `Tools > Keyboards shortcuts`\n"
      ],
      "metadata": {
        "id": "Xh5W1oz87itl"
      }
    },
    {
      "cell_type": "markdown",
      "source": [
        "#### Let's run Python!"
      ],
      "metadata": {
        "id": "nUb5bJnT7xhr"
      }
    },
    {
      "cell_type": "code",
      "source": [
        "print('Hello, Code cell')"
      ],
      "metadata": {
        "colab": {
          "base_uri": "https://localhost:8080/"
        },
        "id": "leHr3JSo7Scp",
        "outputId": "7cba3de2-109f-4d27-bde1-6f88f81ed7c2"
      },
      "execution_count": null,
      "outputs": [
        {
          "output_type": "stream",
          "name": "stdout",
          "text": [
            "Hello, Code cell\n"
          ]
        }
      ]
    },
    {
      "cell_type": "markdown",
      "source": [
        "<hr>\n",
        "\n",
        "#### Connect to Google Drive\n",
        "- Using source code\n",
        "- Using code snippets by `Code snippets > Mounting Google Drive in your VM` and insert\n",
        "- Clicking the UI by `Files > Mount Drive`"
      ],
      "metadata": {
        "id": "pHLbQCEA_Yh1"
      }
    },
    {
      "cell_type": "code",
      "source": [
        "from google.colab import drive\n",
        "drive.mount('/gdrive')"
      ],
      "metadata": {
        "colab": {
          "base_uri": "https://localhost:8080/"
        },
        "id": "4-lz0Mza_icy",
        "outputId": "98e05d4b-ea12-4f18-d736-b4543b546a6d"
      },
      "execution_count": null,
      "outputs": [
        {
          "output_type": "stream",
          "name": "stdout",
          "text": [
            "Mounted at /gdrive\n"
          ]
        }
      ]
    },
    {
      "cell_type": "markdown",
      "source": [
        "<hr>\n",
        "\n",
        "#### About files and directories"
      ],
      "metadata": {
        "id": "RU5n2xRaFgB-"
      }
    },
    {
      "cell_type": "code",
      "source": [
        "# Save file\n",
        "data = \"Basic Python Lecturer is very cool\"\n",
        "with open('/content/test.txt', 'w') as f:\n",
        "  f.write(data)"
      ],
      "metadata": {
        "id": "KINieuaeFlHi"
      },
      "execution_count": null,
      "outputs": []
    },
    {
      "cell_type": "code",
      "source": [
        "# Read file\n",
        "with open('/content/test.txt', 'r') as f:\n",
        "  data = f.read()\n",
        "print(data)"
      ],
      "metadata": {
        "colab": {
          "base_uri": "https://localhost:8080/"
        },
        "id": "vWsPiCGVFrK6",
        "outputId": "db177c4e-b6df-4001-bea3-b963344f8713"
      },
      "execution_count": null,
      "outputs": [
        {
          "output_type": "stream",
          "name": "stdout",
          "text": [
            "Basic Python Lecturer is very cool\n"
          ]
        }
      ]
    },
    {
      "cell_type": "markdown",
      "source": [
        "<hr>\n",
        "\n",
        "#### Command script\n",
        "- Use `!` symbol to run a [bash script](https://github.com/RehanSaeed/Bash-Cheat-Sheet) in code cell, mostly use for install python library!\n",
        "- Use `%` and `%%` to run a [built-in magic command](https://ipython.readthedocs.io/en/stable/interactive/magics.html#) provided by IPython"
      ],
      "metadata": {
        "id": "pzDUmj1Q-MfA"
      }
    },
    {
      "cell_type": "code",
      "source": [
        "# Check version of python\n",
        "!python -V"
      ],
      "metadata": {
        "colab": {
          "base_uri": "https://localhost:8080/"
        },
        "id": "RMdEz-0aLfND",
        "outputId": "ba086895-ccdd-4a7d-da50-619e18756a45"
      },
      "execution_count": null,
      "outputs": [
        {
          "output_type": "stream",
          "name": "stdout",
          "text": [
            "Python 3.10.12\n"
          ]
        }
      ]
    },
    {
      "cell_type": "code",
      "source": [
        "# Install python library\n",
        "!pip install pandas\n",
        "!pip install matplotlib"
      ],
      "metadata": {
        "colab": {
          "base_uri": "https://localhost:8080/"
        },
        "id": "dULDmPKR5aTl",
        "outputId": "0ab05327-46f7-4f82-a02d-b8d59e995f8d"
      },
      "execution_count": null,
      "outputs": [
        {
          "output_type": "stream",
          "name": "stdout",
          "text": [
            "Requirement already satisfied: pandas in /usr/local/lib/python3.10/dist-packages (1.5.3)\n",
            "Requirement already satisfied: python-dateutil>=2.8.1 in /usr/local/lib/python3.10/dist-packages (from pandas) (2.8.2)\n",
            "Requirement already satisfied: pytz>=2020.1 in /usr/local/lib/python3.10/dist-packages (from pandas) (2023.3.post1)\n",
            "Requirement already satisfied: numpy>=1.21.0 in /usr/local/lib/python3.10/dist-packages (from pandas) (1.23.5)\n",
            "Requirement already satisfied: six>=1.5 in /usr/local/lib/python3.10/dist-packages (from python-dateutil>=2.8.1->pandas) (1.16.0)\n",
            "Requirement already satisfied: matplotlib in /usr/local/lib/python3.10/dist-packages (3.7.1)\n",
            "Requirement already satisfied: contourpy>=1.0.1 in /usr/local/lib/python3.10/dist-packages (from matplotlib) (1.2.0)\n",
            "Requirement already satisfied: cycler>=0.10 in /usr/local/lib/python3.10/dist-packages (from matplotlib) (0.12.1)\n",
            "Requirement already satisfied: fonttools>=4.22.0 in /usr/local/lib/python3.10/dist-packages (from matplotlib) (4.47.2)\n",
            "Requirement already satisfied: kiwisolver>=1.0.1 in /usr/local/lib/python3.10/dist-packages (from matplotlib) (1.4.5)\n",
            "Requirement already satisfied: numpy>=1.20 in /usr/local/lib/python3.10/dist-packages (from matplotlib) (1.23.5)\n",
            "Requirement already satisfied: packaging>=20.0 in /usr/local/lib/python3.10/dist-packages (from matplotlib) (23.2)\n",
            "Requirement already satisfied: pillow>=6.2.0 in /usr/local/lib/python3.10/dist-packages (from matplotlib) (9.4.0)\n",
            "Requirement already satisfied: pyparsing>=2.3.1 in /usr/local/lib/python3.10/dist-packages (from matplotlib) (3.1.1)\n",
            "Requirement already satisfied: python-dateutil>=2.7 in /usr/local/lib/python3.10/dist-packages (from matplotlib) (2.8.2)\n",
            "Requirement already satisfied: six>=1.5 in /usr/local/lib/python3.10/dist-packages (from python-dateutil>=2.7->matplotlib) (1.16.0)\n"
          ]
        }
      ]
    },
    {
      "cell_type": "code",
      "source": [
        "# Change current directory\n",
        "%cd sample_data\n",
        "%ls"
      ],
      "metadata": {
        "colab": {
          "base_uri": "https://localhost:8080/"
        },
        "id": "pO_mBU1b4W8P",
        "outputId": "1d35734e-fe5b-433b-f231-f8689c7885e6"
      },
      "execution_count": null,
      "outputs": [
        {
          "output_type": "stream",
          "name": "stdout",
          "text": [
            "/content/sample_data\n",
            "\u001b[0m\u001b[01;32manscombe.json\u001b[0m*               california_housing_train.csv  mnist_train_small.csv\n",
            "california_housing_test.csv  mnist_test.csv                \u001b[01;32mREADME.md\u001b[0m*\n"
          ]
        }
      ]
    },
    {
      "cell_type": "code",
      "source": [
        "# Go back for one step\n",
        "%cd ..\n",
        "%ls"
      ],
      "metadata": {
        "colab": {
          "base_uri": "https://localhost:8080/"
        },
        "id": "BAC03exHJ42c",
        "outputId": "f4bacd81-42c1-4251-ffc4-4d0fd381b50f"
      },
      "execution_count": null,
      "outputs": [
        {
          "output_type": "stream",
          "name": "stdout",
          "text": [
            "/content\n",
            "ls: cannot access 'drive': Transport endpoint is not connected\n",
            "app.py  img_classification.py  logs.txt       package-lock.json  \u001b[0m\u001b[01;34msample_data\u001b[0m/\n",
            "\u001b[01;34mdrive\u001b[0m/  keras_model.h5         \u001b[01;34mnode_modules\u001b[0m/  \u001b[01;34m__pycache__\u001b[0m/       test.txt\n"
          ]
        }
      ]
    },
    {
      "cell_type": "code",
      "source": [
        "# Run cell as bash script\n",
        "%%bash\n",
        "pip install pandas\n",
        "pip install matplotlib"
      ],
      "metadata": {
        "colab": {
          "base_uri": "https://localhost:8080/"
        },
        "id": "zqfiQ4juJvzG",
        "outputId": "f3989f4f-e74c-4b47-d0c8-9db581048894"
      },
      "execution_count": null,
      "outputs": [
        {
          "output_type": "stream",
          "name": "stdout",
          "text": [
            "Requirement already satisfied: pandas in /usr/local/lib/python3.10/dist-packages (1.5.3)\n",
            "Requirement already satisfied: python-dateutil>=2.8.1 in /usr/local/lib/python3.10/dist-packages (from pandas) (2.8.2)\n",
            "Requirement already satisfied: pytz>=2020.1 in /usr/local/lib/python3.10/dist-packages (from pandas) (2023.3.post1)\n",
            "Requirement already satisfied: numpy>=1.21.0 in /usr/local/lib/python3.10/dist-packages (from pandas) (1.23.5)\n",
            "Requirement already satisfied: six>=1.5 in /usr/local/lib/python3.10/dist-packages (from python-dateutil>=2.8.1->pandas) (1.16.0)\n",
            "Requirement already satisfied: matplotlib in /usr/local/lib/python3.10/dist-packages (3.7.1)\n",
            "Requirement already satisfied: contourpy>=1.0.1 in /usr/local/lib/python3.10/dist-packages (from matplotlib) (1.2.0)\n",
            "Requirement already satisfied: cycler>=0.10 in /usr/local/lib/python3.10/dist-packages (from matplotlib) (0.12.1)\n",
            "Requirement already satisfied: fonttools>=4.22.0 in /usr/local/lib/python3.10/dist-packages (from matplotlib) (4.47.2)\n",
            "Requirement already satisfied: kiwisolver>=1.0.1 in /usr/local/lib/python3.10/dist-packages (from matplotlib) (1.4.5)\n",
            "Requirement already satisfied: numpy>=1.20 in /usr/local/lib/python3.10/dist-packages (from matplotlib) (1.23.5)\n",
            "Requirement already satisfied: packaging>=20.0 in /usr/local/lib/python3.10/dist-packages (from matplotlib) (23.2)\n",
            "Requirement already satisfied: pillow>=6.2.0 in /usr/local/lib/python3.10/dist-packages (from matplotlib) (9.4.0)\n",
            "Requirement already satisfied: pyparsing>=2.3.1 in /usr/local/lib/python3.10/dist-packages (from matplotlib) (3.1.1)\n",
            "Requirement already satisfied: python-dateutil>=2.7 in /usr/local/lib/python3.10/dist-packages (from matplotlib) (2.8.2)\n",
            "Requirement already satisfied: six>=1.5 in /usr/local/lib/python3.10/dist-packages (from python-dateutil>=2.7->matplotlib) (1.16.0)\n"
          ]
        }
      ]
    },
    {
      "cell_type": "code",
      "source": [
        "# Count time usage when running cell\n",
        "%%time\n",
        "_ = [i for i in range(100)]"
      ],
      "metadata": {
        "colab": {
          "base_uri": "https://localhost:8080/"
        },
        "id": "oidzSNCTLAHd",
        "outputId": "5bdb8ec7-46b7-4608-b2d5-08dbc1aec8dc"
      },
      "execution_count": null,
      "outputs": [
        {
          "output_type": "stream",
          "name": "stdout",
          "text": [
            "CPU times: user 12 µs, sys: 2 µs, total: 14 µs\n",
            "Wall time: 16.2 µs\n"
          ]
        }
      ]
    },
    {
      "cell_type": "markdown",
      "source": [
        "### Challenge 🔥\n",
        "write a `hello.py` using Code cell to run say \"hello\" from Code cell of Google Colab"
      ],
      "metadata": {
        "id": "DP-HnKTAvscV"
      }
    },
    {
      "cell_type": "markdown",
      "source": [
        "## 📍 Session 2: Basic Python"
      ],
      "metadata": {
        "id": "WfIo-erTMz5m"
      }
    },
    {
      "cell_type": "markdown",
      "source": [
        "### 🐾 Step1: Data Type"
      ],
      "metadata": {
        "id": "e38arptRM4yq"
      }
    },
    {
      "cell_type": "markdown",
      "source": [
        "##### Basic data type"
      ],
      "metadata": {
        "id": "5Fa_LKK26fdv"
      }
    },
    {
      "cell_type": "code",
      "source": [
        "# One-line comment"
      ],
      "metadata": {
        "id": "JhJ202HANSw1"
      },
      "execution_count": null,
      "outputs": []
    },
    {
      "cell_type": "code",
      "source": [
        "n_person = 2          # Int\n",
        "price = 30.5          # Float\n",
        "menu = 'ข้าวไข่เจียว'    # String\n",
        "details = \"\"\"เพิ่มเติม\n",
        "  ของผมเอาพิเศษ ไม่เอาต้นหอม\n",
        "ของแฟนเอาธรรมดา เพราะผมพิเศษอยู่แล้ว\n",
        "\"\"\"\n",
        "is_order = True       # Boolean"
      ],
      "metadata": {
        "id": "5wzjFruVOPIe"
      },
      "execution_count": null,
      "outputs": []
    },
    {
      "cell_type": "code",
      "source": [
        "# check type of data\n",
        "type(n_person), type(price), type(menu), type(details), type(is_order)"
      ],
      "metadata": {
        "colab": {
          "base_uri": "https://localhost:8080/"
        },
        "id": "3LWTkyLIPdhu",
        "outputId": "12b03db4-8d50-45d4-8984-066c6c4a105b"
      },
      "execution_count": null,
      "outputs": [
        {
          "output_type": "execute_result",
          "data": {
            "text/plain": [
              "(int, float, str, str, bool)"
            ]
          },
          "metadata": {},
          "execution_count": 45
        }
      ]
    },
    {
      "cell_type": "code",
      "source": [
        "# The way to print variable\n",
        "print('จำนวน', n_person, 'คน')\n",
        "print('เมนู: {} รายละเอียด: {}'.format(menu, details))\n",
        "print(f'ปกติราคาจานละ {price} บาท')\n",
        "print(f'พิเศษราคา {price + 10} บาท')\n",
        "print('ธรรมดาราคา %.2f' % price)\n",
        "print('ได้รับคำสั่งซื้อ:', is_order)"
      ],
      "metadata": {
        "colab": {
          "base_uri": "https://localhost:8080/"
        },
        "id": "QWDvdCcbPlkj",
        "outputId": "db66f16a-4b1a-4b22-ede3-0108349712d2"
      },
      "execution_count": null,
      "outputs": [
        {
          "output_type": "stream",
          "name": "stdout",
          "text": [
            "จำนวน 2 คน\n",
            "เมนู: ข้าวไข่เจียว รายละเอียด: เพิ่มเติม\n",
            "  ของผมเอาพิเศษ ไม่เอาต้นหอม\n",
            "ของแฟนเอาธรรมดา เพราะผมพิเศษอยู่แล้ว\n",
            "\n",
            "ปกติราคาจานละ 31.5 บาท\n",
            "พิเศษราคา 40.5 บาท\n",
            "ธรรมดาราคา 30.50\n",
            "ได้รับคำสั่งซื้อ: True\n"
          ]
        }
      ]
    },
    {
      "cell_type": "markdown",
      "source": [
        "<hr>\n",
        "\n",
        "##### **List**: a sequence of data\n",
        "Note📝: List index starts with 0"
      ],
      "metadata": {
        "id": "lzLG7p0v6h9r"
      }
    },
    {
      "cell_type": "code",
      "source": [
        "# List [value1, value2, value3, ...]\n",
        "menu = ['ข้าวไข่เจียว', 1, 'ข้าวผัด', 2, 'ก๋วยเตี๋ยวเรือ', 3.5]\n",
        "menu"
      ],
      "metadata": {
        "colab": {
          "base_uri": "https://localhost:8080/"
        },
        "id": "RXxwaVaf70Hj",
        "outputId": "ba76a871-6174-4787-d837-59729204c13c"
      },
      "execution_count": null,
      "outputs": [
        {
          "output_type": "execute_result",
          "data": {
            "text/plain": [
              "['ข้าวไข่เจียว', 1, 'ข้าวผัด', 2, 'ก๋วยเตี๋ยวเรือ', 3.5]"
            ]
          },
          "metadata": {},
          "execution_count": 47
        }
      ]
    },
    {
      "cell_type": "code",
      "source": [
        "# Positive index\n",
        "print(\"Menu#1 (index 0) :\", menu[0])\n",
        "print(\"Menu#2 (index 1) :\", menu[1])\n",
        "print(\"Menu#3 (index 2) :\", menu[2])\n",
        "print(\"Menu#4 (index 3) :\", menu[3])"
      ],
      "metadata": {
        "colab": {
          "base_uri": "https://localhost:8080/"
        },
        "id": "gBokSPD18Vo4",
        "outputId": "087964df-9ae8-4279-e2d6-d21e01e10960"
      },
      "execution_count": null,
      "outputs": [
        {
          "output_type": "stream",
          "name": "stdout",
          "text": [
            "Menu#1 (index 0) : ข้าวไข่เจียว\n",
            "Menu#2 (index 1) : 1\n",
            "Menu#3 (index 2) : ข้าวผัด\n",
            "Menu#4 (index 3) : 2\n"
          ]
        }
      ]
    },
    {
      "cell_type": "code",
      "source": [
        "# Negative index\n",
        "print(\"Menu#1 (index -1) :\", menu[-1])\n",
        "print(\"Menu#2 (index -2) :\", menu[-2])\n",
        "print(\"Menu#3 (index -3) :\", menu[-3])\n",
        "print(\"Menu#4 (index -4) :\", menu[-4])"
      ],
      "metadata": {
        "colab": {
          "base_uri": "https://localhost:8080/"
        },
        "id": "zy11hvTM8lMh",
        "outputId": "c5ac6bf7-8f90-4b12-bd83-cddbc2903307"
      },
      "execution_count": null,
      "outputs": [
        {
          "output_type": "stream",
          "name": "stdout",
          "text": [
            "Menu#1 (index -1) : 3.5\n",
            "Menu#2 (index -2) : ก๋วยเตี๋ยวเรือ\n",
            "Menu#3 (index -3) : 2\n",
            "Menu#4 (index -4) : ข้าวผัด\n"
          ]
        }
      ]
    },
    {
      "cell_type": "code",
      "source": [
        "# Check type of each data\n",
        "print(\"type(menu):\", type(menu))\n",
        "print(\"type(menu[0]):\", type(menu[0]))\n",
        "print(\"type(menu[1]):\", type(menu[1]))"
      ],
      "metadata": {
        "colab": {
          "base_uri": "https://localhost:8080/"
        },
        "id": "-rvL_teU9NkS",
        "outputId": "9673b5c3-d93d-4669-ea27-aa8cb0424a46"
      },
      "execution_count": null,
      "outputs": [
        {
          "output_type": "stream",
          "name": "stdout",
          "text": [
            "type(menu): <class 'list'>\n",
            "type(menu[0]): <class 'str'>\n",
            "type(menu[1]): <class 'int'>\n"
          ]
        }
      ]
    },
    {
      "cell_type": "code",
      "source": [
        "# Change value of list\n",
        "menu[0] = 'ขนมจีนน้ำเงี้ยว'\n",
        "menu"
      ],
      "metadata": {
        "colab": {
          "base_uri": "https://localhost:8080/"
        },
        "id": "PWFPNOi5AuB9",
        "outputId": "cc84e924-6643-401a-8f72-7b50709c3b2b"
      },
      "execution_count": null,
      "outputs": [
        {
          "output_type": "execute_result",
          "data": {
            "text/plain": [
              "['ขนมจีนน้ำเงี้ยว', 1, 'ข้าวผัด', 2, 'ก๋วยเตี๋ยวเรือ', 3.5]"
            ]
          },
          "metadata": {},
          "execution_count": 52
        }
      ]
    },
    {
      "cell_type": "markdown",
      "source": [
        "<hr>\n",
        "\n",
        "##### **Set**: a list of unique value"
      ],
      "metadata": {
        "id": "uLhse66u9lds"
      }
    },
    {
      "cell_type": "code",
      "source": [
        "# Set {value1, value2, value3, ...}\n",
        "menu = {'ข้าวไข่เจียว', 'ข้าวผัด', 'ข้าวไข่เจียว', 'ก๋วยเตี๋ยวเรือ'}\n",
        "menu"
      ],
      "metadata": {
        "colab": {
          "base_uri": "https://localhost:8080/"
        },
        "id": "iuwRBrS39vTu",
        "outputId": "c35f7a78-c45e-4a83-cde7-36ad0887c031"
      },
      "execution_count": null,
      "outputs": [
        {
          "output_type": "execute_result",
          "data": {
            "text/plain": [
              "{'ก๋วยเตี๋ยวเรือ', 'ข้าวผัด', 'ข้าวไข่เจียว'}"
            ]
          },
          "metadata": {},
          "execution_count": 53
        }
      ]
    },
    {
      "cell_type": "code",
      "source": [
        "print(\"type(menu):\", type(menu))\n",
        "print(\"type(menu[0]):\", type(menu[0]))"
      ],
      "metadata": {
        "colab": {
          "base_uri": "https://localhost:8080/",
          "height": 245
        },
        "id": "6iFg31lo9-9X",
        "outputId": "db56bed1-8495-45ce-b951-515be53b3548"
      },
      "execution_count": null,
      "outputs": [
        {
          "output_type": "stream",
          "name": "stdout",
          "text": [
            "type(menu): <class 'set'>\n"
          ]
        },
        {
          "output_type": "error",
          "ename": "TypeError",
          "evalue": "'set' object is not subscriptable",
          "traceback": [
            "\u001b[0;31m---------------------------------------------------------------------------\u001b[0m",
            "\u001b[0;31mTypeError\u001b[0m                                 Traceback (most recent call last)",
            "\u001b[0;32m<ipython-input-54-b8f18f2863aa>\u001b[0m in \u001b[0;36m<cell line: 2>\u001b[0;34m()\u001b[0m\n\u001b[1;32m      1\u001b[0m \u001b[0mprint\u001b[0m\u001b[0;34m(\u001b[0m\u001b[0;34m\"type(menu):\"\u001b[0m\u001b[0;34m,\u001b[0m \u001b[0mtype\u001b[0m\u001b[0;34m(\u001b[0m\u001b[0mmenu\u001b[0m\u001b[0;34m)\u001b[0m\u001b[0;34m)\u001b[0m\u001b[0;34m\u001b[0m\u001b[0;34m\u001b[0m\u001b[0m\n\u001b[0;32m----> 2\u001b[0;31m \u001b[0mprint\u001b[0m\u001b[0;34m(\u001b[0m\u001b[0;34m\"type(menu[0]):\"\u001b[0m\u001b[0;34m,\u001b[0m \u001b[0mtype\u001b[0m\u001b[0;34m(\u001b[0m\u001b[0mmenu\u001b[0m\u001b[0;34m[\u001b[0m\u001b[0;36m0\u001b[0m\u001b[0;34m]\u001b[0m\u001b[0;34m)\u001b[0m\u001b[0;34m)\u001b[0m\u001b[0;34m\u001b[0m\u001b[0;34m\u001b[0m\u001b[0m\n\u001b[0m",
            "\u001b[0;31mTypeError\u001b[0m: 'set' object is not subscriptable"
          ]
        }
      ]
    },
    {
      "cell_type": "markdown",
      "source": [
        "<hr>\n",
        "\n",
        "##### **Tuple**: an immutable list"
      ],
      "metadata": {
        "id": "x8KoPkG9__ZJ"
      }
    },
    {
      "cell_type": "code",
      "source": [
        "# Tuple (value1, value2, value3, ...)\n",
        "omelet = ('ไข่', 'น้ำปลา', 'น้ำมัน')\n",
        "omelet"
      ],
      "metadata": {
        "id": "jYNbmhPkAG5f",
        "colab": {
          "base_uri": "https://localhost:8080/"
        },
        "outputId": "00e71121-031a-4409-fc15-098ffef986e2"
      },
      "execution_count": null,
      "outputs": [
        {
          "output_type": "execute_result",
          "data": {
            "text/plain": [
              "('ไข่', 'น้ำปลา', 'น้ำมัน')"
            ]
          },
          "metadata": {},
          "execution_count": 55
        }
      ]
    },
    {
      "cell_type": "code",
      "source": [
        "# Positive index\n",
        "print(\"omelet#1 (index 0) :\", omelet[0])\n",
        "print(\"omelet#2 (index 1) :\", omelet[1])\n",
        "print(\"omelet#-1 (index -1) :\", omelet[-1])\n",
        "print(\"omelet#-2 (index -2) :\", omelet[-2])"
      ],
      "metadata": {
        "colab": {
          "base_uri": "https://localhost:8080/"
        },
        "id": "x94yNtEnAaiS",
        "outputId": "b252e142-66f8-47a3-a1e6-ef86031bc3e2"
      },
      "execution_count": null,
      "outputs": [
        {
          "output_type": "stream",
          "name": "stdout",
          "text": [
            "omelet#1 (index 0) : ไข่\n",
            "omelet#2 (index 1) : น้ำปลา\n",
            "omelet#-1 (index -1) : น้ำมัน\n",
            "omelet#-2 (index -2) : น้ำปลา\n"
          ]
        }
      ]
    },
    {
      "cell_type": "code",
      "source": [
        "# Change value of tuple\n",
        "omelet[0] = \"ข้าว\""
      ],
      "metadata": {
        "colab": {
          "base_uri": "https://localhost:8080/",
          "height": 228
        },
        "id": "o-5iMs1ZArjs",
        "outputId": "7230a65f-022a-4c4c-fc08-d37fb6ddcd24"
      },
      "execution_count": null,
      "outputs": [
        {
          "output_type": "error",
          "ename": "TypeError",
          "evalue": "'tuple' object does not support item assignment",
          "traceback": [
            "\u001b[0;31m---------------------------------------------------------------------------\u001b[0m",
            "\u001b[0;31mTypeError\u001b[0m                                 Traceback (most recent call last)",
            "\u001b[0;32m<ipython-input-57-c96b34cb7d3c>\u001b[0m in \u001b[0;36m<cell line: 2>\u001b[0;34m()\u001b[0m\n\u001b[1;32m      1\u001b[0m \u001b[0;31m# Change value of tuple\u001b[0m\u001b[0;34m\u001b[0m\u001b[0;34m\u001b[0m\u001b[0m\n\u001b[0;32m----> 2\u001b[0;31m \u001b[0momelet\u001b[0m\u001b[0;34m[\u001b[0m\u001b[0;36m0\u001b[0m\u001b[0;34m]\u001b[0m \u001b[0;34m=\u001b[0m \u001b[0;34m\"ข้าว\"\u001b[0m\u001b[0;34m\u001b[0m\u001b[0;34m\u001b[0m\u001b[0m\n\u001b[0m",
            "\u001b[0;31mTypeError\u001b[0m: 'tuple' object does not support item assignment"
          ]
        }
      ]
    },
    {
      "cell_type": "markdown",
      "source": [
        "<hr>\n",
        "\n",
        "##### **Dictionary**: a collection of key-value pairs"
      ],
      "metadata": {
        "id": "Ks5ogwAv7jOt"
      }
    },
    {
      "cell_type": "code",
      "source": [
        "# Dictionary {\"key\": value, ...}\n",
        "order = {\n",
        "    \"n_person\": 2,\n",
        "    \"menu\": 'ข้าวไข่เจียว',\n",
        "    \"is_order\": True\n",
        "}\n",
        "order"
      ],
      "metadata": {
        "colab": {
          "base_uri": "https://localhost:8080/"
        },
        "id": "-fzJZgbL6lAX",
        "outputId": "2d1d4d70-97c4-4483-9393-36e358560443"
      },
      "execution_count": null,
      "outputs": [
        {
          "output_type": "execute_result",
          "data": {
            "text/plain": [
              "{'n_person': 2, 'menu': 'ข้าวไข่เจียว', 'is_order': True}"
            ]
          },
          "metadata": {},
          "execution_count": 58
        }
      ]
    },
    {
      "cell_type": "code",
      "source": [
        "print(\"order['n_person'] :\", order['n_person'])\n",
        "print(\"order['menu'] :\", order['menu'])\n",
        "print(\"order['is_order'] :\", order['is_order'])"
      ],
      "metadata": {
        "colab": {
          "base_uri": "https://localhost:8080/"
        },
        "id": "V9AGmS6j-dnk",
        "outputId": "4ceed6b4-a102-41f8-d277-7aaf46245b0e"
      },
      "execution_count": null,
      "outputs": [
        {
          "output_type": "stream",
          "name": "stdout",
          "text": [
            "order['n_person'] : 2\n",
            "order['menu'] : ข้าวไข่เจียว\n",
            "order['is_order'] : True\n"
          ]
        }
      ]
    },
    {
      "cell_type": "code",
      "source": [
        "# Check data type\n",
        "print(\"type(order1):\", type(order))\n",
        "print(\"type(order1['n_person']):\", type(order['n_person']))\n",
        "print(\"type(order1['menu']):\", type(order['menu']))\n",
        "print(\"type(order1['is_order']):\", type(order['is_order']))"
      ],
      "metadata": {
        "colab": {
          "base_uri": "https://localhost:8080/"
        },
        "id": "HVJ42wxI6-TM",
        "outputId": "908da500-027f-4aa4-b051-ffb0ae549505"
      },
      "execution_count": null,
      "outputs": [
        {
          "output_type": "stream",
          "name": "stdout",
          "text": [
            "type(order1): <class 'dict'>\n",
            "type(order1['n_person']): <class 'int'>\n",
            "type(order1['menu']): <class 'str'>\n",
            "type(order1['is_order']): <class 'bool'>\n"
          ]
        }
      ]
    },
    {
      "cell_type": "markdown",
      "source": [
        "<hr>\n",
        "\n",
        "##### None: Yes, It's nothing"
      ],
      "metadata": {
        "id": "EIBnUDhV_1dh"
      }
    },
    {
      "cell_type": "code",
      "source": [
        "# None type\n",
        "order = None\n",
        "order"
      ],
      "metadata": {
        "id": "vb8kDu-J_4dE"
      },
      "execution_count": null,
      "outputs": []
    },
    {
      "cell_type": "code",
      "source": [
        "type(order)"
      ],
      "metadata": {
        "colab": {
          "base_uri": "https://localhost:8080/"
        },
        "id": "iT8g-tCYBVq0",
        "outputId": "708309b0-1518-4a87-ac99-84e56136d339"
      },
      "execution_count": null,
      "outputs": [
        {
          "output_type": "execute_result",
          "data": {
            "text/plain": [
              "NoneType"
            ]
          },
          "metadata": {},
          "execution_count": 62
        }
      ]
    },
    {
      "cell_type": "markdown",
      "source": [
        "##### 🔥 Challenge\n",
        "Find the way to save list, dictionary into files :D"
      ],
      "metadata": {
        "id": "rnhbpBWawMWY"
      }
    },
    {
      "cell_type": "markdown",
      "source": [
        "<hr>\n",
        "\n",
        "### 🐾 Step2: Operaters"
      ],
      "metadata": {
        "id": "3I7NPWecNIs8"
      }
    },
    {
      "cell_type": "markdown",
      "source": [
        "#### Number: Int & Float\n",
        "Note: The output data type should match the input (except when divided), and Python will prioritize **float over int**\n"
      ],
      "metadata": {
        "id": "ixl2H8h8R4Nf"
      }
    },
    {
      "cell_type": "markdown",
      "source": [
        "##### Arithmetic Operators"
      ],
      "metadata": {
        "id": "5tiIwlGB6WTY"
      }
    },
    {
      "cell_type": "code",
      "source": [
        "# Int\n",
        "print(\"5 + 2 = \", 5 + 2)      # Addition\n",
        "print(\"5 - 2 = \", 5 - 2)      # Subtraction\n",
        "print(\"5 * 2 = \", 5 * 2)      # Multiplication\n",
        "print(\"5 / 2 = \", 5 / 2)      # Division\n",
        "print(\"5 // 2 = \", 5 // 2)    # Floor Division\n",
        "print(\"5 ** 2 = \", 5 ** 2)    # Exponentiation\n",
        "print(\"5 % 2 = \", 5 % 2)      # Modulus"
      ],
      "metadata": {
        "colab": {
          "base_uri": "https://localhost:8080/"
        },
        "id": "sGoO3RgE1sx2",
        "outputId": "f11ac0e9-2d96-41f1-dcbe-dbcbf1faddd7"
      },
      "execution_count": null,
      "outputs": [
        {
          "output_type": "stream",
          "name": "stdout",
          "text": [
            "5 + 2 =  7\n",
            "5 - 2 =  3\n",
            "5 * 2 =  10\n",
            "5 / 2 =  2.5\n",
            "5 // 2 =  2\n",
            "5 ** 2 =  25\n",
            "5 % 2 =  1\n"
          ]
        }
      ]
    },
    {
      "cell_type": "code",
      "source": [
        "# Float\n",
        "print(\"5.0 + 2 = \", 5.0 + 2)      # Addition\n",
        "print(\"5.0 - 2 = \", 5.0 - 2)      # Subtraction\n",
        "print(\"5.0 * 2 = \", 5.0 * 2)      # Multiplication\n",
        "print(\"5.0 / 2 = \", 5.0 / 2)      # Division\n",
        "print(\"5.0 // 2 = \", 5.0 // 2)    # Floor Division\n",
        "print(\"5.0 ** 2 = \", 5.0 ** 2)    # Exponentiation\n",
        "print(\"5.0 % 2 = \", 5.0 % 2)      # Modulus"
      ],
      "metadata": {
        "colab": {
          "base_uri": "https://localhost:8080/"
        },
        "id": "R_i4RP-I2WOd",
        "outputId": "dffc0ddc-b2d4-469c-f564-7f99616cb924"
      },
      "execution_count": null,
      "outputs": [
        {
          "output_type": "stream",
          "name": "stdout",
          "text": [
            "5.0 + 2 =  7.0\n",
            "5.0 - 2 =  3.0\n",
            "5.0 * 2 =  10.0\n",
            "5.0 / 2 =  2.5\n",
            "5.0 // 2 =  2.0\n",
            "5.0 ** 2 =  25.0\n",
            "5.0 % 2 =  1.0\n"
          ]
        }
      ]
    },
    {
      "cell_type": "markdown",
      "source": [
        "👀 Let Focus the modulus\n",
        "\n",
        "The result is positibe/negative depends on the divider"
      ],
      "metadata": {
        "id": "9lMsp3Bq4D2s"
      }
    },
    {
      "cell_type": "code",
      "source": [
        "7 % 5     # 7 = (5)*(1) + (2)"
      ],
      "metadata": {
        "colab": {
          "base_uri": "https://localhost:8080/"
        },
        "id": "qHPJBpWg2vY6",
        "outputId": "9e8d762e-855d-47e4-930e-184c4a6b4c15"
      },
      "execution_count": null,
      "outputs": [
        {
          "output_type": "execute_result",
          "data": {
            "text/plain": [
              "2"
            ]
          },
          "metadata": {},
          "execution_count": 66
        }
      ]
    },
    {
      "cell_type": "code",
      "source": [
        "-7 % 5    # -7 = (5)*(-2) + (3)"
      ],
      "metadata": {
        "colab": {
          "base_uri": "https://localhost:8080/"
        },
        "id": "T2kUr8iE4AuF",
        "outputId": "86d5b9a3-d151-4772-bf10-ed778f660b98"
      },
      "execution_count": null,
      "outputs": [
        {
          "output_type": "execute_result",
          "data": {
            "text/plain": [
              "3"
            ]
          },
          "metadata": {},
          "execution_count": 67
        }
      ]
    },
    {
      "cell_type": "code",
      "source": [
        "7 % -5    # 7 = (-5)*(-2) + (-3)"
      ],
      "metadata": {
        "colab": {
          "base_uri": "https://localhost:8080/"
        },
        "id": "Bd1SEDdI2s6F",
        "outputId": "c0abd1b8-79b6-46c1-bd79-2e438aed525e"
      },
      "execution_count": null,
      "outputs": [
        {
          "output_type": "execute_result",
          "data": {
            "text/plain": [
              "-3"
            ]
          },
          "metadata": {},
          "execution_count": 68
        }
      ]
    },
    {
      "cell_type": "code",
      "source": [
        "-7 % -5   # -7 = (-5)*(1) + (-2)"
      ],
      "metadata": {
        "colab": {
          "base_uri": "https://localhost:8080/"
        },
        "id": "71-PDsJE2U0I",
        "outputId": "794b88c7-2c0b-4673-b348-239645a25907"
      },
      "execution_count": null,
      "outputs": [
        {
          "output_type": "execute_result",
          "data": {
            "text/plain": [
              "-2"
            ]
          },
          "metadata": {},
          "execution_count": 69
        }
      ]
    },
    {
      "cell_type": "markdown",
      "source": [
        "Operation prioritize\n",
        "- Calculate value in ( ) first\n",
        "- Then, Do `*`, `/`, `%` from left to right\n",
        "- Finally, Do `+`, `-` from left to right"
      ],
      "metadata": {
        "id": "Vaky6MfVFj9A"
      }
    },
    {
      "cell_type": "markdown",
      "source": [
        "##### 🔥 Challenge\n",
        "What is the result of `2+(15-2*2)//5%3` when run in python"
      ],
      "metadata": {
        "id": "YEVJ4DxXwf1C"
      }
    },
    {
      "cell_type": "code",
      "source": [
        "2+(15-2*2)//5%3"
      ],
      "metadata": {
        "colab": {
          "base_uri": "https://localhost:8080/"
        },
        "id": "bYY9-qq0QUkx",
        "outputId": "74677cca-7863-40fb-9594-04c7eed7d550"
      },
      "execution_count": null,
      "outputs": [
        {
          "output_type": "execute_result",
          "data": {
            "text/plain": [
              "4"
            ]
          },
          "metadata": {},
          "execution_count": 70
        }
      ]
    },
    {
      "cell_type": "markdown",
      "source": [
        "<hr>\n",
        "\n",
        "##### Assignment operator\n",
        "Using `=` to define the value of variable, where value in the right and variable in the left `<variable> = <value>`"
      ],
      "metadata": {
        "id": "3aZdZU8i6LDW"
      }
    },
    {
      "cell_type": "code",
      "source": [
        "x = 2\n",
        "x = x + 1       # Assign x(new) = x(old) + 1\n",
        "print(x)"
      ],
      "metadata": {
        "colab": {
          "base_uri": "https://localhost:8080/"
        },
        "id": "U30U6JK4C4CN",
        "outputId": "0c36b453-c759-4d1e-ee89-637d907a40e9"
      },
      "execution_count": null,
      "outputs": [
        {
          "output_type": "stream",
          "name": "stdout",
          "text": [
            "3\n"
          ]
        }
      ]
    },
    {
      "cell_type": "code",
      "source": [
        "x = 2\n",
        "print(\"x: \", x)\n",
        "x += 2\n",
        "print(\"x+=2: \", x)  # x = x + 2\n",
        "x -= 2\n",
        "print(\"x-=2: \", x)  # x = x - 2\n",
        "x *= 2\n",
        "print(\"x*=2: \", x)  # x = x * 2\n",
        "x /= 2\n",
        "print(\"x/=2: \", x)  # x = x / 2"
      ],
      "metadata": {
        "colab": {
          "base_uri": "https://localhost:8080/"
        },
        "id": "zZI8-lRC2SUb",
        "outputId": "9a5ff4b5-7994-4ca1-b80e-709b8c3631a0"
      },
      "execution_count": null,
      "outputs": [
        {
          "output_type": "stream",
          "name": "stdout",
          "text": [
            "x:  2\n",
            "x+=2:  4\n",
            "x-=2:  2\n",
            "x*=2:  4\n",
            "x/=2:  2.0\n"
          ]
        }
      ]
    },
    {
      "cell_type": "markdown",
      "source": [
        "#### List operators\n",
        "🚨 Index of list start with 0"
      ],
      "metadata": {
        "id": "fCe5fGUBFIif"
      }
    },
    {
      "cell_type": "code",
      "source": [
        "# Get index from List\n",
        "A = [1, 2, 3, 4, 5, 6, 7, 8, 9]\n",
        "print(\"A#1 (index 0) :\", A[0])\n",
        "print(\"A#2 (index 1) :\", A[1])\n",
        "print(\"A#1 from last :\", A[-1])\n",
        "print(\"A#2 from last :\", A[-2])"
      ],
      "metadata": {
        "colab": {
          "base_uri": "https://localhost:8080/"
        },
        "id": "MQtl1b8QFMC1",
        "outputId": "3e91b88e-4d5a-41b1-fbee-4c73ecb0c49f"
      },
      "execution_count": null,
      "outputs": [
        {
          "output_type": "stream",
          "name": "stdout",
          "text": [
            "A#1 (index 0) : 1\n",
            "A#2 (index 1) : 2\n",
            "A#1 from last : 9\n",
            "A#2 from last : 8\n"
          ]
        }
      ]
    },
    {
      "cell_type": "code",
      "source": [
        "# Get range of List\n",
        "print(\"A\", A)\n",
        "print(\"A[3:6]\", A[3:6])     # Get range from index 3 to 6-1\n",
        "print(\"A[3:] \", A[3:])      # Get range from index 3 to end of list\n",
        "print(\"A[:6] \", A[:6])      # Get range from index start to 6-1"
      ],
      "metadata": {
        "colab": {
          "base_uri": "https://localhost:8080/"
        },
        "id": "9_51gKOUHO1-",
        "outputId": "cae249d2-8d22-4807-8ff6-c420ed403063"
      },
      "execution_count": null,
      "outputs": [
        {
          "output_type": "stream",
          "name": "stdout",
          "text": [
            "A [1, 2, 3, 4, 5, 6, 7, 8, 9]\n",
            "A[3:6] [4, 5, 6]\n",
            "A[3:]  [4, 5, 6, 7, 8, 9]\n",
            "A[:6]  [1, 2, 3, 4, 5, 6]\n"
          ]
        }
      ]
    },
    {
      "cell_type": "code",
      "source": [
        "# Add value in list\n",
        "print(\"Before\", A)\n",
        "A.append(10)                # Add value 10 in the last of the list\n",
        "print(\"After \", A)\n",
        "A.insert(5, \"New\")          # Add value \"New\" in the index 5\n",
        "print(\"After2\", A)"
      ],
      "metadata": {
        "colab": {
          "base_uri": "https://localhost:8080/"
        },
        "id": "uzVDhsAPIo-z",
        "outputId": "e9b0032a-e614-46a9-f5d0-157b5ed41ade"
      },
      "execution_count": null,
      "outputs": [
        {
          "output_type": "stream",
          "name": "stdout",
          "text": [
            "Before [1, 2, 3, 4, 5, 6, 7, 8, 9]\n",
            "After  [1, 2, 3, 4, 5, 6, 7, 8, 9, 10]\n",
            "After2 [1, 2, 3, 4, 5, 'New', 6, 7, 8, 9, 10]\n"
          ]
        }
      ]
    },
    {
      "cell_type": "code",
      "source": [
        "# Remove value in list by index\n",
        "print(\"Before\", A)\n",
        "A.pop(10)               # Remove value at index 10 out of list (default .pop() will remove the last)\n",
        "print(\"After \", A)\n",
        "A.remove(\"New\")         # Remove value by its value\n",
        "print(\"After2\", A)"
      ],
      "metadata": {
        "colab": {
          "base_uri": "https://localhost:8080/"
        },
        "id": "gW9DkCQyIz4T",
        "outputId": "f8f883c1-de94-4a5a-d615-93b9890cdb86"
      },
      "execution_count": null,
      "outputs": [
        {
          "output_type": "stream",
          "name": "stdout",
          "text": [
            "Before [1, 2, 3, 4, 5, 'New', 6, 7, 8, 9, 10]\n",
            "After  [1, 2, 3, 4, 5, 'New', 6, 7, 8, 9]\n",
            "After2 [1, 2, 3, 4, 5, 6, 7, 8, 9]\n"
          ]
        }
      ]
    },
    {
      "cell_type": "code",
      "source": [
        "# Concatenate List\n",
        "A = [1, 2, 3]\n",
        "B = [4, 5, 6]\n",
        "\n",
        "print(\"A + B      :\", A + B)\n",
        "A.extend(B)\n",
        "print(\"A.extend(B):\", A)"
      ],
      "metadata": {
        "colab": {
          "base_uri": "https://localhost:8080/"
        },
        "id": "sTG72mbOJ7hE",
        "outputId": "d5adafe0-b13f-4443-8356-e02d99d5f363"
      },
      "execution_count": null,
      "outputs": [
        {
          "output_type": "stream",
          "name": "stdout",
          "text": [
            "A + B      : [1, 2, 3, 4, 5, 6]\n",
            "A.extend(B): [1, 2, 3, 4, 5, 6]\n"
          ]
        }
      ]
    },
    {
      "cell_type": "code",
      "source": [
        "# Repeat value\n",
        "[1, 2, 3] * 5"
      ],
      "metadata": {
        "colab": {
          "base_uri": "https://localhost:8080/"
        },
        "id": "FwnMQqgRKB3I",
        "outputId": "feb70308-7e8e-413a-db9d-8340d54ac1f6"
      },
      "execution_count": null,
      "outputs": [
        {
          "output_type": "execute_result",
          "data": {
            "text/plain": [
              "[1, 2, 3, 1, 2, 3, 1, 2, 3, 1, 2, 3, 1, 2, 3]"
            ]
          },
          "metadata": {},
          "execution_count": 80
        }
      ]
    },
    {
      "cell_type": "code",
      "source": [
        "# Sorting\n",
        "A = [1, 5, 2, 8, 3]\n",
        "print(\"Before  \", A)\n",
        "A.sort()\n",
        "print(\"A.sort()\", A)\n",
        "A.sort(reverse=True)\n",
        "print(\"A.sort(reverse=True)\", A)"
      ],
      "metadata": {
        "colab": {
          "base_uri": "https://localhost:8080/"
        },
        "id": "aG148B2qKpoU",
        "outputId": "160b0c0c-3c2c-4c77-cd56-8a8b360beeab"
      },
      "execution_count": null,
      "outputs": [
        {
          "output_type": "stream",
          "name": "stdout",
          "text": [
            "Before   [1, 5, 2, 8, 3]\n",
            "A.sort() [1, 2, 3, 5, 8]\n",
            "A.sort(reverse=True) [8, 5, 3, 2, 1]\n"
          ]
        }
      ]
    },
    {
      "cell_type": "code",
      "source": [
        "# Count member of list\n",
        "print(\"A =\", A)\n",
        "print(\"len(A) =\", len(A))"
      ],
      "metadata": {
        "colab": {
          "base_uri": "https://localhost:8080/"
        },
        "id": "-hqdBs-9Lamz",
        "outputId": "97908ff8-2198-4616-a66b-dd9e3aacd11d"
      },
      "execution_count": null,
      "outputs": [
        {
          "output_type": "stream",
          "name": "stdout",
          "text": [
            "A = [8, 5, 3, 2, 1]\n",
            "len(A) = 5\n"
          ]
        }
      ]
    },
    {
      "cell_type": "markdown",
      "source": [
        "<hr>\n",
        "\n",
        "#### String"
      ],
      "metadata": {
        "id": "4I9S7eUTDOU5"
      }
    },
    {
      "cell_type": "code",
      "source": [
        "# Concatenate string\n",
        "\"สวัสดีจ้า\" + \" \" + \"สุดหล่อ\""
      ],
      "metadata": {
        "colab": {
          "base_uri": "https://localhost:8080/",
          "height": 35
        },
        "id": "VnphAGVk1sJk",
        "outputId": "40aedfb3-0393-457a-de2d-c5f3f13ce678"
      },
      "execution_count": null,
      "outputs": [
        {
          "output_type": "execute_result",
          "data": {
            "text/plain": [
              "'สวัสดีจ้า สุดหล่อ'"
            ],
            "application/vnd.google.colaboratory.intrinsic+json": {
              "type": "string"
            }
          },
          "metadata": {},
          "execution_count": 85
        }
      ]
    },
    {
      "cell_type": "code",
      "source": [
        "# Concatenate with other data type\n",
        "\"สวัสดีจ้า\" + str(2) + str(True) + str([1,2,3])"
      ],
      "metadata": {
        "colab": {
          "base_uri": "https://localhost:8080/",
          "height": 35
        },
        "id": "7LF7b356Dunn",
        "outputId": "a489f822-03e0-45f7-9baf-68e119214e00"
      },
      "execution_count": null,
      "outputs": [
        {
          "output_type": "execute_result",
          "data": {
            "text/plain": [
              "'สวัสดีจ้า2True[1, 2, 3]'"
            ],
            "application/vnd.google.colaboratory.intrinsic+json": {
              "type": "string"
            }
          },
          "metadata": {},
          "execution_count": 86
        }
      ]
    },
    {
      "cell_type": "code",
      "source": [
        "# Repeat value\n",
        "\"สวัสดีจ้า\" * 10"
      ],
      "metadata": {
        "colab": {
          "base_uri": "https://localhost:8080/",
          "height": 35
        },
        "id": "D2kD_UP8EOTe",
        "outputId": "2ac7d5ae-0ca1-4991-d45a-036cd1ed0fc3"
      },
      "execution_count": null,
      "outputs": [
        {
          "output_type": "execute_result",
          "data": {
            "text/plain": [
              "'สวัสดีจ้าสวัสดีจ้าสวัสดีจ้าสวัสดีจ้าสวัสดีจ้าสวัสดีจ้าสวัสดีจ้าสวัสดีจ้าสวัสดีจ้าสวัสดีจ้า'"
            ],
            "application/vnd.google.colaboratory.intrinsic+json": {
              "type": "string"
            }
          },
          "metadata": {},
          "execution_count": 88
        }
      ]
    },
    {
      "cell_type": "code",
      "source": [
        "# Uppercase\n",
        "\"Super AI Engineer ครั้งที่ 4\".upper()"
      ],
      "metadata": {
        "colab": {
          "base_uri": "https://localhost:8080/",
          "height": 35
        },
        "id": "gfnEziRhobbO",
        "outputId": "517a4173-8934-4adc-ce50-8f0137e76d05"
      },
      "execution_count": null,
      "outputs": [
        {
          "output_type": "execute_result",
          "data": {
            "text/plain": [
              "'SUPER AI ENGINEER ครั้งที่ 4'"
            ],
            "application/vnd.google.colaboratory.intrinsic+json": {
              "type": "string"
            }
          },
          "metadata": {},
          "execution_count": 89
        }
      ]
    },
    {
      "cell_type": "code",
      "source": [
        "# Lowercase\n",
        "\"Super AI Engineer\".lower()"
      ],
      "metadata": {
        "colab": {
          "base_uri": "https://localhost:8080/",
          "height": 35
        },
        "id": "8YCz_kO5of35",
        "outputId": "bf7c0202-8e54-4673-b266-b840f00de52e"
      },
      "execution_count": null,
      "outputs": [
        {
          "output_type": "execute_result",
          "data": {
            "text/plain": [
              "'super ai engineer'"
            ],
            "application/vnd.google.colaboratory.intrinsic+json": {
              "type": "string"
            }
          },
          "metadata": {},
          "execution_count": 90
        }
      ]
    },
    {
      "cell_type": "markdown",
      "source": [
        "Note📝 String is like a list of character!"
      ],
      "metadata": {
        "id": "-Ya3EA2SEv7F"
      }
    },
    {
      "cell_type": "code",
      "source": [
        "# String\n",
        "greeting = \"สวัสดีจ้า\"\n",
        "print(greeting[:6])"
      ],
      "metadata": {
        "colab": {
          "base_uri": "https://localhost:8080/"
        },
        "id": "LqTG6PyeEtvJ",
        "outputId": "41836606-8d4c-4413-9062-d8361a537640"
      },
      "execution_count": null,
      "outputs": [
        {
          "output_type": "stream",
          "name": "stdout",
          "text": [
            "สวัสดี\n"
          ]
        }
      ]
    },
    {
      "cell_type": "markdown",
      "source": [
        "<hr>\n",
        "\n",
        "#### Boolean"
      ],
      "metadata": {
        "id": "109ksnacPIj9"
      }
    },
    {
      "cell_type": "code",
      "source": [
        "print(\"True  and True :\", True and True)\n",
        "print(\"True  and Fasle:\", True and False)\n",
        "print(\"False and False:\", False and False)\n",
        "\n",
        "print(\"\\nTrue  or True  :\", True or True)\n",
        "print(\"True  or Fasle :\", True or False)\n",
        "print(\"False or False :\", False or False)\n",
        "\n",
        "print(\"\\nnot True :\", not True)\n",
        "print(\"not False:\", not False)"
      ],
      "metadata": {
        "colab": {
          "base_uri": "https://localhost:8080/"
        },
        "id": "LUQuVniNPKrV",
        "outputId": "76bef7ab-777a-4931-a892-0a548b8e2dc4"
      },
      "execution_count": null,
      "outputs": [
        {
          "output_type": "stream",
          "name": "stdout",
          "text": [
            "True  and True : True\n",
            "True  and Fasle: False\n",
            "False and False: False\n",
            "\n",
            "True  or True  : True\n",
            "True  or Fasle : True\n",
            "False or False : False\n",
            "\n",
            "not True : False\n",
            "not False: True\n"
          ]
        }
      ]
    },
    {
      "cell_type": "markdown",
      "source": [
        "### 🐾 Step3: Condition\n",
        "- Let's know `If-else`"
      ],
      "metadata": {
        "id": "49kpWTLQEjne"
      }
    },
    {
      "cell_type": "code",
      "source": [
        "# If-else\n",
        "if True:\n",
        "  print(\"ใช่\")\n",
        "else:\n",
        "  print(\"ไม่\")"
      ],
      "metadata": {
        "colab": {
          "base_uri": "https://localhost:8080/"
        },
        "id": "VbuyJ-cyEcyS",
        "outputId": "774493dd-93dc-4627-a15b-bef084f47bf9"
      },
      "execution_count": null,
      "outputs": [
        {
          "output_type": "stream",
          "name": "stdout",
          "text": [
            "ใช่\n"
          ]
        }
      ]
    },
    {
      "cell_type": "markdown",
      "source": [
        "|Operator|Name|Example|\n",
        "|---|---|---|\n",
        "|==|Equal|x == y|\n",
        "|!=|Not equal|x != y|\n",
        "|>|Greater than|x > y|\n",
        "|<|Less than|x < y|\n",
        "|>=|Greater than or equal to|x >= y|\n",
        "|<=|Less than or equal to|x <= y|"
      ],
      "metadata": {
        "id": "ooxqi4eyNGCF"
      }
    },
    {
      "cell_type": "code",
      "source": [
        "# Let's check the condition\n",
        "print(\"2==3\", 2==3)\n",
        "print(\"2!=3\", 2!=3)\n",
        "print(\"2>3 \", 2>3)\n",
        "print(\"2<3 \", 2<3)\n",
        "print(\"2>=3\", 2>=3)\n",
        "print(\"2<=3\", 2<=3)"
      ],
      "metadata": {
        "colab": {
          "base_uri": "https://localhost:8080/"
        },
        "id": "5eBZAx0wMhkW",
        "outputId": "e8977047-8b78-4a8e-e63a-02341abd2c4b"
      },
      "execution_count": null,
      "outputs": [
        {
          "output_type": "stream",
          "name": "stdout",
          "text": [
            "2==3 False\n",
            "2!=3 True\n",
            "2>3  False\n",
            "2<3  True\n",
            "2>=3 False\n",
            "2<=3 True\n"
          ]
        }
      ]
    },
    {
      "cell_type": "code",
      "source": [
        "# Apply with number\n",
        "if 2>3:\n",
        "  print(\"ใช่\")\n",
        "else:\n",
        "  print(\"ไม่\")"
      ],
      "metadata": {
        "colab": {
          "base_uri": "https://localhost:8080/"
        },
        "id": "ruLkdpZTO1ou",
        "outputId": "bdd1f67a-e7ba-4871-f86a-0852960c8165"
      },
      "execution_count": null,
      "outputs": [
        {
          "output_type": "stream",
          "name": "stdout",
          "text": [
            "ไม่\n"
          ]
        }
      ]
    },
    {
      "cell_type": "code",
      "source": [
        "# Apply with variable\n",
        "A = 2\n",
        "B = 3\n",
        "\n",
        "if A>B:\n",
        "  print(\"ใช่\")\n",
        "else:\n",
        "  print(\"ไม่\")"
      ],
      "metadata": {
        "colab": {
          "base_uri": "https://localhost:8080/"
        },
        "id": "cqEgf10wPwxe",
        "outputId": "8fbc00c5-6b78-4f1c-d0da-ee187dfd402f"
      },
      "execution_count": null,
      "outputs": [
        {
          "output_type": "stream",
          "name": "stdout",
          "text": [
            "ไม่\n"
          ]
        }
      ]
    },
    {
      "cell_type": "code",
      "source": [
        "# More Than 2 condition!\n",
        "A = 2\n",
        "B = 3\n",
        "if A>B:\n",
        "  print(\"มากกว่า\")\n",
        "elif A<B:\n",
        "  print(\"น้อยกว่า\")\n",
        "else:\n",
        "  print(\"เท่ากับ\")"
      ],
      "metadata": {
        "colab": {
          "base_uri": "https://localhost:8080/"
        },
        "id": "T397SHh4QGMP",
        "outputId": "e697ad8a-3e54-43a1-8a75-8410fc21bd96"
      },
      "execution_count": null,
      "outputs": [
        {
          "output_type": "stream",
          "name": "stdout",
          "text": [
            "น้อยกว่า\n"
          ]
        }
      ]
    },
    {
      "cell_type": "markdown",
      "source": [
        "##### 🔥 Challenge: Are these code similar?\n",
        "```\n",
        "if A>B:\n",
        "  print(\"มากกว่า\")\n",
        "elif A<B:\n",
        "  print(\"น้อยกว่า\")\n",
        "else:\n",
        "  print(\"เท่ากับ\")\n",
        "```\n",
        "🤔\n",
        "```\n",
        "if A>B:\n",
        "  print(\"มากกว่า\")\n",
        "if A<B:\n",
        "  print(\"น้อยกว่า\")\n",
        "else:\n",
        "  print(\"เท่ากับ\")\n",
        "```"
      ],
      "metadata": {
        "id": "_AOI0NytQ3kL"
      }
    },
    {
      "cell_type": "code",
      "source": [
        "A = 4\n",
        "B = 3"
      ],
      "metadata": {
        "id": "ek1f3iPhVy4U"
      },
      "execution_count": null,
      "outputs": []
    },
    {
      "cell_type": "markdown",
      "source": [
        "<hr>\n",
        "\n",
        "### 🐾 Step4: Iteration"
      ],
      "metadata": {
        "id": "K8iSSG6RNPuJ"
      }
    },
    {
      "cell_type": "markdown",
      "source": [
        "##### For loop"
      ],
      "metadata": {
        "id": "554osLTnV3Yp"
      }
    },
    {
      "cell_type": "code",
      "source": [
        "# Assign i with list value\n",
        "for i in [\"ข้าวผัด\", \"ก๋วยเตี๋ยว\", \"กะเพราะไก่\"]:\n",
        "  print(i)"
      ],
      "metadata": {
        "colab": {
          "base_uri": "https://localhost:8080/"
        },
        "id": "2xhvV4W5MO93",
        "outputId": "46833e30-8a05-4844-ed00-4757d5590ce9"
      },
      "execution_count": null,
      "outputs": [
        {
          "output_type": "stream",
          "name": "stdout",
          "text": [
            "ข้าวผัด\n",
            "ก๋วยเตี๋ยว\n",
            "กะเพราะไก่\n"
          ]
        }
      ]
    },
    {
      "cell_type": "code",
      "source": [
        "# Get index and value by enumerate function\n",
        "for i, value in enumerate([\"ข้าวผัด\", \"ก๋วยเตี๋ยว\", \"กะเพราะไก่\"]):\n",
        "  print(f\"index{i}: {value}\")"
      ],
      "metadata": {
        "colab": {
          "base_uri": "https://localhost:8080/"
        },
        "id": "v_4uqzLJMIHi",
        "outputId": "94cee384-33bd-4de1-cda2-325cb0e13b45"
      },
      "execution_count": null,
      "outputs": [
        {
          "output_type": "stream",
          "name": "stdout",
          "text": [
            "index0: ข้าวผัด\n",
            "index1: ก๋วยเตี๋ยว\n",
            "index2: กะเพราะไก่\n"
          ]
        }
      ]
    },
    {
      "cell_type": "code",
      "source": [
        "# Looping with Character\n",
        "for char in \"ABCD\":\n",
        "  print(char)"
      ],
      "metadata": {
        "colab": {
          "base_uri": "https://localhost:8080/"
        },
        "id": "0gAVT41XTE5D",
        "outputId": "c6db910d-df4b-4261-de41-cd7653d3c428"
      },
      "execution_count": null,
      "outputs": [
        {
          "output_type": "stream",
          "name": "stdout",
          "text": [
            "A\n",
            "B\n",
            "C\n",
            "D\n"
          ]
        }
      ]
    },
    {
      "cell_type": "code",
      "source": [
        "# Zip multiple list and run together\n",
        "A = [65, 66, 67, 68]\n",
        "B = \"ABCD\"\n",
        "\n",
        "for i, char in zip(A, B):\n",
        "  print(f\"i={i}: char={char}\")"
      ],
      "metadata": {
        "id": "wcKvHt1VBNpU",
        "colab": {
          "base_uri": "https://localhost:8080/"
        },
        "outputId": "e99c62f0-3f5c-4230-bc84-c8bb4ab37f11"
      },
      "execution_count": null,
      "outputs": [
        {
          "output_type": "stream",
          "name": "stdout",
          "text": [
            "i=65: char=A\n",
            "i=66: char=B\n",
            "i=67: char=C\n",
            "i=68: char=D\n"
          ]
        }
      ]
    },
    {
      "cell_type": "markdown",
      "source": [
        "##### Range"
      ],
      "metadata": {
        "id": "Bch53unpTfFG"
      }
    },
    {
      "cell_type": "code",
      "source": [
        "# Get sequence of number by Range function\n",
        "print(\"range(5)  :\", list(range(5)))                  # Start from 0 up to (not including) 5\n",
        "print(\"range(1,5):\", list(range(1,5)))                # Start from 1 up to (not including) 5\n",
        "print(\"range(1,10, 2)  :\", list(range(1, 10, 2)))     # Start from 1 up to (not including) 10 with a step=2\n",
        "print(\"range(10, 1, -1):\", list(range(10, 1, -1)))    # Start from 10 up to (not including) 1 with step=-1\n"
      ],
      "metadata": {
        "colab": {
          "base_uri": "https://localhost:8080/"
        },
        "id": "OFV4R1U9ThBG",
        "outputId": "d6ea9c05-6cda-45b9-ef03-1c7447fcd223"
      },
      "execution_count": null,
      "outputs": [
        {
          "output_type": "stream",
          "name": "stdout",
          "text": [
            "range(5)  : [0, 1, 2, 3, 4]\n",
            "range(1,5): [1, 2, 3, 4]\n",
            "range(1,10, 2)  : [1, 3, 5, 7, 9]\n",
            "range(10, 1, -1): [10, 9, 8, 7, 6, 5, 4, 3, 2]\n"
          ]
        }
      ]
    },
    {
      "cell_type": "code",
      "source": [
        "# Combine with condition\n",
        "for i in range(10):\n",
        "  if i%2==0:\n",
        "    print(i, end=\" \")"
      ],
      "metadata": {
        "colab": {
          "base_uri": "https://localhost:8080/"
        },
        "id": "yHYI9LZJTb69",
        "outputId": "22ddbb2b-ba25-4e4f-964e-61e97de7da68"
      },
      "execution_count": null,
      "outputs": [
        {
          "output_type": "stream",
          "name": "stdout",
          "text": [
            "0 2 4 6 8 "
          ]
        }
      ]
    },
    {
      "cell_type": "markdown",
      "source": [
        "##### break & continue"
      ],
      "metadata": {
        "id": "W1isDCnNWNwa"
      }
    },
    {
      "cell_type": "code",
      "source": [
        "# Break\n",
        "for i in range(10): # [0, 1, .., 9]\n",
        "  if i==6:\n",
        "    break\n",
        "  print(i)"
      ],
      "metadata": {
        "colab": {
          "base_uri": "https://localhost:8080/"
        },
        "id": "zDxJvRCBWPue",
        "outputId": "5a088158-393b-4e51-8de3-b134e300859c"
      },
      "execution_count": null,
      "outputs": [
        {
          "output_type": "stream",
          "name": "stdout",
          "text": [
            "0\n",
            "1\n",
            "2\n",
            "3\n",
            "4\n",
            "5\n"
          ]
        }
      ]
    },
    {
      "cell_type": "code",
      "source": [
        "# Continue\n",
        "for i in range(10):\n",
        "  if i==6:\n",
        "    continue\n",
        "  print(i)"
      ],
      "metadata": {
        "colab": {
          "base_uri": "https://localhost:8080/"
        },
        "id": "NNlhCAlsW2CE",
        "outputId": "03d78071-6838-418f-da0d-01b2d23056a2"
      },
      "execution_count": null,
      "outputs": [
        {
          "output_type": "stream",
          "name": "stdout",
          "text": [
            "0\n",
            "1\n",
            "2\n",
            "3\n",
            "4\n",
            "5\n",
            "7\n",
            "8\n",
            "9\n"
          ]
        }
      ]
    },
    {
      "cell_type": "markdown",
      "source": [
        "##### Nested Loop"
      ],
      "metadata": {
        "id": "BTbMZXg3rAAM"
      }
    },
    {
      "cell_type": "code",
      "source": [
        "# Loop inside Loop!\n",
        "for i in range(3):\n",
        "  for j in [\"รับออเดอร์\", \"ทำอาหาร\", \"เก็บเงิน\"]:\n",
        "    print(f'คนที่ {i} ทำ {j}')"
      ],
      "metadata": {
        "colab": {
          "base_uri": "https://localhost:8080/"
        },
        "id": "cQMzVUyhrCjR",
        "outputId": "298e313f-b50b-4486-c69f-70ced665b90f"
      },
      "execution_count": null,
      "outputs": [
        {
          "output_type": "stream",
          "name": "stdout",
          "text": [
            "คนที่ 0 ทำ รับออเดอร์\n",
            "คนที่ 0 ทำ ทำอาหาร\n",
            "คนที่ 0 ทำ เก็บเงิน\n",
            "คนที่ 1 ทำ รับออเดอร์\n",
            "คนที่ 1 ทำ ทำอาหาร\n",
            "คนที่ 1 ทำ เก็บเงิน\n",
            "คนที่ 2 ทำ รับออเดอร์\n",
            "คนที่ 2 ทำ ทำอาหาร\n",
            "คนที่ 2 ทำ เก็บเงิน\n"
          ]
        }
      ]
    },
    {
      "cell_type": "markdown",
      "source": [
        "##### While loop\n"
      ],
      "metadata": {
        "id": "0lOpl3msVzyA"
      }
    },
    {
      "cell_type": "code",
      "source": [
        "x = 0\n",
        "while x<5:        # Do until the the condition is false\n",
        "  print(x)\n",
        "  x = x + 1"
      ],
      "metadata": {
        "colab": {
          "base_uri": "https://localhost:8080/"
        },
        "id": "AhVfLDLpV6P5",
        "outputId": "6e770581-28fa-4057-8fa6-2deaf2d9ef8f"
      },
      "execution_count": null,
      "outputs": [
        {
          "output_type": "stream",
          "name": "stdout",
          "text": [
            "0\n",
            "1\n",
            "2\n",
            "3\n",
            "4\n"
          ]
        }
      ]
    },
    {
      "cell_type": "markdown",
      "source": [
        "##### Add value in list"
      ],
      "metadata": {
        "id": "ke7Iy2PWrbEA"
      }
    },
    {
      "cell_type": "code",
      "source": [
        "# Add value in list\n",
        "A = []\n",
        "for i in range(10):\n",
        "  # Calculate\n",
        "  A.append(i+1)\n",
        "print(A)\n"
      ],
      "metadata": {
        "colab": {
          "base_uri": "https://localhost:8080/"
        },
        "id": "vIpDXM8-YpUF",
        "outputId": "b339257c-0573-43f2-f2e8-fcfd22f4a76f"
      },
      "execution_count": null,
      "outputs": [
        {
          "output_type": "stream",
          "name": "stdout",
          "text": [
            "[1, 2, 3, 4, 5, 6, 7, 8, 9, 10]\n"
          ]
        }
      ]
    },
    {
      "cell_type": "markdown",
      "source": [
        "##### Challenge 🔥\n",
        "Fill the blank in this code\n",
        "```\n",
        "n = <fill number>\n",
        "for i in range(n):\n",
        "   # Edit here\n",
        "```\n",
        "to get the result like this\n",
        "```\n",
        "n= 10\n",
        "0\n",
        "0 1\n",
        "0 1 2\n",
        "0 1 2 3\n",
        "0 1 2 3 4\n",
        "0 1 2 3 4 5\n",
        "0 1 2 3 4 5 6\n",
        "0 1 2 3 4 5 6 7\n",
        "0 1 2 3 4 5 6 7 8\n",
        "```\n",
        "```\n",
        "n= 3\n",
        "0\n",
        "0 1\n",
        "0 1 2\n",
        "```\n",
        "\n",
        "<hr>"
      ],
      "metadata": {
        "id": "CWb1zoDLVhOo"
      }
    },
    {
      "cell_type": "markdown",
      "source": [
        "##### Bonus"
      ],
      "metadata": {
        "id": "npUR8kC7TY76"
      }
    },
    {
      "cell_type": "code",
      "execution_count": null,
      "metadata": {
        "id": "r6L9Xe8IAl5P",
        "colab": {
          "base_uri": "https://localhost:8080/"
        },
        "outputId": "2c53ea81-7e91-45b4-acdc-4cc2c6ac73a1"
      },
      "outputs": [
        {
          "output_type": "stream",
          "name": "stderr",
          "text": [
            "100%|██████████| 100/100 [00:10<00:00,  9.85it/s]\n"
          ]
        }
      ],
      "source": [
        "# Add progress bar\n",
        "from tqdm import tqdm\n",
        "import time\n",
        "\n",
        "for i in tqdm(range(100)):\n",
        "  time.sleep(0.1)"
      ]
    },
    {
      "cell_type": "code",
      "source": [
        "# Short hand for loop\n",
        "[i+1 for i in range(10)]"
      ],
      "metadata": {
        "colab": {
          "base_uri": "https://localhost:8080/"
        },
        "id": "4r-ZVX63YlM9",
        "outputId": "edc2f9ac-0992-4945-bdfb-92213deb2a04"
      },
      "execution_count": null,
      "outputs": [
        {
          "output_type": "execute_result",
          "data": {
            "text/plain": [
              "[1, 2, 3, 4, 5, 6, 7, 8, 9, 10]"
            ]
          },
          "metadata": {},
          "execution_count": 128
        }
      ]
    },
    {
      "cell_type": "code",
      "source": [
        "A = []\n",
        "for i in range(10):\n",
        "  A.append(i+1)\n",
        "A"
      ],
      "metadata": {
        "colab": {
          "base_uri": "https://localhost:8080/"
        },
        "id": "TMYXgoQkZHk-",
        "outputId": "f48e8617-cf0c-4e45-aeac-3255991edb96"
      },
      "execution_count": null,
      "outputs": [
        {
          "output_type": "execute_result",
          "data": {
            "text/plain": [
              "[1, 2, 3, 4, 5, 6, 7, 8, 9, 10]"
            ]
          },
          "metadata": {},
          "execution_count": 130
        }
      ]
    },
    {
      "cell_type": "code",
      "source": [
        "# Short hand for loop with condition\n",
        "[i for i in range(10) if i%2==0]"
      ],
      "metadata": {
        "colab": {
          "base_uri": "https://localhost:8080/"
        },
        "id": "lxeLtVAvY37G",
        "outputId": "bbfcc4ed-cee5-4b5e-87c0-c5e3a4f04353"
      },
      "execution_count": null,
      "outputs": [
        {
          "output_type": "execute_result",
          "data": {
            "text/plain": [
              "[0, 2, 4, 6, 8]"
            ]
          },
          "metadata": {},
          "execution_count": 131
        }
      ]
    },
    {
      "cell_type": "code",
      "source": [
        "A = []\n",
        "for i in range(10):\n",
        "  if i%2 == 0:\n",
        "    A.append(i)\n",
        "A"
      ],
      "metadata": {
        "colab": {
          "base_uri": "https://localhost:8080/"
        },
        "id": "fNlhNYqZZaMX",
        "outputId": "52150c04-f7c6-4f88-e223-5a91f8300a41"
      },
      "execution_count": null,
      "outputs": [
        {
          "output_type": "execute_result",
          "data": {
            "text/plain": [
              "[0, 2, 4, 6, 8]"
            ]
          },
          "metadata": {},
          "execution_count": 133
        }
      ]
    },
    {
      "cell_type": "markdown",
      "source": [
        "<hr>\n",
        "\n",
        "### 🐾 Step5: Function"
      ],
      "metadata": {
        "id": "bSEhPQQZY_Ex"
      }
    },
    {
      "cell_type": "code",
      "source": [
        "# Just call function\n",
        "def hello():\n",
        "  print(\"สวัสดีจ้า\")\n",
        "\n",
        "hello()"
      ],
      "metadata": {
        "colab": {
          "base_uri": "https://localhost:8080/"
        },
        "id": "xmQ06Xdnr5SW",
        "outputId": "823b8c43-9e38-4ed0-dc37-05e0051e3325"
      },
      "execution_count": null,
      "outputs": [
        {
          "output_type": "stream",
          "name": "stdout",
          "text": [
            "สวัสดีจ้า\n"
          ]
        }
      ]
    },
    {
      "cell_type": "code",
      "source": [
        "# Function with parameters\n",
        "def PaLamai(menu, amount):\n",
        "  print(f\"กำลังทำ{menu} จำนวน {amount} จานจ้า\")\n",
        "\n",
        "PaLamai(\"แกงฮังเล\", 2)\n",
        "PaLamai(\"ข้าวผัด\", 3)"
      ],
      "metadata": {
        "colab": {
          "base_uri": "https://localhost:8080/"
        },
        "id": "FRIkpEfQsQMm",
        "outputId": "6db3f0e3-a666-4d7f-b28e-fd882ce87087"
      },
      "execution_count": null,
      "outputs": [
        {
          "output_type": "stream",
          "name": "stdout",
          "text": [
            "กำลังทำแกงฮังเล จำนวน 2 จานจ้า\n",
            "กำลังทำข้าวผัด จำนวน 3 จานจ้า\n"
          ]
        }
      ]
    },
    {
      "cell_type": "code",
      "source": [
        "# Function with return\n",
        "def summation(a, b):\n",
        "  sum = a + b\n",
        "  return sum\n",
        "\n",
        "summation(1,2)"
      ],
      "metadata": {
        "colab": {
          "base_uri": "https://localhost:8080/"
        },
        "id": "j223at6qZEt9",
        "outputId": "4de0afa4-a81d-430c-f3d7-d005d3a6f6d7"
      },
      "execution_count": null,
      "outputs": [
        {
          "output_type": "execute_result",
          "data": {
            "text/plain": [
              "3"
            ]
          },
          "metadata": {},
          "execution_count": 137
        }
      ]
    },
    {
      "cell_type": "code",
      "source": [
        "# Function with multiple return\n",
        "def PaLamai_son(a, b):\n",
        "  sum = a + b\n",
        "  dif = a - b\n",
        "  return sum, dif\n",
        "\n",
        "plus, minus = PaLamai_son(10, 2)\n",
        "print(plus, minus)"
      ],
      "metadata": {
        "colab": {
          "base_uri": "https://localhost:8080/"
        },
        "id": "4ACwyG4-ZXS4",
        "outputId": "e2af0204-930c-4df9-d3b1-23a588bcf325"
      },
      "execution_count": null,
      "outputs": [
        {
          "output_type": "stream",
          "name": "stdout",
          "text": [
            "12 8\n"
          ]
        }
      ]
    },
    {
      "cell_type": "markdown",
      "source": [
        "##### Unpack iterables"
      ],
      "metadata": {
        "id": "qT90cBbost_7"
      }
    },
    {
      "cell_type": "code",
      "source": [
        "# Unpack iterables with dict\n",
        "def PaLamai(menu, amount):\n",
        "  print(f\"กำลังทำ{menu} จำนวน {amount} จานจ้า\")\n",
        "\n",
        "my_order = {\n",
        "    \"menu\": \"แกงฮังเล\",\n",
        "    \"amount\": 2,\n",
        "}\n",
        "\n",
        "PaLamai(**my_order)"
      ],
      "metadata": {
        "colab": {
          "base_uri": "https://localhost:8080/"
        },
        "id": "dBmnbr-FakVZ",
        "outputId": "7d3b02fe-3921-45b1-90a8-0e47689757d7"
      },
      "execution_count": null,
      "outputs": [
        {
          "output_type": "stream",
          "name": "stdout",
          "text": [
            "กำลังทำแกงฮังเล จำนวน 2 จานจ้า\n"
          ]
        }
      ]
    },
    {
      "cell_type": "code",
      "source": [
        "# Unpack iterables with list\n",
        "def give_number():\n",
        "  return 1, 2, 3, 4, 5, 6\n",
        "\n",
        "a, *temp, b = give_number()\n",
        "temp"
      ],
      "metadata": {
        "colab": {
          "base_uri": "https://localhost:8080/"
        },
        "id": "SB99PyKsa-Mh",
        "outputId": "2a709792-df06-4ec3-cadd-138dd5fd65c8"
      },
      "execution_count": null,
      "outputs": [
        {
          "output_type": "execute_result",
          "data": {
            "text/plain": [
              "[2, 3, 4, 5]"
            ]
          },
          "metadata": {},
          "execution_count": 144
        }
      ]
    },
    {
      "cell_type": "markdown",
      "source": [
        "##### Map function"
      ],
      "metadata": {
        "id": "COaKKPwGtEiy"
      }
    },
    {
      "cell_type": "code",
      "source": [
        "def PaLamai_hello(name):\n",
        "  return \"สวัสดีจ้า\" + name\n",
        "\n",
        "customers = [\"A\", \"B\", \"C\", \"D\"]\n",
        "greetings = map(PaLamai_hello, customers)\n",
        "print(list(greetings))"
      ],
      "metadata": {
        "colab": {
          "base_uri": "https://localhost:8080/"
        },
        "id": "17UnJxvxb7Qy",
        "outputId": "3b3706b8-ae7c-451f-f706-5910daae46bf"
      },
      "execution_count": null,
      "outputs": [
        {
          "output_type": "stream",
          "name": "stdout",
          "text": [
            "['สวัสดีจ้าA', 'สวัสดีจ้าB', 'สวัสดีจ้าC', 'สวัสดีจ้าD']\n"
          ]
        }
      ]
    },
    {
      "cell_type": "markdown",
      "source": [
        "##### Lambda function"
      ],
      "metadata": {
        "id": "vfhL4u4ltLUV"
      }
    },
    {
      "cell_type": "code",
      "source": [
        "greetings = map(lambda c: \"สวัสดีจ้า\"+c, customers)\n",
        "print(list(greetings))"
      ],
      "metadata": {
        "id": "VKNw_bT5tNlN"
      },
      "execution_count": null,
      "outputs": []
    },
    {
      "cell_type": "markdown",
      "source": [
        "## 📍 Session 3: Python Library\n",
        "Explore Python library!"
      ],
      "metadata": {
        "id": "P_MLUT3QbLTb"
      }
    },
    {
      "cell_type": "markdown",
      "source": [
        "### Numpy\n",
        "a Python library used for working with arrays [See more](https://numpy.org/doc/stable/user/quickstart.html)"
      ],
      "metadata": {
        "id": "bE1x3OzAuYcn"
      }
    },
    {
      "cell_type": "code",
      "source": [
        "import numpy as np\n",
        "np.arange(15).reshape(3, 5)"
      ],
      "metadata": {
        "colab": {
          "base_uri": "https://localhost:8080/"
        },
        "id": "zRGnj4K0iHz_",
        "outputId": "f49c7c31-6258-44c5-c78f-60240a77ffe2"
      },
      "execution_count": null,
      "outputs": [
        {
          "output_type": "execute_result",
          "data": {
            "text/plain": [
              "array([[ 0,  1,  2,  3,  4],\n",
              "       [ 5,  6,  7,  8,  9],\n",
              "       [10, 11, 12, 13, 14]])"
            ]
          },
          "metadata": {},
          "execution_count": 148
        }
      ]
    },
    {
      "cell_type": "code",
      "source": [
        "np.array([1, 2]) + np.array([3, 4])"
      ],
      "metadata": {
        "colab": {
          "base_uri": "https://localhost:8080/"
        },
        "id": "2vKXLtjac5P7",
        "outputId": "70140ec4-158d-49fd-9a87-b7a03b5ac10f"
      },
      "execution_count": null,
      "outputs": [
        {
          "output_type": "execute_result",
          "data": {
            "text/plain": [
              "array([4, 6])"
            ]
          },
          "metadata": {},
          "execution_count": 150
        }
      ]
    },
    {
      "cell_type": "markdown",
      "source": [
        "### Pandas\n",
        "a fast, powerful, flexible and easy to use open source data analysis and manipulation tool [See more](https://pandas.pydata.org/docs/user_guide/index.html#user-guide)"
      ],
      "metadata": {
        "id": "l3vb11LjuAhd"
      }
    },
    {
      "cell_type": "code",
      "source": [
        "import pandas as pd\n",
        "csv_url = 'https://archive.ics.uci.edu/ml/machine-learning-databases/iris/iris.data'\n",
        "# using the attribute information as the column names\n",
        "col_names = ['Sepal_Length','Sepal_Width','Petal_Length','Petal_Width','Class']\n",
        "iris =  pd.read_csv(csv_url, names = col_names)\n",
        "iris"
      ],
      "metadata": {
        "colab": {
          "base_uri": "https://localhost:8080/",
          "height": 424
        },
        "id": "eKEI1dcJbToB",
        "outputId": "15b3cc56-f301-4af5-d43e-5f5703d5b92c"
      },
      "execution_count": null,
      "outputs": [
        {
          "output_type": "execute_result",
          "data": {
            "text/plain": [
              "     Sepal_Length  Sepal_Width  Petal_Length  Petal_Width           Class\n",
              "0             5.1          3.5           1.4          0.2     Iris-setosa\n",
              "1             4.9          3.0           1.4          0.2     Iris-setosa\n",
              "2             4.7          3.2           1.3          0.2     Iris-setosa\n",
              "3             4.6          3.1           1.5          0.2     Iris-setosa\n",
              "4             5.0          3.6           1.4          0.2     Iris-setosa\n",
              "..            ...          ...           ...          ...             ...\n",
              "145           6.7          3.0           5.2          2.3  Iris-virginica\n",
              "146           6.3          2.5           5.0          1.9  Iris-virginica\n",
              "147           6.5          3.0           5.2          2.0  Iris-virginica\n",
              "148           6.2          3.4           5.4          2.3  Iris-virginica\n",
              "149           5.9          3.0           5.1          1.8  Iris-virginica\n",
              "\n",
              "[150 rows x 5 columns]"
            ],
            "text/html": [
              "\n",
              "  <div id=\"df-7cf08a31-6df8-4ad0-bcbf-8d8e8e930b2c\" class=\"colab-df-container\">\n",
              "    <div>\n",
              "<style scoped>\n",
              "    .dataframe tbody tr th:only-of-type {\n",
              "        vertical-align: middle;\n",
              "    }\n",
              "\n",
              "    .dataframe tbody tr th {\n",
              "        vertical-align: top;\n",
              "    }\n",
              "\n",
              "    .dataframe thead th {\n",
              "        text-align: right;\n",
              "    }\n",
              "</style>\n",
              "<table border=\"1\" class=\"dataframe\">\n",
              "  <thead>\n",
              "    <tr style=\"text-align: right;\">\n",
              "      <th></th>\n",
              "      <th>Sepal_Length</th>\n",
              "      <th>Sepal_Width</th>\n",
              "      <th>Petal_Length</th>\n",
              "      <th>Petal_Width</th>\n",
              "      <th>Class</th>\n",
              "    </tr>\n",
              "  </thead>\n",
              "  <tbody>\n",
              "    <tr>\n",
              "      <th>0</th>\n",
              "      <td>5.1</td>\n",
              "      <td>3.5</td>\n",
              "      <td>1.4</td>\n",
              "      <td>0.2</td>\n",
              "      <td>Iris-setosa</td>\n",
              "    </tr>\n",
              "    <tr>\n",
              "      <th>1</th>\n",
              "      <td>4.9</td>\n",
              "      <td>3.0</td>\n",
              "      <td>1.4</td>\n",
              "      <td>0.2</td>\n",
              "      <td>Iris-setosa</td>\n",
              "    </tr>\n",
              "    <tr>\n",
              "      <th>2</th>\n",
              "      <td>4.7</td>\n",
              "      <td>3.2</td>\n",
              "      <td>1.3</td>\n",
              "      <td>0.2</td>\n",
              "      <td>Iris-setosa</td>\n",
              "    </tr>\n",
              "    <tr>\n",
              "      <th>3</th>\n",
              "      <td>4.6</td>\n",
              "      <td>3.1</td>\n",
              "      <td>1.5</td>\n",
              "      <td>0.2</td>\n",
              "      <td>Iris-setosa</td>\n",
              "    </tr>\n",
              "    <tr>\n",
              "      <th>4</th>\n",
              "      <td>5.0</td>\n",
              "      <td>3.6</td>\n",
              "      <td>1.4</td>\n",
              "      <td>0.2</td>\n",
              "      <td>Iris-setosa</td>\n",
              "    </tr>\n",
              "    <tr>\n",
              "      <th>...</th>\n",
              "      <td>...</td>\n",
              "      <td>...</td>\n",
              "      <td>...</td>\n",
              "      <td>...</td>\n",
              "      <td>...</td>\n",
              "    </tr>\n",
              "    <tr>\n",
              "      <th>145</th>\n",
              "      <td>6.7</td>\n",
              "      <td>3.0</td>\n",
              "      <td>5.2</td>\n",
              "      <td>2.3</td>\n",
              "      <td>Iris-virginica</td>\n",
              "    </tr>\n",
              "    <tr>\n",
              "      <th>146</th>\n",
              "      <td>6.3</td>\n",
              "      <td>2.5</td>\n",
              "      <td>5.0</td>\n",
              "      <td>1.9</td>\n",
              "      <td>Iris-virginica</td>\n",
              "    </tr>\n",
              "    <tr>\n",
              "      <th>147</th>\n",
              "      <td>6.5</td>\n",
              "      <td>3.0</td>\n",
              "      <td>5.2</td>\n",
              "      <td>2.0</td>\n",
              "      <td>Iris-virginica</td>\n",
              "    </tr>\n",
              "    <tr>\n",
              "      <th>148</th>\n",
              "      <td>6.2</td>\n",
              "      <td>3.4</td>\n",
              "      <td>5.4</td>\n",
              "      <td>2.3</td>\n",
              "      <td>Iris-virginica</td>\n",
              "    </tr>\n",
              "    <tr>\n",
              "      <th>149</th>\n",
              "      <td>5.9</td>\n",
              "      <td>3.0</td>\n",
              "      <td>5.1</td>\n",
              "      <td>1.8</td>\n",
              "      <td>Iris-virginica</td>\n",
              "    </tr>\n",
              "  </tbody>\n",
              "</table>\n",
              "<p>150 rows × 5 columns</p>\n",
              "</div>\n",
              "    <div class=\"colab-df-buttons\">\n",
              "\n",
              "  <div class=\"colab-df-container\">\n",
              "    <button class=\"colab-df-convert\" onclick=\"convertToInteractive('df-7cf08a31-6df8-4ad0-bcbf-8d8e8e930b2c')\"\n",
              "            title=\"Convert this dataframe to an interactive table.\"\n",
              "            style=\"display:none;\">\n",
              "\n",
              "  <svg xmlns=\"http://www.w3.org/2000/svg\" height=\"24px\" viewBox=\"0 -960 960 960\">\n",
              "    <path d=\"M120-120v-720h720v720H120Zm60-500h600v-160H180v160Zm220 220h160v-160H400v160Zm0 220h160v-160H400v160ZM180-400h160v-160H180v160Zm440 0h160v-160H620v160ZM180-180h160v-160H180v160Zm440 0h160v-160H620v160Z\"/>\n",
              "  </svg>\n",
              "    </button>\n",
              "\n",
              "  <style>\n",
              "    .colab-df-container {\n",
              "      display:flex;\n",
              "      gap: 12px;\n",
              "    }\n",
              "\n",
              "    .colab-df-convert {\n",
              "      background-color: #E8F0FE;\n",
              "      border: none;\n",
              "      border-radius: 50%;\n",
              "      cursor: pointer;\n",
              "      display: none;\n",
              "      fill: #1967D2;\n",
              "      height: 32px;\n",
              "      padding: 0 0 0 0;\n",
              "      width: 32px;\n",
              "    }\n",
              "\n",
              "    .colab-df-convert:hover {\n",
              "      background-color: #E2EBFA;\n",
              "      box-shadow: 0px 1px 2px rgba(60, 64, 67, 0.3), 0px 1px 3px 1px rgba(60, 64, 67, 0.15);\n",
              "      fill: #174EA6;\n",
              "    }\n",
              "\n",
              "    .colab-df-buttons div {\n",
              "      margin-bottom: 4px;\n",
              "    }\n",
              "\n",
              "    [theme=dark] .colab-df-convert {\n",
              "      background-color: #3B4455;\n",
              "      fill: #D2E3FC;\n",
              "    }\n",
              "\n",
              "    [theme=dark] .colab-df-convert:hover {\n",
              "      background-color: #434B5C;\n",
              "      box-shadow: 0px 1px 3px 1px rgba(0, 0, 0, 0.15);\n",
              "      filter: drop-shadow(0px 1px 2px rgba(0, 0, 0, 0.3));\n",
              "      fill: #FFFFFF;\n",
              "    }\n",
              "  </style>\n",
              "\n",
              "    <script>\n",
              "      const buttonEl =\n",
              "        document.querySelector('#df-7cf08a31-6df8-4ad0-bcbf-8d8e8e930b2c button.colab-df-convert');\n",
              "      buttonEl.style.display =\n",
              "        google.colab.kernel.accessAllowed ? 'block' : 'none';\n",
              "\n",
              "      async function convertToInteractive(key) {\n",
              "        const element = document.querySelector('#df-7cf08a31-6df8-4ad0-bcbf-8d8e8e930b2c');\n",
              "        const dataTable =\n",
              "          await google.colab.kernel.invokeFunction('convertToInteractive',\n",
              "                                                    [key], {});\n",
              "        if (!dataTable) return;\n",
              "\n",
              "        const docLinkHtml = 'Like what you see? Visit the ' +\n",
              "          '<a target=\"_blank\" href=https://colab.research.google.com/notebooks/data_table.ipynb>data table notebook</a>'\n",
              "          + ' to learn more about interactive tables.';\n",
              "        element.innerHTML = '';\n",
              "        dataTable['output_type'] = 'display_data';\n",
              "        await google.colab.output.renderOutput(dataTable, element);\n",
              "        const docLink = document.createElement('div');\n",
              "        docLink.innerHTML = docLinkHtml;\n",
              "        element.appendChild(docLink);\n",
              "      }\n",
              "    </script>\n",
              "  </div>\n",
              "\n",
              "\n",
              "<div id=\"df-4927e647-63a9-47ab-88f4-6148faf7e3b4\">\n",
              "  <button class=\"colab-df-quickchart\" onclick=\"quickchart('df-4927e647-63a9-47ab-88f4-6148faf7e3b4')\"\n",
              "            title=\"Suggest charts\"\n",
              "            style=\"display:none;\">\n",
              "\n",
              "<svg xmlns=\"http://www.w3.org/2000/svg\" height=\"24px\"viewBox=\"0 0 24 24\"\n",
              "     width=\"24px\">\n",
              "    <g>\n",
              "        <path d=\"M19 3H5c-1.1 0-2 .9-2 2v14c0 1.1.9 2 2 2h14c1.1 0 2-.9 2-2V5c0-1.1-.9-2-2-2zM9 17H7v-7h2v7zm4 0h-2V7h2v10zm4 0h-2v-4h2v4z\"/>\n",
              "    </g>\n",
              "</svg>\n",
              "  </button>\n",
              "\n",
              "<style>\n",
              "  .colab-df-quickchart {\n",
              "      --bg-color: #E8F0FE;\n",
              "      --fill-color: #1967D2;\n",
              "      --hover-bg-color: #E2EBFA;\n",
              "      --hover-fill-color: #174EA6;\n",
              "      --disabled-fill-color: #AAA;\n",
              "      --disabled-bg-color: #DDD;\n",
              "  }\n",
              "\n",
              "  [theme=dark] .colab-df-quickchart {\n",
              "      --bg-color: #3B4455;\n",
              "      --fill-color: #D2E3FC;\n",
              "      --hover-bg-color: #434B5C;\n",
              "      --hover-fill-color: #FFFFFF;\n",
              "      --disabled-bg-color: #3B4455;\n",
              "      --disabled-fill-color: #666;\n",
              "  }\n",
              "\n",
              "  .colab-df-quickchart {\n",
              "    background-color: var(--bg-color);\n",
              "    border: none;\n",
              "    border-radius: 50%;\n",
              "    cursor: pointer;\n",
              "    display: none;\n",
              "    fill: var(--fill-color);\n",
              "    height: 32px;\n",
              "    padding: 0;\n",
              "    width: 32px;\n",
              "  }\n",
              "\n",
              "  .colab-df-quickchart:hover {\n",
              "    background-color: var(--hover-bg-color);\n",
              "    box-shadow: 0 1px 2px rgba(60, 64, 67, 0.3), 0 1px 3px 1px rgba(60, 64, 67, 0.15);\n",
              "    fill: var(--button-hover-fill-color);\n",
              "  }\n",
              "\n",
              "  .colab-df-quickchart-complete:disabled,\n",
              "  .colab-df-quickchart-complete:disabled:hover {\n",
              "    background-color: var(--disabled-bg-color);\n",
              "    fill: var(--disabled-fill-color);\n",
              "    box-shadow: none;\n",
              "  }\n",
              "\n",
              "  .colab-df-spinner {\n",
              "    border: 2px solid var(--fill-color);\n",
              "    border-color: transparent;\n",
              "    border-bottom-color: var(--fill-color);\n",
              "    animation:\n",
              "      spin 1s steps(1) infinite;\n",
              "  }\n",
              "\n",
              "  @keyframes spin {\n",
              "    0% {\n",
              "      border-color: transparent;\n",
              "      border-bottom-color: var(--fill-color);\n",
              "      border-left-color: var(--fill-color);\n",
              "    }\n",
              "    20% {\n",
              "      border-color: transparent;\n",
              "      border-left-color: var(--fill-color);\n",
              "      border-top-color: var(--fill-color);\n",
              "    }\n",
              "    30% {\n",
              "      border-color: transparent;\n",
              "      border-left-color: var(--fill-color);\n",
              "      border-top-color: var(--fill-color);\n",
              "      border-right-color: var(--fill-color);\n",
              "    }\n",
              "    40% {\n",
              "      border-color: transparent;\n",
              "      border-right-color: var(--fill-color);\n",
              "      border-top-color: var(--fill-color);\n",
              "    }\n",
              "    60% {\n",
              "      border-color: transparent;\n",
              "      border-right-color: var(--fill-color);\n",
              "    }\n",
              "    80% {\n",
              "      border-color: transparent;\n",
              "      border-right-color: var(--fill-color);\n",
              "      border-bottom-color: var(--fill-color);\n",
              "    }\n",
              "    90% {\n",
              "      border-color: transparent;\n",
              "      border-bottom-color: var(--fill-color);\n",
              "    }\n",
              "  }\n",
              "</style>\n",
              "\n",
              "  <script>\n",
              "    async function quickchart(key) {\n",
              "      const quickchartButtonEl =\n",
              "        document.querySelector('#' + key + ' button');\n",
              "      quickchartButtonEl.disabled = true;  // To prevent multiple clicks.\n",
              "      quickchartButtonEl.classList.add('colab-df-spinner');\n",
              "      try {\n",
              "        const charts = await google.colab.kernel.invokeFunction(\n",
              "            'suggestCharts', [key], {});\n",
              "      } catch (error) {\n",
              "        console.error('Error during call to suggestCharts:', error);\n",
              "      }\n",
              "      quickchartButtonEl.classList.remove('colab-df-spinner');\n",
              "      quickchartButtonEl.classList.add('colab-df-quickchart-complete');\n",
              "    }\n",
              "    (() => {\n",
              "      let quickchartButtonEl =\n",
              "        document.querySelector('#df-4927e647-63a9-47ab-88f4-6148faf7e3b4 button');\n",
              "      quickchartButtonEl.style.display =\n",
              "        google.colab.kernel.accessAllowed ? 'block' : 'none';\n",
              "    })();\n",
              "  </script>\n",
              "</div>\n",
              "    </div>\n",
              "  </div>\n"
            ]
          },
          "metadata": {},
          "execution_count": 151
        }
      ]
    },
    {
      "cell_type": "code",
      "source": [
        "iris['new'] = iris['Sepal_Length'] + iris['Sepal_Width']\n",
        "iris"
      ],
      "metadata": {
        "colab": {
          "base_uri": "https://localhost:8080/",
          "height": 617
        },
        "id": "HvxrD3UEdU-G",
        "outputId": "a0f8cc4e-1ecc-43eb-8d16-fc024a2d735f"
      },
      "execution_count": null,
      "outputs": [
        {
          "output_type": "execute_result",
          "data": {
            "text/plain": [
              "     Sepal_Length  Sepal_Width  Petal_Length  Petal_Width           Class  new\n",
              "0             5.1          3.5           1.4          0.2     Iris-setosa  8.6\n",
              "1             4.9          3.0           1.4          0.2     Iris-setosa  7.9\n",
              "2             4.7          3.2           1.3          0.2     Iris-setosa  7.9\n",
              "3             4.6          3.1           1.5          0.2     Iris-setosa  7.7\n",
              "4             5.0          3.6           1.4          0.2     Iris-setosa  8.6\n",
              "..            ...          ...           ...          ...             ...  ...\n",
              "145           6.7          3.0           5.2          2.3  Iris-virginica  9.7\n",
              "146           6.3          2.5           5.0          1.9  Iris-virginica  8.8\n",
              "147           6.5          3.0           5.2          2.0  Iris-virginica  9.5\n",
              "148           6.2          3.4           5.4          2.3  Iris-virginica  9.6\n",
              "149           5.9          3.0           5.1          1.8  Iris-virginica  8.9\n",
              "\n",
              "[150 rows x 6 columns]"
            ],
            "text/html": [
              "\n",
              "  <div id=\"df-803546b5-0b9f-4c30-9804-fbda4630c7c7\" class=\"colab-df-container\">\n",
              "    <div>\n",
              "<style scoped>\n",
              "    .dataframe tbody tr th:only-of-type {\n",
              "        vertical-align: middle;\n",
              "    }\n",
              "\n",
              "    .dataframe tbody tr th {\n",
              "        vertical-align: top;\n",
              "    }\n",
              "\n",
              "    .dataframe thead th {\n",
              "        text-align: right;\n",
              "    }\n",
              "</style>\n",
              "<table border=\"1\" class=\"dataframe\">\n",
              "  <thead>\n",
              "    <tr style=\"text-align: right;\">\n",
              "      <th></th>\n",
              "      <th>Sepal_Length</th>\n",
              "      <th>Sepal_Width</th>\n",
              "      <th>Petal_Length</th>\n",
              "      <th>Petal_Width</th>\n",
              "      <th>Class</th>\n",
              "      <th>new</th>\n",
              "    </tr>\n",
              "  </thead>\n",
              "  <tbody>\n",
              "    <tr>\n",
              "      <th>0</th>\n",
              "      <td>5.1</td>\n",
              "      <td>3.5</td>\n",
              "      <td>1.4</td>\n",
              "      <td>0.2</td>\n",
              "      <td>Iris-setosa</td>\n",
              "      <td>8.6</td>\n",
              "    </tr>\n",
              "    <tr>\n",
              "      <th>1</th>\n",
              "      <td>4.9</td>\n",
              "      <td>3.0</td>\n",
              "      <td>1.4</td>\n",
              "      <td>0.2</td>\n",
              "      <td>Iris-setosa</td>\n",
              "      <td>7.9</td>\n",
              "    </tr>\n",
              "    <tr>\n",
              "      <th>2</th>\n",
              "      <td>4.7</td>\n",
              "      <td>3.2</td>\n",
              "      <td>1.3</td>\n",
              "      <td>0.2</td>\n",
              "      <td>Iris-setosa</td>\n",
              "      <td>7.9</td>\n",
              "    </tr>\n",
              "    <tr>\n",
              "      <th>3</th>\n",
              "      <td>4.6</td>\n",
              "      <td>3.1</td>\n",
              "      <td>1.5</td>\n",
              "      <td>0.2</td>\n",
              "      <td>Iris-setosa</td>\n",
              "      <td>7.7</td>\n",
              "    </tr>\n",
              "    <tr>\n",
              "      <th>4</th>\n",
              "      <td>5.0</td>\n",
              "      <td>3.6</td>\n",
              "      <td>1.4</td>\n",
              "      <td>0.2</td>\n",
              "      <td>Iris-setosa</td>\n",
              "      <td>8.6</td>\n",
              "    </tr>\n",
              "    <tr>\n",
              "      <th>...</th>\n",
              "      <td>...</td>\n",
              "      <td>...</td>\n",
              "      <td>...</td>\n",
              "      <td>...</td>\n",
              "      <td>...</td>\n",
              "      <td>...</td>\n",
              "    </tr>\n",
              "    <tr>\n",
              "      <th>145</th>\n",
              "      <td>6.7</td>\n",
              "      <td>3.0</td>\n",
              "      <td>5.2</td>\n",
              "      <td>2.3</td>\n",
              "      <td>Iris-virginica</td>\n",
              "      <td>9.7</td>\n",
              "    </tr>\n",
              "    <tr>\n",
              "      <th>146</th>\n",
              "      <td>6.3</td>\n",
              "      <td>2.5</td>\n",
              "      <td>5.0</td>\n",
              "      <td>1.9</td>\n",
              "      <td>Iris-virginica</td>\n",
              "      <td>8.8</td>\n",
              "    </tr>\n",
              "    <tr>\n",
              "      <th>147</th>\n",
              "      <td>6.5</td>\n",
              "      <td>3.0</td>\n",
              "      <td>5.2</td>\n",
              "      <td>2.0</td>\n",
              "      <td>Iris-virginica</td>\n",
              "      <td>9.5</td>\n",
              "    </tr>\n",
              "    <tr>\n",
              "      <th>148</th>\n",
              "      <td>6.2</td>\n",
              "      <td>3.4</td>\n",
              "      <td>5.4</td>\n",
              "      <td>2.3</td>\n",
              "      <td>Iris-virginica</td>\n",
              "      <td>9.6</td>\n",
              "    </tr>\n",
              "    <tr>\n",
              "      <th>149</th>\n",
              "      <td>5.9</td>\n",
              "      <td>3.0</td>\n",
              "      <td>5.1</td>\n",
              "      <td>1.8</td>\n",
              "      <td>Iris-virginica</td>\n",
              "      <td>8.9</td>\n",
              "    </tr>\n",
              "  </tbody>\n",
              "</table>\n",
              "<p>150 rows × 6 columns</p>\n",
              "</div>\n",
              "    <div class=\"colab-df-buttons\">\n",
              "\n",
              "  <div class=\"colab-df-container\">\n",
              "    <button class=\"colab-df-convert\" onclick=\"convertToInteractive('df-803546b5-0b9f-4c30-9804-fbda4630c7c7')\"\n",
              "            title=\"Convert this dataframe to an interactive table.\"\n",
              "            style=\"display:none;\">\n",
              "\n",
              "  <svg xmlns=\"http://www.w3.org/2000/svg\" height=\"24px\" viewBox=\"0 -960 960 960\">\n",
              "    <path d=\"M120-120v-720h720v720H120Zm60-500h600v-160H180v160Zm220 220h160v-160H400v160Zm0 220h160v-160H400v160ZM180-400h160v-160H180v160Zm440 0h160v-160H620v160ZM180-180h160v-160H180v160Zm440 0h160v-160H620v160Z\"/>\n",
              "  </svg>\n",
              "    </button>\n",
              "\n",
              "  <style>\n",
              "    .colab-df-container {\n",
              "      display:flex;\n",
              "      gap: 12px;\n",
              "    }\n",
              "\n",
              "    .colab-df-convert {\n",
              "      background-color: #E8F0FE;\n",
              "      border: none;\n",
              "      border-radius: 50%;\n",
              "      cursor: pointer;\n",
              "      display: none;\n",
              "      fill: #1967D2;\n",
              "      height: 32px;\n",
              "      padding: 0 0 0 0;\n",
              "      width: 32px;\n",
              "    }\n",
              "\n",
              "    .colab-df-convert:hover {\n",
              "      background-color: #E2EBFA;\n",
              "      box-shadow: 0px 1px 2px rgba(60, 64, 67, 0.3), 0px 1px 3px 1px rgba(60, 64, 67, 0.15);\n",
              "      fill: #174EA6;\n",
              "    }\n",
              "\n",
              "    .colab-df-buttons div {\n",
              "      margin-bottom: 4px;\n",
              "    }\n",
              "\n",
              "    [theme=dark] .colab-df-convert {\n",
              "      background-color: #3B4455;\n",
              "      fill: #D2E3FC;\n",
              "    }\n",
              "\n",
              "    [theme=dark] .colab-df-convert:hover {\n",
              "      background-color: #434B5C;\n",
              "      box-shadow: 0px 1px 3px 1px rgba(0, 0, 0, 0.15);\n",
              "      filter: drop-shadow(0px 1px 2px rgba(0, 0, 0, 0.3));\n",
              "      fill: #FFFFFF;\n",
              "    }\n",
              "  </style>\n",
              "\n",
              "    <script>\n",
              "      const buttonEl =\n",
              "        document.querySelector('#df-803546b5-0b9f-4c30-9804-fbda4630c7c7 button.colab-df-convert');\n",
              "      buttonEl.style.display =\n",
              "        google.colab.kernel.accessAllowed ? 'block' : 'none';\n",
              "\n",
              "      async function convertToInteractive(key) {\n",
              "        const element = document.querySelector('#df-803546b5-0b9f-4c30-9804-fbda4630c7c7');\n",
              "        const dataTable =\n",
              "          await google.colab.kernel.invokeFunction('convertToInteractive',\n",
              "                                                    [key], {});\n",
              "        if (!dataTable) return;\n",
              "\n",
              "        const docLinkHtml = 'Like what you see? Visit the ' +\n",
              "          '<a target=\"_blank\" href=https://colab.research.google.com/notebooks/data_table.ipynb>data table notebook</a>'\n",
              "          + ' to learn more about interactive tables.';\n",
              "        element.innerHTML = '';\n",
              "        dataTable['output_type'] = 'display_data';\n",
              "        await google.colab.output.renderOutput(dataTable, element);\n",
              "        const docLink = document.createElement('div');\n",
              "        docLink.innerHTML = docLinkHtml;\n",
              "        element.appendChild(docLink);\n",
              "      }\n",
              "    </script>\n",
              "  </div>\n",
              "\n",
              "\n",
              "<div id=\"df-bd10cdf1-5318-4d6c-8496-2ebf5e2ef26f\">\n",
              "  <button class=\"colab-df-quickchart\" onclick=\"quickchart('df-bd10cdf1-5318-4d6c-8496-2ebf5e2ef26f')\"\n",
              "            title=\"Suggest charts\"\n",
              "            style=\"display:none;\">\n",
              "\n",
              "<svg xmlns=\"http://www.w3.org/2000/svg\" height=\"24px\"viewBox=\"0 0 24 24\"\n",
              "     width=\"24px\">\n",
              "    <g>\n",
              "        <path d=\"M19 3H5c-1.1 0-2 .9-2 2v14c0 1.1.9 2 2 2h14c1.1 0 2-.9 2-2V5c0-1.1-.9-2-2-2zM9 17H7v-7h2v7zm4 0h-2V7h2v10zm4 0h-2v-4h2v4z\"/>\n",
              "    </g>\n",
              "</svg>\n",
              "  </button>\n",
              "\n",
              "<style>\n",
              "  .colab-df-quickchart {\n",
              "      --bg-color: #E8F0FE;\n",
              "      --fill-color: #1967D2;\n",
              "      --hover-bg-color: #E2EBFA;\n",
              "      --hover-fill-color: #174EA6;\n",
              "      --disabled-fill-color: #AAA;\n",
              "      --disabled-bg-color: #DDD;\n",
              "  }\n",
              "\n",
              "  [theme=dark] .colab-df-quickchart {\n",
              "      --bg-color: #3B4455;\n",
              "      --fill-color: #D2E3FC;\n",
              "      --hover-bg-color: #434B5C;\n",
              "      --hover-fill-color: #FFFFFF;\n",
              "      --disabled-bg-color: #3B4455;\n",
              "      --disabled-fill-color: #666;\n",
              "  }\n",
              "\n",
              "  .colab-df-quickchart {\n",
              "    background-color: var(--bg-color);\n",
              "    border: none;\n",
              "    border-radius: 50%;\n",
              "    cursor: pointer;\n",
              "    display: none;\n",
              "    fill: var(--fill-color);\n",
              "    height: 32px;\n",
              "    padding: 0;\n",
              "    width: 32px;\n",
              "  }\n",
              "\n",
              "  .colab-df-quickchart:hover {\n",
              "    background-color: var(--hover-bg-color);\n",
              "    box-shadow: 0 1px 2px rgba(60, 64, 67, 0.3), 0 1px 3px 1px rgba(60, 64, 67, 0.15);\n",
              "    fill: var(--button-hover-fill-color);\n",
              "  }\n",
              "\n",
              "  .colab-df-quickchart-complete:disabled,\n",
              "  .colab-df-quickchart-complete:disabled:hover {\n",
              "    background-color: var(--disabled-bg-color);\n",
              "    fill: var(--disabled-fill-color);\n",
              "    box-shadow: none;\n",
              "  }\n",
              "\n",
              "  .colab-df-spinner {\n",
              "    border: 2px solid var(--fill-color);\n",
              "    border-color: transparent;\n",
              "    border-bottom-color: var(--fill-color);\n",
              "    animation:\n",
              "      spin 1s steps(1) infinite;\n",
              "  }\n",
              "\n",
              "  @keyframes spin {\n",
              "    0% {\n",
              "      border-color: transparent;\n",
              "      border-bottom-color: var(--fill-color);\n",
              "      border-left-color: var(--fill-color);\n",
              "    }\n",
              "    20% {\n",
              "      border-color: transparent;\n",
              "      border-left-color: var(--fill-color);\n",
              "      border-top-color: var(--fill-color);\n",
              "    }\n",
              "    30% {\n",
              "      border-color: transparent;\n",
              "      border-left-color: var(--fill-color);\n",
              "      border-top-color: var(--fill-color);\n",
              "      border-right-color: var(--fill-color);\n",
              "    }\n",
              "    40% {\n",
              "      border-color: transparent;\n",
              "      border-right-color: var(--fill-color);\n",
              "      border-top-color: var(--fill-color);\n",
              "    }\n",
              "    60% {\n",
              "      border-color: transparent;\n",
              "      border-right-color: var(--fill-color);\n",
              "    }\n",
              "    80% {\n",
              "      border-color: transparent;\n",
              "      border-right-color: var(--fill-color);\n",
              "      border-bottom-color: var(--fill-color);\n",
              "    }\n",
              "    90% {\n",
              "      border-color: transparent;\n",
              "      border-bottom-color: var(--fill-color);\n",
              "    }\n",
              "  }\n",
              "</style>\n",
              "\n",
              "  <script>\n",
              "    async function quickchart(key) {\n",
              "      const quickchartButtonEl =\n",
              "        document.querySelector('#' + key + ' button');\n",
              "      quickchartButtonEl.disabled = true;  // To prevent multiple clicks.\n",
              "      quickchartButtonEl.classList.add('colab-df-spinner');\n",
              "      try {\n",
              "        const charts = await google.colab.kernel.invokeFunction(\n",
              "            'suggestCharts', [key], {});\n",
              "      } catch (error) {\n",
              "        console.error('Error during call to suggestCharts:', error);\n",
              "      }\n",
              "      quickchartButtonEl.classList.remove('colab-df-spinner');\n",
              "      quickchartButtonEl.classList.add('colab-df-quickchart-complete');\n",
              "    }\n",
              "    (() => {\n",
              "      let quickchartButtonEl =\n",
              "        document.querySelector('#df-bd10cdf1-5318-4d6c-8496-2ebf5e2ef26f button');\n",
              "      quickchartButtonEl.style.display =\n",
              "        google.colab.kernel.accessAllowed ? 'block' : 'none';\n",
              "    })();\n",
              "  </script>\n",
              "</div>\n",
              "    </div>\n",
              "  </div>\n"
            ]
          },
          "metadata": {},
          "execution_count": 152
        }
      ]
    },
    {
      "cell_type": "code",
      "source": [
        "iris['Sepal_Length'].plot()"
      ],
      "metadata": {
        "colab": {
          "base_uri": "https://localhost:8080/",
          "height": 447
        },
        "id": "xPTKKEWHdlNj",
        "outputId": "47b81851-efea-4e33-c0ad-af7f535b41c9"
      },
      "execution_count": null,
      "outputs": [
        {
          "output_type": "execute_result",
          "data": {
            "text/plain": [
              "<Axes: >"
            ]
          },
          "metadata": {},
          "execution_count": 154
        },
        {
          "output_type": "display_data",
          "data": {
            "text/plain": [
              "<Figure size 640x480 with 1 Axes>"
            ],
            "image/png": "[encoded data removed]"
          },
          "metadata": {}
        }
      ]
    },
    {
      "cell_type": "markdown",
      "source": [
        "### Matplotlib\n",
        "a comprehensive library for creating static, animated, and interactive visualizations. [See more](https://matplotlib.org/stable/gallery/index.html)"
      ],
      "metadata": {
        "id": "_BeL5BuLjJ3N"
      }
    },
    {
      "cell_type": "code",
      "source": [
        "import numpy as np\n",
        "import matplotlib.pyplot as plt\n",
        "\n",
        "np.random.seed(19680801)\n",
        "data = {'a': np.arange(50),\n",
        "        'c': np.random.randint(0, 50, 50),\n",
        "        'd': np.random.randn(50)}\n",
        "data['b'] = data['a'] + 10 * np.random.randn(50)\n",
        "data['d'] = np.abs(data['d']) * 100\n",
        "\n",
        "fig, ax = plt.subplots(figsize=(5, 2.7), layout='constrained')\n",
        "ax.scatter('a', 'b', c='c', s='d', data=data)\n",
        "ax.set_xlabel('entry a')\n",
        "ax.set_ylabel('entry b')"
      ],
      "metadata": {
        "colab": {
          "base_uri": "https://localhost:8080/",
          "height": 315
        },
        "id": "C6FXZl3NbpDu",
        "outputId": "cfb29e35-9d44-48e7-fef9-65343f6a7f9e"
      },
      "execution_count": null,
      "outputs": [
        {
          "output_type": "execute_result",
          "data": {
            "text/plain": [
              "Text(0, 0.5, 'entry b')"
            ]
          },
          "metadata": {},
          "execution_count": 155
        },
        {
          "output_type": "display_data",
          "data": {
            "text/plain": [
              "<Figure size 500x270 with 1 Axes>"
            ],
            "image/png": "[encoded data removed]"
          },
          "metadata": {}
        }
      ]
    },
    {
      "cell_type": "markdown",
      "source": [
        "### Seaborn\n",
        "a library for making statistical graphics in Python. It builds on top of matplotlib and integrates closely with pandas data structures [See more](https://seaborn.pydata.org/examples/index.html)"
      ],
      "metadata": {
        "id": "Ph0EA2-zjX68"
      }
    },
    {
      "cell_type": "code",
      "source": [
        "import seaborn as sns\n",
        "import matplotlib.pyplot as plt\n",
        "\n",
        "sns.jointplot(data=iris,x='Sepal_Length',y='Sepal_Width',kind='kde',color=\"Purple\")\n",
        "sns.jointplot(data=iris,x='Petal_Length',y='Petal_Width',kind='kde')\n",
        "plt.show()"
      ],
      "metadata": {
        "colab": {
          "base_uri": "https://localhost:8080/",
          "height": 1000
        },
        "id": "BNxoFonubrT4",
        "outputId": "81556541-bc97-400d-bda6-ae7d65e086d2"
      },
      "execution_count": null,
      "outputs": [
        {
          "output_type": "display_data",
          "data": {
            "text/plain": [
              "<Figure size 600x600 with 3 Axes>"
            ],
            "image/png": "[encoded data removed]"
          },
          "metadata": {}
        },
        {
          "output_type": "display_data",
          "data": {
            "text/plain": [
              "<Figure size 600x600 with 3 Axes>"
            ],
            "image/png": "[encoded data removed]"
          },
          "metadata": {}
        }
      ]
    },
    {
      "cell_type": "markdown",
      "source": [
        "### Plotly ✨\n",
        "A library to make interactive, publication-quality graphs [See more](https://plotly.com/python/)\n",
        "\n",
        "- [Example Colab with Iris](https://colab.research.google.com/drive/1p1QxXat1hAE3RjQN2uYOSU3bccDniAyO?usp=sharing#scrollTo=ooPo2igcEemY)"
      ],
      "metadata": {
        "id": "o0vtcGZuhtZh"
      }
    },
    {
      "cell_type": "code",
      "source": [
        "import plotly.express as px\n",
        "import plotly\n",
        "fig = px.scatter_3d(iris, x='Petal_Length', y='Sepal_Width', z='Petal_Width',color='Class',title=\"Iris dataset ground truth\")\n",
        "fig.show()"
      ],
      "metadata": {
        "colab": {
          "base_uri": "https://localhost:8080/",
          "height": 542
        },
        "id": "m5iXXLlXbs4t",
        "outputId": "6db69504-b485-4cc1-e66e-47f149189656"
      },
      "execution_count": null,
      "outputs": [
        {
          "output_type": "display_data",
          "data": {
            "text/html": [
              "<html>\n",
              "<head><meta charset=\"utf-8\" /></head>\n",
              "<body>\n",
              "    <div>            <script src=\"https://cdnjs.cloudflare.com/ajax/libs/mathjax/2.7.5/MathJax.js?config=TeX-AMS-MML_SVG\"></script><script type=\"text/javascript\">if (window.MathJax && window.MathJax.Hub && window.MathJax.Hub.Config) {window.MathJax.Hub.Config({SVG: {font: \"STIX-Web\"}});}</script>                <script type=\"text/javascript\">window.PlotlyConfig = {MathJaxConfig: 'local'};</script>\n",
              "        <script charset=\"utf-8\" src=\"https://cdn.plot.ly/plotly-2.24.1.min.js\"></script>                <div id=\"d46948bf-d7ba-4d05-9e8d-6fd3473a0c4c\" class=\"plotly-graph-div\" style=\"height:525px; width:100%;\"></div>            <script type=\"text/javascript\">                                    window.PLOTLYENV=window.PLOTLYENV || {};                                    if (document.getElementById(\"d46948bf-d7ba-4d05-9e8d-6fd3473a0c4c\")) {                    Plotly.newPlot(                        \"d46948bf-d7ba-4d05-9e8d-6fd3473a0c4c\",                        [{\"hovertemplate\":\"Class=Iris-setosa\\u003cbr\\u003ePetal_Length=%{x}\\u003cbr\\u003eSepal_Width=%{y}\\u003cbr\\u003ePetal_Width=%{z}\\u003cextra\\u003e\\u003c\\u002fextra\\u003e\",\"legendgroup\":\"Iris-setosa\",\"marker\":{\"color\":\"#636efa\",\"symbol\":\"circle\"},\"mode\":\"markers\",\"name\":\"Iris-setosa\",\"scene\":\"scene\",\"showlegend\":true,\"x\":[1.4,1.4,1.3,1.5,1.4,1.7,1.4,1.5,1.4,1.5,1.5,1.6,1.4,1.1,1.2,1.5,1.3,1.4,1.7,1.5,1.7,1.5,1.0,1.7,1.9,1.6,1.6,1.5,1.4,1.6,1.6,1.5,1.5,1.4,1.5,1.2,1.3,1.5,1.3,1.5,1.3,1.3,1.3,1.6,1.9,1.4,1.6,1.4,1.5,1.4],\"y\":[3.5,3.0,3.2,3.1,3.6,3.9,3.4,3.4,2.9,3.1,3.7,3.4,3.0,3.0,4.0,4.4,3.9,3.5,3.8,3.8,3.4,3.7,3.6,3.3,3.4,3.0,3.4,3.5,3.4,3.2,3.1,3.4,4.1,4.2,3.1,3.2,3.5,3.1,3.0,3.4,3.5,2.3,3.2,3.5,3.8,3.0,3.8,3.2,3.7,3.3],\"z\":[0.2,0.2,0.2,0.2,0.2,0.4,0.3,0.2,0.2,0.1,0.2,0.2,0.1,0.1,0.2,0.4,0.4,0.3,0.3,0.3,0.2,0.4,0.2,0.5,0.2,0.2,0.4,0.2,0.2,0.2,0.2,0.4,0.1,0.2,0.1,0.2,0.2,0.1,0.2,0.2,0.3,0.3,0.2,0.6,0.4,0.3,0.2,0.2,0.2,0.2],\"type\":\"scatter3d\"},{\"hovertemplate\":\"Class=Iris-versicolor\\u003cbr\\u003ePetal_Length=%{x}\\u003cbr\\u003eSepal_Width=%{y}\\u003cbr\\u003ePetal_Width=%{z}\\u003cextra\\u003e\\u003c\\u002fextra\\u003e\",\"legendgroup\":\"Iris-versicolor\",\"marker\":{\"color\":\"#EF553B\",\"symbol\":\"circle\"},\"mode\":\"markers\",\"name\":\"Iris-versicolor\",\"scene\":\"scene\",\"showlegend\":true,\"x\":[4.7,4.5,4.9,4.0,4.6,4.5,4.7,3.3,4.6,3.9,3.5,4.2,4.0,4.7,3.6,4.4,4.5,4.1,4.5,3.9,4.8,4.0,4.9,4.7,4.3,4.4,4.8,5.0,4.5,3.5,3.8,3.7,3.9,5.1,4.5,4.5,4.7,4.4,4.1,4.0,4.4,4.6,4.0,3.3,4.2,4.2,4.2,4.3,3.0,4.1],\"y\":[3.2,3.2,3.1,2.3,2.8,2.8,3.3,2.4,2.9,2.7,2.0,3.0,2.2,2.9,2.9,3.1,3.0,2.7,2.2,2.5,3.2,2.8,2.5,2.8,2.9,3.0,2.8,3.0,2.9,2.6,2.4,2.4,2.7,2.7,3.0,3.4,3.1,2.3,3.0,2.5,2.6,3.0,2.6,2.3,2.7,3.0,2.9,2.9,2.5,2.8],\"z\":[1.4,1.5,1.5,1.3,1.5,1.3,1.6,1.0,1.3,1.4,1.0,1.5,1.0,1.4,1.3,1.4,1.5,1.0,1.5,1.1,1.8,1.3,1.5,1.2,1.3,1.4,1.4,1.7,1.5,1.0,1.1,1.0,1.2,1.6,1.5,1.6,1.5,1.3,1.3,1.3,1.2,1.4,1.2,1.0,1.3,1.2,1.3,1.3,1.1,1.3],\"type\":\"scatter3d\"},{\"hovertemplate\":\"Class=Iris-virginica\\u003cbr\\u003ePetal_Length=%{x}\\u003cbr\\u003eSepal_Width=%{y}\\u003cbr\\u003ePetal_Width=%{z}\\u003cextra\\u003e\\u003c\\u002fextra\\u003e\",\"legendgroup\":\"Iris-virginica\",\"marker\":{\"color\":\"#00cc96\",\"symbol\":\"circle\"},\"mode\":\"markers\",\"name\":\"Iris-virginica\",\"scene\":\"scene\",\"showlegend\":true,\"x\":[6.0,5.1,5.9,5.6,5.8,6.6,4.5,6.3,5.8,6.1,5.1,5.3,5.5,5.0,5.1,5.3,5.5,6.7,6.9,5.0,5.7,4.9,6.7,4.9,5.7,6.0,4.8,4.9,5.6,5.8,6.1,6.4,5.6,5.1,5.6,6.1,5.6,5.5,4.8,5.4,5.6,5.1,5.1,5.9,5.7,5.2,5.0,5.2,5.4,5.1],\"y\":[3.3,2.7,3.0,2.9,3.0,3.0,2.5,2.9,2.5,3.6,3.2,2.7,3.0,2.5,2.8,3.2,3.0,3.8,2.6,2.2,3.2,2.8,2.8,2.7,3.3,3.2,2.8,3.0,2.8,3.0,2.8,3.8,2.8,2.8,2.6,3.0,3.4,3.1,3.0,3.1,3.1,3.1,2.7,3.2,3.3,3.0,2.5,3.0,3.4,3.0],\"z\":[2.5,1.9,2.1,1.8,2.2,2.1,1.7,1.8,1.8,2.5,2.0,1.9,2.1,2.0,2.4,2.3,1.8,2.2,2.3,1.5,2.3,2.0,2.0,1.8,2.1,1.8,1.8,1.8,2.1,1.6,1.9,2.0,2.2,1.5,1.4,2.3,2.4,1.8,1.8,2.1,2.4,2.3,1.9,2.3,2.5,2.3,1.9,2.0,2.3,1.8],\"type\":\"scatter3d\"}],                        {\"template\":{\"data\":{\"histogram2dcontour\":[{\"type\":\"histogram2dcontour\",\"colorbar\":{\"outlinewidth\":0,\"ticks\":\"\"},\"colorscale\":[[0.0,\"#0d0887\"],[0.1111111111111111,\"#46039f\"],[0.2222222222222222,\"#7201a8\"],[0.3333333333333333,\"#9c179e\"],[0.4444444444444444,\"#bd3786\"],[0.5555555555555556,\"#d8576b\"],[0.6666666666666666,\"#ed7953\"],[0.7777777777777778,\"#fb9f3a\"],[0.8888888888888888,\"#fdca26\"],[1.0,\"#f0f921\"]]}],\"choropleth\":[{\"type\":\"choropleth\",\"colorbar\":{\"outlinewidth\":0,\"ticks\":\"\"}}],\"histogram2d\":[{\"type\":\"histogram2d\",\"colorbar\":{\"outlinewidth\":0,\"ticks\":\"\"},\"colorscale\":[[0.0,\"#0d0887\"],[0.1111111111111111,\"#46039f\"],[0.2222222222222222,\"#7201a8\"],[0.3333333333333333,\"#9c179e\"],[0.4444444444444444,\"#bd3786\"],[0.5555555555555556,\"#d8576b\"],[0.6666666666666666,\"#ed7953\"],[0.7777777777777778,\"#fb9f3a\"],[0.8888888888888888,\"#fdca26\"],[1.0,\"#f0f921\"]]}],\"heatmap\":[{\"type\":\"heatmap\",\"colorbar\":{\"outlinewidth\":0,\"ticks\":\"\"},\"colorscale\":[[0.0,\"#0d0887\"],[0.1111111111111111,\"#46039f\"],[0.2222222222222222,\"#7201a8\"],[0.3333333333333333,\"#9c179e\"],[0.4444444444444444,\"#bd3786\"],[0.5555555555555556,\"#d8576b\"],[0.6666666666666666,\"#ed7953\"],[0.7777777777777778,\"#fb9f3a\"],[0.8888888888888888,\"#fdca26\"],[1.0,\"#f0f921\"]]}],\"heatmapgl\":[{\"type\":\"heatmapgl\",\"colorbar\":{\"outlinewidth\":0,\"ticks\":\"\"},\"colorscale\":[[0.0,\"#0d0887\"],[0.1111111111111111,\"#46039f\"],[0.2222222222222222,\"#7201a8\"],[0.3333333333333333,\"#9c179e\"],[0.4444444444444444,\"#bd3786\"],[0.5555555555555556,\"#d8576b\"],[0.6666666666666666,\"#ed7953\"],[0.7777777777777778,\"#fb9f3a\"],[0.8888888888888888,\"#fdca26\"],[1.0,\"#f0f921\"]]}],\"contourcarpet\":[{\"type\":\"contourcarpet\",\"colorbar\":{\"outlinewidth\":0,\"ticks\":\"\"}}],\"contour\":[{\"type\":\"contour\",\"colorbar\":{\"outlinewidth\":0,\"ticks\":\"\"},\"colorscale\":[[0.0,\"#0d0887\"],[0.1111111111111111,\"#46039f\"],[0.2222222222222222,\"#7201a8\"],[0.3333333333333333,\"#9c179e\"],[0.4444444444444444,\"#bd3786\"],[0.5555555555555556,\"#d8576b\"],[0.6666666666666666,\"#ed7953\"],[0.7777777777777778,\"#fb9f3a\"],[0.8888888888888888,\"#fdca26\"],[1.0,\"#f0f921\"]]}],\"surface\":[{\"type\":\"surface\",\"colorbar\":{\"outlinewidth\":0,\"ticks\":\"\"},\"colorscale\":[[0.0,\"#0d0887\"],[0.1111111111111111,\"#46039f\"],[0.2222222222222222,\"#7201a8\"],[0.3333333333333333,\"#9c179e\"],[0.4444444444444444,\"#bd3786\"],[0.5555555555555556,\"#d8576b\"],[0.6666666666666666,\"#ed7953\"],[0.7777777777777778,\"#fb9f3a\"],[0.8888888888888888,\"#fdca26\"],[1.0,\"#f0f921\"]]}],\"mesh3d\":[{\"type\":\"mesh3d\",\"colorbar\":{\"outlinewidth\":0,\"ticks\":\"\"}}],\"scatter\":[{\"fillpattern\":{\"fillmode\":\"overlay\",\"size\":10,\"solidity\":0.2},\"type\":\"scatter\"}],\"parcoords\":[{\"type\":\"parcoords\",\"line\":{\"colorbar\":{\"outlinewidth\":0,\"ticks\":\"\"}}}],\"scatterpolargl\":[{\"type\":\"scatterpolargl\",\"marker\":{\"colorbar\":{\"outlinewidth\":0,\"ticks\":\"\"}}}],\"bar\":[{\"error_x\":{\"color\":\"#2a3f5f\"},\"error_y\":{\"color\":\"#2a3f5f\"},\"marker\":{\"line\":{\"color\":\"#E5ECF6\",\"width\":0.5},\"pattern\":{\"fillmode\":\"overlay\",\"size\":10,\"solidity\":0.2}},\"type\":\"bar\"}],\"scattergeo\":[{\"type\":\"scattergeo\",\"marker\":{\"colorbar\":{\"outlinewidth\":0,\"ticks\":\"\"}}}],\"scatterpolar\":[{\"type\":\"scatterpolar\",\"marker\":{\"colorbar\":{\"outlinewidth\":0,\"ticks\":\"\"}}}],\"histogram\":[{\"marker\":{\"pattern\":{\"fillmode\":\"overlay\",\"size\":10,\"solidity\":0.2}},\"type\":\"histogram\"}],\"scattergl\":[{\"type\":\"scattergl\",\"marker\":{\"colorbar\":{\"outlinewidth\":0,\"ticks\":\"\"}}}],\"scatter3d\":[{\"type\":\"scatter3d\",\"line\":{\"colorbar\":{\"outlinewidth\":0,\"ticks\":\"\"}},\"marker\":{\"colorbar\":{\"outlinewidth\":0,\"ticks\":\"\"}}}],\"scattermapbox\":[{\"type\":\"scattermapbox\",\"marker\":{\"colorbar\":{\"outlinewidth\":0,\"ticks\":\"\"}}}],\"scatterternary\":[{\"type\":\"scatterternary\",\"marker\":{\"colorbar\":{\"outlinewidth\":0,\"ticks\":\"\"}}}],\"scattercarpet\":[{\"type\":\"scattercarpet\",\"marker\":{\"colorbar\":{\"outlinewidth\":0,\"ticks\":\"\"}}}],\"carpet\":[{\"aaxis\":{\"endlinecolor\":\"#2a3f5f\",\"gridcolor\":\"white\",\"linecolor\":\"white\",\"minorgridcolor\":\"white\",\"startlinecolor\":\"#2a3f5f\"},\"baxis\":{\"endlinecolor\":\"#2a3f5f\",\"gridcolor\":\"white\",\"linecolor\":\"white\",\"minorgridcolor\":\"white\",\"startlinecolor\":\"#2a3f5f\"},\"type\":\"carpet\"}],\"table\":[{\"cells\":{\"fill\":{\"color\":\"#EBF0F8\"},\"line\":{\"color\":\"white\"}},\"header\":{\"fill\":{\"color\":\"#C8D4E3\"},\"line\":{\"color\":\"white\"}},\"type\":\"table\"}],\"barpolar\":[{\"marker\":{\"line\":{\"color\":\"#E5ECF6\",\"width\":0.5},\"pattern\":{\"fillmode\":\"overlay\",\"size\":10,\"solidity\":0.2}},\"type\":\"barpolar\"}],\"pie\":[{\"automargin\":true,\"type\":\"pie\"}]},\"layout\":{\"autotypenumbers\":\"strict\",\"colorway\":[\"#636efa\",\"#EF553B\",\"#00cc96\",\"#ab63fa\",\"#FFA15A\",\"#19d3f3\",\"#FF6692\",\"#B6E880\",\"#FF97FF\",\"#FECB52\"],\"font\":{\"color\":\"#2a3f5f\"},\"hovermode\":\"closest\",\"hoverlabel\":{\"align\":\"left\"},\"paper_bgcolor\":\"white\",\"plot_bgcolor\":\"#E5ECF6\",\"polar\":{\"bgcolor\":\"#E5ECF6\",\"angularaxis\":{\"gridcolor\":\"white\",\"linecolor\":\"white\",\"ticks\":\"\"},\"radialaxis\":{\"gridcolor\":\"white\",\"linecolor\":\"white\",\"ticks\":\"\"}},\"ternary\":{\"bgcolor\":\"#E5ECF6\",\"aaxis\":{\"gridcolor\":\"white\",\"linecolor\":\"white\",\"ticks\":\"\"},\"baxis\":{\"gridcolor\":\"white\",\"linecolor\":\"white\",\"ticks\":\"\"},\"caxis\":{\"gridcolor\":\"white\",\"linecolor\":\"white\",\"ticks\":\"\"}},\"coloraxis\":{\"colorbar\":{\"outlinewidth\":0,\"ticks\":\"\"}},\"colorscale\":{\"sequential\":[[0.0,\"#0d0887\"],[0.1111111111111111,\"#46039f\"],[0.2222222222222222,\"#7201a8\"],[0.3333333333333333,\"#9c179e\"],[0.4444444444444444,\"#bd3786\"],[0.5555555555555556,\"#d8576b\"],[0.6666666666666666,\"#ed7953\"],[0.7777777777777778,\"#fb9f3a\"],[0.8888888888888888,\"#fdca26\"],[1.0,\"#f0f921\"]],\"sequentialminus\":[[0.0,\"#0d0887\"],[0.1111111111111111,\"#46039f\"],[0.2222222222222222,\"#7201a8\"],[0.3333333333333333,\"#9c179e\"],[0.4444444444444444,\"#bd3786\"],[0.5555555555555556,\"#d8576b\"],[0.6666666666666666,\"#ed7953\"],[0.7777777777777778,\"#fb9f3a\"],[0.8888888888888888,\"#fdca26\"],[1.0,\"#f0f921\"]],\"diverging\":[[0,\"#8e0152\"],[0.1,\"#c51b7d\"],[0.2,\"#de77ae\"],[0.3,\"#f1b6da\"],[0.4,\"#fde0ef\"],[0.5,\"#f7f7f7\"],[0.6,\"#e6f5d0\"],[0.7,\"#b8e186\"],[0.8,\"#7fbc41\"],[0.9,\"#4d9221\"],[1,\"#276419\"]]},\"xaxis\":{\"gridcolor\":\"white\",\"linecolor\":\"white\",\"ticks\":\"\",\"title\":{\"standoff\":15},\"zerolinecolor\":\"white\",\"automargin\":true,\"zerolinewidth\":2},\"yaxis\":{\"gridcolor\":\"white\",\"linecolor\":\"white\",\"ticks\":\"\",\"title\":{\"standoff\":15},\"zerolinecolor\":\"white\",\"automargin\":true,\"zerolinewidth\":2},\"scene\":{\"xaxis\":{\"backgroundcolor\":\"#E5ECF6\",\"gridcolor\":\"white\",\"linecolor\":\"white\",\"showbackground\":true,\"ticks\":\"\",\"zerolinecolor\":\"white\",\"gridwidth\":2},\"yaxis\":{\"backgroundcolor\":\"#E5ECF6\",\"gridcolor\":\"white\",\"linecolor\":\"white\",\"showbackground\":true,\"ticks\":\"\",\"zerolinecolor\":\"white\",\"gridwidth\":2},\"zaxis\":{\"backgroundcolor\":\"#E5ECF6\",\"gridcolor\":\"white\",\"linecolor\":\"white\",\"showbackground\":true,\"ticks\":\"\",\"zerolinecolor\":\"white\",\"gridwidth\":2}},\"shapedefaults\":{\"line\":{\"color\":\"#2a3f5f\"}},\"annotationdefaults\":{\"arrowcolor\":\"#2a3f5f\",\"arrowhead\":0,\"arrowwidth\":1},\"geo\":{\"bgcolor\":\"white\",\"landcolor\":\"#E5ECF6\",\"subunitcolor\":\"white\",\"showland\":true,\"showlakes\":true,\"lakecolor\":\"white\"},\"title\":{\"x\":0.05},\"mapbox\":{\"style\":\"light\"}}},\"scene\":{\"domain\":{\"x\":[0.0,1.0],\"y\":[0.0,1.0]},\"xaxis\":{\"title\":{\"text\":\"Petal_Length\"}},\"yaxis\":{\"title\":{\"text\":\"Sepal_Width\"}},\"zaxis\":{\"title\":{\"text\":\"Petal_Width\"}}},\"legend\":{\"title\":{\"text\":\"Class\"},\"tracegroupgap\":0},\"title\":{\"text\":\"Iris dataset ground truth\"}},                        {\"responsive\": true}                    ).then(function(){\n",
              "                            \n",
              "var gd = document.getElementById('d46948bf-d7ba-4d05-9e8d-6fd3473a0c4c');\n",
              "var x = new MutationObserver(function (mutations, observer) {{\n",
              "        var display = window.getComputedStyle(gd).display;\n",
              "        if (!display || display === 'none') {{\n",
              "            console.log([gd, 'removed!']);\n",
              "            Plotly.purge(gd);\n",
              "            observer.disconnect();\n",
              "        }}\n",
              "}});\n",
              "\n",
              "// Listen for the removal of the full notebook cells\n",
              "var notebookContainer = gd.closest('#notebook-container');\n",
              "if (notebookContainer) {{\n",
              "    x.observe(notebookContainer, {childList: true});\n",
              "}}\n",
              "\n",
              "// Listen for the clearing of the current output cell\n",
              "var outputEl = gd.closest('.output');\n",
              "if (outputEl) {{\n",
              "    x.observe(outputEl, {childList: true});\n",
              "}}\n",
              "\n",
              "                        })                };                            </script>        </div>\n",
              "</body>\n",
              "</html>"
            ]
          },
          "metadata": {}
        }
      ]
    },
    {
      "cell_type": "markdown",
      "source": [
        "### Streamlit ✨\n",
        "a free and open-source framework to rapidly build and share beautiful machine learning and data science web apps"
      ],
      "metadata": {
        "id": "HsTJ0HuAgwIT"
      }
    },
    {
      "cell_type": "code",
      "source": [
        "!npm install localtunnel\n",
        "!pip install -q keras streamlit pillow numpy\n",
        "!pip -q install streamlit\n",
        "!pip -q install pyngrok"
      ],
      "metadata": {
        "colab": {
          "base_uri": "https://localhost:8080/"
        },
        "id": "4Jxh5kgSbu3u",
        "outputId": "79b99239-934b-40e4-f5f4-2de53bdd4129"
      },
      "execution_count": null,
      "outputs": [
        {
          "output_type": "stream",
          "name": "stdout",
          "text": [
            "\u001b[K\u001b[?25h\u001b[37;40mnpm\u001b[0m \u001b[0m\u001b[30;43mWARN\u001b[0m \u001b[0m\u001b[35msaveError\u001b[0m ENOENT: no such file or directory, open '/content/package.json'\n",
            "\u001b[0m\u001b[37;40mnpm\u001b[0m \u001b[0m\u001b[30;43mWARN\u001b[0m \u001b[0m\u001b[35menoent\u001b[0m ENOENT: no such file or directory, open '/content/package.json'\n",
            "\u001b[0m\u001b[37;40mnpm\u001b[0m \u001b[0m\u001b[30;43mWARN\u001b[0m\u001b[35m\u001b[0m content No description\n",
            "\u001b[0m\u001b[37;40mnpm\u001b[0m \u001b[0m\u001b[30;43mWARN\u001b[0m\u001b[35m\u001b[0m content No repository field.\n",
            "\u001b[0m\u001b[37;40mnpm\u001b[0m \u001b[0m\u001b[30;43mWARN\u001b[0m\u001b[35m\u001b[0m content No README data\n",
            "\u001b[0m\u001b[37;40mnpm\u001b[0m \u001b[0m\u001b[30;43mWARN\u001b[0m\u001b[35m\u001b[0m content No license field.\n",
            "\u001b[0m\n",
            "+ localtunnel@2.0.2\n",
            "updated 1 package and audited 36 packages in 1.642s\n",
            "\n",
            "3 packages are looking for funding\n",
            "  run `npm fund` for details\n",
            "\n",
            "found 2 \u001b[93mmoderate\u001b[0m severity vulnerabilities\n",
            "  run `npm audit fix` to fix them, or `npm audit` for details\n",
            "\u001b[K\u001b[?25h"
          ]
        }
      ]
    },
    {
      "cell_type": "code",
      "source": [
        "!wget https://github.com/napoles-uach/streamlit_apps/raw/main/Streamlit_Colab/Models/Dog_Cat.h5\n",
        "!mv Dog_Cat.h5 keras_model.h5"
      ],
      "metadata": {
        "colab": {
          "base_uri": "https://localhost:8080/"
        },
        "id": "IrhEYhrjg01a",
        "outputId": "3ace47b2-5091-423e-8927-17bdd7b2e0fe"
      },
      "execution_count": null,
      "outputs": [
        {
          "output_type": "stream",
          "name": "stdout",
          "text": [
            "--2024-01-22 14:01:49--  https://github.com/napoles-uach/streamlit_apps/raw/main/Streamlit_Colab/Models/Dog_Cat.h5\n",
            "Resolving github.com (github.com)... 140.82.121.4\n",
            "Connecting to github.com (github.com)|140.82.121.4|:443... connected.\n",
            "HTTP request sent, awaiting response... 302 Found\n",
            "Location: https://raw.githubusercontent.com/napoles-uach/streamlit_apps/main/Streamlit_Colab/Models/Dog_Cat.h5 [following]\n",
            "--2024-01-22 14:01:49--  https://raw.githubusercontent.com/napoles-uach/streamlit_apps/main/Streamlit_Colab/Models/Dog_Cat.h5\n",
            "Resolving raw.githubusercontent.com (raw.githubusercontent.com)... 185.199.109.133, 185.199.110.133, 185.199.108.133, ...\n",
            "Connecting to raw.githubusercontent.com (raw.githubusercontent.com)|185.199.109.133|:443... connected.\n",
            "HTTP request sent, awaiting response... 200 OK\n",
            "Length: 2453432 (2.3M) [application/octet-stream]\n",
            "Saving to: ‘Dog_Cat.h5’\n",
            "\n",
            "\rDog_Cat.h5            0%[                    ]       0  --.-KB/s               \rDog_Cat.h5          100%[===================>]   2.34M  --.-KB/s    in 0.07s   \n",
            "\n",
            "2024-01-22 14:01:49 (31.2 MB/s) - ‘Dog_Cat.h5’ saved [2453432/2453432]\n",
            "\n"
          ]
        }
      ]
    },
    {
      "cell_type": "code",
      "source": [
        "%%writefile app.py\n",
        "import streamlit as st\n",
        "from img_classification import teachable_machine_classification\n",
        "import keras\n",
        "from PIL import Image, ImageOps\n",
        "import numpy as np\n",
        "st.title(\"Image Classification with Google's Teachable Machine\")\n",
        "st.header(\"Dog vs Cat Classification Example\")\n",
        "st.write(\"Upload your favorite :dog:/:cat: Image for image classification as Dog or Cat\")\n",
        "\n",
        "uploaded_file = st.file_uploader(\"Choose a Dog/Cat jpg pic ...\", type=\"jpg\")\n",
        "if uploaded_file is not None:\n",
        "  image = Image.open(uploaded_file)\n",
        "  st.image(image, caption='Uploaded pic.', use_column_width=True)\n",
        "  st.write(\"\")\n",
        "  st.write(\"Classifying...\")\n",
        "  label = teachable_machine_classification(image, 'keras_model.h5') # Name of the model from Teachablemachine\n",
        "  if label == 0:\n",
        "    st.write(\"Is a :dog:\")\n",
        "  else:\n",
        "    st.write(\"Is a :cat:\")"
      ],
      "metadata": {
        "colab": {
          "base_uri": "https://localhost:8080/"
        },
        "id": "4UQb2IyRhHbR",
        "outputId": "3baeacb0-4620-478c-8cff-9945ba8831e4"
      },
      "execution_count": null,
      "outputs": [
        {
          "output_type": "stream",
          "name": "stdout",
          "text": [
            "Overwriting app.py\n"
          ]
        }
      ]
    },
    {
      "cell_type": "code",
      "source": [
        "%%writefile img_classification.py\n",
        "import tensorflow.keras\n",
        "from PIL import Image, ImageOps\n",
        "import numpy as np\n",
        "\n",
        "def teachable_machine_classification(img, weights_file):\n",
        "    # Load the model\n",
        "    model = tensorflow.keras.models.load_model(weights_file)\n",
        "\n",
        "    # Create the array of the right shape to feed into the keras model\n",
        "    data = np.ndarray(shape=(1, 224, 224, 3), dtype=np.float32)\n",
        "    image = img\n",
        "    #image sizing\n",
        "    size = (224, 224)\n",
        "    image = ImageOps.fit(image, size, Image.ANTIALIAS)\n",
        "\n",
        "    #turn the image into a numpy array\n",
        "    image_array = np.asarray(image)\n",
        "    # Normalize the image\n",
        "    normalized_image_array = (image_array.astype(np.float32) / 127.0) - 1\n",
        "\n",
        "    # Load the image into the array\n",
        "    data[0] = normalized_image_array  # (Not sure if this is needed, but gives an error!!!)\n",
        "\n",
        "    # run the inference\n",
        "    prediction = model.predict(data)\n",
        "    return np.argmax(prediction) # return position of the highest probability"
      ],
      "metadata": {
        "colab": {
          "base_uri": "https://localhost:8080/"
        },
        "id": "Zmb2-69nhH6b",
        "outputId": "f834feec-070d-4f0e-de91-5d76e61d6ae3"
      },
      "execution_count": null,
      "outputs": [
        {
          "output_type": "stream",
          "name": "stdout",
          "text": [
            "Overwriting img_classification.py\n"
          ]
        }
      ]
    },
    {
      "cell_type": "code",
      "source": [
        "!streamlit run app.py &>/content/logs.txt &"
      ],
      "metadata": {
        "id": "QMiYoJdjhLgj"
      },
      "execution_count": null,
      "outputs": []
    },
    {
      "cell_type": "code",
      "source": [
        "!npx localtunnel --port 8501"
      ],
      "metadata": {
        "colab": {
          "base_uri": "https://localhost:8080/"
        },
        "id": "nVa3VyLVhO2i",
        "outputId": "1cf6fbfa-ba46-4888-85b4-9d911438b259"
      },
      "execution_count": null,
      "outputs": [
        {
          "output_type": "stream",
          "name": "stdout",
          "text": [
            "\u001b[K\u001b[?25hnpx: installed 22 in 4.162s\n",
            "your url is: https://clean-breads-lick.loca.lt\n",
            "^C\n"
          ]
        }
      ]
    },
    {
      "cell_type": "code",
      "source": [],
      "metadata": {
        "id": "XVK6wXJVedJ4"
      },
      "execution_count": null,
      "outputs": []
    }
  ]
}