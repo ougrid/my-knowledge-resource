{
  "nbformat": 4,
  "nbformat_minor": 0,
  "metadata": {
    "colab": {
      "provenance": [],
      "include_colab_link": true
    },
    "kernelspec": {
      "name": "python3",
      "display_name": "Python 3"
    },
    "language_info": {
      "name": "python"
    }
  },
  "cells": [
    {
      "cell_type": "markdown",
      "metadata": {
        "id": "view-in-github",
        "colab_type": "text"
      },
      "source": [
        "<a href=\"https://colab.research.google.com/github/ougrid/my-knowledge-resource/blob/master/pickle.ipynb\" target=\"_parent\"><img src=\"https://colab.research.google.com/assets/colab-badge.svg\" alt=\"Open In Colab\"/></a>"
      ]
    },
    {
      "cell_type": "code",
      "execution_count": null,
      "metadata": {
        "id": "ujbtMbwFs-dO"
      },
      "outputs": [],
      "source": [
        "import pickle\n",
        "\n",
        "# Define a variable to store\n",
        "my_variable = [1, 2, 3, 4, 5]\n",
        "\n",
        "# Open a file in binary mode for writing\n",
        "with open('my_variable.pkl', 'wb') as file:\n",
        "    # Dump the variable to the file using pickle.dump()\n",
        "    pickle.dump(my_variable, file)\n",
        "\n",
        "print(\"Variable has been stored to file successfully!\")\n"
      ]
    },
    {
      "cell_type": "code",
      "source": [
        "import pickle\n",
        "\n",
        "# Open the file in binary mode for reading\n",
        "with open('my_variable.pkl', 'rb') as file:\n",
        "    # Load the variable from the file using pickle.load()\n",
        "    my_variable = pickle.load(file)\n",
        "\n",
        "# Print the restored variable\n",
        "print(\"Restored variable:\", my_variable)"
      ],
      "metadata": {
        "id": "9To0l89Js_0Q"
      },
      "execution_count": null,
      "outputs": []
    }
  ]
}