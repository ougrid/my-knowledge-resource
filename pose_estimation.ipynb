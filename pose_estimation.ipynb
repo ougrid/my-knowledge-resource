{
  "cells": [
    {
      "cell_type": "markdown",
      "metadata": {
        "id": "view-in-github",
        "colab_type": "text"
      },
      "source": [
        "<a href=\"https://colab.research.google.com/github/ougrid/my-knowledge-resource/blob/master/pose_estimation.ipynb\" target=\"_parent\"><img src=\"https://colab.research.google.com/assets/colab-badge.svg\" alt=\"Open In Colab\"/></a>"
      ]
    },
    {
      "cell_type": "markdown",
      "metadata": {
        "id": "v5Ol7TW1k9Fd"
      },
      "source": [
        "## Workshop: Pose Estimation"
      ]
    },
    {
      "cell_type": "markdown",
      "metadata": {
        "id": "DohcdnyKv9du"
      },
      "source": [
        "Download image and video data from https://drive.google.com/drive/folders/14kmXX_ZCEOtt8lChmHEdCuZTqiNbL9W4?usp=drive_link"
      ]
    },
    {
      "cell_type": "markdown",
      "metadata": {
        "id": "-DsbSdoOlEwT"
      },
      "source": [
        "Install required libraries"
      ]
    },
    {
      "cell_type": "code",
      "execution_count": null,
      "metadata": {
        "id": "FHmPAg1O53Pm"
      },
      "outputs": [],
      "source": [
        "!pip install ultralytics"
      ]
    },
    {
      "cell_type": "code",
      "execution_count": null,
      "metadata": {
        "id": "s4Oi989p6EnQ"
      },
      "outputs": [],
      "source": [
        "import cv2\n",
        "from PIL import Image\n",
        "import numpy as np\n",
        "import ultralytics\n",
        "from ultralytics import YOLO\n",
        "\n",
        "from google.colab.patches import cv2_imshow"
      ]
    },
    {
      "cell_type": "code",
      "execution_count": null,
      "metadata": {
        "id": "ZYb_DS5r6ePw"
      },
      "outputs": [],
      "source": [
        "# Load a pretrained YOLOv8n-pose Pose model\n",
        "model = YOLO('yolov8n-pose.pt')\n",
        "\n",
        "# Run inference on an image\n",
        "results = model('bus.jpeg')\n",
        "\n",
        "# or run inference with batch processing\n",
        "#results = model(['bus.jpeg', 'test.png'])"
      ]
    },
    {
      "cell_type": "code",
      "execution_count": null,
      "metadata": {
        "id": "V4jwTzOEBCr7"
      },
      "outputs": [],
      "source": [
        "# print the keypoints\n",
        "print(results[0].keypoints)"
      ]
    },
    {
      "cell_type": "code",
      "execution_count": null,
      "metadata": {
        "id": "6ZO68z2ZGZyv"
      },
      "outputs": [],
      "source": [
        "# Visualize the results\n",
        "for r in results:\n",
        "\n",
        "    # Plot results image\n",
        "    image_draw = r.plot(boxes=True)\n",
        "\n",
        "    # Display results\n",
        "    cv2_imshow(np.array(image_draw))"
      ]
    },
    {
      "cell_type": "markdown",
      "metadata": {
        "id": "GV5c09p0xLbi"
      },
      "source": [
        "# Exercise: Process pose estimation in video"
      ]
    },
    {
      "cell_type": "code",
      "execution_count": null,
      "metadata": {
        "id": "45q279fW3fqg"
      },
      "outputs": [],
      "source": [
        "# Open the video file\n",
        "video_path = 'sample.avi'\n",
        "cap = cv2.VideoCapture(video_path)\n",
        "\n",
        "frame_width = int(cap.get(cv2.CAP_PROP_FRAME_WIDTH))\n",
        "frame_height = int(cap.get(cv2.CAP_PROP_FRAME_HEIGHT))\n",
        "\n",
        "# Define the codec and create VideoWriter object\n",
        "fourcc = cv2.VideoWriter_fourcc(*'XVID')\n",
        "out = cv2.VideoWriter('output.mp4', fourcc, 25, (frame_width, frame_height))\n",
        "\n",
        "\n",
        "###################################################\n",
        "# Loop through the video frames\n",
        "\n",
        "# ADD YOUR CODE HERE\n",
        "\n",
        "\n",
        "###################################################\n",
        "\n",
        "# Release the video capture object\n",
        "cap.release()\n",
        "out.release()"
      ]
    },
    {
      "cell_type": "code",
      "execution_count": null,
      "metadata": {
        "id": "mSBPjmQf6DCc"
      },
      "outputs": [],
      "source": []
    },
    {
      "cell_type": "code",
      "execution_count": null,
      "metadata": {
        "id": "uVyT5mfV9Ma5"
      },
      "outputs": [],
      "source": []
    }
  ],
  "metadata": {
    "accelerator": "GPU",
    "colab": {
      "gpuType": "T4",
      "provenance": [],
      "include_colab_link": true
    },
    "kernelspec": {
      "display_name": "Python 3",
      "name": "python3"
    },
    "language_info": {
      "name": "python"
    }
  },
  "nbformat": 4,
  "nbformat_minor": 0
}