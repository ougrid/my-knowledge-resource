{
  "nbformat": 4,
  "nbformat_minor": 0,
  "metadata": {
    "colab": {
      "provenance": [],
      "include_colab_link": true
    },
    "kernelspec": {
      "name": "python3",
      "display_name": "Python 3"
    },
    "language_info": {
      "name": "python"
    }
  },
  "cells": [
    {
      "cell_type": "markdown",
      "metadata": {
        "id": "view-in-github",
        "colab_type": "text"
      },
      "source": [
        "<a href=\"https://colab.research.google.com/github/ougrid/my-knowledge-resource/blob/master/stem%26lemma.ipynb\" target=\"_parent\"><img src=\"https://colab.research.google.com/assets/colab-badge.svg\" alt=\"Open In Colab\"/></a>"
      ]
    },
    {
      "cell_type": "code",
      "execution_count": null,
      "metadata": {
        "colab": {
          "base_uri": "https://localhost:8080/"
        },
        "id": "5bjkXKqMMSUE",
        "outputId": "ef96b9ac-cc19-4248-ab6b-e63d0e80ff6f"
      },
      "outputs": [
        {
          "output_type": "stream",
          "name": "stdout",
          "text": [
            "Original text:  The quick brown foxes are jumping over the lazy dogs then cat eats mice\n",
            "Stemmed words:  ['the', 'quick', 'brown', 'fox', 'are', 'jump', 'over', 'the', 'lazi', 'dog', 'then', 'cat', 'eat', 'mice']\n",
            "Lemmatized words1:  ['The', 'quick', 'brown', 'fox', 'be', 'jump', 'over', 'the', 'lazy', 'dog', 'then', 'cat', 'eat', 'mice']\n",
            "Lemmatized words2:  ['The', 'quick', 'brown', 'fox', 'are', 'jumping', 'over', 'the', 'lazy', 'dog', 'then', 'cat', 'eats', 'mouse']\n"
          ]
        },
        {
          "output_type": "stream",
          "name": "stderr",
          "text": [
            "[nltk_data] Downloading package punkt to /root/nltk_data...\n",
            "[nltk_data]   Package punkt is already up-to-date!\n",
            "[nltk_data] Downloading package stopwords to /root/nltk_data...\n",
            "[nltk_data]   Package stopwords is already up-to-date!\n",
            "[nltk_data] Downloading package wordnet to /root/nltk_data...\n",
            "[nltk_data]   Package wordnet is already up-to-date!\n"
          ]
        }
      ],
      "source": [
        "# Import the necessary libraries\n",
        "import nltk\n",
        "from nltk.tokenize import word_tokenize\n",
        "from nltk.stem import PorterStemmer, WordNetLemmatizer\n",
        "from nltk.corpus import stopwords\n",
        "from nltk.corpus import wordnet\n",
        "\n",
        "# Download the NLTK resources if not already downloaded\n",
        "nltk.download('punkt')\n",
        "nltk.download('stopwords')\n",
        "nltk.download('wordnet')\n",
        "\n",
        "# Example text to be stemmed and lemmatized\n",
        "text = \"The quick brown foxes are jumping over the lazy dogs then cat eats mice\"\n",
        "\n",
        "# Tokenize the text into words\n",
        "tokens = word_tokenize(text)\n",
        "\n",
        "# Initialize a PorterStemmer object\n",
        "stemmer = PorterStemmer()\n",
        "\n",
        "# Perform stemming on the tokens\n",
        "stemmed_words = [stemmer.stem(word) for word in tokens]\n",
        "\n",
        "# Initialize a WordNetLemmatizer object\n",
        "lemmatizer = WordNetLemmatizer()\n",
        "\n",
        "# Perform lemmatization on the tokens\n",
        "lemmatized_words1 = [lemmatizer.lemmatize(word,pos=wordnet.VERB) for word in tokens]\n",
        "\n",
        "lemmatized_words2 = [lemmatizer.lemmatize(word,pos=wordnet.NOUN) for word in tokens]\n",
        "\n",
        "# Print the original text, stemmed words, and lemmatized words\n",
        "print(\"Original text: \", text)\n",
        "print(\"Stemmed words: \", stemmed_words)\n",
        "print(\"Lemmatized words1: \", lemmatized_words1)\n",
        "print(\"Lemmatized words2: \", lemmatized_words2)\n"
      ]
    }
  ]
}