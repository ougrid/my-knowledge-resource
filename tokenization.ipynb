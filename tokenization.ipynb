{
  "nbformat": 4,
  "nbformat_minor": 0,
  "metadata": {
    "colab": {
      "provenance": [],
      "include_colab_link": true
    },
    "kernelspec": {
      "name": "python3",
      "display_name": "Python 3"
    },
    "language_info": {
      "name": "python"
    }
  },
  "cells": [
    {
      "cell_type": "markdown",
      "metadata": {
        "id": "view-in-github",
        "colab_type": "text"
      },
      "source": [
        "<a href=\"https://colab.research.google.com/github/ougrid/my-knowledge-resource/blob/master/tokenization.ipynb\" target=\"_parent\"><img src=\"https://colab.research.google.com/assets/colab-badge.svg\" alt=\"Open In Colab\"/></a>"
      ]
    },
    {
      "cell_type": "code",
      "execution_count": null,
      "metadata": {
        "colab": {
          "base_uri": "https://localhost:8080/"
        },
        "id": "B___Ci-xyCgN",
        "outputId": "40a552b7-6ae9-41d2-b209-989a3496bae2"
      },
      "outputs": [
        {
          "output_type": "stream",
          "name": "stderr",
          "text": [
            "[nltk_data] Downloading package punkt to /root/nltk_data...\n",
            "[nltk_data]   Unzipping tokenizers/punkt.zip.\n"
          ]
        },
        {
          "output_type": "stream",
          "name": "stdout",
          "text": [
            "Tokenized words:\n",
            "['NLTK', 'is', 'a', 'powerful', 'natural', 'language', 'processing', 'library', 'in', 'Python', '.', 'Today', 'We', 'will', 'demonstrate', 'how', 'to', 'use', 'NLTK']\n",
            "\n",
            "Tokenized sentences:\n",
            "['NLTK is a powerful natural language processing library in Python.', 'Today We will demonstrate how to use NLTK']\n"
          ]
        }
      ],
      "source": [
        "# Import the necessary libraries\n",
        "import nltk\n",
        "nltk.download('punkt')\n",
        "from nltk.tokenize import word_tokenize, sent_tokenize\n",
        "\n",
        "# Example text to be tokenized\n",
        "text = \"NLTK is a powerful natural language processing library in Python. Today We will demonstrate how to use NLTK \"\n",
        "\n",
        "# Tokenize words\n",
        "tokens_words = word_tokenize(text)\n",
        "print(\"Tokenized words:\")\n",
        "print(tokens_words)\n",
        "\n",
        "# Tokenize sentences\n",
        "tokens_sentences = sent_tokenize(text)\n",
        "print(\"\\nTokenized sentences:\")\n",
        "print(tokens_sentences)"
      ]
    }
  ]
}