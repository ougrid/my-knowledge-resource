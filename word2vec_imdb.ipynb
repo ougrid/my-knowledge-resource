{
  "nbformat": 4,
  "nbformat_minor": 0,
  "metadata": {
    "colab": {
      "provenance": [],
      "include_colab_link": true
    },
    "kernelspec": {
      "name": "python3",
      "display_name": "Python 3"
    },
    "language_info": {
      "name": "python"
    }
  },
  "cells": [
    {
      "cell_type": "markdown",
      "metadata": {
        "id": "view-in-github",
        "colab_type": "text"
      },
      "source": [
        "<a href=\"https://colab.research.google.com/github/ougrid/my-knowledge-resource/blob/master/word2vec_imdb.ipynb\" target=\"_parent\"><img src=\"https://colab.research.google.com/assets/colab-badge.svg\" alt=\"Open In Colab\"/></a>"
      ]
    },
    {
      "cell_type": "code",
      "execution_count": null,
      "metadata": {
        "colab": {
          "base_uri": "https://localhost:8080/"
        },
        "id": "CpBN7flkbvTX",
        "outputId": "4ec262e3-528b-47cd-c009-fb8728effbe6"
      },
      "outputs": [
        {
          "output_type": "stream",
          "name": "stdout",
          "text": [
            "Accuracy:  0.7922\n",
            "Confusion Matrix: \n",
            " [[3901 1060]\n",
            " [1018 4021]]\n"
          ]
        }
      ],
      "source": [
        "# Import the necessary libraries\n",
        "import pandas as pd\n",
        "from sklearn.model_selection import train_test_split\n",
        "from sklearn.linear_model import LogisticRegression\n",
        "from sklearn.ensemble import RandomForestClassifier\n",
        "from sklearn.metrics import accuracy_score, confusion_matrix\n",
        "from gensim.models import Word2Vec\n",
        "\n",
        "# Load the IMDB dataset\n",
        "df = pd.read_csv('https://raw.githubusercontent.com/Ankit152/IMDB-sentiment-analysis/master/IMDB-Dataset.csv')\n",
        "\n",
        "# Split the dataset into training and testing sets\n",
        "X_train, X_test, y_train, y_test = train_test_split(df['review'], df['sentiment'], test_size=0.2, random_state=42)\n",
        "\n",
        "# Tokenize the text data\n",
        "train_tokenized = [review.split() for review in X_train]\n",
        "test_tokenized = [review.split() for review in X_test]\n",
        "\n",
        "# Train word2vec model\n",
        "model = Word2Vec(train_tokenized+test_tokenized, min_count=1,vector_size=400)\n",
        "\n",
        "# Function to convert review text to word vectors\n",
        "def review_to_word_vectors(review):\n",
        "    word_vectors = []\n",
        "    for word in review.split():\n",
        "        if word in model.wv.key_to_index:\n",
        "            word_vector = model.wv[word]\n",
        "            word_vectors.append(word_vector)\n",
        "    return word_vectors\n",
        "\n",
        "# Convert the training and testing reviews to word vectors\n",
        "X_train_vectors = [sum(review_to_word_vectors(review))/len(review_to_word_vectors(review)) for review in X_train]\n",
        "X_test_vectors = [sum(review_to_word_vectors(review))/len(review_to_word_vectors(review)) for review in X_test]\n",
        "\n",
        "# Train a logistic regression classifier\n",
        "#clf = LogisticRegression(max_iter=1000)\n",
        "clf = RandomForestClassifier(n_estimators=100, random_state=42)\n",
        "clf.fit(X_train_vectors, y_train)\n",
        "\n",
        "# Predict the sentiment labels for the testing data\n",
        "y_pred = clf.predict(X_test_vectors)\n",
        "\n",
        "# Calculate accuracy score\n",
        "accuracy = accuracy_score(y_test, y_pred)\n",
        "\n",
        "# Print the accuracy score and confusion matrix\n",
        "print(\"Accuracy: \", accuracy)\n",
        "print(\"Confusion Matrix: \\n\", confusion_matrix(y_test, y_pred))\n"
      ]
    },
    {
      "cell_type": "code",
      "source": [],
      "metadata": {
        "id": "3EXrQc-dhmkt"
      },
      "execution_count": null,
      "outputs": []
    }
  ]
}